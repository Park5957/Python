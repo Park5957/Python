{
  "nbformat": 4,
  "nbformat_minor": 0,
  "metadata": {
    "colab": {
      "name": "02HW20220126박현용19.ipynb",
      "provenance": [],
      "collapsed_sections": [],
      "authorship_tag": "ABX9TyOqwJDXbJ9pRKImp1Db7P6c",
      "include_colab_link": true
    },
    "kernelspec": {
      "name": "python3",
      "display_name": "Python 3"
    },
    "language_info": {
      "name": "python"
    }
  },
  "cells": [
    {
      "cell_type": "markdown",
      "metadata": {
        "id": "view-in-github",
        "colab_type": "text"
      },
      "source": [
        "<a href=\"https://colab.research.google.com/github/Park5957/ai/blob/main/02HW20220126%EB%B0%95%ED%98%84%EC%9A%A919.ipynb\" target=\"_parent\"><img src=\"https://colab.research.google.com/assets/colab-badge.svg\" alt=\"Open In Colab\"/></a>"
      ]
    },
    {
      "cell_type": "code",
      "execution_count": null,
      "metadata": {
        "colab": {
          "base_uri": "https://localhost:8080/"
        },
        "id": "P99EBcg5fLH9",
        "outputId": "5b423b71-0183-46a7-82eb-60d6afd73dcd"
      },
      "outputs": [
        {
          "output_type": "stream",
          "name": "stdout",
          "text": [
            "['닥터 스트레인지, 스플릿, 럭키']\n"
          ]
        }
      ],
      "source": [
        "#051\n",
        "movie_rank = ['닥터 스트레인지', '스플릿', '럭키']\n",
        "print(movie_rank)"
      ]
    },
    {
      "cell_type": "code",
      "source": [
        "#052\n",
        "movie_rank = ['닥터 스트레인지', '스플릿', '럭키']\n",
        "print(movie_rank)\n",
        "movie_rank.append('비스트맨')\n",
        "print(movie_rank)"
      ],
      "metadata": {
        "colab": {
          "base_uri": "https://localhost:8080/"
        },
        "id": "TcKlWRFjgCNS",
        "outputId": "d2695378-20be-40ea-82f9-fd6c6784ffec"
      },
      "execution_count": null,
      "outputs": [
        {
          "output_type": "stream",
          "name": "stdout",
          "text": [
            "['닥터 스트레인지', '스플릿', '럭키']\n",
            "['닥터 스트레인지', '스플릿', '럭키', '비스트맨']\n"
          ]
        }
      ]
    },
    {
      "cell_type": "code",
      "source": [
        "#053\n",
        "movie_rank = ['닥터 스트레인지', '스플릿', '럭키', '배트맨']\n",
        "movie_rank.insert (1,'수퍼맨')\n",
        "print(movie_rank)"
      ],
      "metadata": {
        "colab": {
          "base_uri": "https://localhost:8080/"
        },
        "id": "rZXg2m0sgWnH",
        "outputId": "fb387985-c023-4319-b6f7-6bcf5c49218e"
      },
      "execution_count": null,
      "outputs": [
        {
          "output_type": "stream",
          "name": "stdout",
          "text": [
            "['닥터 스트레인지', '수퍼맨', '스플릿', '럭키', '배트맨']\n"
          ]
        }
      ]
    },
    {
      "cell_type": "code",
      "source": [
        "#054\n",
        "movie_rank = ['닥터 스트레인지','수퍼맨', '스플릿', '럭키', '배트맨']\n",
        "del movie_rank[3]\n",
        "print(movie_rank)"
      ],
      "metadata": {
        "colab": {
          "base_uri": "https://localhost:8080/"
        },
        "id": "UqENS_dihwEC",
        "outputId": "fb8cdcc2-165f-4a5f-89d5-da91139397ec"
      },
      "execution_count": null,
      "outputs": [
        {
          "output_type": "stream",
          "name": "stdout",
          "text": [
            "['닥터 스트레인지', '수퍼맨', '스플릿', '배트맨']\n"
          ]
        }
      ]
    },
    {
      "cell_type": "code",
      "source": [
        "#055\n",
        "movie_rank = ['닥터 스트레인지','수퍼맨', '스플릿', '배트맨']\n",
        "del movie_rank[2:]\n",
        "print(movie_rank)"
      ],
      "metadata": {
        "colab": {
          "base_uri": "https://localhost:8080/"
        },
        "id": "SO3r0Btci7oU",
        "outputId": "e7f9fae3-cd2a-4e6a-d4bf-f9072e36669a"
      },
      "execution_count": null,
      "outputs": [
        {
          "output_type": "stream",
          "name": "stdout",
          "text": [
            "['닥터 스트레인지', '수퍼맨']\n"
          ]
        }
      ]
    },
    {
      "cell_type": "code",
      "source": [
        "#056\n",
        "lang1 = [\"C\",\"C++\",\"JAVA\"]\n",
        "lang2 = [\"python\",\"Go\",\"C#\"]\n",
        "langs = (lang1 +lang2 )\n",
        "print(langs)"
      ],
      "metadata": {
        "colab": {
          "base_uri": "https://localhost:8080/"
        },
        "id": "Pi8ng1HrjQYD",
        "outputId": "2c619daf-9c7c-4db5-8661-37eee2d40584"
      },
      "execution_count": null,
      "outputs": [
        {
          "output_type": "stream",
          "name": "stdout",
          "text": [
            "['C', 'C++', 'JAVA', 'python', 'Go', 'C#']\n"
          ]
        }
      ]
    },
    {
      "cell_type": "code",
      "source": [
        "#057\n",
        "nums =[1,2,3,4,5,6,7]\n",
        "print(max(nums))\n",
        "print(min(nums))"
      ],
      "metadata": {
        "colab": {
          "base_uri": "https://localhost:8080/"
        },
        "id": "f4w3_icBjqcs",
        "outputId": "5d39ab04-9cea-46d7-87a5-207bc1c79ea4"
      },
      "execution_count": null,
      "outputs": [
        {
          "output_type": "stream",
          "name": "stdout",
          "text": [
            "7\n",
            "1\n"
          ]
        }
      ]
    },
    {
      "cell_type": "code",
      "source": [
        "#058\n",
        "nums =[1,2,3,4,5]\n",
        "print(sum(nums))"
      ],
      "metadata": {
        "colab": {
          "base_uri": "https://localhost:8080/"
        },
        "id": "t_7M85oakOwx",
        "outputId": "27be13ee-93ba-4533-bb7c-b82b92940818"
      },
      "execution_count": null,
      "outputs": [
        {
          "output_type": "stream",
          "name": "stdout",
          "text": [
            "15\n"
          ]
        }
      ]
    },
    {
      "cell_type": "code",
      "source": [
        "#059\n",
        "cook = [\"피자\",\"김밥\",\"만두\",\"양념치킨\",\"족발\",\"피자\",\"감차만두\",\"쫄면\",\"쏘세지\",\"라면\",\"팥빙수\",\"김치전\"]\n",
        "print(len(cook))"
      ],
      "metadata": {
        "colab": {
          "base_uri": "https://localhost:8080/"
        },
        "id": "UAVgdSr2kPyG",
        "outputId": "59aea084-5231-4654-8640-b3411466c77d"
      },
      "execution_count": null,
      "outputs": [
        {
          "output_type": "stream",
          "name": "stdout",
          "text": [
            "12\n"
          ]
        }
      ]
    },
    {
      "cell_type": "code",
      "source": [
        "#060\n",
        "nums = [1,2,3,4,5]\n",
        "p = float(sum(nums)/len(nums))\n",
        "print(p)"
      ],
      "metadata": {
        "colab": {
          "base_uri": "https://localhost:8080/"
        },
        "id": "1d8WEdyylMcc",
        "outputId": "852113bd-436a-4a9a-fa6c-e07afc3fa86f"
      },
      "execution_count": null,
      "outputs": [
        {
          "output_type": "stream",
          "name": "stdout",
          "text": [
            "3.0\n"
          ]
        }
      ]
    },
    {
      "cell_type": "code",
      "source": [
        "#121\n",
        "a1 = input('')\n",
        "if a1.islower() == True :\n",
        "  b = a1.upper()\n",
        "else :\n",
        "  b= a1.lower()\n",
        "print(b)"
      ],
      "metadata": {
        "colab": {
          "base_uri": "https://localhost:8080/"
        },
        "id": "uEkDQ7DOnDy6",
        "outputId": "b06b0e9e-4203-49d1-b4e3-3a9d0bdd86fc"
      },
      "execution_count": null,
      "outputs": [
        {
          "output_type": "stream",
          "name": "stdout",
          "text": [
            "asd\n",
            "ASD\n"
          ]
        }
      ]
    },
    {
      "cell_type": "code",
      "source": [
        "#122\n",
        "score = int(input('score 입력 : '))\n",
        "\n",
        "if 100 >= score >=81 : \n",
        " score2 = 'A'\n",
        "elif 80 >= score >=61 : \n",
        " score2 = 'B'\n",
        "elif 60 >= score >=41 : \n",
        " score2 = 'C'\n",
        "elif 40 >= score >=21 : \n",
        " score2 = 'D'\n",
        "else : \n",
        " score2 = 'E'\n",
        " \n",
        "print(f'score 는 {score2} 입니다.')\n",
        "\n"
      ],
      "metadata": {
        "colab": {
          "base_uri": "https://localhost:8080/"
        },
        "id": "gaIKZYfWsBrg",
        "outputId": "9d160197-e68e-4e8c-aebd-a0697003ceef"
      },
      "execution_count": null,
      "outputs": [
        {
          "output_type": "stream",
          "name": "stdout",
          "text": [
            "score 입력 : 83\n",
            "score 는 A 입니다.\n"
          ]
        }
      ]
    },
    {
      "cell_type": "code",
      "source": [
        "#123\n",
        "# 환율 달러 1167 /엔 1.096 /유로 1268 /위안 171\n",
        "# dr = int(input('달러 입력 : '))\n",
        "# ye = int(input('엔 입력 : '))\n",
        "# ur = int(input('유로 입력 : '))\n",
        "# wn = int(input('위안 입력 : '))\n",
        "\n",
        "#1번\n",
        "# dr2 = 1167\n",
        "# ye2 = 1.096\n",
        "# ur2 = 1268\n",
        "# wn2 = 171\n",
        "# print(dr,\"달러 : %.2f 원\" % (dr*dr2))\n",
        "# print(ye,\"엔   : %.2f 원\" % (ye*ye2))\n",
        "# print(ur,\"유로 : %.2f 원\" % (ur*ur2))\n",
        "# print(wn,\"위안 : %.2f 원\" % (wn*wn2))\n",
        "\n",
        "#2번\n",
        "# h = [1167,1.096,1268,171]\n",
        "# print(\"-----------------------------------\")\n",
        "# print(dr,\"달러 : %.2f 원\" % (h[0]*dr))\n",
        "# print(ye,\"엔   : %.2f 원\" % (h[1]*ye))\n",
        "# print(ur,\"유로 : %.2f 원\" % (h[2]*ur))\n",
        "# print(wn,\"위안 : %.2f 원\" % (h[3]*wn))\n",
        "\n",
        "#3번\n",
        "환율 = {\"달러\": 1167, \n",
        " \"엔\": 1.096, \n",
        " \"유로\": 1268, \n",
        " \"위안\": 171}\n",
        "user = input(\"입력: \")\n",
        "num, currency = user.split()  ### 많이 사용하는 기법 (,) 는 스페이스 입력하여 자르는 기능이다.\n",
        "print(float(num) * 환율[currency], \"원\")"
      ],
      "metadata": {
        "colab": {
          "base_uri": "https://localhost:8080/"
        },
        "id": "EfWNMIcvuSEF",
        "outputId": "7d472395-597b-4e09-8cf2-9cca7b9b3bab"
      },
      "execution_count": null,
      "outputs": [
        {
          "output_type": "stream",
          "name": "stdout",
          "text": [
            "입력: 1000 달러\n",
            "1167000.0 원\n"
          ]
        }
      ]
    },
    {
      "cell_type": "code",
      "source": [
        "#124\n",
        "num1 = int(input(\"첫 번째 숫자를 입력하기 바랍니다. : \"))\n",
        "num2 = int(input(\"두 번째 숫자를 입력하기 바랍니다. : \"))\n",
        "num3 = int(input(\"세 번째 숫자를 입력하기 바랍니다. : \"))\n",
        "\n",
        "\n",
        "if num1> num2 & num1 > num3 :\n",
        "  end = num1\n",
        "elif num1 < num2 & num1 < num3 :\n",
        "  end = num2\n",
        "else :\n",
        "  end = num3\n",
        "\n",
        "print(end)\n",
        "\n",
        "#다른방식)\n",
        "# num1 = input(\"input number1: \")\n",
        "# num2 = input(\"input number2: \")\n",
        "# num3 = input(\"input number3: \")\n",
        "# num1 = int(num1)\n",
        "# num2 = int(num2)\n",
        "# num3 = int(num3)\n",
        "# if num1 > num2 and num1 > num3:\n",
        "#  print(num1)\n",
        "# elif num2 > num1 and num2 > num3\n",
        "#  print(num2)\n",
        "# else:\n",
        "#  print(num3)\n"
      ],
      "metadata": {
        "colab": {
          "base_uri": "https://localhost:8080/"
        },
        "id": "fX13Z7T71qff",
        "outputId": "0e3fe72d-d6f0-4d55-976e-9c9388c7a6c0"
      },
      "execution_count": null,
      "outputs": [
        {
          "output_type": "stream",
          "name": "stdout",
          "text": [
            "첫 번째 숫자를 입력하기 바랍니다.10\n",
            "두 번째 숫자를 입력하기 바랍니다.9\n",
            "세 번째 숫자를 입력하기 바랍니다.20\n",
            "20\n"
          ]
        }
      ]
    },
    {
      "cell_type": "code",
      "source": [
        "#125\n",
        "phone = input(\"전화번호를 입력하시 바랍니다 : \")\n",
        "\n",
        "if phone[0:3] == '011' :\n",
        "   a =  'SKT'\n",
        "elif phone[0:3] == '016' :\n",
        "   a =  'KT'\n",
        "elif phone[0:3] == '019' :\n",
        "   a =  'LGU'\n",
        "else :\n",
        "   a = '알 수 없음'\n",
        "\n",
        "print(f'당신은 {a} 사용자 입니다.')\n",
        "\n",
        "#다른방식\n",
        "# number = input(\"휴대전화 번호 입력: \")\n",
        "# num = number.split(\"-\")[0]\n",
        "# if num == \"011\":\n",
        "#  com = \"SKT\"\n",
        "# elif num == \"016\":\n",
        "#  com = \"KT\"\n",
        "# elif num == \"019\":\n",
        "#  com = \"LGU\"\n",
        "# else:\n",
        "#  com = \"알수없음\"\n",
        "# print(f\"당신은 {com} 사용자입니다.\")\n"
      ],
      "metadata": {
        "colab": {
          "base_uri": "https://localhost:8080/"
        },
        "id": "O5crvExq2o0L",
        "outputId": "c09c5865-4497-4010-c08e-928e36038b9c"
      },
      "execution_count": null,
      "outputs": [
        {
          "output_type": "stream",
          "name": "stdout",
          "text": [
            "휴대전화 번호 입력: 010-345-1922\n",
            "당신은 알수없음 사용자입니다.\n"
          ]
        }
      ]
    },
    {
      "cell_type": "code",
      "source": [
        "#126\n",
        "num = input(\"우편번호를 입력해 주시기 바랍니다 : \")\n",
        "gu = ['강북','강북','강북','도봉','도봉','도봉','노원','노원','노원','노원']\n",
        "num2 = int(num[2])\n",
        "print(gu[num2])\n",
        "\n",
        "#다른방법\n",
        "# 우편번호 = input(\"우편번호: \")\n",
        "# 우편번호 = 우편번호[:3]\n",
        "# if 우편번호 in [\"010\", \"011\", \"012\"]:\n",
        "#  print(\"강북구\")\n",
        "# elif 우편번호 in [\"014\", \"015\", \"016\"]:\n",
        "#  print(\"도봉구\")\n",
        "# else:\n",
        "#  print(\"노원구\""
      ],
      "metadata": {
        "colab": {
          "base_uri": "https://localhost:8080/"
        },
        "id": "tOawBS284Z5y",
        "outputId": "b941d7ab-3f23-4c45-a00f-2990fc5bdc30"
      },
      "execution_count": null,
      "outputs": [
        {
          "output_type": "stream",
          "name": "stdout",
          "text": [
            "우편번호를 입력해 주시기 바랍니다 : 01400\n",
            "도봉\n"
          ]
        }
      ]
    },
    {
      "cell_type": "code",
      "source": [
        "#127 \n",
        "num = str(input(\"주민번호를 입력해 주시기 바랍니다 : \"))\n",
        "num2 = int(num[7])\n",
        "print(num2)\n",
        "if num2 == 1 :\n",
        "  a = \"남자\"\n",
        "else :\n",
        "  a = \"여자\"\n",
        "print(a)\n",
        "\n",
        "# #다른방법\n",
        "# 주민번호 = input(\"주민등록번호: \")\n",
        "# 주민번호 = 주민번호.split(\"-\")[1]\n",
        "# if 주민번호[0] == \"1\" or 주민번호[0] == \"3\":\n",
        "#  print(\"남자\")\n",
        "# else:\n",
        "#  print(\"여자\")"
      ],
      "metadata": {
        "colab": {
          "base_uri": "https://localhost:8080/"
        },
        "id": "NtChHhy77zdf",
        "outputId": "ecf1804e-41c2-4aa0-b080-8c1f17933afa"
      },
      "execution_count": null,
      "outputs": [
        {
          "output_type": "stream",
          "name": "stdout",
          "text": [
            "주민번호를 입력해 주시기 바랍니다 : 821010-1635210\n",
            "1\n",
            "남자\n"
          ]
        }
      ]
    },
    {
      "cell_type": "code",
      "source": [
        "#128\n",
        "num = str(input(\"주민번호를 입력해 주시기 바랍니다 : \"))\n",
        "num2 = (num[-6])\n",
        "num3 = (num[-5])\n",
        "sity = int(num2+num3)\n",
        "if 0 <= sity <= 8 :\n",
        "  print('서울입니다.')\n",
        "else :\n",
        "  print('서울이 아닙니다.')\n",
        "# 다른방법\n",
        "# 주민번호 = input(\"주민등록번호: \")\n",
        "# 뒷자리 = 주민번호.split(\"-\")[1]\n",
        "# if 0 <= int(뒷자리[1:3]) <= 8:\n",
        "#  print(\"서울입니다.\")\n",
        "# else:\n",
        "#  print(\"서울이 아닙니다.\")\n"
      ],
      "metadata": {
        "colab": {
          "base_uri": "https://localhost:8080/"
        },
        "id": "yugrw1jf9gNR",
        "outputId": "1eba11ee-25cf-4f96-f88f-c212ac0f8647"
      },
      "execution_count": null,
      "outputs": [
        {
          "output_type": "stream",
          "name": "stdout",
          "text": [
            "주민번호를 입력해 주시기 바랍니다 : 821010-1635210\n",
            "서울이 아닙니다.\n"
          ]
        }
      ]
    },
    {
      "cell_type": "code",
      "source": [
        "#129\n",
        "a = []*12\n",
        "a = (input(\"주민번호를 입력해 주시기 바랍니다 : \"))\n",
        "a2=list(a)\n",
        "del a2[6]\n",
        "a2 = list(map(int, a2))\n",
        "b = [2,3,4,5,6,7,8,9,2,3,4,5,0]\n",
        "c = []*12\n",
        "i = 0\n",
        "while i <= 12 :\n",
        "  c.append((a2[i]*b[i]))\n",
        "  i = i+1\n",
        "d = sum(c)\n",
        "e = d%11\n",
        "if 11-e == a[-1] :\n",
        "  print(\"유효한 주민등록번호 입니다.\")\n",
        "else :\n",
        "  print(\"유효하지 않은 주민등록번호 입니다.\")\n",
        "\n",
        "# #다른방법\n",
        "# num = input(\"주민등록번호: \")\n",
        "# 계산 1 = int(num[0]) * 2 + int(num[1]) * 3 + int(num[2]) * 4 +\n",
        "# int(num[3]) * 5 + int(num[4]) * 6 + \\\n",
        "#  int(num[5]) * 7 + int(num[7]) * 8 + int(num[8]) * 9 +\n",
        "# int(num[9]) * 2 + int(num[10])* 3 + \\\n",
        "#  int(num[11])* 4 + int(num[12]) * 5\n",
        "# 계산 2 = 11 - (계산 1 % 11)\n",
        "# 계산 3 = str(계산 2)\n",
        "# if num[-1] == 계산 3[-1]:\n",
        "#  print(\"유효한 주민등록번호입니다.\")\n",
        "# else:\n",
        "#  print(\"유효하지 않은 주민등록번호입니다.\")"
      ],
      "metadata": {
        "colab": {
          "base_uri": "https://localhost:8080/"
        },
        "id": "cpMs5Hq4AfV2",
        "outputId": "590dd7d2-06e7-4f2d-f091-ea957e76618c"
      },
      "execution_count": null,
      "outputs": [
        {
          "output_type": "stream",
          "name": "stdout",
          "text": [
            "주민번호를 입력해 주시기 바랍니다 : 821010-1635210\n",
            "유효하지 않은 주민등록번호 입니다.\n"
          ]
        }
      ]
    },
    {
      "cell_type": "code",
      "source": [
        "#130\n",
        "# import requests\n",
        "# btc = requests.get(\"http://api.bithumb.com/public/ticker/\").json()['data']\n",
        "\n",
        "import requests\n",
        "btc = requests.get(\"https://api.bithumb.com/public/ticker/\").json()['data'\n",
        "]\n",
        "변동폭 = float(btc['max_price']) - float(btc['min_price'])\n",
        "시가 = float(btc['opening_price'])\n",
        "최고가 = float(btc['max_price'])\n",
        "if (시가+변동폭) > 최고가:\n",
        " print(\"상승장\")\n",
        "else:\n",
        " print(\"하락장\")"
      ],
      "metadata": {
        "id": "-BuC8UjTEeVd",
        "colab": {
          "base_uri": "https://localhost:8080/"
        },
        "outputId": "4e0a91de-d043-4a69-8d4d-635514423c94"
      },
      "execution_count": null,
      "outputs": [
        {
          "output_type": "stream",
          "name": "stdout",
          "text": [
            "상승장\n"
          ]
        }
      ]
    }
  ]
}