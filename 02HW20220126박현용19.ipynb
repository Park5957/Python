{
  "nbformat": 4,
  "nbformat_minor": 0,
  "metadata": {
    "colab": {
      "name": "02HW20220126박현용19.ipynb",
      "provenance": [],
      "collapsed_sections": [],
      "authorship_tag": "ABX9TyNbvm4wwa17fmlltHBVWsyE",
      "include_colab_link": true
    },
    "kernelspec": {
      "name": "python3",
      "display_name": "Python 3"
    },
    "language_info": {
      "name": "python"
    }
  },
  "cells": [
    {
      "cell_type": "markdown",
      "metadata": {
        "id": "view-in-github",
        "colab_type": "text"
      },
      "source": [
        "<a href=\"https://colab.research.google.com/github/Park5957/ai/blob/main/02HW20220126%EB%B0%95%ED%98%84%EC%9A%A919.ipynb\" target=\"_parent\"><img src=\"https://colab.research.google.com/assets/colab-badge.svg\" alt=\"Open In Colab\"/></a>"
      ]
    },
    {
      "cell_type": "code",
      "execution_count": 8,
      "metadata": {
        "colab": {
          "base_uri": "https://localhost:8080/"
        },
        "id": "P99EBcg5fLH9",
        "outputId": "5b423b71-0183-46a7-82eb-60d6afd73dcd"
      },
      "outputs": [
        {
          "output_type": "stream",
          "name": "stdout",
          "text": [
            "['닥터 스트레인지, 스플릿, 럭키']\n"
          ]
        }
      ],
      "source": [
        "#051\n",
        "movie_rank = ['닥터 스트레인지', '스플릿', '럭키']\n",
        "print(movie_rank)"
      ]
    },
    {
      "cell_type": "code",
      "source": [
        "#052\n",
        "movie_rank = ['닥터 스트레인지', '스플릿', '럭키']\n",
        "print(movie_rank)\n",
        "movie_rank.append('비스트맨')\n",
        "print(movie_rank)"
      ],
      "metadata": {
        "colab": {
          "base_uri": "https://localhost:8080/"
        },
        "id": "TcKlWRFjgCNS",
        "outputId": "d2695378-20be-40ea-82f9-fd6c6784ffec"
      },
      "execution_count": 54,
      "outputs": [
        {
          "output_type": "stream",
          "name": "stdout",
          "text": [
            "['닥터 스트레인지', '스플릿', '럭키']\n",
            "['닥터 스트레인지', '스플릿', '럭키', '비스트맨']\n"
          ]
        }
      ]
    },
    {
      "cell_type": "code",
      "source": [
        "#053\n",
        "movie_rank = ['닥터 스트레인지', '스플릿', '럭키', '배트맨']\n",
        "movie_rank.insert (1,'수퍼맨')\n",
        "print(movie_rank)"
      ],
      "metadata": {
        "colab": {
          "base_uri": "https://localhost:8080/"
        },
        "id": "rZXg2m0sgWnH",
        "outputId": "fb387985-c023-4319-b6f7-6bcf5c49218e"
      },
      "execution_count": 53,
      "outputs": [
        {
          "output_type": "stream",
          "name": "stdout",
          "text": [
            "['닥터 스트레인지', '수퍼맨', '스플릿', '럭키', '배트맨']\n"
          ]
        }
      ]
    },
    {
      "cell_type": "code",
      "source": [
        "#054\n",
        "movie_rank = ['닥터 스트레인지','수퍼맨', '스플릿', '럭키', '배트맨']\n",
        "del movie_rank[3]\n",
        "print(movie_rank)"
      ],
      "metadata": {
        "colab": {
          "base_uri": "https://localhost:8080/"
        },
        "id": "UqENS_dihwEC",
        "outputId": "fb8cdcc2-165f-4a5f-89d5-da91139397ec"
      },
      "execution_count": 57,
      "outputs": [
        {
          "output_type": "stream",
          "name": "stdout",
          "text": [
            "['닥터 스트레인지', '수퍼맨', '스플릿', '배트맨']\n"
          ]
        }
      ]
    },
    {
      "cell_type": "code",
      "source": [
        "#055\n",
        "movie_rank = ['닥터 스트레인지','수퍼맨', '스플릿', '배트맨']\n",
        "del movie_rank[2:]\n",
        "print(movie_rank)"
      ],
      "metadata": {
        "colab": {
          "base_uri": "https://localhost:8080/"
        },
        "id": "SO3r0Btci7oU",
        "outputId": "e7f9fae3-cd2a-4e6a-d4bf-f9072e36669a"
      },
      "execution_count": 62,
      "outputs": [
        {
          "output_type": "stream",
          "name": "stdout",
          "text": [
            "['닥터 스트레인지', '수퍼맨']\n"
          ]
        }
      ]
    },
    {
      "cell_type": "code",
      "source": [
        "#056\n",
        "lang1 = [\"C\",\"C++\",\"JAVA\"]\n",
        "lang2 = [\"python\",\"Go\",\"C#\"]\n",
        "langs = (lang1 +lang2 )\n",
        "print(langs)"
      ],
      "metadata": {
        "colab": {
          "base_uri": "https://localhost:8080/"
        },
        "id": "Pi8ng1HrjQYD",
        "outputId": "2c619daf-9c7c-4db5-8661-37eee2d40584"
      },
      "execution_count": 64,
      "outputs": [
        {
          "output_type": "stream",
          "name": "stdout",
          "text": [
            "['C', 'C++', 'JAVA', 'python', 'Go', 'C#']\n"
          ]
        }
      ]
    },
    {
      "cell_type": "code",
      "source": [
        "#057\n",
        "nums =[1,2,3,4,5,6,7]\n",
        "print(max(nums))\n",
        "print(min(nums))"
      ],
      "metadata": {
        "colab": {
          "base_uri": "https://localhost:8080/"
        },
        "id": "f4w3_icBjqcs",
        "outputId": "5d39ab04-9cea-46d7-87a5-207bc1c79ea4"
      },
      "execution_count": 67,
      "outputs": [
        {
          "output_type": "stream",
          "name": "stdout",
          "text": [
            "7\n",
            "1\n"
          ]
        }
      ]
    },
    {
      "cell_type": "code",
      "source": [
        "#058\n",
        "nums =[1,2,3,4,5]\n",
        "print(sum(nums))"
      ],
      "metadata": {
        "colab": {
          "base_uri": "https://localhost:8080/"
        },
        "id": "t_7M85oakOwx",
        "outputId": "27be13ee-93ba-4533-bb7c-b82b92940818"
      },
      "execution_count": 70,
      "outputs": [
        {
          "output_type": "stream",
          "name": "stdout",
          "text": [
            "15\n"
          ]
        }
      ]
    },
    {
      "cell_type": "code",
      "source": [
        "#059\n",
        "cook = [\"피자\",\"김밥\",\"만두\",\"양념치킨\",\"족발\",\"피자\",\"감차만두\",\"쫄면\",\"쏘세지\",\"라면\",\"팥빙수\",\"김치전\"]\n",
        "print(len(cook))"
      ],
      "metadata": {
        "colab": {
          "base_uri": "https://localhost:8080/"
        },
        "id": "UAVgdSr2kPyG",
        "outputId": "59aea084-5231-4654-8640-b3411466c77d"
      },
      "execution_count": 74,
      "outputs": [
        {
          "output_type": "stream",
          "name": "stdout",
          "text": [
            "12\n"
          ]
        }
      ]
    },
    {
      "cell_type": "code",
      "source": [
        "#060\n",
        "nums = [1,2,3,4,5]\n",
        "p = float(sum(nums)/len(nums))\n",
        "print(p)"
      ],
      "metadata": {
        "colab": {
          "base_uri": "https://localhost:8080/"
        },
        "id": "1d8WEdyylMcc",
        "outputId": "852113bd-436a-4a9a-fa6c-e07afc3fa86f"
      },
      "execution_count": 78,
      "outputs": [
        {
          "output_type": "stream",
          "name": "stdout",
          "text": [
            "3.0\n"
          ]
        }
      ]
    },
    {
      "cell_type": "code",
      "source": [
        "#121\n",
        "a1 = input('')\n",
        "if a1.islower() == True :\n",
        "  b = a1.upper()\n",
        "else :\n",
        "  b= a1.lower()\n",
        "print(b)"
      ],
      "metadata": {
        "colab": {
          "base_uri": "https://localhost:8080/"
        },
        "id": "uEkDQ7DOnDy6",
        "outputId": "b06b0e9e-4203-49d1-b4e3-3a9d0bdd86fc"
      },
      "execution_count": 115,
      "outputs": [
        {
          "output_type": "stream",
          "name": "stdout",
          "text": [
            "asd\n",
            "ASD\n"
          ]
        }
      ]
    },
    {
      "cell_type": "code",
      "source": [
        "#122\n",
        "score = int(input('score 입력 : '))\n",
        "\n",
        "if 100 >= score >=81 : \n",
        " score2 = 'A'\n",
        "elif 80 >= score >=61 : \n",
        " score2 = 'B'\n",
        "elif 60 >= score >=41 : \n",
        " score2 = 'C'\n",
        "elif 40 >= score >=21 : \n",
        " score2 = 'D'\n",
        "else : \n",
        " score2 = 'E'\n",
        " \n",
        "print(f'score 는 {score2} 입니다.')\n",
        "\n"
      ],
      "metadata": {
        "colab": {
          "base_uri": "https://localhost:8080/",
          "height": 266
        },
        "id": "gaIKZYfWsBrg",
        "outputId": "5e7af246-d5ff-484b-f5e2-c792168ddbe8"
      },
      "execution_count": 137,
      "outputs": [
        {
          "name": "stdout",
          "output_type": "stream",
          "text": [
            "score 입력 : 2\n"
          ]
        },
        {
          "output_type": "error",
          "ename": "TypeError",
          "evalue": "ignored",
          "traceback": [
            "\u001b[0;31m---------------------------------------------------------------------------\u001b[0m",
            "\u001b[0;31mTypeError\u001b[0m                                 Traceback (most recent call last)",
            "\u001b[0;32m<ipython-input-137-5c1ca609b616>\u001b[0m in \u001b[0;36m<module>\u001b[0;34m()\u001b[0m\n\u001b[1;32m      2\u001b[0m \u001b[0mscore\u001b[0m \u001b[0;34m=\u001b[0m \u001b[0minput\u001b[0m\u001b[0;34m(\u001b[0m\u001b[0;34m'score 입력 : '\u001b[0m\u001b[0;34m)\u001b[0m\u001b[0;34m\u001b[0m\u001b[0;34m\u001b[0m\u001b[0m\n\u001b[1;32m      3\u001b[0m \u001b[0;34m\u001b[0m\u001b[0m\n\u001b[0;32m----> 4\u001b[0;31m \u001b[0;32mif\u001b[0m \u001b[0;36m100\u001b[0m \u001b[0;34m>=\u001b[0m \u001b[0mscore\u001b[0m \u001b[0;34m>=\u001b[0m\u001b[0;36m81\u001b[0m \u001b[0;34m:\u001b[0m\u001b[0;34m\u001b[0m\u001b[0;34m\u001b[0m\u001b[0m\n\u001b[0m\u001b[1;32m      5\u001b[0m  \u001b[0mscore2\u001b[0m \u001b[0;34m=\u001b[0m \u001b[0;34m'A'\u001b[0m\u001b[0;34m\u001b[0m\u001b[0;34m\u001b[0m\u001b[0m\n\u001b[1;32m      6\u001b[0m \u001b[0;32melif\u001b[0m \u001b[0;36m80\u001b[0m \u001b[0;34m>=\u001b[0m \u001b[0mscore\u001b[0m \u001b[0;34m>=\u001b[0m\u001b[0;36m61\u001b[0m \u001b[0;34m:\u001b[0m\u001b[0;34m\u001b[0m\u001b[0;34m\u001b[0m\u001b[0m\n",
            "\u001b[0;31mTypeError\u001b[0m: '>=' not supported between instances of 'int' and 'str'"
          ]
        }
      ]
    },
    {
      "cell_type": "code",
      "source": [
        "#123\n",
        "# 환율 달러 1167 /엔 1.096 /유로 1268 /위안 171\n",
        "dr = int(input('달러 입력 : '))\n",
        "ye = int(input('엔 입력 : '))\n",
        "ur = int(input('유로 입력 : '))\n",
        "wn = int(input('위안 입력 : '))\n",
        "\n",
        "#1번\n",
        "# dr2 = 1167\n",
        "# ye2 = 1.096\n",
        "# ur2 = 1268\n",
        "# wn2 = 171\n",
        "# print(dr,\"달러 : %.2f 원\" % (dr*dr2))\n",
        "# print(ye,\"엔   : %.2f 원\" % (ye*ye2))\n",
        "# print(ur,\"유로 : %.2f 원\" % (ur*ur2))\n",
        "# print(wn,\"위안 : %.2f 원\" % (wn*wn2))\n",
        "\n",
        "#2번\n",
        "h = [1167,1.096,1268,171]\n",
        "print(\"-----------------------------------\")\n",
        "print(dr,\"달러 : %.2f 원\" % (h[0]*dr))\n",
        "print(ye,\"엔   : %.2f 원\" % (h[1]*ye))\n",
        "print(ur,\"유로 : %.2f 원\" % (h[2]*ur))\n",
        "print(wn,\"위안 : %.2f 원\" % (h[3]*wn))"
      ],
      "metadata": {
        "colab": {
          "base_uri": "https://localhost:8080/"
        },
        "id": "EfWNMIcvuSEF",
        "outputId": "83804352-2c62-4f2d-a26b-81c9d408751e"
      },
      "execution_count": 158,
      "outputs": [
        {
          "output_type": "stream",
          "name": "stdout",
          "text": [
            "달러 입력 : 100\n",
            "엔 입력 : 1000\n",
            "유로 입력 : 13\n",
            "위안 입력 : 100\n",
            "-----------------------------------\n",
            "100 달러 : 116700.00 원\n",
            "1000 엔   : 1096.00 원\n",
            "13 유로 : 16484.00 원\n",
            "100 위안 : 17100.00 원\n"
          ]
        }
      ]
    },
    {
      "cell_type": "code",
      "source": [
        "#124\n",
        "num1 = int(input(\"첫 번째 숫자를 입력하기 바랍니다. : \"))\n",
        "num2 = int(input(\"두 번째 숫자를 입력하기 바랍니다. : \"))\n",
        "num3 = int(input(\"세 번째 숫자를 입력하기 바랍니다. : \"))\n",
        "\n",
        "\n",
        "if num1> num2 & num1 > num3 :\n",
        "  end = num1\n",
        "elif num1 < num2 & num1 < num3 :\n",
        "  end = num2\n",
        "else :\n",
        "  end = num3\n",
        "\n",
        "print(end)"
      ],
      "metadata": {
        "colab": {
          "base_uri": "https://localhost:8080/"
        },
        "id": "fX13Z7T71qff",
        "outputId": "0e3fe72d-d6f0-4d55-976e-9c9388c7a6c0"
      },
      "execution_count": 169,
      "outputs": [
        {
          "output_type": "stream",
          "name": "stdout",
          "text": [
            "첫 번째 숫자를 입력하기 바랍니다.10\n",
            "두 번째 숫자를 입력하기 바랍니다.9\n",
            "세 번째 숫자를 입력하기 바랍니다.20\n",
            "20\n"
          ]
        }
      ]
    },
    {
      "cell_type": "code",
      "source": [
        "#125\n",
        "phone = input(\"전화번호를 입력하시 바랍니다 : \")\n",
        "\n",
        "if phone[0:3] == '011' :\n",
        "   a =  'SKT'\n",
        "elif phone[0:3] == '016' :\n",
        "   a =  'KT'\n",
        "elif phone[0:3] == '019' :\n",
        "   a =  'LGU'\n",
        "else :\n",
        "   a = '알 수 없음'\n",
        "\n",
        "print(f'당신은 {a} 사용자 입니다.')"
      ],
      "metadata": {
        "colab": {
          "base_uri": "https://localhost:8080/"
        },
        "id": "O5crvExq2o0L",
        "outputId": "83bc981a-89e3-40a4-f2d8-3d3aa5273e83"
      },
      "execution_count": 176,
      "outputs": [
        {
          "output_type": "stream",
          "name": "stdout",
          "text": [
            "전화번호를 입력하시 바랍니다 : 011-345-1922\n",
            "당신은 SKT 사용자 입니다.\n"
          ]
        }
      ]
    },
    {
      "cell_type": "code",
      "source": [
        "#126 강북구 010,011,012\n",
        "num = input(\"우편번호를 입력해 주시기 바랍니다 : \")\n",
        "gu = ['강북','강북','강북','도봉','도봉','도봉','노원','노원','노원','노원']\n",
        "#우편번호 3번째 자리(코드상 2) 가 지역구 위치 파악하는 것\n",
        "12345\n",
        "num2 = int(num[2])\n",
        "print(gu[num2])"
      ],
      "metadata": {
        "colab": {
          "base_uri": "https://localhost:8080/"
        },
        "id": "tOawBS284Z5y",
        "outputId": "d1af35bd-389b-43ad-8711-a857de3943a4"
      },
      "execution_count": 193,
      "outputs": [
        {
          "output_type": "stream",
          "name": "stdout",
          "text": [
            "우편번호를 입력해 주시기 바랍니다 : 01000\n",
            "강북\n"
          ]
        }
      ]
    },
    {
      "cell_type": "code",
      "source": [
        "#127 \n",
        "num = str(input(\"주민번호를 입력해 주시기 바랍니다 : \"))\n",
        "num2 = int(num[7])\n",
        "print(num2)\n",
        "if num2 == 1 :\n",
        "  a = \"남자\"\n",
        "else :\n",
        "  a = \"여자\"\n",
        "print(a)\n"
      ],
      "metadata": {
        "colab": {
          "base_uri": "https://localhost:8080/"
        },
        "id": "NtChHhy77zdf",
        "outputId": "ecf1804e-41c2-4aa0-b080-8c1f17933afa"
      },
      "execution_count": 207,
      "outputs": [
        {
          "output_type": "stream",
          "name": "stdout",
          "text": [
            "주민번호를 입력해 주시기 바랍니다 : 821010-1635210\n",
            "1\n",
            "남자\n"
          ]
        }
      ]
    },
    {
      "cell_type": "code",
      "source": [
        "#128\n",
        "num = str(input(\"주민번호를 입력해 주시기 바랍니다 : \"))\n",
        "num2 = (num[-6])\n",
        "num3 = (num[-5])\n",
        "sity = int(num2+num3)\n",
        "\n",
        "if 0 <= sity <= 8 :\n",
        "  print('서울입니다.')\n",
        "\n",
        "else :\n",
        "  print('서울이 아닙니다.')"
      ],
      "metadata": {
        "colab": {
          "base_uri": "https://localhost:8080/"
        },
        "id": "yugrw1jf9gNR",
        "outputId": "1eba11ee-25cf-4f96-f88f-c212ac0f8647"
      },
      "execution_count": 225,
      "outputs": [
        {
          "output_type": "stream",
          "name": "stdout",
          "text": [
            "주민번호를 입력해 주시기 바랍니다 : 821010-1635210\n",
            "서울이 아닙니다.\n"
          ]
        }
      ]
    },
    {
      "cell_type": "code",
      "source": [
        "#129\n",
        "a = []*12\n",
        "a = str(input(\"주민번호를 입력해 주시기 바랍니다 : \"))\n",
        "a2=list(a)\n",
        "del a2[6]\n",
        "a2 = list(map(int, a2))\n",
        "# print(a2) :  값 확인용\n",
        "b = [2,3,4,5,6,7,8,9,2,3,4,5,0]\n",
        "c = []*12\n",
        "i = 0\n",
        "while i <= 12 :\n",
        "  c.append((a2[i]*b[i]))\n",
        "  i = i+1\n",
        "# print(c) :  값 확인용\n",
        "# print(sum(c)) :  값 확인용\n",
        "# print((sum(c)%11)) :  값 확인용\n",
        "d = sum(c)\n",
        "e = d%11\n",
        "\n",
        "if 11-e == a[-1] :\n",
        "  print(\"유효한 주민등록번호 입니다.\")\n",
        "\n",
        "else :\n",
        "  print(\"유효하지 않은 주민등록번호 입니다.\")"
      ],
      "metadata": {
        "colab": {
          "base_uri": "https://localhost:8080/"
        },
        "id": "cpMs5Hq4AfV2",
        "outputId": "5f2b2290-b8d2-4e27-b5bc-1ed9a03e3653"
      },
      "execution_count": 344,
      "outputs": [
        {
          "output_type": "stream",
          "name": "stdout",
          "text": [
            "주민번호를 입력해 주시기 바랍니다 : 821010-1635210\n",
            "유효하지 않은 주민등록번호 입니다.\n"
          ]
        }
      ]
    },
    {
      "cell_type": "code",
      "source": [
        "#130 해결하지 못했습니다.\n",
        "# import requests\n",
        "# btc = requests.get(\"http://api.bithumb.com/public/ticker/\").json()['data']"
      ],
      "metadata": {
        "id": "-BuC8UjTEeVd"
      },
      "execution_count": 242,
      "outputs": []
    }
  ]
}