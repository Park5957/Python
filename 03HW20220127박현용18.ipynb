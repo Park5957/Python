{
  "nbformat": 4,
  "nbformat_minor": 0,
  "metadata": {
    "colab": {
      "name": "03HW20220127박현용18.ipynb",
      "provenance": [],
      "collapsed_sections": [],
      "authorship_tag": "ABX9TyOpzTT/zbgiS2bIWJe/T3ei",
      "include_colab_link": true
    },
    "kernelspec": {
      "name": "python3",
      "display_name": "Python 3"
    },
    "language_info": {
      "name": "python"
    }
  },
  "cells": [
    {
      "cell_type": "markdown",
      "metadata": {
        "id": "view-in-github",
        "colab_type": "text"
      },
      "source": [
        "<a href=\"https://colab.research.google.com/github/Park5957/ai/blob/main/03HW20220127%EB%B0%95%ED%98%84%EC%9A%A918.ipynb\" target=\"_parent\"><img src=\"https://colab.research.google.com/assets/colab-badge.svg\" alt=\"Open In Colab\"/></a>"
      ]
    },
    {
      "cell_type": "code",
      "execution_count": null,
      "metadata": {
        "id": "IXeE1THEpI4O",
        "colab": {
          "base_uri": "https://localhost:8080/"
        },
        "outputId": "6b0ba362-a40c-4dc2-8e8c-5f7e36e57c2c"
      },
      "outputs": [
        {
          "output_type": "stream",
          "name": "stdout",
          "text": [
            "{'메로나': [300, 20], '비비빅': [400, 3], '죠스바': [250, 400]}\n"
          ]
        }
      ],
      "source": [
        "#091~100\n",
        "inventory = {\n",
        "    \"메로나\" : [300,20],\n",
        "    \"비비빅\" : [400, 3],\n",
        "    \"죠스바\" : [250,400],\n",
        "}\n",
        "print(inventory)"
      ]
    },
    {
      "cell_type": "code",
      "source": [
        "#092\n",
        "inventory = {\n",
        "    \"메로나\" : [300,20],\n",
        "    \"비비빅\" : [400, 3],\n",
        "    \"죠스바\" : [250,400],\n",
        "}\n",
        "\n",
        "print(inventory[\"메로나\"])"
      ],
      "metadata": {
        "colab": {
          "base_uri": "https://localhost:8080/"
        },
        "id": "rYFyNHOYpuKY",
        "outputId": "4c557f4a-e1dd-4250-b46e-fabf64159755"
      },
      "execution_count": null,
      "outputs": [
        {
          "output_type": "stream",
          "name": "stdout",
          "text": [
            "[300, 20]\n"
          ]
        }
      ]
    },
    {
      "cell_type": "code",
      "source": [
        "#093\n",
        "inventory = {\"메로나\": [300, 20],\n",
        " \"비비빅\": [400, 3],\n",
        " \"죠스바\": [250, 100]}\n",
        "print(inventory[\"메로나\"][1]) "
      ],
      "metadata": {
        "colab": {
          "base_uri": "https://localhost:8080/"
        },
        "id": "G5UTC_DOr11u",
        "outputId": "ca7cd87a-5c73-47bd-cb58-a209f11f97f9"
      },
      "execution_count": null,
      "outputs": [
        {
          "output_type": "stream",
          "name": "stdout",
          "text": [
            "20\n"
          ]
        }
      ]
    },
    {
      "cell_type": "code",
      "source": [
        "#094\n",
        "inventory = {\"메로나\": [300, 20],\n",
        " \"비비빅\": [400, 3],\n",
        " \"죠스바\": [250, 100]}\n",
        "\n",
        "inventory['월드콘'] = [500,7]\n",
        "print(inventory) "
      ],
      "metadata": {
        "colab": {
          "base_uri": "https://localhost:8080/"
        },
        "id": "fXk6cEPesLUZ",
        "outputId": "f28147d0-6b4c-4d48-8996-6e177612fc25"
      },
      "execution_count": null,
      "outputs": [
        {
          "output_type": "stream",
          "name": "stdout",
          "text": [
            "{'메로나': [300, 20], '비비빅': [400, 3], '죠스바': [250, 100], '월드콘': [500, 7]}\n"
          ]
        }
      ]
    },
    {
      "cell_type": "code",
      "source": [
        "#095\n",
        "icecream = {'탱크보이': 1200,\n",
        "            '폴라포': 1200,\n",
        "            '빵빠레': 1800,\n",
        "            '월드콘': 1500,\n",
        "            '메로나': 1000\n",
        "}\n",
        "print(icecream.keys())"
      ],
      "metadata": {
        "colab": {
          "base_uri": "https://localhost:8080/"
        },
        "id": "HeQ_5-RSskKH",
        "outputId": "56e7ad0d-56b4-4883-f8ad-3ac8076b06dc"
      },
      "execution_count": null,
      "outputs": [
        {
          "output_type": "stream",
          "name": "stdout",
          "text": [
            "dict_keys(['탱크보이', '폴라포', '빵빠레', '월드콘', '메로나'])\n"
          ]
        }
      ]
    },
    {
      "cell_type": "code",
      "source": [
        "#096\n",
        "icecream = {\n",
        "    '탱크보이': 1200,\n",
        "    '폴라포': 1200,\n",
        "    '빵빠레': 1800,\n",
        "    '월드콘': 1500,\n",
        "    '메로나': 1000\n",
        "}\n",
        "print(icecream.values())"
      ],
      "metadata": {
        "colab": {
          "base_uri": "https://localhost:8080/"
        },
        "id": "SVzaSqVJLvRl",
        "outputId": "ded939ea-eb38-464a-9c41-807eae882daf"
      },
      "execution_count": null,
      "outputs": [
        {
          "output_type": "stream",
          "name": "stdout",
          "text": [
            "dict_values([1200, 1200, 1800, 1500, 1000])\n"
          ]
        }
      ]
    },
    {
      "cell_type": "code",
      "source": [
        "#097\n",
        "icecream = {\n",
        "    '탱크보이': 1200,\n",
        "    '폴라포': 1200,\n",
        "    '빵빠레': 1800,\n",
        "    '월드콘': 1500,\n",
        "    '메로나': 1000\n",
        "}\n",
        "icecream2 = icecream.values()\n",
        "print(sum(icecream2))"
      ],
      "metadata": {
        "colab": {
          "base_uri": "https://localhost:8080/"
        },
        "id": "39F-z3-7L5dR",
        "outputId": "870bdc97-3146-451f-9ff2-9d8c4773c0a3"
      },
      "execution_count": null,
      "outputs": [
        {
          "output_type": "stream",
          "name": "stdout",
          "text": [
            "6700\n"
          ]
        }
      ]
    },
    {
      "cell_type": "code",
      "source": [
        "#098\n",
        "icecream = {\n",
        "    '탱크보이': 1200,\n",
        "    '폴라포': 1200,\n",
        "    '빵빠레': 1800,\n",
        "    '월드콘': 1500,\n",
        "    '메로나': 1000\n",
        "}\n",
        "new_product = {\n",
        "    '팥빙수':2700,\n",
        "    '아맛나':1000\n",
        "}\n",
        "icecream.update(new_product)\n",
        "print(icecream)"
      ],
      "metadata": {
        "colab": {
          "base_uri": "https://localhost:8080/"
        },
        "id": "6Tz-EAqBMIC3",
        "outputId": "f88a4e4e-938f-47c9-f789-aefa96ebfc7c"
      },
      "execution_count": null,
      "outputs": [
        {
          "output_type": "stream",
          "name": "stdout",
          "text": [
            "{'탱크보이': 1200, '폴라포': 1200, '빵빠레': 1800, '월드콘': 1500, '메로나': 1000, '팥빙수': 2700, '아맛나': 1000}\n"
          ]
        }
      ]
    },
    {
      "cell_type": "code",
      "source": [
        "#099\n",
        "keys = (\"apple\", \"pear\", \"peach\")\n",
        "vals = (300, 250, 400)\n",
        "result = dict(zip(keys,vals))\n",
        "print(result)"
      ],
      "metadata": {
        "colab": {
          "base_uri": "https://localhost:8080/"
        },
        "id": "m0biJuAlMR1F",
        "outputId": "e48cb18e-3ace-4678-a640-70abb4e16be0"
      },
      "execution_count": null,
      "outputs": [
        {
          "output_type": "stream",
          "name": "stdout",
          "text": [
            "{'apple': 300, 'pear': 250, 'peach': 400}\n"
          ]
        }
      ]
    },
    {
      "cell_type": "code",
      "source": [
        "100#\n",
        "date = ['09/05', '09/06', '09/07', '09/08', '09/09']\n",
        "close_price = [10500, 10300, 10100, 10800, 11000]\n",
        "\n",
        "result = dict(zip(date,close_price))\n",
        "print(result)"
      ],
      "metadata": {
        "colab": {
          "base_uri": "https://localhost:8080/"
        },
        "id": "CFtT6yQlN0yN",
        "outputId": "55cf4fc4-da00-4482-d772-f3fe74266bd7"
      },
      "execution_count": null,
      "outputs": [
        {
          "output_type": "stream",
          "name": "stdout",
          "text": [
            "{'09/05': 10500, '09/06': 10300, '09/07': 10100, '09/08': 10800, '09/09': 11000}\n"
          ]
        }
      ]
    },
    {
      "cell_type": "code",
      "source": [
        "#151\n",
        "리스트 = [3, -20, -3, 44]\n",
        "for i in 리스트 :\n",
        "  if i <= 0:\n",
        "    print(i)"
      ],
      "metadata": {
        "colab": {
          "base_uri": "https://localhost:8080/"
        },
        "id": "cqbupEoWOKRH",
        "outputId": "f9312922-2635-4553-f5dd-2adac1db4430"
      },
      "execution_count": null,
      "outputs": [
        {
          "output_type": "stream",
          "name": "stdout",
          "text": [
            "-20\n",
            "-3\n"
          ]
        }
      ]
    },
    {
      "cell_type": "code",
      "source": [
        "#152\n",
        "리스트 = [3, 100, 23, 44]\n",
        "for i in 리스트 :\n",
        "  if i%3 == 0:\n",
        "    print(i)"
      ],
      "metadata": {
        "colab": {
          "base_uri": "https://localhost:8080/"
        },
        "id": "zOcE04rPPlMp",
        "outputId": "d71fbe68-7491-42c7-b413-cf31cda5d720"
      },
      "execution_count": null,
      "outputs": [
        {
          "output_type": "stream",
          "name": "stdout",
          "text": [
            "3\n"
          ]
        }
      ]
    },
    {
      "cell_type": "code",
      "source": [
        "#153\n",
        "리스트 = [13, 21, 12, 14, 30, 18]\n",
        "for i in 리스트 :\n",
        "  if i%3 == 0 and i < 20:\n",
        "    print(i)"
      ],
      "metadata": {
        "colab": {
          "base_uri": "https://localhost:8080/"
        },
        "id": "yUCErYvyPtUe",
        "outputId": "b05069ce-ad85-4966-bc2a-4738b744bf78"
      },
      "execution_count": null,
      "outputs": [
        {
          "output_type": "stream",
          "name": "stdout",
          "text": [
            "12\n",
            "18\n"
          ]
        }
      ]
    },
    {
      "cell_type": "code",
      "source": [
        "#154\n",
        "리스트 = [\"I\", \"study\", \"python\", \"language\", \"!\"]\n",
        "for i in 리스트 :\n",
        "  if len(i) >= 3:\n",
        "    print(i)"
      ],
      "metadata": {
        "colab": {
          "base_uri": "https://localhost:8080/"
        },
        "id": "lJk9inJNQFbR",
        "outputId": "235efecb-7720-43aa-a115-835350d9b82e"
      },
      "execution_count": null,
      "outputs": [
        {
          "output_type": "stream",
          "name": "stdout",
          "text": [
            "study\n",
            "python\n",
            "language\n"
          ]
        }
      ]
    },
    {
      "cell_type": "code",
      "source": [
        "#155\n",
        "리스트 = [\"A\", \"b\", \"c\", \"D\"]\n",
        "for i in 리스트:\n",
        "  if i.isupper():\n",
        "    print(i)"
      ],
      "metadata": {
        "colab": {
          "base_uri": "https://localhost:8080/"
        },
        "id": "P2Rz-KDNQvVq",
        "outputId": "b05b95de-35d5-461a-b813-efdba3770496"
      },
      "execution_count": null,
      "outputs": [
        {
          "output_type": "stream",
          "name": "stdout",
          "text": [
            "A\n",
            "D\n"
          ]
        }
      ]
    },
    {
      "cell_type": "code",
      "source": [
        "#156\n",
        "리스트 = [\"A\", \"b\", \"c\", \"D\"]\n",
        "for i in 리스트:\n",
        "  if i.isupper() != True:\n",
        "    print(i)"
      ],
      "metadata": {
        "colab": {
          "base_uri": "https://localhost:8080/"
        },
        "id": "stq5MXH_RuE8",
        "outputId": "01f04949-e0ff-4a0c-a59b-e505abe8ecef"
      },
      "execution_count": null,
      "outputs": [
        {
          "output_type": "stream",
          "name": "stdout",
          "text": [
            "b\n",
            "c\n"
          ]
        }
      ]
    },
    {
      "cell_type": "code",
      "source": [
        "리스트 = ['dog', 'cat', 'parrot']\n",
        "for i in 리스트:\n",
        "  print(i[0:].upper())"
      ],
      "metadata": {
        "colab": {
          "base_uri": "https://localhost:8080/"
        },
        "id": "3--IILxfSJt7",
        "outputId": "51133ed6-2b5d-4be6-b8a3-dcff6ebb9ea9"
      },
      "execution_count": null,
      "outputs": [
        {
          "output_type": "stream",
          "name": "stdout",
          "text": [
            "DOG\n",
            "CAT\n",
            "PARROT\n"
          ]
        }
      ]
    },
    {
      "cell_type": "code",
      "source": [
        "#158\n",
        "리스트 = ['hello.py', 'ex01.py', 'intro.hwp']\n",
        "for i in 리스트:\n",
        "  a = i.split(\".\")\n",
        "  print(a[0])"
      ],
      "metadata": {
        "colab": {
          "base_uri": "https://localhost:8080/"
        },
        "id": "5nMerzspT5Kc",
        "outputId": "f73047fd-114b-483b-c40e-1983496869aa"
      },
      "execution_count": null,
      "outputs": [
        {
          "output_type": "stream",
          "name": "stdout",
          "text": [
            "hello\n",
            "ex01\n",
            "intro\n"
          ]
        }
      ]
    },
    {
      "cell_type": "code",
      "source": [
        "#159\n",
        "리스트 = ['intra.h', 'intra.c', 'define.h', 'run.py']\n",
        "for i in 리스트:\n",
        "  a = i.split(\".\")\n",
        "  if a[1] == \"h\":\n",
        "    print(i)"
      ],
      "metadata": {
        "colab": {
          "base_uri": "https://localhost:8080/"
        },
        "id": "HPd448YhWRvy",
        "outputId": "e6718313-8279-473c-fa0c-5bfa0172802e"
      },
      "execution_count": null,
      "outputs": [
        {
          "output_type": "stream",
          "name": "stdout",
          "text": [
            "intra.h\n",
            "define.h\n"
          ]
        }
      ]
    },
    {
      "cell_type": "code",
      "source": [
        "#160\n",
        "리스트 = ['intra.h', 'intra.c', 'define.h', 'run.py']\n",
        "for i in 리스트:\n",
        "  a = i.split(\".\")\n",
        "  if a[1] == \"h\" or a[1] == \"c\" :\n",
        "    print(i)"
      ],
      "metadata": {
        "colab": {
          "base_uri": "https://localhost:8080/"
        },
        "id": "R1wNE8JKXREH",
        "outputId": "cd8ca73d-f3ec-4482-9815-ec2120cee286"
      },
      "execution_count": null,
      "outputs": [
        {
          "output_type": "stream",
          "name": "stdout",
          "text": [
            "intra.h\n",
            "intra.c\n",
            "define.h\n"
          ]
        }
      ]
    }
  ]
}