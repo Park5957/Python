{
  "nbformat": 4,
  "nbformat_minor": 0,
  "metadata": {
    "colab": {
      "name": "04HW20220207박현용18.ipynb",
      "provenance": [],
      "collapsed_sections": [],
      "authorship_tag": "ABX9TyNSniOAxhzce6BCu+m72PWd",
      "include_colab_link": true
    },
    "kernelspec": {
      "name": "python3",
      "display_name": "Python 3"
    },
    "language_info": {
      "name": "python"
    }
  },
  "cells": [
    {
      "cell_type": "markdown",
      "metadata": {
        "id": "view-in-github",
        "colab_type": "text"
      },
      "source": [
        "<a href=\"https://colab.research.google.com/github/Park5957/ai/blob/main/04HW20220207%EB%B0%95%ED%98%84%EC%9A%A918.ipynb\" target=\"_parent\"><img src=\"https://colab.research.google.com/assets/colab-badge.svg\" alt=\"Open In Colab\"/></a>"
      ]
    },
    {
      "cell_type": "code",
      "execution_count": null,
      "metadata": {
        "colab": {
          "base_uri": "https://localhost:8080/"
        },
        "id": "i1RqEiy4NVl5",
        "outputId": "3fb87b72-3a89-40e4-d881-710104fb6702"
      },
      "outputs": [
        {
          "output_type": "stream",
          "name": "stdout",
          "text": [
            "안녕\n",
            "Hi\n"
          ]
        }
      ],
      "source": [
        "# 211\n",
        "# 함수의 호출 결과를 예측하라.\n",
        "# def 함수(문자열) :\n",
        "#  print(문자열)\n",
        "# 함수(\"안녕\")\n",
        "# 함수(\"Hi\")\n",
        "def a(n) :\n",
        "  print(n)\n",
        "a(\"안녕\")\n",
        "a(\"Hi\")"
      ]
    },
    {
      "cell_type": "code",
      "source": [
        "#212\n",
        "# 함수의 호출 결과를 예측하라.\n",
        "# def 함수(a, b) :\n",
        "#  print(a + b)\n",
        "# 함수(3, 4)\n",
        "# 함수(7, 8)\n",
        "\n",
        "def k(a, b) :\n",
        "  print(a + b)\n",
        "k(3, 4)\n",
        "k(7, 8)"
      ],
      "metadata": {
        "colab": {
          "base_uri": "https://localhost:8080/"
        },
        "id": "lAQsB6BbNm2W",
        "outputId": "9fc6aed5-d670-464e-a096-a5cd5ca4f058"
      },
      "execution_count": null,
      "outputs": [
        {
          "output_type": "stream",
          "name": "stdout",
          "text": [
            "7\n",
            "15\n"
          ]
        }
      ]
    },
    {
      "cell_type": "code",
      "source": [
        "#213\n",
        "# 아래와 같은 에러가 발생하는 원인을 설명하라.\n",
        "# def 함수(문자열) :\n",
        "#  print(문자열)\n",
        "# 함수()\n",
        "# TypeError: 함수() missing 1 required positional argument: '문자열'\n",
        "#\n",
        "print(\"정답 : 문자열 값을 지정하지 않았기에 에러가 발생\")\n",
        "def 함수(문자열) :\n",
        "  print(문자열)\n",
        "함수(1)"
      ],
      "metadata": {
        "colab": {
          "base_uri": "https://localhost:8080/"
        },
        "id": "TsGS8zDONycp",
        "outputId": "f856927b-33f8-4d3c-c763-3a906237598d"
      },
      "execution_count": null,
      "outputs": [
        {
          "output_type": "stream",
          "name": "stdout",
          "text": [
            "정답 : 문자열 값을 지정하지 않았기에 에러가 발생\n",
            "1\n"
          ]
        }
      ]
    },
    {
      "cell_type": "code",
      "source": [
        "# 214\n",
        "# 아래와 같은 에러가 발생하는 원인을 설명하라.\n",
        "# def 함수(a, b) :\n",
        "#  print(a + b)\n",
        "# 함수(\"안녕\", 3)\n",
        "# TypeError: must be str, not int\n",
        "\n",
        "##### 답 : a 값이 문자임으로 a+b는 성립 할 수 없는 문장임"
      ],
      "metadata": {
        "id": "fl2AgWIvON6z"
      },
      "execution_count": null,
      "outputs": []
    },
    {
      "cell_type": "code",
      "source": [
        "# 215\n",
        "# 하나의 문자를 입력받아 문자열 끝에 \":D\" 스마일 문자열을 이어 붙여 출력하는\n",
        "# print_with_smile 함수를 정의하라\n",
        "\n",
        "def print_with_smile(a,b=\":D\"):\n",
        "  print(f\"{a}{b}\")\n",
        "\n",
        "print_with_smile(\"안녕\")"
      ],
      "metadata": {
        "colab": {
          "base_uri": "https://localhost:8080/"
        },
        "id": "Tge15ES0Okqm",
        "outputId": "2ed54826-c17a-42e4-ff1f-158dd3ec8d38"
      },
      "execution_count": null,
      "outputs": [
        {
          "output_type": "stream",
          "name": "stdout",
          "text": [
            "안녕:D\n"
          ]
        }
      ]
    },
    {
      "cell_type": "code",
      "source": [
        "# 216\n",
        "# 215 에서 정의한 함수를 호출하라. 파라미터는 \"안녕하세요\"로 입력하라\n",
        "\n",
        "def print_with_smile(a,b=\":D\"):\n",
        "  print(f\"{a}{b}\")\n",
        "\n",
        "print_with_smile(\"안녕하세요\")"
      ],
      "metadata": {
        "colab": {
          "base_uri": "https://localhost:8080/"
        },
        "id": "g-9wzq9DO8NW",
        "outputId": "55f5a2e8-972b-424c-df8a-a84caf12b122"
      },
      "execution_count": null,
      "outputs": [
        {
          "output_type": "stream",
          "name": "stdout",
          "text": [
            "안녕하세요:D\n"
          ]
        }
      ]
    },
    {
      "cell_type": "code",
      "source": [
        "# 217\n",
        "# 현재 가격을 입력 받아 상한가 (30%)를 출력하는 print_upper_price 함수를 정의하라.\n",
        "\n",
        "cost = int(input(\"가격입력 : \"))\n",
        "\n",
        "def print_upper_price(cost):\n",
        "  print(f\"{cost}원은 {cost*0.3}원 으로 상한가 30%입니다.\")\n",
        "\n",
        "print_upper_price(cost)"
      ],
      "metadata": {
        "colab": {
          "base_uri": "https://localhost:8080/"
        },
        "id": "Pn1zyROqPBng",
        "outputId": "e0389385-5795-4df3-e866-ed22e6d79123"
      },
      "execution_count": null,
      "outputs": [
        {
          "output_type": "stream",
          "name": "stdout",
          "text": [
            "가격입력 : 10000\n",
            "10000원은 3000.0원 으로 상한가 30%입니다.\n"
          ]
        }
      ]
    },
    {
      "cell_type": "code",
      "source": [
        "# 218\n",
        "# 두 개의 숫자를 입력받아 두 수의 합을 출력하는 print_sum 함수를 정의하라\n",
        "num1 = int(input(\"정수1 입력:\"))\n",
        "num2 = int(input(\"정수2 입력:\"))\n",
        "\n",
        "def print_sum(num1,num2):\n",
        "  # print(num1+num2) 방법1\n",
        "  return num1+num2 #방법2\n",
        "  \n",
        "print(print_sum(num1,num2))"
      ],
      "metadata": {
        "colab": {
          "base_uri": "https://localhost:8080/"
        },
        "id": "MqOFrCcoRLhX",
        "outputId": "e89dc070-b252-44bb-9e5f-773e6712db0b"
      },
      "execution_count": null,
      "outputs": [
        {
          "output_type": "stream",
          "name": "stdout",
          "text": [
            "정수1 입력:1\n",
            "정수2 입력:2\n",
            "3\n"
          ]
        }
      ]
    },
    {
      "cell_type": "code",
      "source": [
        "# 219\n",
        "# 두 개의 숫자를 입력받아 합/차/곱/나눗셈을 출력하는 print_arithmetic_operation 함수를\n",
        "# 작성하라.\n",
        "# print_arithmetic_operation(3, 4)\n",
        "# 3 + 4 = 7\n",
        "# 3 - 4 = -1\n",
        "# 3 * 4 = 12\n",
        "# 3 / 4 = 0.75\n",
        "\n",
        "num1 = int(input(\"정수1 입력:\"))\n",
        "num2 = int(input(\"정수2 입력:\"))\n",
        "\n",
        "def print_sum(num1,num2):\n",
        "  print(f\"{num1} + {num2} = {num1+num2}\")\n",
        "  print(f\"{num1} - {num2} = {num1-num2}\")\n",
        "  print(f\"{num1} * {num2} = {num1*num2}\")\n",
        "  print(f\"{num1} / {num2} = {num1/num2}\")\n",
        "\n",
        "print_sum(num1,num2)"
      ],
      "metadata": {
        "colab": {
          "base_uri": "https://localhost:8080/"
        },
        "id": "zQweRAqBSFLS",
        "outputId": "8187c9e7-07f1-447b-9617-385d35b884e3"
      },
      "execution_count": null,
      "outputs": [
        {
          "output_type": "stream",
          "name": "stdout",
          "text": [
            "정수1 입력:3\n",
            "정수2 입력:4\n",
            "3 + 4 = 7\n",
            "3 - 4 = -1\n",
            "3 * 4 = 12\n",
            "3 / 4 = 0.75\n"
          ]
        }
      ]
    },
    {
      "cell_type": "code",
      "source": [
        "# 220\n",
        "# 세 개의 숫자를 입력받아 가장 큰수를 출력하는 print_max 함수를 정의하라. 단 if 문을 사용해서 수를 비교하라\n",
        "num1 = int(input(\"정수1 입력:\"))\n",
        "num2 = int(input(\"정수2 입력:\"))\n",
        "num3 = int(input(\"정수3 입력:\"))\n",
        "\n",
        "def print_sum(num1,num2,num3):\n",
        "  \n",
        "  if num1>=num2>=num3 :\n",
        "    print(f\"가장 큰 수는 {num1}입니다.\")\n",
        "  elif num1<=num2>=num3 :\n",
        "    print(f\"가장 큰 수는 {num2}입니다.\")\n",
        "  elif num1<=num2<=num3 :\n",
        "    print(f\"가장 큰 수는 {num3}입니다.\")\n",
        "  else :\n",
        "    print(\"오류\")\n",
        "\n",
        "print_sum(num1,num2,num3)\n",
        "  "
      ],
      "metadata": {
        "colab": {
          "base_uri": "https://localhost:8080/"
        },
        "id": "-SdrsTGnS6-0",
        "outputId": "72b64e06-abe4-48af-c735-546161304163"
      },
      "execution_count": null,
      "outputs": [
        {
          "output_type": "stream",
          "name": "stdout",
          "text": [
            "정수1 입력:5\n",
            "정수2 입력:66\n",
            "정수3 입력:66\n",
            "가장 큰 수는 66입니다.\n"
          ]
        }
      ]
    },
    {
      "cell_type": "code",
      "source": [
        "# 221\n",
        "# 입력된 문자열을 역순으로 출력하는 print_reverse 함수를 정의하라.\n",
        "# print_reverse(\"python\")\n",
        "# nohtyp\n",
        "num1 = int(input(\"정수1 입력:\"))\n",
        "def print_reverse(num1) :\n",
        "  \n",
        "  for i in range(num1,0,-1) :\n",
        "    print(i)\n",
        "\n",
        "print_reverse(num1)"
      ],
      "metadata": {
        "colab": {
          "base_uri": "https://localhost:8080/"
        },
        "id": "iu2rw5CIVAJw",
        "outputId": "8a73124f-2d73-44fd-9313-993129115cf4"
      },
      "execution_count": null,
      "outputs": [
        {
          "output_type": "stream",
          "name": "stdout",
          "text": [
            "정수1 입력:5\n",
            "5\n",
            "4\n",
            "3\n",
            "2\n",
            "1\n"
          ]
        }
      ]
    },
    {
      "cell_type": "code",
      "source": [
        "# 222\n",
        "# 성적 리스트를 입력 받아 평균을 출력하는 print_score 함수를 정의하라.\n",
        "# print_score ([1, 2, 3])\n",
        "# 2.0\n",
        "\n",
        "def print_score(score_list) :\n",
        "    print(sum(score_list)/len(score_list))\n",
        "\n",
        "print_score ([1, 2, 3])"
      ],
      "metadata": {
        "colab": {
          "base_uri": "https://localhost:8080/"
        },
        "id": "LRMKgp0aV0uU",
        "outputId": "07d91455-5439-472c-8f7a-b1bced64cc53"
      },
      "execution_count": null,
      "outputs": [
        {
          "output_type": "stream",
          "name": "stdout",
          "text": [
            "2.0\n"
          ]
        }
      ]
    },
    {
      "cell_type": "code",
      "source": [
        "# 223\n",
        "# 하나의 리스트를 입력받아 짝수만 화면에 출력하는 print_even 함수를 정의하라.\n",
        "# print_even ([1, 3, 2, 10, 12, 11, 15])\n",
        "# 2\n",
        "# 10\n",
        "# 12\n",
        "\n",
        "def print_even(score_list) :\n",
        "  for i in score_list :\n",
        "    if i%2 == 0 :\n",
        "      print(i)\n",
        "\n",
        "\n",
        "print_even ([1, 3, 2, 10, 12, 11, 15])"
      ],
      "metadata": {
        "colab": {
          "base_uri": "https://localhost:8080/"
        },
        "id": "JuoFkGAqf6CE",
        "outputId": "21c866d0-3c77-465a-d486-2b0ec90f047a"
      },
      "execution_count": null,
      "outputs": [
        {
          "output_type": "stream",
          "name": "stdout",
          "text": [
            "2\n",
            "10\n",
            "12\n"
          ]
        }
      ]
    },
    {
      "cell_type": "code",
      "source": [
        "# 224\n",
        "# 하나의 딕셔너리를 입력받아 딕셔너리의 key 값을 화면에 출력하는 print_keys 함수를\n",
        "# 정의하라.\n",
        "# print_keys ({\"이름\":\"김말똥\", \"나이\":30, \"성별\":0})\n",
        "# 이름\n",
        "# 나이\n",
        "# 성별\n",
        "\n",
        "\n",
        "def print_keys(a) :\n",
        "  for i in a.keys():\n",
        "    print(i)\n",
        "\n",
        "print_keys ({\"이름\":\"김말똥\", \"나이\":30, \"성별\":0})"
      ],
      "metadata": {
        "colab": {
          "base_uri": "https://localhost:8080/"
        },
        "id": "-Odj3IL7iys3",
        "outputId": "ccaca3ba-f781-4ffe-d4cc-8f1f11a34abb"
      },
      "execution_count": null,
      "outputs": [
        {
          "output_type": "stream",
          "name": "stdout",
          "text": [
            "이름\n",
            "나이\n",
            "성별\n"
          ]
        }
      ]
    },
    {
      "cell_type": "code",
      "source": [
        "# 255\n",
        "# my_dict 에는 날짜를 키값으로 OHLC 가 리스트로 저장돼 있다.\n",
        "# my_dict = {\"10/26\" : [100, 130, 100, 100],\n",
        "#  \"10/27\" : [10, 12, 10, 11]}\n",
        "# my_dict 와 날짜 키값을 입력받아 OHLC 리스트를 출력하는 print_value_by_key 함수를\n",
        "# 정의하라.\n",
        "# print_value_by_key (my_dict, \"10/26\")\n",
        "# [100, 130, 100, 100]\n",
        "\n",
        "my_dict = {\"10/26\" : [100, 130, 100, 100],\n",
        "           \"10/27\" : [10, 12, 10, 11]\n",
        "}\n",
        "\n",
        "def print_value_by_key(a,b):\n",
        "  print(a[b])\n",
        "\n",
        "print_value_by_key (my_dict,\"10/26\")"
      ],
      "metadata": {
        "colab": {
          "base_uri": "https://localhost:8080/"
        },
        "id": "DxwCi9fcldJZ",
        "outputId": "d42b9c2b-1126-4d25-df26-3bd9840492d1"
      },
      "execution_count": null,
      "outputs": [
        {
          "output_type": "stream",
          "name": "stdout",
          "text": [
            "[100, 130, 100, 100]\n"
          ]
        }
      ]
    },
    {
      "cell_type": "code",
      "source": [
        "# 226\n",
        "# 입력 문자열을 한 줄에 다섯글자씩 출력하는 print_5xn(string) 함수를 작성하라.\n",
        "# print_5xn(\"아이엠어보이유알어걸\")\n",
        "# 아이엠어보\n",
        "# 이유알어걸\n",
        "\n",
        "def print_5xn(a) :\n",
        "  print(a[0:5])\n",
        "  print(a[5:])\n",
        "\n",
        "print_5xn(\"아이엠어보이유알어걸\")"
      ],
      "metadata": {
        "colab": {
          "base_uri": "https://localhost:8080/"
        },
        "id": "AhzqKcaemjwU",
        "outputId": "5e0f9c08-b87b-4d06-f7ad-bc7d44f43abe"
      },
      "execution_count": null,
      "outputs": [
        {
          "output_type": "stream",
          "name": "stdout",
          "text": [
            "아이엠어보\n",
            "이유알어걸\n"
          ]
        }
      ]
    },
    {
      "cell_type": "code",
      "source": [
        "# 227\n",
        "# 문자열과 한줄에 출력될 글자 수를 입력을 받아 한 줄에 입력된 글자 수만큼 출력하는\n",
        "# print_mxn(string) 함수를 작성하라.\n",
        "# printmxn(\"아이엠어보이유알어걸\", 3)\n",
        "# 아이엠\n",
        "# 어보이\n",
        "# 유알어\n",
        "# 걸\n",
        "\n",
        "def printmxn(a,b) :\n",
        "   c = int(len(a) / b)\n",
        "   for i in range(c+1) :\n",
        "     print(a[i*b:i*b+b])\n",
        " \n",
        "printmxn(\"아이엠어보이유알어걸\", 3)"
      ],
      "metadata": {
        "colab": {
          "base_uri": "https://localhost:8080/"
        },
        "id": "GldtNRrLnYJS",
        "outputId": "760251c3-a3ce-4ef7-c6c2-e1a13aad3173"
      },
      "execution_count": null,
      "outputs": [
        {
          "output_type": "stream",
          "name": "stdout",
          "text": [
            "아이엠\n",
            "어보이\n",
            "유알어\n",
            "걸\n"
          ]
        }
      ]
    },
    {
      "cell_type": "code",
      "source": [
        "# 228\n",
        "# 연봉을 입력받아 월급을 계산하는 calc_monthly_salary(annual_salary) 함수를 정의하라. \n",
        "# 회사는 연봉을 12 개월로 나누어 분할 지급하며, 이 때 1 원 미만은 버림한다.\n",
        "# calc_monthly_salary(12000000)\n",
        "# 1000000\n",
        "\n",
        "def calc_monthly_salary(a) :\n",
        "  print(int(a/12))\n",
        "\n",
        "\n",
        "calc_monthly_salary(12000000)"
      ],
      "metadata": {
        "colab": {
          "base_uri": "https://localhost:8080/"
        },
        "id": "4l8TxZSjq5AX",
        "outputId": "4d6588cf-1109-4fc3-d5fd-d450e1eb0985"
      },
      "execution_count": null,
      "outputs": [
        {
          "output_type": "stream",
          "name": "stdout",
          "text": [
            "1000000\n"
          ]
        }
      ]
    },
    {
      "cell_type": "code",
      "source": [
        "# 229\n",
        "# 아래 코드의 실행 결과를 예측하라.\n",
        "# def my_print (a, b) :\n",
        "#  print(\"왼쪽:\", a)\n",
        "#  print(\"오른쪽:\", b)\n",
        "# my_print(a=100, b=200)\n",
        "\n",
        "# 왼쪽: 100\n",
        "# 오른쪽: 200\n"
      ],
      "metadata": {
        "id": "NXvFAh43r3Da"
      },
      "execution_count": null,
      "outputs": []
    },
    {
      "cell_type": "code",
      "source": [
        "# 230\n",
        "# 아래 코드의 실행 결과를 예측하라.\n",
        "# def my_print (a, b) :\n",
        "#  print(\"왼쪽:\", a)\n",
        "#  print(\"오른쪽:\", b)\n",
        "# my_print(b=100, a=200)\n",
        "\n",
        "# 왼쪽: 200\n",
        "# 오른쪽: 100"
      ],
      "metadata": {
        "id": "0myWKBl4sDVQ"
      },
      "execution_count": null,
      "outputs": []
    }
  ]
}