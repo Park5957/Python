{
  "nbformat": 4,
  "nbformat_minor": 0,
  "metadata": {
    "colab": {
      "name": "05HW20220208박현용18.ipynb",
      "provenance": [],
      "collapsed_sections": [],
      "authorship_tag": "ABX9TyNX5aKEGn4lKh+LRXvpX3Da",
      "include_colab_link": true
    },
    "kernelspec": {
      "name": "python3",
      "display_name": "Python 3"
    },
    "language_info": {
      "name": "python"
    }
  },
  "cells": [
    {
      "cell_type": "markdown",
      "metadata": {
        "id": "view-in-github",
        "colab_type": "text"
      },
      "source": [
        "<a href=\"https://colab.research.google.com/github/Park5957/ai/blob/main/05HW20220208%EB%B0%95%ED%98%84%EC%9A%A918.ipynb\" target=\"_parent\"><img src=\"https://colab.research.google.com/assets/colab-badge.svg\" alt=\"Open In Colab\"/></a>"
      ]
    },
    {
      "cell_type": "code",
      "execution_count": null,
      "metadata": {
        "id": "5_pct5JSY3wj"
      },
      "outputs": [],
      "source": [
        "# 231\n",
        "# 아래 코드를 실행한 결과를 예상하라.\n",
        "# def n_plus_1 (n) :\n",
        "#   result = n + 1\n",
        "# n_plus_1(3)\n",
        "# print(result)\n",
        "\n",
        "# 결과 = 에러 // print(result) 는 def 안에 존재해야 값을 출력할 수 있음"
      ]
    },
    {
      "cell_type": "code",
      "source": [
        "# 232\n",
        "# 문자열 하나를 입력받아 인터넷 주소를 반환하는 make_url 함수를 정의하라.\n",
        "# make_url(\"naver\")\n",
        "# www.naver.com\n",
        "\n",
        "def make_url (a) :\n",
        "  a = \"www.naver.com\"\n",
        "  print(a)\n",
        "\n",
        "make_url(\"naver\")"
      ],
      "metadata": {
        "colab": {
          "base_uri": "https://localhost:8080/"
        },
        "id": "OjFAHpSlZuB1",
        "outputId": "6542daf9-abee-4c46-fb05-56832e0f1576"
      },
      "execution_count": null,
      "outputs": [
        {
          "output_type": "stream",
          "name": "stdout",
          "text": [
            "www.naver.com\n"
          ]
        }
      ]
    },
    {
      "cell_type": "code",
      "source": [
        "# 233\n",
        "# 문자열을 입력받아 각 문자들로 구성된 리스트로 반환하는 make_list 함수를 정의하라.\n",
        "# make_list(\"abcd\")\n",
        "# ['a', 'b', 'c', 'd']\n",
        "b = []\n",
        "def make_list(a):\n",
        "  for i in a:\n",
        "    b.append(i)\n",
        "  print(b)   \n",
        "make_list(\"abcd\")"
      ],
      "metadata": {
        "colab": {
          "base_uri": "https://localhost:8080/"
        },
        "id": "H5m2Qip7aZXl",
        "outputId": "14929cc9-0a1f-41bf-a2fa-7003b74b5182"
      },
      "execution_count": null,
      "outputs": [
        {
          "output_type": "stream",
          "name": "stdout",
          "text": [
            "['a', 'b', 'c', 'd']\n"
          ]
        }
      ]
    },
    {
      "cell_type": "code",
      "source": [
        "# 234\n",
        "# 숫자로 구성된 하나의 리스트를 입력받아, 짝수들을 추출하여 리스트로 반환하는\n",
        "# pickup_even 함수를 구현하라.\n",
        "# pickup_even([3, 4, 5, 6, 7, 8])\n",
        "# [4, 6, 8]\n",
        "b=[]\n",
        "def pickup_even(a):\n",
        "  for i in a:\n",
        "    if i%2 == 0 :\n",
        "      b.append(i)\n",
        "  print(b)\n",
        "pickup_even([3, 4, 5, 6, 7, 8])"
      ],
      "metadata": {
        "colab": {
          "base_uri": "https://localhost:8080/"
        },
        "id": "U8gw8KvLcWCZ",
        "outputId": "d4b798c7-d39b-4cc3-819e-e0f1d5a939fe"
      },
      "execution_count": null,
      "outputs": [
        {
          "output_type": "stream",
          "name": "stdout",
          "text": [
            "[4, 6, 8]\n"
          ]
        }
      ]
    },
    {
      "cell_type": "code",
      "source": [
        "# 235\n",
        "# 콤마가 포함된 문자열 숫자를 입력받아 정수로 변환하는 convert_int 함수를 정의하라.\n",
        "# convert_int(\"1,234,567\")\n",
        "# 1234567\n",
        "b=0\n",
        "def convert_int(a):\n",
        "  return int(a.replace(',',''))\n",
        "\n",
        "convert_int(\"1,234,567\")"
      ],
      "metadata": {
        "colab": {
          "base_uri": "https://localhost:8080/"
        },
        "id": "GXfUDClVd8dl",
        "outputId": "724d2cfa-68a4-4090-b035-7aea3f127d9d"
      },
      "execution_count": null,
      "outputs": [
        {
          "output_type": "execute_result",
          "data": {
            "text/plain": [
              "1234567"
            ]
          },
          "metadata": {},
          "execution_count": 45
        }
      ]
    },
    {
      "cell_type": "code",
      "source": [
        "# 236\n",
        "# 아래 코드의 실행 결과를 예측하라.\n",
        "# def 함수(num) :\n",
        "#  return num + 4\n",
        "# a = 함수(10)\n",
        "# b = 함수(a)\n",
        "# c = 함수(b)\n",
        "# print(c)\n",
        "\n",
        "# 정답 : 22   //최초 함수num에 10의 값이 들어가 14로 return\n",
        "              # 이 후 a의 값이 14로 변환 num의 값에 14가 들어감. 18 return\n",
        "              # 이 후 b의 값이 18로 변환 num의 값에 18이 들어감. 22 return\n",
        "              # 따라서 c의 값이 22로 출력"
      ],
      "metadata": {
        "id": "hy4OAw7mhNkt"
      },
      "execution_count": null,
      "outputs": []
    },
    {
      "cell_type": "code",
      "source": [
        "# 237\n",
        "# 아래 코드의 실행 결과를 예측하라.\n",
        "# def 함수(num) :\n",
        "#  return num + 4\n",
        "# c = 함수(함수(함수(10)))\n",
        "# print(c)\n",
        "\n",
        "# 정답 : 22 //함수10이 14로 리턴 두번째 함수는 14. 18로 return.\n",
        "            # 세번째 함수18. 22로 리턴 따라서 c는 22"
      ],
      "metadata": {
        "id": "pokn1llxseOI"
      },
      "execution_count": null,
      "outputs": []
    },
    {
      "cell_type": "code",
      "source": [
        "# 238\n",
        "# 아래 코드의 실행 결과를 예측하라.\n",
        "# def 함수1(num) :\n",
        "#   return num + 4\n",
        "# def 함수2(num) :\n",
        "#   return num * 10\n",
        "# a = 함수1(10)\n",
        "# c = 함수2(a)\n",
        "# print(c)\n",
        "# 정답 : 140 // a는 14로 return 함수2(num) 에는 14가 들어감 따라서 C는140"
      ],
      "metadata": {
        "id": "NgJ3SsMjs8qq"
      },
      "execution_count": null,
      "outputs": []
    },
    {
      "cell_type": "code",
      "source": [
        "# 239\n",
        "# 아래 코드의 실행 결과를 예측하라.\n",
        "# def 함수1(num) :\n",
        "#  return num + 4\n",
        "# def 함수2(num) :\n",
        "#  num = num + 2\n",
        "#  return 함수1(num)\n",
        "# c = 함수2(10)\n",
        "# print(c)\n",
        "\n",
        "# 정답 : 16 // 함수2(10) 의 값으로 함수1(12) 이라는 것으로 return.\n",
        "            #  따라서 c = 함수1(함수2(num)+4) 가 됨으로 16."
      ],
      "metadata": {
        "id": "m9n3CXeQtjwX"
      },
      "execution_count": null,
      "outputs": []
    },
    {
      "cell_type": "code",
      "source": [
        "# 240\n",
        "# 아래 코드의 실행 결과를 예측하라.\n",
        "# def 함수0(num) :\n",
        "#  return num * 2\n",
        "\n",
        "# def 함수1(num) :\n",
        "#  return 함수0(num + 2)\n",
        "\n",
        "# def 함수2(num) :\n",
        "#  num = num + 10\n",
        "#  return 함수1(num)\n",
        "\n",
        "# c = 함수2(2)\n",
        "# print(c)\n",
        "\n",
        "# 정답 : 28// 함수2(2) 의 값으로 함수1(14) 이라는 것으로 return.\n",
        "            # 함수1(14) 는 함수0(14) 로 대입되어 28 return\n",
        "            # 따라서 c = 28."
      ],
      "metadata": {
        "id": "IWjuYs0Xuyw3"
      },
      "execution_count": null,
      "outputs": []
    },
    {
      "cell_type": "code",
      "source": [
        "# 291 파일 쓰기\n",
        "# 바탕화면에 '매수종목 1.txt' 파일을 생성한 후 다음과 같이 종목코드를 파일에 써보세요.\n",
        "# 005930\n",
        "# 005380\n",
        "# 035420\n",
        "\n",
        "a = open(\"C:\\\\Users\\\\PHY\\\\Desktop\\\\매수종목1.txt\", mode=\"wt\", encoding=\"utf-8\")\n",
        "a.write(\"005930\\n\")\n",
        "a.write(\"005380\\n\")\n",
        "a.write(\"035420\")\n",
        "a.close()"
      ],
      "metadata": {
        "id": "bAq1SZmPwJI-"
      },
      "execution_count": null,
      "outputs": []
    },
    {
      "cell_type": "code",
      "source": [
        "# 292 파일 쓰기\n",
        "# 바탕화면에 '매수종목 2.txt' 파일을 생성한 후 다음과 같이 종목코드와 종목명을 파일에\n",
        "# 써보세요.\n",
        "# 005930 삼성전자\n",
        "# 005380 현대차\n",
        "# 035420 NAVER\n",
        "\n",
        "a = open(\"C:\\\\Users\\\\PY\\\\Desktop\\\\매수종목2.txt\", mode=\"wt\", encoding=\"utf-8\")\n",
        "a.write(\"005930 삼성전자\")\n",
        "a.write(\"005380 현대차\")\n",
        "a.write(\"035420 NAVER\")\n",
        "a.close()"
      ],
      "metadata": {
        "id": "PboO6H1owSRq"
      },
      "execution_count": null,
      "outputs": []
    },
    {
      "cell_type": "code",
      "source": [
        "# 293 CSV 파일 쓰기\n",
        "# 바탕화면에 '매수종목.csv' 파일을 생성한 후 다음과 같이 종목코드와 종목명을 파일에\n",
        "# 써보세요. 인코딩은 'cp949'를 사용해야합니다.\n",
        "\n",
        "import csv\n",
        "f = open(\"C:\\\\Users\\\\PY\\\\Desktop\\\\매수종목.csv\", mode=\"wt\",encoding=\"cp949\", newline='')\n",
        "writer = csv.writer(f)\n",
        "writer.writerow([\"종목명\", \"종목코드\", \"PER\"])\n",
        "writer.writerow([\"삼성전자\", \"005930\", 15.59])\n",
        "writer.writerow([\"NAVER\", \"035420\", 55.82])\n",
        "f.close()"
      ],
      "metadata": {
        "id": "Ve6ThN5MzQcP"
      },
      "execution_count": null,
      "outputs": []
    },
    {
      "cell_type": "code",
      "source": [
        "# 294 파일 읽기\n",
        "# 바탕화면에 생성한 '매수종목 1.txt' 파일을 읽은 후 종목코드를 리스트에 저장해보세요.\n",
        "# 005930\n",
        "# 005380\n",
        "# 035420\n",
        "f = open(\"C:\\\\Users\\\\PY\\\\Desktop\\\\매수종목 1.txt\", encoding=\"utf-8\")\n",
        "lines = f.readlines()\n",
        "codes = []\n",
        "for line in lines:\n",
        "  code = line.strip()\n",
        "  codes.append(code)\n",
        "print(codes)\n",
        "f.close()"
      ],
      "metadata": {
        "id": "SBCdto7yznzr"
      },
      "execution_count": null,
      "outputs": []
    },
    {
      "cell_type": "code",
      "source": [
        "# 295 파일 읽기\n",
        "# 바탕화면에 생성한 '매수종목 2.txt' 파일을 읽은 후 종목코드와 종목명을 딕셔너리로\n",
        "# 저장해보세요. 종목명을 key 로 종목명을 value 로 저장합니다.\n",
        "# 005930 삼성전자\n",
        "# 005380 현대차\n",
        "# 035420 NAVER\n",
        "f = open(\"C:\\\\Users\\\\PY\\\\Desktop\\\\매수종목 2.txt\", encoding=\"utf-8\")\n",
        "lines = f.readlines()\n",
        "data = {}\n",
        "for line in lines:\n",
        "  line = line.strip()\n",
        "  k, v = line.split()\n",
        "  data[k] = v\n",
        "print(data)\n",
        "f.close()"
      ],
      "metadata": {
        "id": "twtGzPEVzp8x"
      },
      "execution_count": null,
      "outputs": []
    },
    {
      "cell_type": "code",
      "source": [
        "# 296 예외처리\n",
        "# 문자열 PER (Price to Earning Ratio) 값을 실수로 변환할 때 에러가 발생합니다. 예외처리를\n",
        "# 통해 에러가 발생하는 PER 은 0 으로 출력하세요.\n",
        "# per = [\"10.31\", \"\", \"8.00\"]\n",
        "# for i in per:\n",
        "#  print(float(i))\n",
        "\n",
        "per = [\"10.31\", \"\", \"8.00\"]\n",
        "\n",
        "for i in per:\n",
        " try :\n",
        "   print(float(i))\n",
        " except : \n",
        "   print(\"0\")"
      ],
      "metadata": {
        "colab": {
          "base_uri": "https://localhost:8080/"
        },
        "id": "yAvYkGbPzuKw",
        "outputId": "5c3907fa-7026-442f-dd2f-4893f4694527"
      },
      "execution_count": null,
      "outputs": [
        {
          "output_type": "stream",
          "name": "stdout",
          "text": [
            "10.31\n",
            "0\n",
            "8.0\n"
          ]
        }
      ]
    },
    {
      "cell_type": "code",
      "source": [
        "# 297 예외처리 및 리스트에 저장\n",
        "# 문자열로 표현된 PER 값을 실수로 변환한 후 이를 새로운 리스트에 저장해보세요.\n",
        "# per = [\"10.31\", \"\", \"8.00\"]\n",
        "# for i in per:\n",
        "#  print(float(per))\n",
        "per = [\"10.31\", \"\", \"8.00\"]\n",
        "a = []\n",
        "for i in per:\n",
        "  try  :\n",
        "    a.append(float(i))\n",
        "  except :\n",
        "    pass\n",
        "\n",
        "print(a)"
      ],
      "metadata": {
        "colab": {
          "base_uri": "https://localhost:8080/"
        },
        "id": "SpQlYGR71Dbn",
        "outputId": "c0c09f82-70ab-4f59-e7fc-6d176327838c"
      },
      "execution_count": null,
      "outputs": [
        {
          "output_type": "stream",
          "name": "stdout",
          "text": [
            "[10.31, 8.0]\n"
          ]
        }
      ]
    },
    {
      "cell_type": "code",
      "source": [
        "# 298 특정 예외만 처리하기\n",
        "# 어떤 값을 0 으로 나누면 ZeroDivisionError 에러가 발생합니다. try ~ except 로 모든 에러에\n",
        "# 대해 예외처리하지 말고 ZeroDivisionError 에러만 예외처리해보세요\n",
        "\n",
        "a = int(input(\"정수를 입력하시오\"))\n",
        "\n",
        "def inp(a) :\n",
        "  \n",
        "  try : \n",
        "    a = a/0\n",
        "    print(a)\n",
        "  except ZeroDivisionError:\n",
        "    print(\"잘못입력했습니다.\")\n",
        "\n",
        "inp(a)"
      ],
      "metadata": {
        "colab": {
          "base_uri": "https://localhost:8080/"
        },
        "id": "SgW9Xo3W6JW1",
        "outputId": "67c0412f-fd84-4ee8-ce42-f7cdd8c828b2"
      },
      "execution_count": null,
      "outputs": [
        {
          "output_type": "stream",
          "name": "stdout",
          "text": [
            "정수를 입력하시오0\n",
            "잘못입력했습니다.\n"
          ]
        }
      ]
    },
    {
      "cell_type": "code",
      "source": [
        "# 299 예외의 메시지 출력하기\n",
        "# 다음과 같은 코드 구조를 사용하면 예외 발생 시 에러 메시지를 변수로 바인딩할 수\n",
        "# 있습니다.\n",
        "# try:\n",
        "#  실행코드\n",
        "# except 예외 as 변수:\n",
        "#  예외처리코드\n",
        "# 리스트의 인덱싱에 대해 에러를 출력해보세요.\n",
        "# data = [1, 2, 3]\n",
        "# for i in range(5)\n",
        "#  print(data[i])\n",
        "data = [1, 2, 3]\n",
        "for i in range(5) :\n",
        "  try:\n",
        "    print(data[i])\n",
        "  except IndexError as a:\n",
        "    print(a)"
      ],
      "metadata": {
        "colab": {
          "base_uri": "https://localhost:8080/"
        },
        "id": "khdKjHDU7bS3",
        "outputId": "6098d598-00eb-4bd1-d2b5-51a778880324"
      },
      "execution_count": null,
      "outputs": [
        {
          "output_type": "stream",
          "name": "stdout",
          "text": [
            "1\n",
            "2\n",
            "3\n",
            "list index out of range\n",
            "list index out of range\n"
          ]
        }
      ]
    },
    {
      "cell_type": "code",
      "source": [
        "# 300 try, except, else, finally 구조 사용해보기\n",
        "# 파이썬 예외처리는 다음과 같은 구조를 가질 수 있습니다.\n",
        "# try:\n",
        "#  실행 코드\n",
        "# except:\n",
        "#  예외가 발생했을 때 수행할 코드\n",
        "# else:\n",
        "#  예외가 발생하지 않았을 때 수행할 코드\n",
        "# finally:\n",
        "#  예외 발생 여부와 상관없이 항상 수행할 코드\n",
        "# 아래의 코드에 대해서 예외처리를 사용하고 try, except, else, finally 에 적당한 코드를\n",
        "# 작성해봅시다. else 와 finally 는 적당한 문구를 print 하시면 됩니다.\n",
        "# per = [\"10.31\", \"\", \"8.00\"]\n",
        "# for i in per:\n",
        "#  print(float(per))\n",
        "\n",
        "\n",
        "per = [\"10.31\", \"\", \"8.00\"]\n",
        "b=1 #개인적 활용으로 추가\n",
        "\n",
        "for i in per:\n",
        "  \n",
        "  try:\n",
        "    print(f\"이건 try {float(i)}\")\n",
        "  except:\n",
        "    print(\"이건 (0) except 오류\")\n",
        "  else:\n",
        "    print(f\"이건 else 출력{i}\")\n",
        "  finally:\n",
        "    print(f\"{b}번째 finally 출력\", '\\n')\n",
        "    b +=1 #개인적 활용으로 추가"
      ],
      "metadata": {
        "colab": {
          "base_uri": "https://localhost:8080/"
        },
        "id": "tZ_2rYJL812Y",
        "outputId": "779a5e3b-312f-4da1-ac7a-70edb1e21b66"
      },
      "execution_count": null,
      "outputs": [
        {
          "output_type": "stream",
          "name": "stdout",
          "text": [
            "이건 try 10.31\n",
            "이건 else 출력10.31\n",
            "1번째 finally 출력 \n",
            "\n",
            "이건 (0) except 오류\n",
            "2번째 finally 출력 \n",
            "\n",
            "이건 try 8.0\n",
            "이건 else 출력8.00\n",
            "3번째 finally 출력 \n",
            "\n"
          ]
        }
      ]
    }
  ]
}