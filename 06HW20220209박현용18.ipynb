{
  "nbformat": 4,
  "nbformat_minor": 0,
  "metadata": {
    "colab": {
      "name": "06HW20220209박현용18.ipynb",
      "provenance": [],
      "collapsed_sections": [],
      "authorship_tag": "ABX9TyOc+egjsT7201vcbjo4j4QW",
      "include_colab_link": true
    },
    "kernelspec": {
      "name": "python3",
      "display_name": "Python 3"
    },
    "language_info": {
      "name": "python"
    }
  },
  "cells": [
    {
      "cell_type": "markdown",
      "metadata": {
        "id": "view-in-github",
        "colab_type": "text"
      },
      "source": [
        "<a href=\"https://colab.research.google.com/github/Park5957/ai/blob/main/06HW20220209%EB%B0%95%ED%98%84%EC%9A%A918.ipynb\" target=\"_parent\"><img src=\"https://colab.research.google.com/assets/colab-badge.svg\" alt=\"Open In Colab\"/></a>"
      ]
    },
    {
      "cell_type": "code",
      "execution_count": null,
      "metadata": {
        "id": "AfXe3YLdvLZs"
      },
      "outputs": [],
      "source": [
        "# 436. What will be the output after the following statements? \n",
        "# x = '' if bool(x): print('Yes') else: print('No’) \n",
        "# a. None b. Yes c. No d. 0 \n",
        "\n",
        "# 정답 : c.No"
      ]
    },
    {
      "cell_type": "code",
      "source": [
        "# 437. What will be the output after the following statements? \n",
        "# x = ' ' if bool(x): print('Yes') else: print('No’) \n",
        "# a. None b. Yes c. No d. 0 \n",
        "\n",
        "# b. Yes"
      ],
      "metadata": {
        "id": "hk2PYGCPvg1O"
      },
      "execution_count": null,
      "outputs": []
    },
    {
      "cell_type": "code",
      "source": [
        "# 438. What will be the output after the following statements? \n",
        "# x = [] if bool(x): print('Yes') else: print('No’) \n",
        "# a. No b. Yes c. None d. 0 \n",
        "\n",
        "# a. No"
      ],
      "metadata": {
        "id": "M8EZFxFexPSU"
      },
      "execution_count": null,
      "outputs": []
    },
    {
      "cell_type": "code",
      "source": [
        "# 439. What will be the output after the following statements? \n",
        "# x = [1, 2, 3] if bool(x): print('Yes') else: print('No’) \n",
        "# a. No b. Yes c. None d. 0\n",
        "\n",
        "# b. Yes"
      ],
      "metadata": {
        "id": "i8jNRNhgxT_W"
      },
      "execution_count": null,
      "outputs": []
    },
    {
      "cell_type": "code",
      "source": [
        "# 440. What will be the output after the following statements? \n",
        "# x = '' if not bool(x): print('Yes') else: print('No’) \n",
        "# a. Yes b. No c. None d. 0\n",
        "\n",
        "# a. Yes "
      ],
      "metadata": {
        "id": "2ii0vRsYxdrW"
      },
      "execution_count": null,
      "outputs": []
    },
    {
      "cell_type": "code",
      "source": [
        "# 441. What will be the output after the following statements? \n",
        "# x = 'print(\"Python\")' eval(x) \n",
        "# a. x b. print(\"Python\") c. Python d. 0\n",
        "\n",
        "# c. Python"
      ],
      "metadata": {
        "id": "GEeRQl-gxvD2"
      },
      "execution_count": null,
      "outputs": []
    },
    {
      "cell_type": "code",
      "source": [
        "# 442. What will be the output after the following statements if input entered is 45*2? \n",
        "# x = input(\"Enter an expression: \") print(eval(x)) \n",
        "# a. 45*2 b. eval(\"90\") c. 90 d. 0 \n",
        "\n",
        "# c. 90"
      ],
      "metadata": {
        "id": "aOU_GQj0yW0u"
      },
      "execution_count": null,
      "outputs": []
    },
    {
      "cell_type": "code",
      "source": [
        "# 443. What will be the output after the following statements? \n",
        "# x = '''print(\"Python 3\", end='') print(\" is Good\")''' exec(x) \n",
        "# a. Python 3is Good b. Python 3 is Good c. Python 3 d. is Good \n",
        "\n",
        "# a. Python 3is Good  \n",
        "## x의 print 와 print 사이 , 가 빠져있음."
      ],
      "metadata": {
        "id": "OsIg9FOCytjL"
      },
      "execution_count": null,
      "outputs": []
    },
    {
      "cell_type": "code",
      "source": [
        "# 444. What will be the output after the following statements? \n",
        "# a = ['a', 'b', 'c', 'A', 'B'] print(max(a)) \n",
        "# a. a b. A c. b d. c\n",
        "\n",
        "# 정답 d. c"
      ],
      "metadata": {
        "id": "_uRm3ayZzexH"
      },
      "execution_count": null,
      "outputs": []
    },
    {
      "cell_type": "code",
      "source": [
        "# 445. What will be the output after the following statements? \n",
        "# a = ['a', 'b', 'c', 'A', 'B'] print(min(a)) \n",
        "# a. a b. A c. b d. c\n",
        "\n",
        "# a. A"
      ],
      "metadata": {
        "id": "k45x1Edv3eBo"
      },
      "execution_count": null,
      "outputs": []
    },
    {
      "cell_type": "code",
      "source": [
        "# 446. What will be the output after the following statements? \n",
        "# a = ['a', 'b', 'c', '1', '2', 'A', 'B'] print(max(a)) \n",
        "# a. a b. A c. 1 d. c\n",
        "\n",
        "# 정답 d. c"
      ],
      "metadata": {
        "id": "geNMBS2X4Qte"
      },
      "execution_count": null,
      "outputs": []
    },
    {
      "cell_type": "code",
      "source": [
        "# 447. What will be the output after the following statements? \n",
        "# a = ['a', 'b', 'c', '1', '2', 'A', 'B'] print(min(a))\n",
        "# a. a b. A c. 1 d. c\n",
        "\n",
        "# 정답 : c. 1"
      ],
      "metadata": {
        "colab": {
          "base_uri": "https://localhost:8080/"
        },
        "id": "JL7S4uDq7ZIT",
        "outputId": "27103285-dd8e-43f7-b3ef-ecb84a55b105"
      },
      "execution_count": null,
      "outputs": [
        {
          "output_type": "stream",
          "name": "stdout",
          "text": [
            "1\n"
          ]
        }
      ]
    },
    {
      "cell_type": "code",
      "source": [
        "# 448. What will be the output after the following statements? \n",
        "# a = [1, 2, 3] print(sum(a)) \n",
        "# a. 3 b. 2 c. 1 d. 6 \n",
        "\n",
        "# 정답 : d. 6 "
      ],
      "metadata": {
        "id": "E3_QqgHvdHd2"
      },
      "execution_count": null,
      "outputs": []
    },
    {
      "cell_type": "code",
      "source": [
        "# 449. What will be the output after the following statements? \n",
        "# a = list(range(0,10,3)) print(sum(a)) \n",
        "# a. 10 b. 100 c. 18 d. 30 \n",
        "\n",
        "# 정답 : c. 18"
      ],
      "metadata": {
        "id": "7bCiryCWdTIY"
      },
      "execution_count": null,
      "outputs": []
    },
    {
      "cell_type": "code",
      "source": [
        "# 450. What will be the output after the following statements? \n",
        "# a = list(range(10,-10,3)) print(sum(a)) \n",
        "# a. 10 b. 0 c. 18 d. 90\n",
        "\n",
        "# 정답 : b. 0"
      ],
      "metadata": {
        "id": "wqFWPkMadfSy"
      },
      "execution_count": null,
      "outputs": []
    },
    {
      "cell_type": "code",
      "source": [
        "# 451. What will be the output after the following statements? \n",
        "# a = list(range(-10,5,2)) print(sum(a)) \n",
        "# a. -24 b. 0 c. 24 d. 20\n",
        "\n",
        "# 정답 : a. -24"
      ],
      "metadata": {
        "id": "YVsx_ZXUdnzL"
      },
      "execution_count": null,
      "outputs": []
    },
    {
      "cell_type": "code",
      "source": [
        "# 452. What will be the output after the following statements? \n",
        "# x = [5, 4, 3, 2, 1] y = x.copy() x[0] = 6 print(y) \n",
        "# a. [6, 4, 3, 2, 1] b. 6 c. [5, 4, 3, 2, 1] d. 5 \n",
        "\n",
        "# 정답 : c. [5, 4, 3, 2, 1]"
      ],
      "metadata": {
        "id": "gbTnwFnddykm"
      },
      "execution_count": null,
      "outputs": []
    },
    {
      "cell_type": "code",
      "source": [
        "# 453. What will be the output after the following statements? \n",
        "# import copy \n",
        "# x = [5, 4, 3, 2, 1] y = copy.copy(x) x.append(6) print(y[0]) \n",
        "# a. [6, 4, 3, 2, 1] b. 6 c. [5, 4, 3, 2, 1] d. 5\n",
        "\n",
        "# 정답 : d. 5"
      ],
      "metadata": {
        "id": "gRC87pc9ee9p"
      },
      "execution_count": null,
      "outputs": []
    },
    {
      "cell_type": "code",
      "source": [
        "# 454. What will be the output after the following statements? \n",
        "# import keyword print(keyword.iskeyword('IS')) \n",
        "# a. True b. keyword c. for d. False\n",
        "\n",
        "# 정답 : d. False"
      ],
      "metadata": {
        "colab": {
          "base_uri": "https://localhost:8080/"
        },
        "id": "5gD2YKsheuGo",
        "outputId": "924d43a5-2528-4ab7-f4b4-61196a2e6a02"
      },
      "execution_count": null,
      "outputs": [
        {
          "output_type": "stream",
          "name": "stdout",
          "text": [
            "True\n"
          ]
        }
      ]
    },
    {
      "cell_type": "code",
      "source": [
        "# 455. What will be the output after the following statements? \n",
        "# import keyword print(keyword.iskeyword('for'))\n",
        "# a. True b. keyword c. for d. False\n",
        "\n",
        "# 정답 : a. True "
      ],
      "metadata": {
        "id": "O9P6N_Hdexv0"
      },
      "execution_count": null,
      "outputs": []
    },
    {
      "cell_type": "code",
      "source": [
        "# 1부터 10,000까지 8이라는 숫자가 총 몇 번 나오는가?\n",
        "# 8이 포함되어 있는 숫자의 갯수를 카운팅 하는 것이 아니라 8이라는 숫자를 모두 카운팅 해야\n",
        "# 한다.\n",
        "\n",
        "# count = 0                           # 8 에 대한 카운팅\n",
        "# check = str([c for c in range(10)]) # 0~9 까지 자릿수에 상관없이 8의 존재를 재검사용\n",
        "# check2 = str([8])                   # 각 자릿수의 8의 존재를 확인하기 위한 용도\n",
        "# for i in range(1,10001) :           # 1~10000 까지 각 숫자를 생성하기 위한 용도\n",
        "#   a = str(i)                        # int i 를 str으로 사용하기 위한 용도\n",
        "#   if a[0] in check :                # 8의 존재여부를 확인하기 위해 모든 자릿수를 걸러내기 위한 check\n",
        "#     # print(f\"걸림확인 : {a}\")      # 정상기동여부를 확인\n",
        "#     if int(a) < 10 :                # 1자릿수 값들중 8이 존재하는지 확인\n",
        "#       if a[0] in check2:            # 1자릿수 1의 자리에 8의 존재여부 확인\n",
        "#           count +=1                 # 8의 존재시 count +1\n",
        "#     elif 10 <= int(a) < 100 :       # 2자릿수 값들중 8이 존재하는지 확인\n",
        "#       for j in range(1) :           # 2자릿수 확인을 위한 index 번호 반복\n",
        "#         if a[j] in check2:          # 각 자릿수에 8의 존재여부 확인\n",
        "#           count +=1                 # 각 자릿수에 8의 존재 count +1\n",
        "#     elif 100 <= int(a) < 1000 :     # 3자릿수 값들중 8이 존재하는지 확인\n",
        "#       for j in range(2) :           # 3자릿수 확인을 위한 index 번호 반복\n",
        "#         if a[j] in check2:          # 각 자릿수에 8의 존재여부 확인\n",
        "#           count +=1                 # 각 자릿수에 8의 존재 count +1\n",
        "#     elif 1000 <= int(a) < 10001 :   # 4자릿수 값들중 8이 존재하는지 확인\n",
        "#       for j in range(3) :           # 4자릿수 확인을 위한 index 번호 반복\n",
        "#         if a[j] in check2:          # 각 자릿수에 8의 존재여부 확인\n",
        "#           count +=1                 # 각 자릿수에 8의 존재 count +1\n",
        "# print(count)                        # 총 카운팅 숫자 출력\n",
        "\n",
        "# # 오류가 있음을 확인. 재작업. + 단순화(count 함수의 사용)\n",
        "# a = 0\n",
        "# for i in range(1,10001):\n",
        "#     a += str(i).count(\"8\")\n",
        "# print(s)"
      ],
      "metadata": {
        "id": "Xgw7AxHBg3eD"
      },
      "execution_count": null,
      "outputs": []
    }
  ]
}