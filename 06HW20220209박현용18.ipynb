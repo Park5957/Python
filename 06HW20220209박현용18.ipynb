{
  "nbformat": 4,
  "nbformat_minor": 0,
  "metadata": {
    "colab": {
      "name": "06HW20220209박현용18.ipynb",
      "provenance": [],
      "collapsed_sections": [],
      "authorship_tag": "ABX9TyOJPO2ocES3keVYMoayKYdp",
      "include_colab_link": true
    },
    "kernelspec": {
      "name": "python3",
      "display_name": "Python 3"
    },
    "language_info": {
      "name": "python"
    }
  },
  "cells": [
    {
      "cell_type": "markdown",
      "metadata": {
        "id": "view-in-github",
        "colab_type": "text"
      },
      "source": [
        "<a href=\"https://colab.research.google.com/github/Park5957/ai/blob/main/06HW20220209%EB%B0%95%ED%98%84%EC%9A%A918.ipynb\" target=\"_parent\"><img src=\"https://colab.research.google.com/assets/colab-badge.svg\" alt=\"Open In Colab\"/></a>"
      ]
    },
    {
      "cell_type": "code",
      "execution_count": null,
      "metadata": {
        "id": "AfXe3YLdvLZs"
      },
      "outputs": [],
      "source": [
        "# 436. What will be the output after the following statements? \n",
        "# x = '' if bool(x): print('Yes') else: print('No’) \n",
        "# a. None b. Yes c. No d. 0 \n",
        "\n",
        "# 정답 : c.No"
      ]
    },
    {
      "cell_type": "code",
      "source": [
        "# 437. What will be the output after the following statements? \n",
        "# x = ' ' if bool(x): print('Yes') else: print('No’) \n",
        "# a. None b. Yes c. No d. 0 \n",
        "\n",
        "# b. Yes"
      ],
      "metadata": {
        "id": "hk2PYGCPvg1O"
      },
      "execution_count": null,
      "outputs": []
    },
    {
      "cell_type": "code",
      "source": [
        "# 438. What will be the output after the following statements? \n",
        "# x = [] if bool(x): print('Yes') else: print('No’) \n",
        "# a. No b. Yes c. None d. 0 \n",
        "\n",
        "# a. No"
      ],
      "metadata": {
        "id": "M8EZFxFexPSU"
      },
      "execution_count": null,
      "outputs": []
    },
    {
      "cell_type": "code",
      "source": [
        "# 439. What will be the output after the following statements? \n",
        "# x = [1, 2, 3] if bool(x): print('Yes') else: print('No’) \n",
        "# a. No b. Yes c. None d. 0\n",
        "\n",
        "# b. Yes"
      ],
      "metadata": {
        "id": "i8jNRNhgxT_W"
      },
      "execution_count": null,
      "outputs": []
    },
    {
      "cell_type": "code",
      "source": [
        "# 440. What will be the output after the following statements? \n",
        "# x = '' if not bool(x): print('Yes') else: print('No’) \n",
        "# a. Yes b. No c. None d. 0\n",
        "\n",
        "# a. Yes "
      ],
      "metadata": {
        "id": "2ii0vRsYxdrW"
      },
      "execution_count": null,
      "outputs": []
    },
    {
      "cell_type": "code",
      "source": [
        "# 441. What will be the output after the following statements? \n",
        "# x = 'print(\"Python\")' eval(x) \n",
        "# a. x b. print(\"Python\") c. Python d. 0\n",
        "\n",
        "# c. Python"
      ],
      "metadata": {
        "id": "GEeRQl-gxvD2"
      },
      "execution_count": null,
      "outputs": []
    },
    {
      "cell_type": "code",
      "source": [
        "# 442. What will be the output after the following statements if input entered is 45*2? \n",
        "# x = input(\"Enter an expression: \") print(eval(x)) \n",
        "# a. 45*2 b. eval(\"90\") c. 90 d. 0 \n",
        "\n",
        "# c. 90"
      ],
      "metadata": {
        "id": "aOU_GQj0yW0u"
      },
      "execution_count": null,
      "outputs": []
    },
    {
      "cell_type": "code",
      "source": [
        "# 443. What will be the output after the following statements? \n",
        "# x = '''print(\"Python 3\", end='') print(\" is Good\")''' exec(x) \n",
        "# a. Python 3is Good b. Python 3 is Good c. Python 3 d. is Good \n",
        "\n",
        "# a. Python 3is Good  \n",
        "## x의 print 와 print 사이 , 가 빠져있음."
      ],
      "metadata": {
        "id": "OsIg9FOCytjL"
      },
      "execution_count": null,
      "outputs": []
    },
    {
      "cell_type": "code",
      "source": [
        "# 444. What will be the output after the following statements? \n",
        "# a = ['a', 'b', 'c', 'A', 'B'] print(max(a)) \n",
        "# a. a b. A c. b d. c\n",
        "\n",
        "# 정답 d. c"
      ],
      "metadata": {
        "id": "_uRm3ayZzexH"
      },
      "execution_count": null,
      "outputs": []
    },
    {
      "cell_type": "code",
      "source": [
        "# 445. What will be the output after the following statements? \n",
        "# a = ['a', 'b', 'c', 'A', 'B'] print(min(a)) \n",
        "# a. a b. A c. b d. c\n",
        "\n",
        "# a. A"
      ],
      "metadata": {
        "id": "k45x1Edv3eBo"
      },
      "execution_count": null,
      "outputs": []
    },
    {
      "cell_type": "code",
      "source": [
        "# 446. What will be the output after the following statements? \n",
        "# a = ['a', 'b', 'c', '1', '2', 'A', 'B'] print(max(a)) \n",
        "# a. a b. A c. 1 d. c\n",
        "\n",
        "# 정답 d. c"
      ],
      "metadata": {
        "id": "geNMBS2X4Qte"
      },
      "execution_count": null,
      "outputs": []
    },
    {
      "cell_type": "code",
      "source": [
        "# 447. What will be the output after the following statements? \n",
        "# a = ['a', 'b', 'c', '1', '2', 'A', 'B'] print(min(a))\n",
        "# a. a b. A c. 1 d. c\n",
        "\n",
        "# 정답 : c. 1"
      ],
      "metadata": {
        "colab": {
          "base_uri": "https://localhost:8080/"
        },
        "id": "JL7S4uDq7ZIT",
        "outputId": "27103285-dd8e-43f7-b3ef-ecb84a55b105"
      },
      "execution_count": null,
      "outputs": [
        {
          "output_type": "stream",
          "name": "stdout",
          "text": [
            "1\n"
          ]
        }
      ]
    },
    {
      "cell_type": "code",
      "source": [
        "# 448. What will be the output after the following statements? \n",
        "# a = [1, 2, 3] print(sum(a)) \n",
        "# a. 3 b. 2 c. 1 d. 6 \n",
        "\n",
        "# 정답 : d. 6 "
      ],
      "metadata": {
        "id": "E3_QqgHvdHd2"
      },
      "execution_count": null,
      "outputs": []
    },
    {
      "cell_type": "code",
      "source": [
        "# 449. What will be the output after the following statements? \n",
        "# a = list(range(0,10,3)) print(sum(a)) \n",
        "# a. 10 b. 100 c. 18 d. 30 \n",
        "\n",
        "# 정답 : c. 18"
      ],
      "metadata": {
        "id": "7bCiryCWdTIY"
      },
      "execution_count": null,
      "outputs": []
    },
    {
      "cell_type": "code",
      "source": [
        "# 450. What will be the output after the following statements? \n",
        "# a = list(range(10,-10,3)) print(sum(a)) \n",
        "# a. 10 b. 0 c. 18 d. 90\n",
        "\n",
        "# 정답 : b. 0"
      ],
      "metadata": {
        "id": "wqFWPkMadfSy"
      },
      "execution_count": null,
      "outputs": []
    },
    {
      "cell_type": "code",
      "source": [
        "# 451. What will be the output after the following statements? \n",
        "# a = list(range(-10,5,2)) print(sum(a)) \n",
        "# a. -24 b. 0 c. 24 d. 20\n",
        "\n",
        "# 정답 : a. -24"
      ],
      "metadata": {
        "id": "YVsx_ZXUdnzL"
      },
      "execution_count": null,
      "outputs": []
    },
    {
      "cell_type": "code",
      "source": [
        "# 452. What will be the output after the following statements? \n",
        "# x = [5, 4, 3, 2, 1] y = x.copy() x[0] = 6 print(y) \n",
        "# a. [6, 4, 3, 2, 1] b. 6 c. [5, 4, 3, 2, 1] d. 5 \n",
        "\n",
        "# 정답 : c. [5, 4, 3, 2, 1]"
      ],
      "metadata": {
        "id": "gbTnwFnddykm"
      },
      "execution_count": null,
      "outputs": []
    },
    {
      "cell_type": "code",
      "source": [
        "# 453. What will be the output after the following statements? \n",
        "# import copy \n",
        "# x = [5, 4, 3, 2, 1] y = copy.copy(x) x.append(6) print(y[0]) \n",
        "# a. [6, 4, 3, 2, 1] b. 6 c. [5, 4, 3, 2, 1] d. 5\n",
        "\n",
        "# 정답 : d. 5"
      ],
      "metadata": {
        "id": "gRC87pc9ee9p"
      },
      "execution_count": null,
      "outputs": []
    },
    {
      "cell_type": "code",
      "source": [
        "# 454. What will be the output after the following statements? \n",
        "# import keyword print(keyword.iskeyword('IS')) \n",
        "# a. True b. keyword c. for d. False\n",
        "\n",
        "# 정답 : d. False"
      ],
      "metadata": {
        "colab": {
          "base_uri": "https://localhost:8080/"
        },
        "id": "5gD2YKsheuGo",
        "outputId": "924d43a5-2528-4ab7-f4b4-61196a2e6a02"
      },
      "execution_count": null,
      "outputs": [
        {
          "output_type": "stream",
          "name": "stdout",
          "text": [
            "True\n"
          ]
        }
      ]
    },
    {
      "cell_type": "code",
      "source": [
        "# 455. What will be the output after the following statements? \n",
        "# import keyword print(keyword.iskeyword('for'))\n",
        "# a. True b. keyword c. for d. False\n",
        "\n",
        "# 정답 : a. True "
      ],
      "metadata": {
        "id": "O9P6N_Hdexv0"
      },
      "execution_count": null,
      "outputs": []
    },
    {
      "cell_type": "markdown",
      "source": [
        "![과제1.png](data:image/png;base64,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)"
      ],
      "metadata": {
        "id": "AQbJBImZ9pLZ"
      }
    },
    {
      "cell_type": "code",
      "source": [
        "# 1부터 10,000까지 8이라는 숫자가 총 몇 번 나오는가?\n",
        "# 8이 포함되어 있는 숫자의 갯수를 카운팅 하는 것이 아니라 8이라는 숫자를 모두 카운팅 해야\n",
        "# 한다.\n",
        "\n",
        "# count = 0                           # 8 에 대한 카운팅\n",
        "# check = str([c for c in range(10)]) # 0~9 까지 자릿수에 상관없이 8의 존재를 재검사용\n",
        "# check2 = str([8])                   # 각 자릿수의 8의 존재를 확인하기 위한 용도\n",
        "# for i in range(1,10001) :           # 1~10000 까지 각 숫자를 생성하기 위한 용도\n",
        "#   a = str(i)                        # int i 를 str으로 사용하기 위한 용도\n",
        "#   if a[0] in check :                # 8의 존재여부를 확인하기 위해 모든 자릿수를 걸러내기 위한 check\n",
        "#     # print(f\"걸림확인 : {a}\")      # 정상기동여부를 확인\n",
        "#     if int(a) < 10 :                # 1자릿수 값들중 8이 존재하는지 확인\n",
        "#       if a[0] in check2:            # 1자릿수 1의 자리에 8의 존재여부 확인\n",
        "#           count +=1                 # 8의 존재시 count +1\n",
        "#     elif 10 <= int(a) < 100 :       # 2자릿수 값들중 8이 존재하는지 확인\n",
        "#       for j in range(1) :           # 2자릿수 확인을 위한 index 번호 반복\n",
        "#         if a[j] in check2:          # 각 자릿수에 8의 존재여부 확인\n",
        "#           count +=1                 # 각 자릿수에 8의 존재 count +1\n",
        "#     elif 100 <= int(a) < 1000 :     # 3자릿수 값들중 8이 존재하는지 확인\n",
        "#       for j in range(2) :           # 3자릿수 확인을 위한 index 번호 반복\n",
        "#         if a[j] in check2:          # 각 자릿수에 8의 존재여부 확인\n",
        "#           count +=1                 # 각 자릿수에 8의 존재 count +1\n",
        "#     elif 1000 <= int(a) < 10001 :   # 4자릿수 값들중 8이 존재하는지 확인\n",
        "#       for j in range(3) :           # 4자릿수 확인을 위한 index 번호 반복\n",
        "#         if a[j] in check2:          # 각 자릿수에 8의 존재여부 확인\n",
        "#           count +=1                 # 각 자릿수에 8의 존재 count +1\n",
        "# print(count)                        # 총 카운팅 숫자 출력\n",
        "\n",
        "# # 오류가 있음을 확인. 재작업. + 단순화(count 함수의 사용)\n",
        "# a = 0\n",
        "# for i in range(1,10001):\n",
        "#     a += str(i).count(\"8\")\n",
        "# print(s)"
      ],
      "metadata": {
        "id": "Xgw7AxHBg3eD"
      },
      "execution_count": 11,
      "outputs": []
    },
    {
      "cell_type": "code",
      "source": [
        ""
      ],
      "metadata": {
        "colab": {
          "base_uri": "https://localhost:8080/"
        },
        "id": "vbbpVYQxHhh7",
        "outputId": "8bbb3abc-a86e-4112-f280-8cfa726f99e4"
      },
      "execution_count": 10,
      "outputs": [
        {
          "output_type": "stream",
          "name": "stdout",
          "text": [
            "4000\n"
          ]
        }
      ]
    }
  ]
}