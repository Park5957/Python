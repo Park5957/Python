{
  "nbformat": 4,
  "nbformat_minor": 0,
  "metadata": {
    "colab": {
      "name": "07HW20220210박현용18.ipynb",
      "provenance": [],
      "collapsed_sections": [],
      "authorship_tag": "ABX9TyOlOgbTzrH9f0OyijHmh+f5",
      "include_colab_link": true
    },
    "kernelspec": {
      "name": "python3",
      "display_name": "Python 3"
    },
    "language_info": {
      "name": "python"
    }
  },
  "cells": [
    {
      "cell_type": "markdown",
      "metadata": {
        "id": "view-in-github",
        "colab_type": "text"
      },
      "source": [
        "<a href=\"https://colab.research.google.com/github/Park5957/ai/blob/main/07HW20220210%EB%B0%95%ED%98%84%EC%9A%A918.ipynb\" target=\"_parent\"><img src=\"https://colab.research.google.com/assets/colab-badge.svg\" alt=\"Open In Colab\"/></a>"
      ]
    },
    {
      "cell_type": "code",
      "execution_count": null,
      "metadata": {
        "id": "7isXXBnKqNyH"
      },
      "outputs": [],
      "source": [
        "# 456. What will be the output after the following statements? \n",
        "# import keyword\n",
        "# print(keyword.iskeyword('Python'))\n",
        "# a. True b. keyword c. for d. False\n",
        "# 정답 : d. False"
      ]
    },
    {
      "cell_type": "code",
      "source": [
        "# 457. What will be the output after the following statements?\n",
        "# import random x = [3, 8, 6, 5, 0] print(random.choice(x))\n",
        "# a. A random element from the list x b. The list x\n",
        "# c. A random element from the list x, excluding 3 and 0 d. A random element from the list elements 3 and 0\n",
        "\n",
        "# 정답 :  d. A random element from the list elements 3 and 0"
      ],
      "metadata": {
        "id": "nyzuVzyBqqY8"
      },
      "execution_count": null,
      "outputs": []
    },
    {
      "cell_type": "code",
      "source": [
        "# 458. What will be the output after the following statements?\n",
        "# import random x = [3, 8, 6, 5, 0] random.shuffle(x) print(x) \n",
        "# a. A random element from the list x b. The shuffled list x with the elements mixed up \n",
        "# c. A random element from the list x, excluding 3 and 0 d. A random element from the list elements 3 and 0\n",
        "\n",
        "# 정답 : a. A random element from the list x"
      ],
      "metadata": {
        "id": "19TJJrfUqq8y"
      },
      "execution_count": null,
      "outputs": []
    },
    {
      "cell_type": "code",
      "source": [
        "# 459. What will be the output after the following statements? \n",
        "# import random x = [3, 8, 6, 5, 0] y = random.shuffle(x) print(y)\n",
        "# a. A random element from the list x b. The shuffled list x with the elements mixed up\n",
        "# c. None d. A random element from the list x, excluding 3 and 0\n",
        "\n",
        "# 정답 : c. None"
      ],
      "metadata": {
        "id": "EZ0gij1PqrKn"
      },
      "execution_count": 7,
      "outputs": []
    },
    {
      "cell_type": "code",
      "source": [
        "# 460. What will be the output after the following statements? \n",
        "# import sys x = sys.stdout.write('Python Jobs') \n",
        "# a. A random character from the string 'Python Jobs' b. Python Jobs c. None d. PJ\n",
        "\n",
        "# 정답 : b. Python Jobs"
      ],
      "metadata": {
        "id": "-u_U5sTGqrhK"
      },
      "execution_count": 8,
      "outputs": []
    },
    {
      "cell_type": "code",
      "source": [
        "# 461. What will be the output after the following statements? \n",
        "# import time print(time.time()) \n",
        "# a. Current time in seconds since the Epoch at 00:00:00 GMT on January 1, 1970\n",
        "# b. Today's time in hours c. None d. Today's time in minutes \n",
        "\n",
        "# 정답 : Current time in seconds since the Epoch at 00:00:00 GMT on January 1, 1970"
      ],
      "metadata": {
        "id": "BZ3DsnLlszML"
      },
      "execution_count": 11,
      "outputs": []
    },
    {
      "cell_type": "code",
      "source": [
        "# 462. What will be the data type of the output after the following statements? \n",
        "# import time print(time.time()) \n",
        "# a. String b. Integer c. List d. Float \n",
        "\n",
        "# 정답 : d. Float "
      ],
      "metadata": {
        "id": "XN8Y1Ui9s3_M"
      },
      "execution_count": 14,
      "outputs": []
    },
    {
      "cell_type": "code",
      "source": [
        "# 463. What will be the data type of the output after the following statements? \n",
        "# import time print(time.asctime()) \n",
        "# a. String b. Integer c. List d. Float \n",
        "\n",
        "# 정답 : a. String "
      ],
      "metadata": {
        "id": "0CgwpprAs4Vj"
      },
      "execution_count": null,
      "outputs": []
    },
    {
      "cell_type": "code",
      "source": [
        "# 464. What will be the output after the following statements? \n",
        "# import time print(time.asctime()) \n",
        "# a. Current time in seconds since the Epoch at 00:00:00 GMT on January 1, 1970 \n",
        "# b. Current date and time c. None d. Today's time in minutes\n",
        "\n",
        "# 정답 : b. Current date and time"
      ],
      "metadata": {
        "id": "9FffpB-Bs4-J"
      },
      "execution_count": null,
      "outputs": []
    },
    {
      "cell_type": "code",
      "source": [
        "# 465. What will be the output after the following statements? \n",
        "# import time y = (2016, 2, 10, 12, 45, 32, 5, 0, 0) print(time.asctime(y)) \n",
        "# a. Current time in seconds since the Epoch at 00:00:00 GMT on January 1, 1970 \n",
        "# b. Current date and time c. Sat Feb 10 12:45:32 2016 d. No output\n",
        "\n",
        "# 답 : c. Sat Feb 10 12:45:32 2016"
      ],
      "metadata": {
        "id": "HaCP3DUWs5Wn"
      },
      "execution_count": 18,
      "outputs": []
    },
    {
      "cell_type": "code",
      "source": [
        "# 466. What is likely to be the output after the following statements? \n",
        "# import time y = time.asctime() print(y[:3]) \n",
        "# a. 2016 b. 3:40 c. Mon d. 04\n",
        "\n",
        "# 정답 : c. Mon"
      ],
      "metadata": {
        "id": "efZ6eqd0uksC"
      },
      "execution_count": 22,
      "outputs": []
    },
    {
      "cell_type": "code",
      "source": [
        "# 467. What will be the output after the following statements? \n",
        "# import random print(int(random.random()*10)) \n",
        "# a. 10 b. A random integer number within the range of 0 to 9 \n",
        "# c. None d. A random floating point number within the range of 0 to 9 \n",
        "\n",
        "# 정답 : A random integer number within the range of 0 to 9 "
      ],
      "metadata": {
        "id": "DBvVlltwumkr"
      },
      "execution_count": null,
      "outputs": []
    },
    {
      "cell_type": "code",
      "source": [
        "# 468. What will be the output after the following statements? \n",
        "# import random print(int(random.random()*10) + 1) \n",
        "# a. 11 b. A random integer number within the range of 0 to 11 \n",
        "# c. None d. A random whole number within the range of 1 to 10\n",
        "\n",
        "# 정답 A random integer number within the range of 0 to 11 "
      ],
      "metadata": {
        "id": "BlESMoArum1L"
      },
      "execution_count": null,
      "outputs": []
    },
    {
      "cell_type": "code",
      "source": [
        "# 469. What will be the output after the following statements? \n",
        "# import random print(random.sample(range(20), 5)) \n",
        "# a. A list of 5 unique numbers within the range of 0 to 19 b. A list of 5 unique numbers within the range of 0 to 20 \n",
        "# c. A list of 4 unique numbers within the range of 0 to 19 d. A tuple of 5 unique numbers within the range of 0 to 19\n",
        "\n",
        "# 정답 : a. A list of 5 unique numbers within the range of 0 to 19"
      ],
      "metadata": {
        "id": "4IughxxDunG8"
      },
      "execution_count": null,
      "outputs": []
    },
    {
      "cell_type": "code",
      "source": [
        "# 470. What will be the output after the following statements? \n",
        "# import random print(random.sample(range(5, 20), 4)) \n",
        "# a. A list of 5 unique numbers within the range of 4 to 19 b. A list of 5 unique numbers within the range of 5 to 20 \n",
        "# c. A list of 4 unique numbers within the range of 5 to 19 d. A tuple of 4 unique numbers within the range of 5 to 19\n",
        "\n",
        "# A list of 5 unique numbers within the range of 5 to 20 "
      ],
      "metadata": {
        "id": "LSJ38CelunV_"
      },
      "execution_count": null,
      "outputs": []
    },
    {
      "cell_type": "code",
      "source": [
        "# 471. What will be the output after the following statement? \n",
        "# print(a) \n",
        "# a. SyntaxError b. TypeError c. ValueError d. NameError\n",
        "\n",
        "# 정답 : d. NameError"
      ],
      "metadata": {
        "id": "agh6zujixiQB"
      },
      "execution_count": null,
      "outputs": []
    },
    {
      "cell_type": "code",
      "source": [
        "# 472. What will be the output after the following statement? \n",
        "# a = \"Python Practice’ \n",
        "# a. SyntaxError b. TypeError c. ValueError d. NameError\n",
        "\n",
        "# 정답 : a. SyntaxError"
      ],
      "metadata": {
        "id": "96KLRJfyxiFJ"
      },
      "execution_count": 115,
      "outputs": []
    },
    {
      "cell_type": "code",
      "source": [
        "# 473. What will be the output after the following statement? \n",
        "# a = true\n",
        "# a. No Error b. TypeError c. ValueError d. NameError\n",
        "\n",
        "# 정답 = d. NameError"
      ],
      "metadata": {
        "id": "piTdGqAPxh5l"
      },
      "execution_count": 117,
      "outputs": []
    },
    {
      "cell_type": "code",
      "source": [
        "# 474. What is the value of the NoneType data type? \n",
        "# a. undefined b. Null c. Nan d. None \n",
        "\n",
        "# 정답 : b. Null"
      ],
      "metadata": {
        "id": "SNxJ8v4fxjRI"
      },
      "execution_count": null,
      "outputs": []
    },
    {
      "cell_type": "code",
      "source": [
        "# 475. What will be the output after the following statements? \n",
        "# def xyz(): a = 56 xyz() print(a) \n",
        "# a. NameError b. 56 c. a = 56 d. xyz\n",
        "\n",
        "# 정답 : a. NameError"
      ],
      "metadata": {
        "id": "ZqSksm31xjky"
      },
      "execution_count": 7,
      "outputs": []
    },
    {
      "cell_type": "code",
      "source": [
        "# 피보나치 수열이란, 첫 번째 항의 값이 0이고 두 번째 항의 값이 1일 때, 이후의 항들은 이전의 두 항을 더한 값으로 이루어지는 수열을 말한다.\n",
        "# 인풋을 정수 n으로 받았을때, n 이하까지의 피보나치 수열을 출력하는 프로그램을 작성하세요\n",
        "# n = int(input(\"num? : \"))\n",
        "# num? : 13\n",
        "# 0, 1, 1, 2, 3, 5, 8, 13\n",
        "\n",
        "n = int(input(\"num? : \"))         #정수 입력\n",
        "c = []                            #수열을 담을 빈 리스트\n",
        "def pib(n):                       #함수기동\n",
        "    a, b = 0, 1                   #최소 수열 0,1을 입력\n",
        "    c.append(a)\n",
        "    c.append(b)\n",
        "    for i in range(n):            #입력 정수 반복문 실행\n",
        "      if a <= n:                  #입력 정수 최대값 까지 실행\n",
        "        a = c[i] + c[i+1]         #입력 번호 왼쪽 1,2번 합계 계산\n",
        "        if a <= n:                #입력 정수 이하 까지만 a 입력\n",
        "          c.append(a)    \n",
        "pib(n)\n",
        "print(c)"
      ],
      "metadata": {
        "colab": {
          "base_uri": "https://localhost:8080/"
        },
        "id": "aT_dcvOMzlA4",
        "outputId": "da39afe7-eaee-4faa-d9d0-5e824b5381c2"
      },
      "execution_count": 26,
      "outputs": [
        {
          "output_type": "stream",
          "name": "stdout",
          "text": [
            "num? : 13\n",
            "[0, 1, 1, 2, 3, 5, 8, 13]\n"
          ]
        }
      ]
    }
  ]
}