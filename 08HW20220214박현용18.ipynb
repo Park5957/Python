{
  "nbformat": 4,
  "nbformat_minor": 0,
  "metadata": {
    "colab": {
      "name": "08HW20220214박현용18.ipynb",
      "provenance": [],
      "collapsed_sections": [],
      "authorship_tag": "ABX9TyNlWbVz1xC0kqrmB6ps0G1z",
      "include_colab_link": true
    },
    "kernelspec": {
      "name": "python3",
      "display_name": "Python 3"
    },
    "language_info": {
      "name": "python"
    }
  },
  "cells": [
    {
      "cell_type": "markdown",
      "metadata": {
        "id": "view-in-github",
        "colab_type": "text"
      },
      "source": [
        "<a href=\"https://colab.research.google.com/github/Park5957/ai/blob/main/08HW20220214%EB%B0%95%ED%98%84%EC%9A%A918.ipynb\" target=\"_parent\"><img src=\"https://colab.research.google.com/assets/colab-badge.svg\" alt=\"Open In Colab\"/></a>"
      ]
    },
    {
      "cell_type": "code",
      "execution_count": null,
      "metadata": {
        "id": "RsyB1Z8lThBR"
      },
      "outputs": [],
      "source": [
        "# 476. What will be the output after the following statements? \n",
        "# def xyz(): x = 40 abc() print(x) def abc(): a = 32 x = 10 xyz() \n",
        "# a. NameError b. 40 c. 10 d. 32 \n",
        "\n",
        "# 정답 : b. 40"
      ]
    },
    {
      "cell_type": "code",
      "source": [
        "# 477. What will be the output after the following statements? \n",
        "# def xyz(): x = 40 def abc(): xyz() a = 32 x = 10 print(x) abc() \n",
        "# a. NameError b. 40 c. 10 d. 32 \n",
        "\n",
        "# 정답 : c. 10"
      ],
      "metadata": {
        "id": "tCXWrDSPUFNF"
      },
      "execution_count": null,
      "outputs": []
    },
    {
      "cell_type": "code",
      "source": [
        "# 478. What will be the output after the following statements? \n",
        "# def abc(): print(x) x = 10 abc() \n",
        "# a. NameError b. x c. 10 d. 0 \n",
        "\n",
        "# 정답 : a. NameError"
      ],
      "metadata": {
        "id": "nzfbYdQRUIAp"
      },
      "execution_count": null,
      "outputs": []
    },
    {
      "cell_type": "code",
      "source": [
        "# 479. What will be the output after the following statements? \n",
        "# def abc(): x = 12 print(x) x = 10 abc() \n",
        "# a. NameError b. 12 c. 10 d. 0 \n",
        "\n",
        "# 정답 : b. 12"
      ],
      "metadata": {
        "id": "7zLro_qwUH6e"
      },
      "execution_count": null,
      "outputs": []
    },
    {
      "cell_type": "code",
      "source": [
        "# 480. What will be the output after the following statements? \n",
        "# def abc(): x = 10 print(x) abc() \n",
        "x = 12 \n",
        "# a. NameError b. 12 c. 10 d. 0\n",
        "\n",
        "# 정답 : c. 10"
      ],
      "metadata": {
        "id": "BYUEZKzjUHz7"
      },
      "execution_count": null,
      "outputs": []
    },
    {
      "cell_type": "code",
      "source": [
        "# 481. What will be the output after the following statements? \n",
        "# def abc(): global x x = 23 x = 10 abc() print(x) \n",
        "# a. NameError b. 23 c. 10 d. 0\n",
        "\n",
        "# 정답 : c. 10"
      ],
      "metadata": {
        "id": "PccSvLPeUHhk"
      },
      "execution_count": null,
      "outputs": []
    },
    {
      "cell_type": "code",
      "source": [
        "# 482. What will be the output after the following statements? \n",
        "# def abc(): print(x) x = 10 abc() x = 20 \n",
        "# a. NameError b. 20 c. 10 d. UnboundLocalError\n",
        "\n",
        "# 정답 : d. UnboundLocalError"
      ],
      "metadata": {
        "id": "tk8WfDhSUNA2"
      },
      "execution_count": null,
      "outputs": []
    },
    {
      "cell_type": "code",
      "source": [
        "# 483. What will be the output after the following statements? \n",
        "# def abc(x): return 20 / x print(abc(4))\n",
        "# a. NameError b. 5 c. 5.0 d. ZeroDivisionError\n",
        "\n",
        "# 정답 : b. 5"
      ],
      "metadata": {
        "id": "4FtepVT2UM-U"
      },
      "execution_count": null,
      "outputs": []
    },
    {
      "cell_type": "code",
      "source": [
        "# 484. What will be the output after the following statements? \n",
        "# def abc(x): return 20 / x print(abc(0)) \n",
        "# a. NameError b. Undefined c. 5.0 d. ZeroDivisionError\n",
        "\n",
        "# 정답 : d. ZeroDivisionError"
      ],
      "metadata": {
        "id": "sYxK2T7rUM7h"
      },
      "execution_count": null,
      "outputs": []
    },
    {
      "cell_type": "code",
      "source": [
        "# 485. What will be the output after the following statements? \n",
        "# def abc(x): try:print(20 / x)   except:print('Not a valid argument', end=' ') print(abc(0)) \n",
        "# a. NameError b. Not a valid argument c. Not a valid argument None d. ZeroDivisionError\n",
        "\n",
        "# 정답 : c. Not a valid argument None"
      ],
      "metadata": {
        "id": "mDanf71tUM3Z"
      },
      "execution_count": null,
      "outputs": []
    },
    {
      "cell_type": "code",
      "source": [
        "# 486. What will be the output after the following statements? \n",
        "# def abc(x): try: print(20 / x) except: print('Not a valid argument', end=' ') finally: print(0, end=' ') print(abc(0)) \n",
        "# a. Not a valid argument 0 None b. Not a valid argument c. Not a valid argument None d. ZeroDivisionError\n",
        "\n",
        "# 정답 : a. Not a valid argument 0 None"
      ],
      "metadata": {
        "id": "jiq-_ac6UMxJ"
      },
      "execution_count": 34,
      "outputs": []
    },
    {
      "cell_type": "code",
      "source": [
        "# 487. What will be the output after the following statements? \n",
        "# x = [1, 2, 3, 4] print(x[4])\n",
        "# a. 4 b. 3 c. [1, 2, 3, 4] d. IndexError\n",
        "\n",
        "# 정답 : d. IndexError"
      ],
      "metadata": {
        "id": "9fRjx1aXUUZ3"
      },
      "execution_count": null,
      "outputs": []
    },
    {
      "cell_type": "code",
      "source": [
        "# 488. What will be the output after the following statements? \n",
        "# x = [10, 20, 30, 40] print(x[20]) \n",
        "# a. 20 b. 30 c. [20] d. IndexError\n",
        "\n",
        "# 정답 : d. IndexError"
      ],
      "metadata": {
        "id": "Y7vxE_c7UUXT"
      },
      "execution_count": null,
      "outputs": []
    },
    {
      "cell_type": "code",
      "source": [
        "# 489. What will be the output after the following statements? \n",
        "# x = [1.0, 2.0, 3.0] print(x[2.0]) \n",
        "# a. 2 b. 3.0 c. TypeError d. IndexError\n",
        "\n",
        "# 정답 d. IndexError"
      ],
      "metadata": {
        "id": "7cTm3h5oUUUd"
      },
      "execution_count": null,
      "outputs": []
    },
    {
      "cell_type": "code",
      "source": [
        "# 490. What will be the output after the following statements? \n",
        "# x = [1.0, 2.0, 3.0] print(x[int(2.0)]) \n",
        "# a. 2 b. 3.0 c. TypeError d. IndexError\n",
        "\n",
        "# 정답 : b. 3.0"
      ],
      "metadata": {
        "colab": {
          "base_uri": "https://localhost:8080/"
        },
        "id": "BiC3JYhHUUO6",
        "outputId": "c3086992-2304-464c-d6d3-c3844374145d"
      },
      "execution_count": 40,
      "outputs": [
        {
          "output_type": "stream",
          "name": "stdout",
          "text": [
            "3.0\n"
          ]
        }
      ]
    },
    {
      "cell_type": "code",
      "source": [
        "# 491. What will be the output after the following statements? \n",
        "# x = ['Today', 'nice', 'day'] print(x[0] + ' is a ' + x[1] + x[2]) \n",
        "# a. Today is a niceday b. Today is a nice day c. Todayis aniceday d. Todayisaniceday\n",
        "\n",
        "# 정답 : a. Today is a niceday"
      ],
      "metadata": {
        "id": "5e_DaQ8mUbZa"
      },
      "execution_count": null,
      "outputs": []
    },
    {
      "cell_type": "code",
      "source": [
        "# 492. What will be the output after the following statements? \n",
        "# x = ['Today', 'Sunday', 'Monday'] print(x[0] + ' was a great day') \n",
        "# a. Today was a great day b. Sunday was a great day c. TypeError d. IndexError\n",
        "\n",
        "# 정답 : a. Today was a great"
      ],
      "metadata": {
        "id": "wF-a_ZX2UbRh"
      },
      "execution_count": null,
      "outputs": []
    },
    {
      "cell_type": "code",
      "source": [
        "# 493. What will be the output after the following statements? \n",
        "# x = ['Today', 'Sunday', 'Monday']; print(x[-1] + ' was a great day')\n",
        "# a. Today was a great day b. Sunday was a great day c. Monday was a great day d. IndexError\n",
        "\n",
        "# 정답 :c. Monday was a great"
      ],
      "metadata": {
        "id": "a-cM4wZiUbLa"
      },
      "execution_count": null,
      "outputs": []
    },
    {
      "cell_type": "code",
      "source": [
        "# 494. What will be the output after the following statements? \n",
        "# x = ['Today', 'Sunday', 'Monday']; print(x[-3] + ' was a great day')\n",
        "# a. Today was a great day b. Sunday was a great day c. Monday was a great day d. IndexError\n",
        "\n",
        "# 정답 : a. Today was a great day"
      ],
      "metadata": {
        "id": "L6nBc812UUJs"
      },
      "execution_count": null,
      "outputs": []
    },
    {
      "cell_type": "code",
      "source": [
        "# 495. What will be the output after the following statements? \n",
        "# x = ['Today', 'Sunday', 'Monday'] x[2] = 'Friday' x[1] = 'Yesterday' print(x[-2] + ' was a great day')\n",
        "# a. Friday was a great day b. Sunday was a great day c. Monday was a great day d. Yesterday was a great day\n",
        "\n",
        "# 정답 :  d. Yesterday was a great day"
      ],
      "metadata": {
        "id": "6k_MgYWgUMmm"
      },
      "execution_count": null,
      "outputs": []
    },
    {
      "cell_type": "code",
      "source": [
        "# Algorithm Homework(#27)\n",
        "# 홀수와 짝수의 개수를 구하는 func 함수를 만드세요.\n",
        "# [3, 4, 5, 6, 7] = 홀수 3개, 짝수 2개\n",
        "# [12, 16, 22, 24, 29] = 홀수 1개, 짝수 4개\n",
        "# [41, 43, 45, 47, 49] = 홀수 5개, 짝수 0개\n",
        "# 홀수 : 2로 나누어 떨어지지 않는 정수\n",
        "# 짝수 : 2로 나누어 떨어지는 정수\n",
        "\n",
        "def func(a) :\n",
        "  countodd = 0\n",
        "  countevenh = 0\n",
        "  for i in a :\n",
        "    if i%2 == 0 :\n",
        "      countevenh = countevenh + 1\n",
        "    elif i%2 != 0 :\n",
        "      countodd = countodd + 1\n",
        "  \n",
        "  print(f\"홀수의 갯수는 {countodd}\")\n",
        "  print(f\"짝수의 갯수는 {countevenh}\")\n",
        "\n",
        "func([3, 4, 5, 6, 7])\n",
        "func([12, 16, 22, 24, 29])\n",
        "func([41, 43, 45, 47, 49])"
      ],
      "metadata": {
        "colab": {
          "base_uri": "https://localhost:8080/"
        },
        "id": "ZzEIG5ZjUpZ1",
        "outputId": "2a44c176-73f5-4c47-85b2-f8195a686260"
      },
      "execution_count": 53,
      "outputs": [
        {
          "output_type": "stream",
          "name": "stdout",
          "text": [
            "홀수의 갯수는 3\n",
            "짝수의 갯수는 2\n",
            "홀수의 갯수는 1\n",
            "짝수의 갯수는 4\n",
            "홀수의 갯수는 5\n",
            "짝수의 갯수는 0\n"
          ]
        }
      ]
    }
  ]
}