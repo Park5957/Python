{
  "nbformat": 4,
  "nbformat_minor": 0,
  "metadata": {
    "colab": {
      "name": "09HW20220215박현용18.ipynb",
      "provenance": [],
      "collapsed_sections": [],
      "authorship_tag": "ABX9TyMQm+uHhSpgPqnB16qzjsV9",
      "include_colab_link": true
    },
    "kernelspec": {
      "name": "python3",
      "display_name": "Python 3"
    },
    "language_info": {
      "name": "python"
    }
  },
  "cells": [
    {
      "cell_type": "markdown",
      "metadata": {
        "id": "view-in-github",
        "colab_type": "text"
      },
      "source": [
        "<a href=\"https://colab.research.google.com/github/Park5957/ai/blob/main/09HW20220215%EB%B0%95%ED%98%84%EC%9A%A918.ipynb\" target=\"_parent\"><img src=\"https://colab.research.google.com/assets/colab-badge.svg\" alt=\"Open In Colab\"/></a>"
      ]
    },
    {
      "cell_type": "code",
      "execution_count": 3,
      "metadata": {
        "id": "nI1jGS-FpyL7"
      },
      "outputs": [],
      "source": [
        "# 496. What will be the output after the following statements? \n",
        "# x = ['Today', 'Sunday', 'Monday'] y = [4, 6, 8] print(y + x) \n",
        "# a. ['Today', 'Sunday', 'Monday', 4, 6, 8] b. [4, 6, 8, 'Today', 'Sunday', 'Monday’] \n",
        "# c. ['Today', 'Sunday', 'Monday'] d. [4, 6, 8]\n",
        "\n",
        "# 정답 : b. [4, 6, 8, 'Today', 'Sunday', 'Monday’] "
      ]
    },
    {
      "cell_type": "code",
      "source": [
        "# 497. What will be the output after the following statements? \n",
        "# x = 'Monday' print('Mon' in x) \n",
        "# a. 'Mon' in x b. 'Monday' in x c. True d. False\n",
        "\n",
        "# 정답 : c. True"
      ],
      "metadata": {
        "id": "S71ssUPkr1-f"
      },
      "execution_count": null,
      "outputs": []
    },
    {
      "cell_type": "code",
      "source": [
        "# 498. What will be the output after the following statements? \n",
        "# x = 'Monday' print('Day' not in x) \n",
        "# a. 'Day' not in x b. 'Monday' not in x c. True d. False\n",
        "\n",
        "# 정답 : c. True"
      ],
      "metadata": {
        "id": "Iz70_NZwr5VS"
      },
      "execution_count": null,
      "outputs": []
    },
    {
      "cell_type": "code",
      "source": [
        "# 499. What will be the output after the following statements? \n",
        "# x = ['hot', '100', True] weather = x[0] temperature = x[1] humid = x[2] print(weather, temperature, \n",
        "# humid) \n",
        "# a. x b. ['hot', '100', True] c. 'hot', '100', True d. hot 100 True \n",
        "\n",
        "# 정답 : b. ['hot', '100', True]"
      ],
      "metadata": {
        "id": "_N_z9d1Nr5Sr"
      },
      "execution_count": null,
      "outputs": []
    },
    {
      "cell_type": "code",
      "source": [
        "# 500. What will be the output after the following statements? \n",
        "# x = ['hot', '100', True] weather, temperature, humid = x print(weather, temperature, humid) \n",
        "# a. ValueError b. ['hot', '100', True] c. 'hot', '100', True d. hot 100 True\n",
        "\n",
        "# 정답 : b. ['hot', '100', True]"
      ],
      "metadata": {
        "id": "o0NCjByrr5P2"
      },
      "execution_count": null,
      "outputs": []
    },
    {
      "cell_type": "code",
      "source": [
        "# 501. What will be the output after the following statements? \n",
        "# x = ['hot', '100', True] weather, humid = x print(weather, humid) \n",
        "# a. ValueError b. hot 100 c. hot True d. hot 100 True \n",
        "\n",
        "# 정답 : a. ValueError"
      ],
      "metadata": {
        "id": "OHujyTcor5NZ"
      },
      "execution_count": null,
      "outputs": []
    },
    {
      "cell_type": "code",
      "source": [
        "# 502. What will be the output after the following statements? \n",
        "# x = ['hot', '100', True] x.remove('100') weather, humid = x print(weather, humid) \n",
        "# a. ValueError b. hot 100 c. hot True d. hot 100 True \n",
        "\n",
        "# 정답 : c. hot True"
      ],
      "metadata": {
        "id": "UpXhv1iCr5Kk"
      },
      "execution_count": null,
      "outputs": []
    },
    {
      "cell_type": "code",
      "source": [
        "# 503. What will be the output after the following statements? \n",
        "# x = ['a', 'b', 'c', 'A', 'B', 'C'] x.sort() print(x) \n",
        "# a. SortError b. ['a', 'b', 'c', 'A', 'B', 'C'] c. ['a', 'A', 'b', 'B', 'c', 'C'] d. ['A', 'B', 'C', 'a', 'b', 'c’] \n",
        "\n",
        "# 정답 : d. ['A', 'B', 'C', 'a', 'b', 'c’] "
      ],
      "metadata": {
        "id": "UvOFqcvar5H9"
      },
      "execution_count": null,
      "outputs": []
    },
    {
      "cell_type": "code",
      "source": [
        "# 504. What will be the output after the following statements? \n",
        "# x = ['a', 'b', 'c', 'A', 'B', 'C'] x.sort(key=str.lower) print(x) \n",
        "# a. SortError b. ['a', 'b', 'c', 'A', 'B', 'C'] c. ['a', 'A', 'b', 'B', 'c', 'C'] d. ['A', 'B', 'C', 'a', 'b', 'c’] \n",
        "\n",
        "# 정답 = c. ['a', 'A', 'b', 'B', 'c', 'C']"
      ],
      "metadata": {
        "id": "zoZqL_Mkr5FW"
      },
      "execution_count": null,
      "outputs": []
    },
    {
      "cell_type": "code",
      "source": [
        "# 505. What will be the output after the following statements? \n",
        "# x = ['a', 'b', 'c', 'A', 'B', 'C']; x.sort(key=str.swapcase); print(x) \n",
        "# a. TypeError b. ['a', 'b', 'c', 'A', 'B', 'C'] c. ['a', 'A', 'b', 'B', 'c', 'C'] d. ['A', 'B', 'C', 'a', 'b', 'c']\n",
        "\n",
        "# 정답 : b. ['a', 'b', 'c', 'A', 'B', 'C']"
      ],
      "metadata": {
        "id": "PJ1a7fiRr5C0"
      },
      "execution_count": null,
      "outputs": []
    },
    {
      "cell_type": "code",
      "source": [
        "# 506. What will be the output after the following statements? \n",
        "# x = ['a', 'b', 1, 2, 'A', 'B']; x.sort(); print(x)\n",
        "# a. TypeError b. ['a', 'b', 'c', 'A', 'B', 'C'] c. ['a', 'A', 'b', 'B', 'c', 'C'] d. ['A', 'B', 'C', 'a', 'b', 'c’] \n",
        "\n",
        "# 정답 : a. TypeError"
      ],
      "metadata": {
        "id": "oprQ4x2kr5AM"
      },
      "execution_count": 36,
      "outputs": []
    },
    {
      "cell_type": "code",
      "source": [
        "# 507. What will be the output after the following statements? \n",
        "# import random x = ['Monday', 'Tuesday', 'Wednesday', 'Thursday', 'Friday', 'Saturday', 'Sunday']\n",
        "# print(x[random.randint(0, len(x) - 1)])\n",
        "# a. IndexError b. A random day from all the seven days \n",
        "# c. A random day from all the days except Sunday d. A random day from all the days except Monday \n",
        "\n",
        "# 정답 : c. A random day"
      ],
      "metadata": {
        "id": "VNnuvs6Kr49m"
      },
      "execution_count": null,
      "outputs": []
    },
    {
      "cell_type": "code",
      "source": [
        "# 508. What will be the output after the following statements? \n",
        "# x = 'Today is a nice day' + \\ ' I will go for a walk today'print(x) \n",
        "# a. SyntaxError b. Today is a nice day c. I will go for a walk today d. Today is a nice day I will go for a walk today \n",
        "\n",
        "# 정답 : a. SyntaxError"
      ],
      "metadata": {
        "id": "XjK3Zgm6sDsH"
      },
      "execution_count": null,
      "outputs": []
    },
    {
      "cell_type": "code",
      "source": [
        "# 509. What will be the output after the following statements? \n",
        "# x = 'Today is a nice day' x[9] = 'not ' print(x) \n",
        "# a. TypeError b. Today is a nice day c. SyntaxError d. Today is not a nice day \n",
        "\n",
        "# a. TypeError"
      ],
      "metadata": {
        "colab": {
          "base_uri": "https://localhost:8080/"
        },
        "id": "kwc7tuPWsDnF",
        "outputId": "72fdd871-2a9e-45d8-ca1d-0e64918848b4"
      },
      "execution_count": 57,
      "outputs": [
        {
          "output_type": "stream",
          "name": "stdout",
          "text": [
            "a\n"
          ]
        }
      ]
    },
    {
      "cell_type": "code",
      "source": [
        "# 510. What will be the output after the following statements? \n",
        "# x = 'Today is a nice day' y = x[:9] + 'not ' + x[9:] print(y) \n",
        "# a. TypeError b. Today is a nice day c. SyntaxError d. Today is not a nice day\n",
        "\n",
        "# 정답 : d. Today is not a nice day"
      ],
      "metadata": {
        "id": "d-wWEWPZsDkD"
      },
      "execution_count": null,
      "outputs": []
    },
    {
      "cell_type": "code",
      "source": [
        "# 511. What will be the output after the following statements? \n",
        "# x = 'Today is a nice day' y = x[:9] + 'not ' + x[9:] print(x) \n",
        "# a. TypeError b. Today is a nice day c. SyntaxError d. Today is not a nice day \n",
        "# 정답 : b. Today is a nice day"
      ],
      "metadata": {
        "id": "aPY3m2WvsDhI"
      },
      "execution_count": null,
      "outputs": []
    },
    {
      "cell_type": "code",
      "source": [
        "# 512. What will be the output after the following statements? \n",
        "# x = 'Today is not a nice day' x = 'Today is a nice day' print(x)\n",
        "# a. TypeError b. Today is a nice day c. SyntaxError d. Today is not a nice day \n",
        "\n",
        "# 정답 : b. Today is a nice day"
      ],
      "metadata": {
        "id": "188VHu_Cr468"
      },
      "execution_count": null,
      "outputs": []
    },
    {
      "cell_type": "code",
      "source": [
        "# 513. What will be the output after the following statements? \n",
        "# x = ('Today', 'nice', 'day') x[1] = 'not' print(x) \n",
        "# a. TypeError b. ('Today', 'nice', 'day') c. SyntaxError d. ('Today', 'not', 'nice', 'day’) \n",
        "\n",
        "# 정답 = a. TypeError"
      ],
      "metadata": {
        "id": "0Ozqwhaer44b"
      },
      "execution_count": null,
      "outputs": []
    },
    {
      "cell_type": "code",
      "source": [
        "# 514. What will be the data type of the output after the following statements? \n",
        "# x = ('Today') print(x) \n",
        "# a. TypeError b. String c. Tuple d. List \n",
        "\n",
        "# 정답 : b. String"
      ],
      "metadata": {
        "id": "l2JDdmqZr41_"
      },
      "execution_count": null,
      "outputs": []
    },
    {
      "cell_type": "code",
      "source": [
        "# 515. What will be the data type of the output after the following statements? \n",
        "# x = ('Today',) print(x) \n",
        "# a. TypeError b. String c. Tuple d. List\n",
        "\n",
        "# c. Tuple"
      ],
      "metadata": {
        "id": "pREn7_z4r4zW"
      },
      "execution_count": null,
      "outputs": []
    },
    {
      "cell_type": "code",
      "source": [
        "# Algorithm Homework (#28)\n",
        "# 3개의 각으로 삼각형의 예각, 직각, 둔각을 구별하는\n",
        "# 프로그램을 만드세요.\n",
        "# [60, 60, 60] = 예각삼각형\n",
        "# [30, 60, 90] = 직각삼각형\n",
        "# [20, 40, 120] = 둔각삼각형\n",
        "# [0, 90, 90] = 삼각형이 아니다\n",
        "# [60, 70, 80] = 삼각형이 아니다\n",
        "# [40, 40, 50, 50] = 삼각형이 아니다\n",
        "# 예각삼각형 : 3개의 각이 모두 예각인 삼각형\n",
        "# 직각삼각형 : 1개의 각이 직각인 삼각형\n",
        "# 둔각삼각형 : 1개의 각이 둔각인 삼각형\n",
        "# ① 각이 3개가 아닐 경우 삼각형이 아니다.\n",
        "# ② 3개의 각의 합이 180°가 아닐 경우\n",
        "# 삼각형이 아니다.\n",
        "\n",
        "def search (a,b,c):\n",
        "  if a+b+c != 180 or a==0 or b==0 or c==0:\n",
        "    print('삼각형이 아닙니다')\n",
        "  else:\n",
        "    if max(a,b,c)>90 :\n",
        "      print('둔각삼각형입니다')\n",
        "    elif max(a,b,c)==90:\n",
        "      print('직각삼각형입니다')\n",
        "    else:\n",
        "      print('예각삼각형입니다')\n",
        "      return ''\n",
        "\n",
        "a=int(input('1각 : '))\n",
        "b=int(input('2각 : '))\n",
        "c=int(input('3각 : '))\n",
        "\n",
        "print(search(a,b,c))"
      ],
      "metadata": {
        "colab": {
          "base_uri": "https://localhost:8080/"
        },
        "id": "grT8AFYQr4w2",
        "outputId": "4737ddeb-0326-486f-ca86-e805738d2a99"
      },
      "execution_count": 81,
      "outputs": [
        {
          "output_type": "stream",
          "name": "stdout",
          "text": [
            "1각 : 60\n",
            "2각 : 90\n",
            "3각 : 80\n",
            "삼각형이 아닙니다\n",
            "None\n"
          ]
        }
      ]
    }
  ]
}