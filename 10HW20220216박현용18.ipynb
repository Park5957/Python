{
  "nbformat": 4,
  "nbformat_minor": 0,
  "metadata": {
    "colab": {
      "name": "10HW20220216박현용18.ipynb",
      "provenance": [],
      "collapsed_sections": [],
      "authorship_tag": "ABX9TyOsYovfrFEPwUXu9grAGxQ7",
      "include_colab_link": true
    },
    "kernelspec": {
      "name": "python3",
      "display_name": "Python 3"
    },
    "language_info": {
      "name": "python"
    }
  },
  "cells": [
    {
      "cell_type": "markdown",
      "metadata": {
        "id": "view-in-github",
        "colab_type": "text"
      },
      "source": [
        "<a href=\"https://colab.research.google.com/github/Park5957/ai/blob/main/10HW20220216%EB%B0%95%ED%98%84%EC%9A%A918.ipynb\" target=\"_parent\"><img src=\"https://colab.research.google.com/assets/colab-badge.svg\" alt=\"Open In Colab\"/></a>"
      ]
    },
    {
      "cell_type": "code",
      "execution_count": null,
      "metadata": {
        "id": "6jNup93QjcpX"
      },
      "outputs": [],
      "source": [
        "# 516. What will be the data type of y after the following statements? \n",
        "# x = [1, 2, 3, 4] y = tuple(x) \n",
        "# a. TypeError b. String c. Tuple d. List \n",
        "\n",
        "# 정답 : d. List "
      ]
    },
    {
      "cell_type": "code",
      "source": [
        "# 517. What will be the data type of z after the following statements? \n",
        "# x = [1, 2, 3, 4] y = tuple(x) z = list(y)\n",
        "# a. TypeError b. String c. Tuple d. List \n",
        "\n",
        "# 정답 : d. List "
      ],
      "metadata": {
        "id": "-At-U4HmjjYK"
      },
      "execution_count": null,
      "outputs": []
    },
    {
      "cell_type": "code",
      "source": [
        "# 518. What will be the data type of the output after the following statements? \n",
        "# x = 'Python' y = list(x) print(y) \n",
        "# a. TypeError b. String c. Tuple d. List \n",
        "\n",
        "# 정답 : d. List "
      ],
      "metadata": {
        "id": "l-A3WHCLjjiX"
      },
      "execution_count": null,
      "outputs": []
    },
    {
      "cell_type": "code",
      "source": [
        "# 519. What will be the data type of the output after the following statements? \n",
        "# x = 'Python' y = tuple(x) print(y) \n",
        "# a. TypeError b. String c. Tuple d. List\n",
        "\n",
        "# 정답 : c. Tuple"
      ],
      "metadata": {
        "id": "fObTX8OcjjlG"
      },
      "execution_count": null,
      "outputs": []
    },
    {
      "cell_type": "code",
      "source": [
        "# 520. What will be the output after the following statements? \n",
        "# x = ('Python') print(x) \n",
        "# a. ('P', 'y', 't', 'h', 'o', 'n') b. Python c. P y t h o n d. ('Python')\n",
        "\n",
        "# 정답 : b. Python"
      ],
      "metadata": {
        "id": "l8U4JKnRjjnw"
      },
      "execution_count": null,
      "outputs": []
    },
    {
      "cell_type": "code",
      "source": [
        "# 521. What will be the output after the following statements? \n",
        "# x = ('Python',) print(x) \n",
        "# a. ('Python',) b. Python c. P y t h o n d. ('Python’) \n",
        "\n",
        "# 정답 : a. ('Python',)"
      ],
      "metadata": {
        "id": "1YCicltPjjqj"
      },
      "execution_count": null,
      "outputs": []
    },
    {
      "cell_type": "code",
      "source": [
        "# 522. What will be the output after the following statements? \n",
        "# x = [0, 2, 4, 6] print(tuple(x)) \n",
        "# a. [0, 2, 4, 6] b. (0, 2, 4, 6) c. 0, 2, 4, 6 d. 0 2 4 6 \n",
        "\n",
        "# 정답 : b. (0, 2, 4, 6)"
      ],
      "metadata": {
        "id": "ZWQjmEhrjjtZ"
      },
      "execution_count": null,
      "outputs": []
    },
    {
      "cell_type": "code",
      "source": [
        "# 523. What will be the output after the following statements? \n",
        "# x = (0, 2, 4, 6) print(list(x)) \n",
        "# a. [0, 2, 4, 6] b. (0, 2, 4, 6) c. 0, 2, 4, 6 d. 0 2 4 6 \n",
        "\n",
        "# 정답 : a. [0, 2, 4, 6]"
      ],
      "metadata": {
        "id": "zAFGdMqzjjvz"
      },
      "execution_count": null,
      "outputs": []
    },
    {
      "cell_type": "code",
      "source": [
        "# 524. What will be the output after the following statements? \n",
        "# x = 'Python' print(list(x)) \n",
        "# a. ('P', 'y', 't', 'h', 'o', 'n') b. (Python) c. ['P', 'y', 't', 'h', 'o', 'n'] d. ['Python’]\n",
        "\n",
        "# 정답 : c. ['P', 'y', 't', 'h', 'o', 'n']"
      ],
      "metadata": {
        "id": "n-OJMidKjjVh"
      },
      "execution_count": null,
      "outputs": []
    },
    {
      "cell_type": "code",
      "source": [
        "# 525. What will be the output after the following statements? \n",
        "# x = 'Python' print(tuple(x))\n",
        "# a. ('P', 'y', 't', 'h', 'o', 'n') b. (Python) c. ['P', 'y', 't', 'h', 'o', 'n'] d. ['Python']\n",
        "\n",
        "# 정답 : a. ('P', 'y', 't', 'h', 'o', 'n')"
      ],
      "metadata": {
        "id": "RE-L8-zajjSd"
      },
      "execution_count": null,
      "outputs": []
    },
    {
      "cell_type": "code",
      "source": [
        "# 526. What will be the output after the following statements? \n",
        "# x = [4, 5, 7, 8, 9] y = x y[1] = 6 print(y) \n",
        "# a. [4, 5, 7, 8, 9] b. [4, 5, 6, 7, 8, 9] c. [4, 6, 7, 8, 9] d. [4, 7, 8, 9] \n",
        "\n",
        "# 정답 : c. [4, 6, 7, 8, 9]"
      ],
      "metadata": {
        "id": "GJrpycZJjrOW"
      },
      "execution_count": null,
      "outputs": []
    },
    {
      "cell_type": "code",
      "source": [
        "# 527. What will be the output after the following statements? \n",
        "# x = [4, 5, 7, 8, 9] y = x y[1] = 6 print(x) \n",
        "# a. [4, 5, 7, 8, 9] b. [4, 5, 6, 7, 8, 9] c. [4, 6, 7, 8, 9] d. [4, 7, 8, 9]\n",
        "\n",
        "# 정답 : c. [4, 6, 7, 8, 9]"
      ],
      "metadata": {
        "id": "pQkQVw8ijrRK"
      },
      "execution_count": null,
      "outputs": []
    },
    {
      "cell_type": "code",
      "source": [
        "# 528. What will be the output after the following statements? \n",
        "# def abc(z): z.append(44) x = [7, 8, 9] abc(x) print(x) \n",
        "# a. [7, 8, 9] b. [7, 8, 9, 44] c. [7, 44, 8, 9] d. [44, 7, 8, 9] \n",
        "\n",
        "# 정답 : a. [7, 8, 9]"
      ],
      "metadata": {
        "id": "eB7MjMxSjrUR"
      },
      "execution_count": null,
      "outputs": []
    },
    {
      "cell_type": "code",
      "source": [
        "# 529. What will be the output after the following statements? \n",
        "# import copy x = [5, 4, 3, 2, 1] y = copy.copy(x) x.append(6) print(y[-1]) \n",
        "# a. 5 b. 6 c. [5, 4, 3, 2, 1, 6] d. 1 \n",
        "\n",
        "# 정답 : d. 1 "
      ],
      "metadata": {
        "id": "Ce_LHXejjrZ4"
      },
      "execution_count": null,
      "outputs": []
    },
    {
      "cell_type": "code",
      "source": [
        "# 530. What will be the output after the following statements? \n",
        "# import copy x = [5, 4, 3, 2, 1] y = copy.copy(x) x[2] = 6 print(y[2]) \n",
        "# a. 3 b. 6 c. [5, 4, 6, 3, 2, 1] d. 4\n",
        "\n",
        "# 정답 : a. 3"
      ],
      "metadata": {
        "id": "X8LFtVVSjrcn"
      },
      "execution_count": null,
      "outputs": []
    },
    {
      "cell_type": "code",
      "source": [
        "# 531. What will be the output after the following statements? \n",
        "# import copy; x = [5, 4, 3, 2, 1] y = [7, 8, 9] z = [x, y] a = copy.copy(z) x[2] = 6 print(a) \n",
        "# a. [[5, 4, 3, 2, 1], [7, 8, 9]] b. [[5, 4, 6, 2, 1], [7, 8, 9]] c. [5, 4, 6, 3, 2, 1] d. [5, 4, 6, 2, 1, 7, 8, 9] \n",
        "\n",
        "# 정답 : b. [[5, 4, 6, 2, 1], [7, 8, 9]]"
      ],
      "metadata": {
        "id": "x5xrOvVGjrfg"
      },
      "execution_count": null,
      "outputs": []
    },
    {
      "cell_type": "code",
      "source": [
        "# 532. What will be the output after the following statements? \n",
        "# import copy x = [5, 4, 3, 2, 1] y = [7, 8, 9] z = [x, y] a = copy.deepcopy(z) x[2] = 6 print(a) \n",
        "# a. [[5, 4, 3, 2, 1], [7, 8, 9]] b. [[5, 4, 6, 2, 1], [7, 8, 9]] c. [5, 4, 6, 3, 2, 1] d. [5, 4, 6, 2, 1, 7, 8, 9]\n",
        "\n",
        "# 정답 : a. [[5, 4, 3, 2, 1], [7, 8, 9]]"
      ],
      "metadata": {
        "id": "XdPDew2tjrhx"
      },
      "execution_count": null,
      "outputs": []
    },
    {
      "cell_type": "code",
      "source": [
        "# 533. What will be the output after the following statements? \n",
        "# x = {'day':'Sunday', 'week':10}; print(x['year']) \n",
        "# a. day b. KeyError c. Sunday d. 10\n",
        "\n",
        "# 정답 : b. KeyError"
      ],
      "metadata": {
        "id": "Ug9aoECYjjPb"
      },
      "execution_count": null,
      "outputs": []
    },
    {
      "cell_type": "code",
      "source": [
        "# 534. What will be the output after the following statements? \n",
        "# x = {'day':'Sunday', 'week':10} for i in x.values(): print(i, end=' ') \n",
        "# a. Sunday 10 b. KeyError c. Sunday d. 10\n",
        "\n",
        "# 정답 : a. Sunday 10"
      ],
      "metadata": {
        "id": "JdpIPNayjjMZ"
      },
      "execution_count": null,
      "outputs": []
    },
    {
      "cell_type": "code",
      "source": [
        "# 535. What will be the output after the following statements? \n",
        "# x = {'day':'Sunday', 'week':10} for i in x: print(i, end=' ')\n",
        "# a. Sunday 10 b. day week c. Sunday d. 10\n",
        "\n",
        "# 정답 : b. day week"
      ],
      "metadata": {
        "id": "1_SHz6EAjjJe"
      },
      "execution_count": null,
      "outputs": []
    },
    {
      "cell_type": "code",
      "source": [
        "# 프로그래머 X는 코딩을 하다가 문득, 수학 시간에 배운 정수와 소수를\n",
        "# 구별하는 방법을 떠올렸다. 정수와 소수의 차이는 분수로 표현이\n",
        "# 되느냐, 되지 않느냐에 따라 차이가 나기도 하며, 또한 파이 등 특정한\n",
        "# 값을 나타내는 것에 의하여 소수인지 정수인지 판별이 나게 된다.\n",
        "# 프로그래머 X는 입력값을 숫자를 입력하거나 문자를 입력하려고\n",
        "# 하는데,\n",
        "# 만약 숫자를 입력하였으면 그것이 정수인지, 소수인지 구별하는\n",
        "# 프로그램을 짜보도록 하고,\n",
        "# 만약 문자를 입력하였으면 숫자가 아니므로 math error를 표시하게 하라. \n",
        "# ( try, except 를 사용, eval 함수 참고 )\n",
        "\n",
        "try:\n",
        "  a = eval(input(\"입력하시오: \"))\n",
        "  if a-int(a) != 0 :\n",
        "    print(\"소수입니다.\")\n",
        "  else:\n",
        "    print(\"정수입니다.\")\n",
        " \n",
        "except:\n",
        "  print('math error')"
      ],
      "metadata": {
        "colab": {
          "base_uri": "https://localhost:8080/"
        },
        "id": "IycqK-ZnjjGn",
        "outputId": "45976510-58c0-4cb9-f4d5-c0351d9959b1"
      },
      "execution_count": null,
      "outputs": [
        {
          "output_type": "stream",
          "name": "stdout",
          "text": [
            "입력하시오: sd\n",
            "math error\n"
          ]
        }
      ]
    }
  ]
}