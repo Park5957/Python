{
  "nbformat": 4,
  "nbformat_minor": 0,
  "metadata": {
    "colab": {
      "name": "11HW20220217박현용18.ipynb",
      "provenance": [],
      "collapsed_sections": [],
      "authorship_tag": "ABX9TyOLY7t8Onsaa3Xa/nsAKPOj",
      "include_colab_link": true
    },
    "kernelspec": {
      "name": "python3",
      "display_name": "Python 3"
    },
    "language_info": {
      "name": "python"
    }
  },
  "cells": [
    {
      "cell_type": "markdown",
      "metadata": {
        "id": "view-in-github",
        "colab_type": "text"
      },
      "source": [
        "<a href=\"https://colab.research.google.com/github/Park5957/ai/blob/main/11HW20220217%EB%B0%95%ED%98%84%EC%9A%A918.ipynb\" target=\"_parent\"><img src=\"https://colab.research.google.com/assets/colab-badge.svg\" alt=\"Open In Colab\"/></a>"
      ]
    },
    {
      "cell_type": "code",
      "execution_count": null,
      "metadata": {
        "id": "hWxmkpgHtLXP"
      },
      "outputs": [],
      "source": [
        "# 536. What will be the output after the following statements? \n",
        "# x = {'day':'Sunday', 'week':10} for i in x.keys(): print(i, end=' ‘) \n",
        "# a. Sunday 10 b. day week c. Sunday d. 10 \n",
        "\n",
        "# 정답 : b. day week"
      ]
    },
    {
      "cell_type": "code",
      "source": [
        "# 537. What will be the output after the following statements? \n",
        "# x = {'day':'Sunday', 'week':10} for i in x.items(): print(i, end=' ‘) \n",
        "# a. ('day', 'Sunday') ('week', 10) b. day week c. ('week', 10) d. ('day', 'Sunday’) \n",
        "\n",
        "# 정답 : a. ('day', 'Sunday') ('week', 10)"
      ],
      "metadata": {
        "id": "vIvHqObptez4"
      },
      "execution_count": null,
      "outputs": []
    },
    {
      "cell_type": "code",
      "source": [
        "# 538. What will be the output after the following statements? \n",
        "# x = {'day':'Sunday', 'week':10} print(list(x.keys())) \n",
        "# a. Sunday 10 b. day week c. ['day', 'week'] d. (day, week) \n",
        "\n",
        "# 정답 : c. ['day', 'week'] "
      ],
      "metadata": {
        "id": "NWkOrLJwtexP"
      },
      "execution_count": null,
      "outputs": []
    },
    {
      "cell_type": "code",
      "source": [
        "# 539. What will be the output after the following statements? \n",
        "# x = {'day':'Sunday', 'week':10} print(tuple(x.items())) \n",
        "# a. (('week', 10), ('day', 'Sunday')) b. ('day', 'Sunday') ('week', 10) c. ['day', 'week'] d. (day, week) \n",
        "\n",
        "# 정답 : ('day', 'Sunday') ('week', 10)"
      ],
      "metadata": {
        "id": "C5jIJNTMteul"
      },
      "execution_count": null,
      "outputs": []
    },
    {
      "cell_type": "code",
      "source": [
        "# 540. What will be the output after the following statements? \n",
        "# x = {'day':'Sunday', 'week':10} print(tuple(x.values())) \n",
        "# a. Sunday 10 b. ('Sunday', 10) c. ['Sunday', 10] d. 10\n",
        "\n",
        "# 정답 : b. ('Sunday', 10)"
      ],
      "metadata": {
        "id": "5pWN4s-Cter-"
      },
      "execution_count": null,
      "outputs": []
    },
    {
      "cell_type": "code",
      "source": [
        "# 541. What will be the output after the following statements? \n",
        "# x = {'day':'Sunday', 'week':10} for i, j in x.items():  print(i, j, end=' ')\n",
        "# a. ('day', 'Sunday') ('week', 10) b. {'day':'Sunday', 'week':10} c. 'day':'Sunday', 'week':10 d. day Sunday week 10 \n",
        "\n",
        "# 정답 : d. day Sunday week 10 "
      ],
      "metadata": {
        "id": "WSPJSwPxtepJ"
      },
      "execution_count": null,
      "outputs": []
    },
    {
      "cell_type": "code",
      "source": [
        "# 542. What will be the output after the following statements? \n",
        "# x = {'day':'Sunday', 'week':10} print('day' in x.values()) \n",
        "# a. Sunday b. True c. False d. day \n",
        "\n",
        "# 정답 : c. False"
      ],
      "metadata": {
        "id": "eZeP-LqQtema"
      },
      "execution_count": null,
      "outputs": []
    },
    {
      "cell_type": "code",
      "source": [
        "# 543. What will be the output after the following statements? \n",
        "# x = {'day':'Sunday', 'week':10} print('day' in x.keys()) \n",
        "# a. Sunday b. True c. False d. day \n",
        "\n",
        "# 정답 : b. True"
      ],
      "metadata": {
        "id": "vHFACDuPtej4"
      },
      "execution_count": null,
      "outputs": []
    },
    {
      "cell_type": "code",
      "source": [
        "# 544. What will be the output after the following statements? \n",
        "# x = {'day':'Sunday', 'week':10} print(x.get('day', 'Friday'))\n",
        "# a. Friday b. True c. Sunday d. day \n",
        "\n",
        "# 정답 : c. Sunday"
      ],
      "metadata": {
        "id": "h4CwEOQGtedz"
      },
      "execution_count": null,
      "outputs": []
    },
    {
      "cell_type": "code",
      "source": [
        "# 545. What will be the output after the following statements? \n",
        "# x = {'day':'Sunday', 'week':10} print(x.get('days', 'Friday'))\n",
        "# a. Friday b. True c. Sunday d. day\n",
        "\n",
        "# 정답 : a. Friday"
      ],
      "metadata": {
        "id": "VnCfc5iKtUd-"
      },
      "execution_count": null,
      "outputs": []
    },
    {
      "cell_type": "code",
      "source": [
        "#546. What will be the output after the following statements? \n",
        "# x = {'day':'Sunday', 'week':10}; print(x.get('weak', 5)) \n",
        "#a. 10 b. 5 c. Sunday d. day 5\n",
        "\n",
        "# 정답 : b. 5"
      ],
      "metadata": {
        "id": "4eCY3WfDtUgo"
      },
      "execution_count": null,
      "outputs": []
    },
    {
      "cell_type": "code",
      "source": [
        "#547. What will be the output after the following statements? \n",
        "# x = {'day':'Sunday', 'week':10}; print(x.get('week', 5)) \n",
        "#a. 10 b. 5 c. Sunday d. day\n",
        "\n",
        "# 정답 : a. 10"
      ],
      "metadata": {
        "id": "ZZTHuP7AtUl2"
      },
      "execution_count": null,
      "outputs": []
    },
    {
      "cell_type": "code",
      "source": [
        "#548. What will be the output after the following statements? \n",
        "# x = {'day':'Sunday', 'week':10}; print(x.get('year', 2016)) \n",
        "#a. year b. 2016 c. Sunday d. 10\n",
        "\n",
        "#정답 : b. 2016"
      ],
      "metadata": {
        "id": "uFlOBi31tUod"
      },
      "execution_count": null,
      "outputs": []
    },
    {
      "cell_type": "code",
      "source": [
        "#549. What will be the output after the following statements? \n",
        "# x = {'year': 2016, 'month': 'March'} if 'day' not in x: x['day'] = 'Tuesday' print(x) \n",
        "#a. ('day', 'Tuesday') b. {'day': 'Tuesday', 'month': 'March'} c. 'day': 'Tuesday', 'month': 'March', 'year': 2016 d. {'day': \n",
        "#'Tuesday', 'month': 'March', 'year': 2016}\n",
        "\n",
        "# d. {'day': 'Tuesday', 'month': 'March', 'year': 2016} // 순서가 잘못되어있지만 내부 구성은 이와같다."
      ],
      "metadata": {
        "id": "8CK9EuQstUrL"
      },
      "execution_count": null,
      "outputs": []
    },
    {
      "cell_type": "code",
      "source": [
        "# 550. What will be the output after the following statements? \n",
        "# x = {'year': 2016, 'month': 'March'} x.setdefault('day', 'Tuesday') print(x) \n",
        "# a. ('day', 'Tuesday') b. {'day': 'Tuesday', 'month': 'March'} c. 'day': 'Tuesday', 'month': 'March', 'year': 2016 d. {'day': \n",
        "# 'Tuesday', 'month': 'March', 'year': 2016}\n",
        "\n",
        "\n",
        "# 정답 : d. {'day': 'Tuesday', 'month': 'March', 'year': 2016} // 순서가 잘못되어있지만 내부 구성은 이와같다."
      ],
      "metadata": {
        "id": "qhm7BwZdtUuJ"
      },
      "execution_count": null,
      "outputs": []
    },
    {
      "cell_type": "code",
      "source": [
        "# 551. What will be the output after the following statements? \n",
        "# x = {'year': 2016, 'month': 'March'} x.setdefault('day', 'Tuesday') x.setdefault('day', 'Monday') print(x) \n",
        "# a. ('day', 'Monday') b. {'day': 'Monday', 'month': 'March’} \n",
        "# c. {'day': 'Tuesday', 'month': 'March', 'year': 2016} d. {'day': 'Monday', 'month': 'March', 'year': 2016}\n",
        "\n",
        "# 정답 : c. {'day': 'Tuesday', 'month': 'March', 'year': 2016} // 순서가 잘못되어있지만 내부 구성은 이와같다."
      ],
      "metadata": {
        "id": "ezKQNb1qtS7O"
      },
      "execution_count": 14,
      "outputs": []
    },
    {
      "cell_type": "code",
      "source": [
        "#552. What will be the data type of x after the following statement? \n",
        "#x = {}\n",
        "#a. Tuple b. Set c. List d. Dictionary\n",
        "\n",
        "#정답 : d. Dictionary"
      ],
      "metadata": {
        "id": "3q0YME8TtS-V"
      },
      "execution_count": null,
      "outputs": []
    },
    {
      "cell_type": "code",
      "source": [
        "# 553. What will be the output after the following statement? \n",
        "# print(r'Today is a \\n nice day') \n",
        "# a. Today is a \\n nice day b. Today is a nice day c. Today is a nice day d. 'Today is a \\n nice day’ \n",
        "\n",
        "# wjdekq : d. 'Today is a \\n nice day’ "
      ],
      "metadata": {
        "id": "TZnh2I2RtTC_"
      },
      "execution_count": 16,
      "outputs": []
    },
    {
      "cell_type": "code",
      "source": [
        "# 554. What will be the output after the following statements? \n",
        "# x = 'python jobs' x.upper() print(x) \n",
        "# a. PYTHON JOBS b. Python jobs c. Python Jobs d. python jobs \n",
        "\n",
        "# 정답 : d. python jobs  # 중요! x 의 변수를 x = x.upper() 를 한 것이 아니기에 x에는 변동이 없다."
      ],
      "metadata": {
        "id": "Aarv4HsctTGJ"
      },
      "execution_count": null,
      "outputs": []
    },
    {
      "cell_type": "code",
      "source": [
        "# 555. What will be the output after the following statements? \n",
        "# x = 'Python Jobs' x.lower() print(x) \n",
        "# a. PYTHON JOBS b. Python jobs c. Python Jobs d. python jobs\n",
        "\n",
        "# 정답 : b. Python jobs # 중요! 위 문제와 마찮가지로 x 의 변수를 x = x.upper() 를 한 것이 아니기에 x에는 변동이 없다."
      ],
      "metadata": {
        "id": "3mYBVJGgtTIx"
      },
      "execution_count": null,
      "outputs": []
    },
    {
      "cell_type": "code",
      "source": [
        "# Algorithm Homework(#31)\n",
        "# 문자와 숫자가 섞인 문자열을 입력 받을 때 구별하여 출력하세요.\n",
        "# input:\n",
        "# \"c910m6ia 1ho\"\n",
        "# output:\n",
        "# str : cma ho\n",
        "# int : 91061\n",
        "\n",
        "a = \"c910m6ia 1ho\"\n",
        "a1 = \"\"\n",
        "no = \"\"\n",
        "for i in a :\n",
        "  if i.isalpha():\n",
        "    a1 = a1 + i\n",
        "  elif i.isdigit():\n",
        "    no = no + i\n",
        "  else :\n",
        "    a1 = a1 + i\n",
        "    \n",
        "print(f\"문자 : {a1}\")\n",
        "print(f\"숫자 : {no}\")\n",
        "  "
      ],
      "metadata": {
        "colab": {
          "base_uri": "https://localhost:8080/"
        },
        "id": "KUdjXha8tumR",
        "outputId": "5312359c-78f5-4ee8-ca89-8a614ea2722c"
      },
      "execution_count": null,
      "outputs": [
        {
          "output_type": "stream",
          "name": "stdout",
          "text": [
            "문자 : cmia ho\n",
            "숫자 : 91061\n"
          ]
        }
      ]
    }
  ]
}