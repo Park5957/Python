{
  "nbformat": 4,
  "nbformat_minor": 0,
  "metadata": {
    "colab": {
      "name": "12HW20220221박현용18.ipynb",
      "provenance": [],
      "collapsed_sections": [],
      "authorship_tag": "ABX9TyO0a0EmSg8G4YhNIEYWNKJw",
      "include_colab_link": true
    },
    "kernelspec": {
      "name": "python3",
      "display_name": "Python 3"
    },
    "language_info": {
      "name": "python"
    }
  },
  "cells": [
    {
      "cell_type": "markdown",
      "metadata": {
        "id": "view-in-github",
        "colab_type": "text"
      },
      "source": [
        "<a href=\"https://colab.research.google.com/github/Park5957/ai/blob/main/12HW20220221%EB%B0%95%ED%98%84%EC%9A%A918.ipynb\" target=\"_parent\"><img src=\"https://colab.research.google.com/assets/colab-badge.svg\" alt=\"Open In Colab\"/></a>"
      ]
    },
    {
      "cell_type": "code",
      "execution_count": 5,
      "metadata": {
        "id": "ZoZi4T4PVAKa"
      },
      "outputs": [],
      "source": [
        "# 556. What will be the output after the following statements? \n",
        "# x = 'Python Jobs' if x.lower() == 'python jobs': print('Python jobs') else: print('python 3 jobs')\n",
        "# a. python 3 jobs b. Python jobs c. Python Jobs d. python jobs \n",
        "\n",
        "# 정답 : b. Python jobs"
      ]
    },
    {
      "cell_type": "code",
      "source": [
        "# 557. What will be the output after the following statements? \n",
        "# x = 'Python Jobs' if x.isupper(): print('Python jobs') else: print('python 3 jobs')\n",
        "# a. python 3 jobs b. Python jobs c. Python Jobs d. python jobs \n",
        "\n",
        "# 정답 : a. python 3 jobs"
      ],
      "metadata": {
        "id": "FCn8x1vaVazw"
      },
      "execution_count": 8,
      "outputs": []
    },
    {
      "cell_type": "code",
      "source": [
        "# 558. What will be the output after the following statements? \n",
        "# x = 'Python Jobs' y = x.upper().lower().upper() print(y) \n",
        "# a. python Jobs b. PYTHON JOBS c. Python Jobs d. python jobs \n",
        "\n",
        "# 정답 : b. PYTHON JOBS"
      ],
      "metadata": {
        "id": "wY4ItRFHVaw1"
      },
      "execution_count": 10,
      "outputs": []
    },
    {
      "cell_type": "code",
      "source": [
        "# 559. What will be the output after the following statements? \n",
        "# x = 'Python Jobs' y = x.upper().lower().isupper() print(y) \n",
        "# a. python jobs b. PYTHON JOBS c. False d. True \n",
        "\n",
        "# 정답 : c. False "
      ],
      "metadata": {
        "id": "1Fe6oJjeVauK"
      },
      "execution_count": 12,
      "outputs": []
    },
    {
      "cell_type": "code",
      "source": [
        "# 560. What will be the output after the following statements? \n",
        "# x = ['Python', 'is', 'interesting'] y = ' '.join(x) print(y) \n",
        "# a. 'Python', 'is', 'interesting' b. Python is interesting c. Pythonisinteresting d. ['Python', 'is', 'interesting']\n",
        "\n",
        "# 정답 : b. Python is interesting"
      ],
      "metadata": {
        "id": "-VjjZzq1VE4i"
      },
      "execution_count": 14,
      "outputs": []
    },
    {
      "cell_type": "code",
      "source": [
        "# 561. What will be the output after the following statements? \n",
        "# x = 'Python is interesting' y = x.split() print(y) \n",
        "# a. 'Python', 'is', 'interesting' b. Python is interesting c. Pythonisinteresting d. ['Python', 'is', 'interesting’] \n",
        "\n",
        "# 정답 : d. ['Python', 'is', 'interesting’] "
      ],
      "metadata": {
        "id": "b0kM8lhdVE2C"
      },
      "execution_count": 16,
      "outputs": []
    },
    {
      "cell_type": "code",
      "source": [
        "# 562. What will be the output after the following statements? \n",
        "# x = '''Today is a nice day. Let's go for a walk. We'll also go to the park.'''; y = x.split('\\n'); print(y) \n",
        "# a. ['Today is a nice day.', \"Let's go for a walk.\", \"We'll also go to the park.\"] b. Today is a nice day. \n",
        "# c. Let's go for a walk. d. We'll also go to the park. \n",
        "\n",
        "# 정답 : a. ['Today is a nice day.', \"Let's go for a walk.\", \"We'll also go to the park.\"]"
      ],
      "metadata": {
        "id": "-9e4LPdtVEzN"
      },
      "execution_count": 53,
      "outputs": []
    },
    {
      "cell_type": "code",
      "source": [
        "# 563. What will be the output after the following statements? \n",
        "# x = 'Python 2 and Python 3' print(x.strip('and'))\n",
        "# a. Python 2 b. Python 3 c. Python 2 and Python 3 d. Python 2 Python 3 \n",
        "\n",
        "# c. Python 2 and Python 3"
      ],
      "metadata": {
        "id": "6Dlz10C6VEwE"
      },
      "execution_count": 27,
      "outputs": []
    },
    {
      "cell_type": "code",
      "source": [
        "# 564. What will be the output after the following statements? \n",
        "# x = 'Python 2 and Python 3' print(x.strip('thon 3'))\n",
        "# a. Python 2 b. Python 2 and Py c. Python 2 and Python 3 d. Python 2 Python 3\n",
        "\n",
        "# 정답 : b. Python 2 and Py"
      ],
      "metadata": {
        "id": "clqyrQvfVEtB"
      },
      "execution_count": 30,
      "outputs": []
    },
    {
      "cell_type": "code",
      "source": [
        "# 565. What is the first line of the following statements on Windows? \n",
        "#! python3 x = 'Python 3'\n",
        "# a. A comment b. Python String c. Shebang line d. Python Variable\n",
        "\n",
        "# 정답 : c. Shebang"
      ],
      "metadata": {
        "id": "5m58J-lIVEqG"
      },
      "execution_count": null,
      "outputs": []
    },
    {
      "cell_type": "code",
      "source": [
        "# 566. What will be the output after the following statements? \n",
        "# import re x = re.compile(r'\\d\\d\\d-\\d\\d\\d\\d') y = x.search('The phone number is 444-4444') print(y.group()) \n",
        "# a. The phone number is 444-4444 b. \\d\\d\\d-\\d\\d\\d\\d c. 444-4444 d. r'\\d\\d\\d-\\d\\d\\d\\d’ \n",
        "\n",
        "# 정답 : c. 444-4444"
      ],
      "metadata": {
        "id": "YCC6LHb1VEmy"
      },
      "execution_count": 36,
      "outputs": []
    },
    {
      "cell_type": "code",
      "source": [
        "# 566. What will be the output after the following statements? \n",
        "# import re x = re.compile(r'\\d\\d\\d-\\d\\d\\d\\d') y = x.search('The phone number is 444-4444') print(y.group()) \n",
        "# a. The phone number is 444-4444 b. \\d\\d\\d-\\d\\d\\d\\d c. 444-4444 d. r'\\d\\d\\d-\\d\\d\\d\\d’ \n",
        "\n",
        "# 정답 : c. 444-4444"
      ],
      "metadata": {
        "id": "Sxzg9xH6VEjq"
      },
      "execution_count": 39,
      "outputs": []
    },
    {
      "cell_type": "code",
      "source": [
        "# 567. What will be the output after the following statements? \n",
        "# import re x = re.compile(r'(\\d\\d\\d)-(\\d\\d\\d\\d)') y = x.search('The phone number is 444-4444') print(y.group(2))\n",
        "# a. The phone number is 444-4444 b. 4444 c. 444-4444 d. 444 \n",
        "\n",
        "# b. 4444"
      ],
      "metadata": {
        "id": "niy3Ov5KVEgq"
      },
      "execution_count": 40,
      "outputs": []
    },
    {
      "cell_type": "code",
      "source": [
        "# 568. What will be the output after the following statements? \n",
        "# import re x = re.compile(r'(\\d\\d\\d)-(\\d\\d\\d\\d)') y = x.search('The phone number is 444-4444') print(y.group(1)) \n",
        "# a. The phone number is 444-4444 b. 4444 c. 444-4444 d. 444 \n",
        "\n",
        "# 정답 : d. 444 "
      ],
      "metadata": {
        "id": "clX6-KCEVEdu"
      },
      "execution_count": 42,
      "outputs": []
    },
    {
      "cell_type": "code",
      "source": [
        "# 569. What will be the output after the following statements? \n",
        "# import re x = re.compile(r'(\\d\\d\\d)-(\\d\\d\\d\\d)') y = x.search('The phone number is 444-4444') print(y.group(0)) \n",
        "# a. The phone number is 444-4444 b. 4444 c. 444-4444 d. 444 \n",
        "\n",
        "# 정답 : c. 444-4444"
      ],
      "metadata": {
        "colab": {
          "base_uri": "https://localhost:8080/"
        },
        "id": "jBPRMESNVEaw",
        "outputId": "4c1db7b9-1006-4eda-84b6-d7099026e921"
      },
      "execution_count": 43,
      "outputs": [
        {
          "output_type": "stream",
          "name": "stdout",
          "text": [
            "444-4444\n"
          ]
        }
      ]
    },
    {
      "cell_type": "code",
      "source": [
        "# 570. What will be the output after the following statements? \n",
        "# import re x = re.compile(r'(\\d\\d\\d)-(\\d\\d\\d\\d)') y = x.search('The phone number is 444-4444') print(y.groups()) \n",
        "# a. ('444', '4444') b. 4444 c. 444-4444 d. 444\n",
        "\n",
        "# 정답 : a. ('444', '4444')"
      ],
      "metadata": {
        "colab": {
          "base_uri": "https://localhost:8080/"
        },
        "id": "r24Tc10lVEXu",
        "outputId": "4267bdfd-bb61-4d85-acab-70a25f49c598"
      },
      "execution_count": 55,
      "outputs": [
        {
          "output_type": "stream",
          "name": "stdout",
          "text": [
            "('444', '4444')\n"
          ]
        }
      ]
    },
    {
      "cell_type": "code",
      "source": [
        "# 571. What will be the output after the following statements? \n",
        "# import re x = re.compile(r'(\\(\\d\\d\\d\\))-(\\d\\d\\d\\d)') y = x.search('The phone number is (444)-4444') print(y.group(1)) \n",
        "# a. ('444', '4444') b. 444 c. 444-4444 d. (444) \n",
        "\n",
        "# 정답 : d. (444)   "
      ],
      "metadata": {
        "id": "gcT6xDaoVEUz"
      },
      "execution_count": 57,
      "outputs": []
    },
    {
      "cell_type": "code",
      "source": [
        "# 572. What will be the output after the following statements? \n",
        "# import re x = re.compile(r'Python 2|Python 3') y = x.search('Python 3 MCQ') print(y.group()) \n",
        "# a. Python 2|Python 3 b. Python 2 c. Python 3 d. Python 3 MCQ \n",
        "\n",
        "# 정답 : c. Python 3"
      ],
      "metadata": {
        "id": "h_wviaeaVERv"
      },
      "execution_count": 59,
      "outputs": []
    },
    {
      "cell_type": "code",
      "source": [
        "# 573. What will be the output after the following statements? \n",
        "# import re x = re.compile(r'Python 2|Python 3') y = x.search('Python 2.7') print(y.group()) \n",
        "# a. Python 2.7 b. Python 2 c. Python 3 d. Python 2|Python 3 \n",
        "\n",
        "# 정답 : b. Python 2"
      ],
      "metadata": {
        "id": "uj4J7znnVEO9"
      },
      "execution_count": 61,
      "outputs": []
    },
    {
      "cell_type": "code",
      "source": [
        "# 574. What will be the output after the following statements? \n",
        "# import re x = re.compile(r'day') y = x.search('Today is a nice day and a Sunday') print(y.group()) \n",
        "# a. day b. Today c. nice day d. Sunday \n",
        "\n",
        "# 정답 : a. day"
      ],
      "metadata": {
        "colab": {
          "base_uri": "https://localhost:8080/"
        },
        "id": "yXfH1odYVEL7",
        "outputId": "cf572619-6b06-4615-ce7e-316683d5ee29"
      },
      "execution_count": 62,
      "outputs": [
        {
          "output_type": "stream",
          "name": "stdout",
          "text": [
            "day\n"
          ]
        }
      ]
    },
    {
      "cell_type": "code",
      "source": [
        "# 575. What will be the output after the following statements? \n",
        "# import re x = re.compile(r'(Sun)?day') y = x.search('Today is a nice day and a Sunday') print(y.group()) \n",
        "# a. day b. Today c. nice day d. Sunday\n",
        "\n",
        "# 정답 : a. day"
      ],
      "metadata": {
        "colab": {
          "base_uri": "https://localhost:8080/"
        },
        "id": "4bl0zaVTVEJJ",
        "outputId": "d5e8a127-8e5f-4de0-e3fd-c7bf88bfa38c"
      },
      "execution_count": 63,
      "outputs": [
        {
          "output_type": "stream",
          "name": "stdout",
          "text": [
            "day\n"
          ]
        }
      ]
    },
    {
      "cell_type": "code",
      "source": [
        "# Algorithm Homework(#32)\n",
        "# 주어진 문자열(공백 없이 쉼표로 구분되어 있음)을 가지고 아래\n",
        "# 문제에 대한 프로그램을 작성하세요.\n",
        "# 이유덕,이재영,권종표,이재영,박민호,강상희,이재영,김지완,최승혁,이\n",
        "# 성연,박영서,박민호,전경헌,송정환,김재성,이유덕,전경헌\n",
        "# ① 김씨와 이씨는 각각 몇 명 인가요?\n",
        "# ② \"이재영\"이란 이름이 몇 번 반복되나요?\n",
        "# ③ 중복을 제거한 이름을 출력하세요.\n",
        "# ④ 중복을 제거한 이름을 오름차순으로 정렬하여 출력하세요.\n",
        "\n",
        "\n",
        "a = \"이유덕,이재영,권종표,이재영,박민호,강상희,이재영,김지완,최승혁,이성연,박영서,박민호,전경헌,송정환,김재성,이유덕,전경헌\"\n",
        "b = a.split(\",\")\n",
        "kim_count = 0\n",
        "lee_count = 0\n",
        "leej_count = 0\n",
        "for i in b :  \n",
        "  if i[0] == \"김\" :\n",
        "    kim_count += 1  \n",
        "  elif i[0] == \"이\" :\n",
        "    lee_count += 1      \n",
        "    if i == \"이재영\":     \n",
        "      leej_count += 1\n",
        "print(f\"김씨는 {kim_count}명\")      \n",
        "print(f\"이씨는 {lee_count}명\")\n",
        "print(f\"이재영은 {leej_count}명\")\n",
        "c = list(set(c))\n",
        "print(c)\n",
        "c.sort()\n",
        "print(c)"
      ],
      "metadata": {
        "colab": {
          "base_uri": "https://localhost:8080/"
        },
        "id": "lh1b3F9VVEGa",
        "outputId": "1b7181c8-8580-45b2-b44f-70ed65761734"
      },
      "execution_count": 27,
      "outputs": [
        {
          "output_type": "stream",
          "name": "stdout",
          "text": [
            "김씨는 2명\n",
            "이씨는 6명\n",
            "이재영은 3명\n",
            "['이성연', '전경헌', '김지완', '박민호', '박영서', '이재영', '이유덕', '강상희', '권종표', '최승혁', '김재성', '송정환']\n",
            "['강상희', '권종표', '김재성', '김지완', '박민호', '박영서', '송정환', '이성연', '이유덕', '이재영', '전경헌', '최승혁']\n"
          ]
        }
      ]
    },
    {
      "cell_type": "code",
      "source": [
        "# 다른방법\n",
        "ns = \"이유덕,이재영,권종표,이재영,박민호,강상희,이재영,김지완,최승혁,이성연,박영서,박민호,전경헌,송정환,김재성,이유덕,전경헌\".split(\",\")\n",
        "a=[ i[0] for i in ns ]\n",
        "print(\"김씨는 \", a.count(\"김\"),\"명\")\n",
        "print(\"이씨는\", a.count(\"이\"),\"명\")\n",
        "print(\"이재영은 : \", ns.count(\"이재영\"),\"명\")\n",
        "ns_r = list(set(names))\n",
        "print(ns_r)\n",
        "ns_r.sort()\n",
        "print(ns_r)"
      ],
      "metadata": {
        "colab": {
          "base_uri": "https://localhost:8080/"
        },
        "id": "8cHa2mEqpkfs",
        "outputId": "eacb71d9-6a11-4558-96f5-e83c47f21f06"
      },
      "execution_count": 26,
      "outputs": [
        {
          "output_type": "stream",
          "name": "stdout",
          "text": [
            "김씨는  2 명\n",
            "이씨는 6 명\n",
            "이재영은 :  3 명\n",
            "['이성연', '전경헌', '이재영', '박민호', '김지완', '박영서', '이유덕', '강상희', '권종표', '최승혁', '김재성', '송정환']\n",
            "['강상희', '권종표', '김재성', '김지완', '박민호', '박영서', '송정환', '이성연', '이유덕', '이재영', '전경헌', '최승혁']\n"
          ]
        }
      ]
    }
  ]
}