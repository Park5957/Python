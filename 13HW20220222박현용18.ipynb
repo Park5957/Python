{
  "nbformat": 4,
  "nbformat_minor": 0,
  "metadata": {
    "colab": {
      "name": "13HW20220222박현용18.ipynb",
      "provenance": [],
      "collapsed_sections": [],
      "authorship_tag": "ABX9TyNdUdbjbDwdaLyH4CX+bIW4",
      "include_colab_link": true
    },
    "kernelspec": {
      "name": "python3",
      "display_name": "Python 3"
    },
    "language_info": {
      "name": "python"
    }
  },
  "cells": [
    {
      "cell_type": "markdown",
      "metadata": {
        "id": "view-in-github",
        "colab_type": "text"
      },
      "source": [
        "<a href=\"https://colab.research.google.com/github/Park5957/ai/blob/main/13HW20220222%EB%B0%95%ED%98%84%EC%9A%A918.ipynb\" target=\"_parent\"><img src=\"https://colab.research.google.com/assets/colab-badge.svg\" alt=\"Open In Colab\"/></a>"
      ]
    },
    {
      "cell_type": "code",
      "execution_count": 11,
      "metadata": {
        "colab": {
          "base_uri": "https://localhost:8080/"
        },
        "id": "281PLTrQfDP6",
        "outputId": "58fc2b05-8982-47cf-b555-a9acc66d2d1c"
      },
      "outputs": [
        {
          "output_type": "stream",
          "name": "stdout",
          "text": [
            "sum all the multiples of 3 or 5 below 1000 : 233168\n"
          ]
        }
      ],
      "source": [
        "# 1. park hun yong\n",
        "# 2. 정답 : d. #\n",
        "# 3. 정답 : d. sep = \"!\"\n",
        "# 4. 정답 : b. False\n",
        "# 5. 정답 : b,2416\n",
        "# 6. 정답 : a.Integer\n",
        "# 7. 정답 : c. x will have the value of , y will have the value of 4 \n",
        "#                and z will have the value of 5\n",
        "# 8. 정답 : d.[5,4,3,2,1]\n",
        "# 9. 정답 : a.[]\n",
        "# 10. 정답 : d.Boolean\n",
        "# 11. 정답 : b. string\n",
        "\n",
        "# 12. what is the sum all the multiples of 3 or 5 below 1000?\n",
        "# 정답 :\n",
        "num = 0\n",
        "for i in range(1,1000) :\n",
        "  if i%3 == 0 or i%5 == 0 :\n",
        "    num = num+i\n",
        "    \n",
        "print(f\"sum all the multiples of 3 or 5 below 1000 : {num}\")\n"
      ]
    }
  ]
}