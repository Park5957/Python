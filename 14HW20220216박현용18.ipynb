{
  "nbformat": 4,
  "nbformat_minor": 0,
  "metadata": {
    "colab": {
      "name": "14HW20220216박현용18.ipynb",
      "provenance": [],
      "collapsed_sections": [],
      "authorship_tag": "ABX9TyNLJieTVCW6tOplE+/T4D9L",
      "include_colab_link": true
    },
    "kernelspec": {
      "name": "python3",
      "display_name": "Python 3"
    },
    "language_info": {
      "name": "python"
    }
  },
  "cells": [
    {
      "cell_type": "markdown",
      "metadata": {
        "id": "view-in-github",
        "colab_type": "text"
      },
      "source": [
        "<a href=\"https://colab.research.google.com/github/Park5957/ai/blob/main/14HW20220216%EB%B0%95%ED%98%84%EC%9A%A918.ipynb\" target=\"_parent\"><img src=\"https://colab.research.google.com/assets/colab-badge.svg\" alt=\"Open In Colab\"/></a>"
      ]
    },
    {
      "cell_type": "code",
      "execution_count": 22,
      "metadata": {
        "colab": {
          "base_uri": "https://localhost:8080/"
        },
        "id": "A8E0MpSBrFAK",
        "outputId": "ea9c1329-b45f-4434-85de-ac017cd53e30"
      },
      "outputs": [
        {
          "output_type": "stream",
          "name": "stdout",
          "text": [
            " Enter the integer number : 10\n",
            "Prime number is [1, 2, 3, 5, 7].\n"
          ]
        }
      ],
      "source": [
        "# 3. 정답 : a. 17\n",
        "# 4. 정답 : A string\n",
        "# 5. 정답 : d. A function\n",
        "# 6. 정답 : b. 01234\n",
        "# 7. 정답 : a. x,y,z\n",
        "# 8. 정답 : d. (0,\"P\")(1,\"y\")(2,\"t\")(3,\"h\")(4,\"o\")(5,\"n\")\n",
        "# 9. 정답 : a. 1 6 11 16 21 \n",
        "# 10.정답 : c. infinite loop\n",
        "# 11.정답 : b. 10 45\n",
        "# 12. 정답 : b. ('flase')\n",
        "# 13. Given a positive integer N, The task is to write a Python program to check if\n",
        "# the number is prime or not. Definition: A Prime number is a natural number greater\n",
        "# then 1 that has no positive divisors other than 1 and itself.\n",
        "# The first few prime number are {2,3,5,7,11,...}.\n",
        "\n",
        "num = int(input(\" Enter the integer number : \"))\n",
        "\n",
        "def pr(n) :\n",
        "  caunt = 0\n",
        "  b = []\n",
        "  for i in range(1,n+1) :    \n",
        "    for j in range(1,i+1) :\n",
        "      k = i%j    \n",
        "      if k == 0 :\n",
        "        caunt += 1\n",
        "    if caunt <= 2 :\n",
        "      b.append(i)\n",
        "    caunt = 0\n",
        "  print(f\"Prime number is {b}.\")   \n",
        "pr(num)"
      ]
    }
  ]
}