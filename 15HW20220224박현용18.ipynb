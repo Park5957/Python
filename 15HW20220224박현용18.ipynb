{
  "nbformat": 4,
  "nbformat_minor": 0,
  "metadata": {
    "colab": {
      "name": "15HW20220224박현용18.ipynb",
      "provenance": [],
      "collapsed_sections": [],
      "authorship_tag": "ABX9TyNHKxoMTWInC4hI9c6x471T",
      "include_colab_link": true
    },
    "kernelspec": {
      "name": "python3",
      "display_name": "Python 3"
    },
    "language_info": {
      "name": "python"
    }
  },
  "cells": [
    {
      "cell_type": "markdown",
      "metadata": {
        "id": "view-in-github",
        "colab_type": "text"
      },
      "source": [
        "<a href=\"https://colab.research.google.com/github/Park5957/ai/blob/main/15HW20220224%EB%B0%95%ED%98%84%EC%9A%A918.ipynb\" target=\"_parent\"><img src=\"https://colab.research.google.com/assets/colab-badge.svg\" alt=\"Open In Colab\"/></a>"
      ]
    },
    {
      "cell_type": "code",
      "execution_count": 5,
      "metadata": {
        "colab": {
          "base_uri": "https://localhost:8080/"
        },
        "id": "n3c_gCkXxKHx",
        "outputId": "0228601f-9a2f-4df0-c39b-fc96c0bc0521"
      },
      "outputs": [
        {
          "output_type": "stream",
          "name": "stdout",
          "text": [
            " Enter the number : 43\n",
            "43 is Odd\n"
          ]
        }
      ],
      "source": [
        "# 1. 정답 : d. No output\n",
        "# 2. 정답 : b. Module\n",
        "# 3. 정답 : c. help()\n",
        "# 4. 정답 : d. 9.0\n",
        "# 5. 정답 : c\n",
        "# 6. 정답 : b. Monty Pyhon\n",
        "# 7. 정답 : b. Guido van Rossum\n",
        "# 8. 정답 : d. Auto typing\n",
        "# 9. 정답 : c\n",
        "# 10. 정답 : b.2\\t4\n",
        "# 11(13).\n",
        "# python program to check if a number is Odd or Even.(질문요약)\n",
        "# 정답 :\n",
        "\n",
        "num = int(input(\" Enter the number : \"))\n",
        "def ck(num) :\n",
        "  if num%2 == 0 :\n",
        "    return \"Even\"\n",
        "  else :\n",
        "    return \"Odd\"\n",
        "ck(num)\n",
        "print(f\"{num} is {ck(num)}\")"
      ]
    }
  ]
}