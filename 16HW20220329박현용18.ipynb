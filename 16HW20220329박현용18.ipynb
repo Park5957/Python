{
  "nbformat": 4,
  "nbformat_minor": 0,
  "metadata": {
    "colab": {
      "name": "16HW20220329박현용18.ipynb",
      "provenance": [],
      "collapsed_sections": [],
      "authorship_tag": "ABX9TyPW5nYLcSCfShG2WuVKL+K9",
      "include_colab_link": true
    },
    "kernelspec": {
      "name": "python3",
      "display_name": "Python 3"
    },
    "language_info": {
      "name": "python"
    }
  },
  "cells": [
    {
      "cell_type": "markdown",
      "metadata": {
        "id": "view-in-github",
        "colab_type": "text"
      },
      "source": [
        "<a href=\"https://colab.research.google.com/github/Park5957/ai/blob/main/16HW20220329%EB%B0%95%ED%98%84%EC%9A%A918.ipynb\" target=\"_parent\"><img src=\"https://colab.research.google.com/assets/colab-badge.svg\" alt=\"Open In Colab\"/></a>"
      ]
    },
    {
      "cell_type": "code",
      "execution_count": 1,
      "metadata": {
        "id": "cVIbvGf9LlfN"
      },
      "outputs": [],
      "source": [
        "# \tQUESTION(#41)\n",
        "\t\t# 정사각형\n",
        "\t\t# 모든 공간은 1*1의 크기로 이루어짐\n",
        "\t\t# 시작좌표 1,1(가장 왼쪽)\n",
        "\t\t# 끝 좌표 N,N(가장 오른쪽 아래)\n",
        "\t\t# 여행자 A\n",
        "\t\t\n",
        "\t\t# L : 왼쪽으로 한칸\n",
        "\t\t# R : 오른쪽으로 한칸\n",
        "\t\t# U : 위로 한칸\n",
        "\t\t# D : 아래로 한칸\n",
        "\t\t\n",
        "\t\t# 입력조건\n",
        "\t\t# 1. 첫 째 줄에 공간의 크기를 나타내는 N 이 주어진다. (1<= N <=100)\n",
        "\t\t# 2. 둘 째줄에 여행자가 A 가 이동할 계획서 내용이 주어진다. (1<= 이동횟수 <=100)\n",
        "\t\t# 사용자가 최종적으로 도착할 좌표 출력 \n",
        "\t\t# 문제의 해석\n",
        "\t\t# • 입력예시 5\n",
        "\t\t# R R R U D D\n",
        "\t\t# • 출력예시\n",
        "\t\t# 3 4 \n",
        "\n",
        "\t\t# BACKGROUND\n",
        "\t\t# 구현, implementation\n",
        "\t\t# • 알고리즘을 소스코드로 바꾸는 과정\n",
        "\t\t# • 모든 범위의 코딩 문제 유형을 포함하는 개념\n",
        "\t\t# • 풀이를 떠올리는 것은 쉽지만 코드로 옮기기 어려운 문제\n",
        "\t\t# • 완전탐색 : 모든 경우의 수를 다 계산하는 방법\n",
        "\t\t# • 시뮬레이션 : 알고리즘을 한 단계식 차례대로 직접 수행\n",
        "\t\t# • 파이썬에서 리스트의 크기(크기와 제한시간)\n",
        "\t\t# ▪ 데이터의 개수 1000 메모리 약 4KB\n",
        "\t\t# ▪ 1000000 4MB\n",
        "\t\t# ▪ 10000000 40MB"
      ]
    },
    {
      "cell_type": "code",
      "source": [
        "n = int(input(\"공간형성할 정사각형 최대 값 : \"))\n",
        "mapg = [ \"L\", \"U\", \"D\", \"R\" ]\n",
        "maping = [ \"R\", \"R\", \"R\", \"U\", \"D\", \"D\" ] #이동할 맵(과제제시)\n",
        "xc = [ 0, 1, -1 ] # x축 이동 값배열\n",
        "yc = [ 0, 1, -1 ] # y축 이동 값배열\n",
        "\n",
        "ax = 1 # 여행자의 x 축 좌표\n",
        "ay = 1 # 여행자의 y 축 좌표\n",
        "\n",
        "a = [ ax, ay ]; # 여행자의 위치\n",
        "\n",
        "while (True) :\n",
        "  for i in maping : \n",
        "        \n",
        "    if (i == mapg[0]) :\n",
        "      if (a[0] == 1) :continue\n",
        "      else :\n",
        "        ax = ax+xc[2]\n",
        "        ay = ay+yc[0]\n",
        "        \n",
        "    elif (i == mapg[1]) :\n",
        "      if (a[1] == 1) :continue\n",
        "      else :\n",
        "        ax = ax+xc[0]\n",
        "        ay = ay+yc[2]\n",
        "\n",
        "    elif (i == mapg[2]) :\n",
        "      if (a[1] == n) :continue\n",
        "      else :\n",
        "        ax = ax+xc[0]\n",
        "        ay = ay+yc[1]\n",
        "\n",
        "    elif (i == mapg[3]) :\n",
        "      if (a[0] == n) :continue\n",
        "      else :\n",
        "        ax = ax+xc[1]\n",
        "        ay = ay+yc[0]\n",
        "\n",
        "    a[0] = ax\n",
        "    a[1] = ay   \n",
        "\n",
        "  break\n",
        "\n",
        "\n",
        "print(\"여행자A의 도착지점 :\",a)"
      ],
      "metadata": {
        "colab": {
          "base_uri": "https://localhost:8080/"
        },
        "id": "NvIqZiT3MAS1",
        "outputId": "5ab083eb-d053-4550-ca6b-1abe1a39cd6c"
      },
      "execution_count": 12,
      "outputs": [
        {
          "output_type": "stream",
          "name": "stdout",
          "text": [
            "공간형성할 정사각형 최대 값 : 5\n",
            "R\n",
            "R\n",
            "R\n",
            "U\n",
            "D\n",
            "D\n",
            "여행자A의 도착지점 : [4, 3]\n"
          ]
        }
      ]
    }
  ]
}