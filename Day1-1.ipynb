{
  "nbformat": 4,
  "nbformat_minor": 0,
  "metadata": {
    "colab": {
      "name": "Untitled0.ipynb",
      "provenance": [],
      "collapsed_sections": [],
      "authorship_tag": "ABX9TyMf6hAX+noLybk7dJf9xG8M",
      "include_colab_link": true
    },
    "kernelspec": {
      "name": "python3",
      "display_name": "Python 3"
    },
    "language_info": {
      "name": "python"
    }
  },
  "cells": [
    {
      "cell_type": "markdown",
      "metadata": {
        "id": "view-in-github",
        "colab_type": "text"
      },
      "source": [
        "<a href=\"https://colab.research.google.com/github/Park5957/ai/blob/main/Day1-1.ipynb\" target=\"_parent\"><img src=\"https://colab.research.google.com/assets/colab-badge.svg\" alt=\"Open In Colab\"/></a>"
      ]
    },
    {
      "cell_type": "code",
      "execution_count": null,
      "metadata": {
        "colab": {
          "base_uri": "https://localhost:8080/"
        },
        "id": "ii-q8gbFxUe4",
        "outputId": "00437438-d3b4-4094-f894-5821537b6e9e"
      },
      "outputs": [
        {
          "output_type": "stream",
          "name": "stdout",
          "text": [
            "Hello World\n",
            "Hello World\n"
          ]
        }
      ],
      "source": [
        "#주석\n",
        "'''\n",
        "작성자 : 박현용\n",
        "작성일 : 2022-01-25\n",
        "버전 : 0.1\n",
        "Doc String 이라고 하는 용법도 존재를 하며, 내용을 뽑아낼 수 있다. 하지만 사용을 잘 하지는 않는다.\n",
        "'''\n",
        "# 보통 삼중 따옴표 주석은 여러줄을 주석으로 사용할 때 사용한다.\n",
        "# 다만 삼중따옴표는 프로그램이 읽을 수는 있다. 다만 그다지 중요한 사안은 아니다.\n",
        "# \"\"\" \"\"\" 것도 동일하게 사용 할 수 있다.\n",
        "# ctrl + / 를 하면 일괄적으로 # 처리를 할 수 있다.\n",
        "\n",
        "# 주석을 붙이는 위치\n",
        "print('Hello World') # ' 과 \" 이 동일하다는 것을 표현한 print\n",
        "print(\"Hello World\") # 주석은 보통 행의 우측 또는 위에 붙인다.\n"
      ]
    },
    {
      "cell_type": "code",
      "source": [
        "#변수\n",
        "score = 100\n",
        "print(score)\n",
        "#score 이렇게 적어도 score 값은 찍혀 나오지만 프린트를 사용하는 것이 구분이 잘 간다.\n",
        "score = 300\n",
        "print(score)\n",
        "a = 1\n",
        "A = 2\n",
        "print(a) # 변수명에서 대문자와 소문자를 구분한다. \n",
        "print(A)\n",
        "#변수명의 첫 글자로 숫자는 사용 할 수 없다. 주의가 필요함.\n",
        "student_avg = 20 #변수명에 의미를 부여해서 작성하는 것은 코드 작성시에 많은 도움이 된다.\n",
        "math_sum = 1500\n",
        "print(type(a)) #해당 문자의 타입을 할 수 있다."
      ],
      "metadata": {
        "colab": {
          "base_uri": "https://localhost:8080/"
        },
        "id": "HFwA7vAW4QBw",
        "outputId": "2c06d800-a886-4d44-ac59-068d53bb8bbe"
      },
      "execution_count": null,
      "outputs": [
        {
          "output_type": "stream",
          "name": "stdout",
          "text": [
            "100\n",
            "300\n",
            "1\n",
            "2\n",
            "<class 'int'>\n"
          ]
        }
      ]
    },
    {
      "cell_type": "code",
      "source": [
        "name = 'Alice'\n",
        "age = 25\n",
        "address = '''우편번호 12345\n",
        "서울시 영등포구 여의도동\n",
        "서울빌딩 501호 '''\n",
        "boyfriend = None\n",
        "height = 168.5\n",
        "print(name)\n",
        "print(age)\n",
        "print(address)\n",
        "print(boyfriend)\n",
        "print(height)"
      ],
      "metadata": {
        "colab": {
          "base_uri": "https://localhost:8080/"
        },
        "id": "K4M2x4DmCneR",
        "outputId": "77060a54-84e2-4781-d3d2-5d06da341eba"
      },
      "execution_count": null,
      "outputs": [
        {
          "output_type": "stream",
          "name": "stdout",
          "text": [
            "Alice\n",
            "25\n",
            "우편번호 12345\n",
            "서울시 영등포구 여의도동\n",
            "서울빌딩 501호 \n",
            "None\n",
            "168.5\n"
          ]
        }
      ]
    }
  ]
}