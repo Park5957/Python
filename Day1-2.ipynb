{
  "nbformat": 4,
  "nbformat_minor": 0,
  "metadata": {
    "colab": {
      "name": "Untitled1.ipynb",
      "provenance": [],
      "collapsed_sections": [],
      "authorship_tag": "ABX9TyORQpeMBZH9PMQJ4hBqZPsh",
      "include_colab_link": true
    },
    "kernelspec": {
      "name": "python3",
      "display_name": "Python 3"
    },
    "language_info": {
      "name": "python"
    }
  },
  "cells": [
    {
      "cell_type": "markdown",
      "metadata": {
        "id": "view-in-github",
        "colab_type": "text"
      },
      "source": [
        "<a href=\"https://colab.research.google.com/github/Park5957/ai/blob/main/Day1-2.ipynb\" target=\"_parent\"><img src=\"https://colab.research.google.com/assets/colab-badge.svg\" alt=\"Open In Colab\"/></a>"
      ]
    },
    {
      "cell_type": "code",
      "execution_count": 9,
      "metadata": {
        "colab": {
          "base_uri": "https://localhost:8080/"
        },
        "id": "uBC4bR2AIOyA",
        "outputId": "491b9033-571e-4b8d-dbc7-2023edd1ca32"
      },
      "outputs": [
        {
          "output_type": "stream",
          "name": "stdout",
          "text": [
            "43\n",
            "1.0\n",
            "1.0\n",
            "3.14\n",
            "<class 'float'>\n",
            "100.0\n"
          ]
        }
      ],
      "source": [
        "#자료형 정수, 실수\n",
        "a = int(43)\n",
        "print(a)\n",
        "\n",
        "b = float(1)\n",
        "print(b)\n",
        "\n",
        "c = float(True)\n",
        "print(c)\n",
        "\n",
        "d=float('3.14')\n",
        "print(d)\n",
        "print(type(d))\n",
        "e = float('100')\n",
        "print(e)"
      ]
    },
    {
      "cell_type": "code",
      "source": [
        "a=100\n",
        "print(type(a))"
      ],
      "metadata": {
        "colab": {
          "base_uri": "https://localhost:8080/"
        },
        "id": "4QKX-M_laS7l",
        "outputId": "a4a6b2a6-b346-486e-8345-bda5a76655d6"
      },
      "execution_count": 11,
      "outputs": [
        {
          "output_type": "stream",
          "name": "stdout",
          "text": [
            "<class 'int'>\n"
          ]
        }
      ]
    },
    {
      "cell_type": "code",
      "source": [
        "# bool 논리 True or False\n",
        "#값이 존재한다면 True 존재하지 않는다면(또는0이라면) False \n",
        "a =bool (0)\n",
        "print(a)\n",
        "b=bool()\n",
        "print(b)\n",
        "c= bool([])\n",
        "print(c)\n",
        "d=bool([100])\n",
        "print(d)\n",
        "\n"
      ],
      "metadata": {
        "colab": {
          "base_uri": "https://localhost:8080/"
        },
        "id": "YMrSfwUxajxY",
        "outputId": "4bddcc32-c85a-439f-e43a-c3e2740b410d"
      },
      "execution_count": 15,
      "outputs": [
        {
          "output_type": "stream",
          "name": "stdout",
          "text": [
            "False\n",
            "False\n",
            "False\n",
            "True\n"
          ]
        }
      ]
    },
    {
      "cell_type": "code",
      "source": [
        "#문자열 String\n",
        "a='대한민국'\n",
        "a=\"대한민국\"\n",
        "b= str(100)\n",
        "print(type(b)) #문자열 str을 사용했기 때문에 100은 문자열로 표기됨\n",
        "\n",
        "c=str(True)\n",
        "print(c)\n",
        "print(type(c)) #문자열 str을 사용했기 때문에 True은 문자열로 표기됨"
      ],
      "metadata": {
        "colab": {
          "base_uri": "https://localhost:8080/"
        },
        "id": "a4WFr3wxbNme",
        "outputId": "94cb8de5-59e0-466b-dff8-c2cce89d7b3b"
      },
      "execution_count": 18,
      "outputs": [
        {
          "output_type": "stream",
          "name": "stdout",
          "text": [
            "<class 'str'>\n",
            "True\n",
            "<class 'str'>\n"
          ]
        }
      ]
    },
    {
      "cell_type": "code",
      "source": [
        "# 문자열 인덱싱\n",
        "# hello 라고 적을 시 o의 위치가 몇번째 인지를 알 수 있는것\n",
        "# 파이썬에서 시작번호는 0이다.\n",
        "# 따라서 o의 위치틑 4번이라고 할 수 있다.\n",
        "\n",
        "s='hello'\n",
        "print(s[4]) # o 의 위치가 4번이라는 것을 확인 할 수 있다.\n",
        "# print(s[o]) 이와같은 입력값은 오류가 발생함.\n",
        "print(s[-1]) # 번호를 역순으로 하더라도 사용이 가능하다. ㅜ\n",
        "print(s[-5]==s[0])\n",
        "ss = '990211-1005432'\n",
        "print(ss[7])\n"
      ],
      "metadata": {
        "colab": {
          "base_uri": "https://localhost:8080/"
        },
        "id": "IdFaqrxDb67M",
        "outputId": "9cc3ec36-9890-4025-b656-3223110362d6"
      },
      "execution_count": 28,
      "outputs": [
        {
          "output_type": "stream",
          "name": "stdout",
          "text": [
            "o\n",
            "o\n",
            "True\n",
            "1\n"
          ]
        }
      ]
    },
    {
      "cell_type": "code",
      "source": [
        "#슬라이싱 방법\n",
        "ss = '990211-1005432'\n",
        "print(ss[0:2]) # 뒤에 붙은 숫자 \"미만\" 까지 출력인 된다는 것에 주의\n",
        "print(ss[0:10:2]) # 0부터 10까지 2개씩 건너서 표현하는 구성이다. (2번째 문장이 출력됨.)\n"
      ],
      "metadata": {
        "colab": {
          "base_uri": "https://localhost:8080/"
        },
        "id": "tyA2_Z6VfIih",
        "outputId": "24a7627d-1e4e-4b8b-e480-a3e7ec141027"
      },
      "execution_count": 32,
      "outputs": [
        {
          "output_type": "stream",
          "name": "stdout",
          "text": [
            "99\n",
            "901-0\n"
          ]
        }
      ]
    },
    {
      "cell_type": "code",
      "source": [
        "#print\n",
        "print('\"'+'Hello world'+'\"')\n",
        "print('Hello \"world\"')"
      ],
      "metadata": {
        "colab": {
          "base_uri": "https://localhost:8080/"
        },
        "id": "9-uDTVqlgVIa",
        "outputId": "93fd31af-443d-416e-d86d-569e903f5437"
      },
      "execution_count": 40,
      "outputs": [
        {
          "output_type": "stream",
          "name": "stdout",
          "text": [
            "\"Hello world\"\n",
            "Hello \"world\"\n"
          ]
        }
      ]
    },
    {
      "cell_type": "code",
      "source": [
        "print('Hello \\'World\\'')\n",
        "print('Hello \\n \"World\"')\n",
        " # ₩ 기호를 사용한다면 기존 의미를 무시하고 처리됨 해당 기호는 역슬래쉬로 대체가 가능함.\n",
        " # ₩n 는 줄바꿈\n",
        "print('이름 \\t 홍길동') #탭키라는 의미임\n",
        "print('홍길동 \\t 010-2020-2903')\n",
        "\n"
      ],
      "metadata": {
        "colab": {
          "base_uri": "https://localhost:8080/"
        },
        "id": "EduJn3Xoh3Qf",
        "outputId": "94c27983-e23a-4093-db3f-239752992bf2"
      },
      "execution_count": 49,
      "outputs": [
        {
          "output_type": "stream",
          "name": "stdout",
          "text": [
            "Hello 'World'\n",
            "Hello \n",
            " \"World\"\n",
            "이름 \t 홍길동\n",
            "홍길동 \t 010-2020-2903\n"
          ]
        }
      ]
    },
    {
      "cell_type": "code",
      "source": [
        "print('재미있는','파이썬') #독립된 문자를 한 줄에 쓰는게 가능함을 할 수 있음"
      ],
      "metadata": {
        "colab": {
          "base_uri": "https://localhost:8080/"
        },
        "id": "bl4Z7EJJiEdl",
        "outputId": "0e7723b1-30ab-4023-dd9e-b0ea1f158ed1"
      },
      "execution_count": 51,
      "outputs": [
        {
          "output_type": "stream",
          "name": "stdout",
          "text": [
            "재미있는 파이썬\n"
          ]
        }
      ]
    },
    {
      "cell_type": "code",
      "source": [
        "print('평점',end=':') # end= 을 사용할 시 다음 줄을 위로 땡겨 올 수 있음\n",
        "print('5점')"
      ],
      "metadata": {
        "colab": {
          "base_uri": "https://localhost:8080/"
        },
        "id": "TRlNwnuPjlYu",
        "outputId": "b2b050a2-122f-4b93-af5c-5bf340313ee4"
      },
      "execution_count": 55,
      "outputs": [
        {
          "output_type": "stream",
          "name": "stdout",
          "text": [
            "평점:5점\n"
          ]
        }
      ]
    },
    {
      "cell_type": "code",
      "source": [
        "print('국어','영어','수학')\n",
        "print('국어','영어','수학',sep ='/') #중간에 비어있는 공간을 sep = 의 문자로 대체함.\n",
        "print('국어','영어','수학',sep =',')\n",
        "print('국어','영어','수학',sep ='') # 빈 공간으로 표기 할 시 붙여서 나옴\n",
        "print('국어','영어','수학',sep ='\\n') #원 기호의 해당 기능을 적용이 가능함."
      ],
      "metadata": {
        "colab": {
          "base_uri": "https://localhost:8080/"
        },
        "id": "j8Ms8ai4oxAM",
        "outputId": "d3c94577-37b0-444e-8bee-bf491f2eb9fd"
      },
      "execution_count": 59,
      "outputs": [
        {
          "output_type": "stream",
          "name": "stdout",
          "text": [
            "국어 영어 수학\n",
            "국어/영어/수학\n",
            "국어,영어,수학\n",
            "국어영어수학\n",
            "국어\n",
            "영어\n",
            "수학\n"
          ]
        }
      ]
    },
    {
      "cell_type": "code",
      "source": [
        "# %연산자\n",
        "print(10)\n",
        "print('%d' % 10)      # %d 를 표기한 위치에 10의 값을 넣어서 표기\n",
        "                      # %d decimal 정수\n",
        "print('%f' % 3.14)    # %f float 실수\n",
        "print('%s' % '학생')  # %s string 문자열\n",
        "\n",
        "# 사용예시\n",
        "print('%d 을 입력하세요' % 10) # %s 처리해도 무방하다. 이유는 글자로 사용하고 있기 때문\n",
        "print('원주율은 %f 입니다.' % 3.14) # %s 처리해도 무방하다. 이유는 글자로 사용하고 있기 때문\n",
        "std ='대학생'\n",
        "print('저는 %s 입니다' % std)\n",
        "print('저는',std,'입니다')"
      ],
      "metadata": {
        "colab": {
          "base_uri": "https://localhost:8080/"
        },
        "id": "Lxi5LkKbpBZ-",
        "outputId": "1eb4d935-85f8-43ca-e094-a885cb37d91c"
      },
      "execution_count": 72,
      "outputs": [
        {
          "output_type": "stream",
          "name": "stdout",
          "text": [
            "10\n",
            "10\n",
            "3.140000\n",
            "학생\n",
            "10 을 입력하세요\n",
            "원주율은 3.140000 입니다.\n",
            "저는 대학생 입니다\n",
            "저는 대학생 입니다\n"
          ]
        }
      ]
    },
    {
      "cell_type": "code",
      "source": [
        "print(\"%d\"  % 1)\n",
        "print(\"%5d\"  % 1) #빈칸 4개를 생성하게 된다 (숫자는 5번째 생성됨)\n",
        "print(\"%-5d\"  % 1) #뒷쪽에 빈칸 4개를 생성할 수 있게 된다.(숫자는 5번째 생성됨)\n",
        "print(\"%5d\"  % 11)\n",
        "print(\"%-5d\"  % 11)"
      ],
      "metadata": {
        "colab": {
          "base_uri": "https://localhost:8080/"
        },
        "id": "04gRNdMgtNM_",
        "outputId": "a2c0c127-311f-43d9-859b-1f656cd4e0b6"
      },
      "execution_count": 77,
      "outputs": [
        {
          "output_type": "stream",
          "name": "stdout",
          "text": [
            "1\n",
            "    1\n",
            "1    \n",
            "   11\n",
            "11   \n"
          ]
        }
      ]
    },
    {
      "cell_type": "code",
      "source": [
        "print('원주율은 %f 입니다.' % 3.14)\n",
        "print('원주율은 %5.2f 입니다.' % 3.14)  # 5개의 자리를 확보한 뒤 소수점 2자리 까지 처리 하는 방법\n",
        "print('원주율은 %5.1f 입니다.' % 3.14)  # 자릿수는 실수 전체를 포함 한 채로 구성을 한다.\n",
        "print('원주율은 %.2f 입니다.' % 3.14)   # 자릿수는 생략이 가능하다."
      ],
      "metadata": {
        "colab": {
          "base_uri": "https://localhost:8080/"
        },
        "id": "126ZgDLxt8uY",
        "outputId": "2c02e447-813b-4f2f-8fa3-704c241ca3f8"
      },
      "execution_count": 89,
      "outputs": [
        {
          "output_type": "stream",
          "name": "stdout",
          "text": [
            "원주율은 3.140000 입니다.\n",
            "원주율은  3.14 입니다.\n",
            "원주율은   3.1 입니다.\n",
            "원주율은 3.14 입니다.\n"
          ]
        }
      ]
    },
    {
      "cell_type": "code",
      "source": [
        "name = 'kai'\n",
        "print('내 이름은 %s 입니다.' % name)"
      ],
      "metadata": {
        "colab": {
          "base_uri": "https://localhost:8080/"
        },
        "id": "hYBglSABvJoK",
        "outputId": "d046fdb5-94c2-4050-e67a-c5164f506868"
      },
      "execution_count": 91,
      "outputs": [
        {
          "output_type": "stream",
          "name": "stdout",
          "text": [
            "내 이름은 kai 입니다.\n"
          ]
        }
      ]
    },
    {
      "cell_type": "code",
      "source": [
        "height = 185.5\n",
        "name = 'kai'\n",
        "print('내 키는 %.1f 입니다.' % height)\n",
        "print('내 키는 %s 입니다.' % height)\n",
        "print('내 키는 %s이고 이름은 %s입니다.' % (height, name)) #여러개 처리를 할 때에는 괄호 안에 순번대로 처리한다.\n"
      ],
      "metadata": {
        "colab": {
          "base_uri": "https://localhost:8080/"
        },
        "id": "Gl_M2pfWvYeA",
        "outputId": "c066f63a-54f4-4d76-82a9-59ddb7cf73eb"
      },
      "execution_count": 103,
      "outputs": [
        {
          "output_type": "stream",
          "name": "stdout",
          "text": [
            "내 키는 185.5 입니다.\n",
            "내 키는 185.5 입니다.\n",
            "내 키는 185.5이고 이름은 kai입니다.\n"
          ]
        }
      ]
    },
    {
      "cell_type": "code",
      "source": [
        "#format() 매서드\n",
        "zipcode = '06236'\n",
        "height = 185.5\n",
        "name = 'kai'\n",
        "print('우편변호 : %s' % zipcode)\n",
        "print('우편변호 : {}'.format(zipcode)) #이와같은 방법이 format의 사용 방식이다.\n",
        "print('내 키는 {}이고 이름음 {} 입니다.'.format(height, name))"
      ],
      "metadata": {
        "colab": {
          "base_uri": "https://localhost:8080/"
        },
        "id": "wfwAoIbbv1GW",
        "outputId": "ca2f522f-d740-41c5-ab9f-8b17d4121e63"
      },
      "execution_count": 107,
      "outputs": [
        {
          "output_type": "stream",
          "name": "stdout",
          "text": [
            "우편변호 : 06236\n",
            "우편변호 : 06236\n",
            "내 키는 185.5이고 이름음 kai 입니다.\n"
          ]
        }
      ]
    },
    {
      "cell_type": "code",
      "source": [
        "print('My name is {}. I \\'m {} years old.'.format('james',25))\n",
        "print('My name is {1}. I \\'m {0} years old.'.format(25,'james'))\n",
        "print('My name is {name}. I \\'m {age} years old.'.format(age=25,name='james'))"
      ],
      "metadata": {
        "colab": {
          "base_uri": "https://localhost:8080/"
        },
        "id": "Noq91t6815q6",
        "outputId": "09ab395e-07a5-4332-ef50-de8b6c92a4c2"
      },
      "execution_count": 116,
      "outputs": [
        {
          "output_type": "stream",
          "name": "stdout",
          "text": [
            "My name is james. I 'm 25 years old.\n",
            "My name is james. I 'm 25 years old.\n",
            "My name is james. I 'm 25 years old.\n"
          ]
        }
      ]
    },
    {
      "cell_type": "code",
      "source": [
        "#f-strings 가장 많이 사용하는 기능\n",
        "#파이썬 3.6 이후 부터 사용 가능\n",
        "who = 'you'\n",
        "how = 'happy'\n",
        "print(f'') #f-strings 의 기본형태\n",
        "print(f'{who} make me {how}')\n"
      ],
      "metadata": {
        "colab": {
          "base_uri": "https://localhost:8080/"
        },
        "id": "-21cDFp22yaT",
        "outputId": "6e7dba1a-9417-4f11-c52b-307e8f509393"
      },
      "execution_count": 118,
      "outputs": [
        {
          "output_type": "stream",
          "name": "stdout",
          "text": [
            "\n",
            "you make me happy\n"
          ]
        }
      ]
    },
    {
      "cell_type": "code",
      "source": [
        "age = float(25) #소수점을 포함해서 하고 싶다면 이러한 방식을 채택하면 된다.\n",
        "print(f'내년에는 {age+1} 입니다') #f-strongs 는 연산도 가능하다."
      ],
      "metadata": {
        "colab": {
          "base_uri": "https://localhost:8080/"
        },
        "id": "6IyEuXtx3otT",
        "outputId": "cb865230-fba0-4f6f-f492-3124b662a0ea"
      },
      "execution_count": 122,
      "outputs": [
        {
          "output_type": "stream",
          "name": "stdout",
          "text": [
            "내년에는 26.0 입니다\n"
          ]
        }
      ]
    },
    {
      "cell_type": "code",
      "source": [
        "#입력 input() #이것은 자바에서 스캐너와 같은 역할을 한다고 볼 수 있다.\n",
        "n = input()\n",
        "print(f'당신이 입력한 내용은 {n} 입니다')\n",
        "print('단신이 입력한 내용은',n,'입니다') #같은 형식이지만 f-srtings 가 효율은 좋다."
      ],
      "metadata": {
        "colab": {
          "base_uri": "https://localhost:8080/"
        },
        "id": "-oxUo5AN4St-",
        "outputId": "99e154de-3582-4e83-ae2f-38271ba3df92"
      },
      "execution_count": 128,
      "outputs": [
        {
          "output_type": "stream",
          "name": "stdout",
          "text": [
            "10\n",
            "당신이 입력한 내용은 10 입니다\n",
            "단신이 입력한 내용은 10 입니다\n"
          ]
        }
      ]
    },
    {
      "cell_type": "code",
      "source": [
        "n = input('당신의 나이를 입력하세요') # 질문지를 input의 () 안에 적으면 표기를 할 수 있다.\n",
        "print(f'당신이 입력한 내용은 {n} 입니다')\n",
        "print('단신이 입력한 내용은',n,'입니다')"
      ],
      "metadata": {
        "colab": {
          "base_uri": "https://localhost:8080/"
        },
        "id": "anjd5qBu5JxE",
        "outputId": "0d96705b-ebdc-41cc-e0a6-aea13a83bdce"
      },
      "execution_count": 130,
      "outputs": [
        {
          "output_type": "stream",
          "name": "stdout",
          "text": [
            "당신의 나이를 입력하세요30\n",
            "당신이 입력한 내용은 30 입니다\n",
            "단신이 입력한 내용은 30 입니다\n"
          ]
        }
      ]
    },
    {
      "cell_type": "code",
      "source": [
        "#quiz 사용자로부터 키보드로 이름과 나이를 입력 받아서 한 줄로 출력하세요 \n",
        "name = input('이름을 입력하세요')\n",
        "age = input('나이를 입력하세요')\n",
        "print(f'당신의 이름은{name} 이고 나이는 {age} 입니다')"
      ],
      "metadata": {
        "colab": {
          "base_uri": "https://localhost:8080/"
        },
        "id": "iamraK-P5dJQ",
        "outputId": "faf72614-2222-42a8-a430-ea671cd93473"
      },
      "execution_count": 132,
      "outputs": [
        {
          "output_type": "stream",
          "name": "stdout",
          "text": [
            "이름을 입력하세요박현용\n",
            "나이를 입력하세요35\n",
            "당신의 이름은박현용 이고 나이는 35 입니다\n"
          ]
        }
      ]
    },
    {
      "cell_type": "code",
      "source": [
        "name = input('이름을 입력하세요 : ') \n",
        "age = int(input('나이를 입력하세요 : ')) #input 으로 들어가는 모든 값은 str 값으로 지정됨\n",
        "                                         #하지만 이러한 형변환으로 int 로 바꿀 수 있다.\n",
        "print(f'당신의 이름은 {name} 이고 나이는 {age} 입니다') #f-strings 형태\n",
        "print(\"당신의 이름은 %s 이고, 나이는 %s 입니다.\" % (name,age)) # % 형태\n",
        "print(\"당신의 이름은 {} 이고, 나이는 {} 입니다.\".format(name,age)) #format 형태\n",
        "print(\"당신의 이름은\",name,\"이고, 나이는\",age,\"입니다\") #기본형태\n",
        "print(name, type(name))\n",
        "print(age, type(age))"
      ],
      "metadata": {
        "colab": {
          "base_uri": "https://localhost:8080/"
        },
        "id": "iu0FveQj6ItD",
        "outputId": "14f529f1-464d-473c-ec57-95a4b7f6324c"
      },
      "execution_count": 141,
      "outputs": [
        {
          "output_type": "stream",
          "name": "stdout",
          "text": [
            "이름을 입력하세요 : ㅇ\n",
            "나이를 입력하세요 : 1\n",
            "당신의 이름은 ㅇ 이고 나이는 1 입니다\n",
            "당신의 이름은 ㅇ 이고, 나이는 1 입니다.\n",
            "당신의 이름은 ㅇ 이고, 나이는 1 입니다.\n",
            "당신의 이름은 ㅇ 이고, 나이는 1 입니다\n",
            "ㅇ <class 'str'>\n",
            "1 <class 'int'>\n"
          ]
        }
      ]
    },
    {
      "cell_type": "code",
      "source": [
        "#50000원 짜리 물건을 할부로 구입하고 매달 내는 금액을 계산하는 프로그램을 작성하시오\n",
        "#할부 개월은 입력을 받아서 계산한다.\n",
        "\n",
        "mun = int(input('할부 개월 입력 : '))\n",
        "mun2 = round(50000/mun,2) # 이와같은 형태로 만들면 소수점 두자리까지 반올림이 된다\n",
        "\n",
        "print(f'{mun} 개월 동안 매달 내는 금액은 {mun2} 입니다.')\n",
        "print(\"%s 개월 동안 매달 내는 금액은 %s 입니다.\" % (mun,mun2)) \n",
        "print(\"{} 개월 동안 매달 내는 금액은 {} 입니다.\".format(mun,mun2)) \n",
        "print(mun,'개월 동안 매달 내는 금액은',mun2 ,'입니다.')"
      ],
      "metadata": {
        "colab": {
          "base_uri": "https://localhost:8080/"
        },
        "id": "zJBCCqwI9yBi",
        "outputId": "09d4db6f-92c1-41ed-d3af-e5ff84e51f42"
      },
      "execution_count": 156,
      "outputs": [
        {
          "output_type": "stream",
          "name": "stdout",
          "text": [
            "할부 개월 입력 : 5\n",
            "5 개월 동안 매달 내는 금액은 10000.0 입니다.\n",
            "5 개월 동안 매달 내는 금액은 10000.0 입니다.\n",
            "5 개월 동안 매달 내는 금액은 10000.0 입니다.\n",
            "5 개월 동안 매달 내는 금액은 10000.0 입니다.\n"
          ]
        }
      ]
    },
    {
      "cell_type": "code",
      "source": [
        "# 사용자로 부터 2개의 실수를 입력받아 합계를 구하는 프로그램\n",
        "uaer = float(input('실수 1 : '))\n",
        "uaer2 = float(input('실수 2 : '))\n",
        "uaer3 =  (uaer+uaer2)\n",
        "\n",
        "print(f'{uaer} 과 {uaer2}의 합계는 {uaer3} 입니다.')\n",
        "print(\"%s 과 %s 의 합계는 %s 입니다.\" % (uaer,uaer2,uaer3))\n",
        "print(\"{} 과  {} 의 합계는 {} 입니다.\".format(uaer,uaer2,uaer3))\n",
        "print(uaer, '과' , uaer2, '의 합계는' , uaer3, '입니다.')"
      ],
      "metadata": {
        "colab": {
          "base_uri": "https://localhost:8080/"
        },
        "id": "iovLryrGFB_A",
        "outputId": "11a56c7f-f0bb-4b22-bc3a-263667c9ca30"
      },
      "execution_count": 165,
      "outputs": [
        {
          "output_type": "stream",
          "name": "stdout",
          "text": [
            "실수 1 : 1\n",
            "실수 2 : 2\n",
            "1.0 과 2.0의 합계는 3.0 입니다.\n",
            "1.0 과 2.0 의 합계는 3.0 입니다.\n",
            "1.0 과  2.0 의 합계는 3.0 입니다.\n",
            "1.0 과 2.0 의 합계는 3.0 입니다.\n"
          ]
        }
      ]
    }
  ]
}