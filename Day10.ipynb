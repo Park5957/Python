{
  "nbformat": 4,
  "nbformat_minor": 0,
  "metadata": {
    "colab": {
      "name": "Day10.ipynb",
      "provenance": [],
      "collapsed_sections": [],
      "authorship_tag": "ABX9TyPn9egz63aarq3htWSMXDCL",
      "include_colab_link": true
    },
    "kernelspec": {
      "name": "python3",
      "display_name": "Python 3"
    },
    "language_info": {
      "name": "python"
    }
  },
  "cells": [
    {
      "cell_type": "markdown",
      "metadata": {
        "id": "view-in-github",
        "colab_type": "text"
      },
      "source": [
        "<a href=\"https://colab.research.google.com/github/Park5957/ai/blob/main/Day10.ipynb\" target=\"_parent\"><img src=\"https://colab.research.google.com/assets/colab-badge.svg\" alt=\"Open In Colab\"/></a>"
      ]
    },
    {
      "cell_type": "code",
      "execution_count": null,
      "metadata": {
        "colab": {
          "base_uri": "https://localhost:8080/"
        },
        "id": "0GFqBnDEk49e",
        "outputId": "26d95cad-59b9-4675-8695-6cf17c6046a4"
      },
      "outputs": [
        {
          "output_type": "stream",
          "name": "stdout",
          "text": [
            "입력하세요asd123\n",
            "3가 갯수 asd가 문자\n",
            "3가 갯수 123가 문자\n"
          ]
        }
      ],
      "source": [
        "# 문자와 숫자 분리방법 복습\n",
        "str = input(\"입력하세요\")\n",
        "# ord 는 아스키코드\n",
        "# print(ord(str)) \n",
        "al =\"\"\n",
        "al_count =0\n",
        "no =\"\"\n",
        "no_count =0\n",
        "\n",
        "# for i in str :\n",
        "#   if i.isalpha():\n",
        "#     al = al+i\n",
        "#     al_count = al_count+1\n",
        "  \n",
        "#   elif i.isdigit():\n",
        "#     no = no+i\n",
        "#     no_count = no_count+1\n",
        "\n",
        "# print(f\"{al_count}가 갯수 {al}가 문자\")\n",
        "# print(f\"{no_count}가 갯수 {no}가 문자\")\n",
        "\n",
        "# 아스키 코드로 해결하는 방법\n",
        "for i in str :\n",
        "  if  91> ord(i) > 65 :\n",
        "    al = al+i\n",
        "    al_count = al_count+1\n",
        "    \n",
        "  elif 123 > ord(i) > 97 :\n",
        "    al = al+i\n",
        "    al_count = al_count+1\n",
        "\n",
        "  elif 58> ord(i) > 48 :\n",
        "    no = no+i\n",
        "    no_count = no_count+1\n",
        "\n",
        "print(f\"{al_count}가 갯수 {al}가 문자\")\n",
        "print(f\"{no_count}가 갯수 {no}가 문자\")\n"
      ]
    },
    {
      "cell_type": "code",
      "source": [
        "# case1\n",
        "# enter string : HeLLo\n",
        "# the number of lowercase characters is : 2\n",
        "# the number of uppercase characters is : 3\n",
        "\n",
        "# case2\n",
        "# enter string : SanFouNdry\n",
        "# the number of lowercase characters is : 7\n",
        "# the number of uppercase characters is : 3\n",
        "\n",
        "print(\"Case1\")                 #케이스출력메세지\n",
        "a = input(\"enter_string:\")     #입력받을 str \n",
        "\n",
        "def enter_string(et) :         #적용받은 값으로 함수시작\n",
        "  lowercase = 0                #소문자 갯수 카운팅변수\n",
        "  uppercase = 0                #대문자 갯수 카운팅변수\n",
        "  for i in et:                 #입력받은 값 판별 반복문\n",
        "    if  123 > ord(i) > 96 :    #아스키코드 넘버로 소문자 판별\n",
        "      lowercase = lowercase+1  #소문자 카운팅\n",
        "    elif 91> ord(i) > 64 :     #아스키코드 넘버로 대문자 판별\n",
        "      uppercase = uppercase+1  #대문자 카운팅\n",
        "  print(f\"lowercase : {lowercase}\")  #소문자 갯수 출력\n",
        "  print(f\"uppercase : {uppercase}\")  #대문자 갯수 출력\n",
        "enter_string(a)                #입력 받은 값 함수 적용\n",
        "print(a[::-1])                 #거꾸로출력\n",
        "print(\" \")                     #줄 바꾸기\n",
        "\n",
        "print(\"Case2\")                 #케이스출력메세지\n",
        "b = input(\"enter_string:\")     #입력받을 str \n",
        "swap = \"\"\n",
        "def enter_string(et) :          #적용받은 값으로 함수시작\n",
        "  lowercase2 = 0                #소문자 갯수 카운팅변수\n",
        "  uppercase2 = 0                #대문자 갯수 카운팅변수\n",
        "  for i in et:                  #입력받은 값 판별 반복문\n",
        "    if  123 > ord(i) > 96 :     #아스키코드 넘버로 소문자 판별\n",
        "      lowercase2 = lowercase2+1 #소문자 카운팅\n",
        "    elif 91> ord(i) > 64 :      #아스키코드 넘버로 대문자 판별\n",
        "      uppercase2 = uppercase2+1 #대문자 카운팅\n",
        "  print(f\"lowercase : {lowercase2}\")  #소문자 갯수 출력\n",
        "  print(f\"uppercase : {uppercase2}\")  #대문자 갯수 출력 \n",
        "enter_string(b)                 #입력 받은 값 함수 적용\n",
        "print(b[::-1])                  #거꾸로출력"
      ],
      "metadata": {
        "colab": {
          "base_uri": "https://localhost:8080/"
        },
        "id": "gt4PgunGA0fR",
        "outputId": "ac533631-a86e-469e-d7bc-61d1258ca35c"
      },
      "execution_count": 2,
      "outputs": [
        {
          "output_type": "stream",
          "name": "stdout",
          "text": [
            "Case1\n",
            "enter_string:HeLLo\n",
            "lowercase : 2\n",
            "uppercase : 3\n",
            "oLLeH\n",
            " \n",
            "Case2\n",
            "enter_string:SanFouNdry\n",
            "lowercase : 7\n",
            "uppercase : 3\n",
            "yrdNuoFnaS\n"
          ]
        }
      ]
    },
    {
      "cell_type": "code",
      "source": [
        "# 유명한 알고리즘\n",
        "# 에라토스테네스의 체\n",
        "\n",
        "# 소수를 찾아내는 알고리즘(특정 범위의 수 중에서 소수를 찾는 알고리즘)\n",
        "# 소수는 2 이상의 정수 중 1과 그 수 자신으로만 나눌수 있는 수\n",
        "# 소수는 나열되어 있는 구간이 불규칙하므로 임의 로 찾기 어렵다.\n",
        "# 2,3,5,7,11,13,17.....\n",
        "\n",
        "# 특정 수 이하에서만 찾을 수 있다.\n",
        "# 소수인지 아닌지를 구분하는 것은 의외로 아주 어렵다.\n",
        "\n",
        "# 3의 배수는 3,6,9,12,15.... 처럼 3의 간격으로 나열되는 경우에는 간단하다.\n",
        "# 그러나 소수는 규칙성이 없기 때문에 간격이 불규칙 하다. 즉, 한번에 열거하기에는 어려움이 많다.\n",
        "\n",
        "# 하나하나 그 수보다 작은 숫자로 나누어 보고 나눌수 있으면 소수가 아닌 것으로 판단할 수 있다.\n",
        "# 하지만 이 방법은 비효율 적이고, 수의 범위가 커지면 어마어마하게 많은 시간이 소요된다.\n",
        "\n",
        "# 고대 그리스의 에라토스테네스는 위와 같은 방법을 개선하여 소수를 효율적으로 발견하는 방법을 고안했다.\n",
        "\n",
        "# 에라토스테네스의 체는 \"그 수의 제곱근보다 작은 소수의 배수를 없애면 남는 수가 소수다\"\n",
        "# 라는 생각을 바탕으로 소수를 찾는 방법을 발한다.\n",
        "\n",
        "# 예를 들면 100 이하의 소수를 모두 찾고 싶으면 가장먼저 100의 제곱근 이하의 소수를 선택한다.\n",
        "# 100의 제곱근은 10 임으로 10 이하에서의 모든 소수는 2,3,5,7 네게이다.\n",
        "\n",
        "# 먼저 2부터 100까지 중 2는 남기고 2의 배수를 모두 삭제한다.\n",
        "\n",
        "# 나누어 지는 수가 모두 소수가 아니므로\n",
        "# 즉, 제곱근 이하의 어느 소수로도 나누어 떨어지지 않고 끝까지 체에 남아있는 수가 소수이다\n",
        "\n",
        "# 에라토스 체네스의 체 알고리즘\n",
        "# 1. 어떤 수 이하의 모든 정수 데이터를 준비\n",
        "# 2. 어떤 수의 제곱근 보다 작은 소수의 배수를 제거한다.\n",
        "# 3. 마지막까지 남은 수를 출력한다."
      ],
      "metadata": {
        "id": "_4te2TFcA1gt"
      },
      "execution_count": 4,
      "outputs": []
    },
    {
      "cell_type": "code",
      "source": [
        "# 유틀리드 알고리즘\n",
        "# 최대 공약수를 구하는 알고리즘\n",
        "# 최대 공약수는 공통의 약수 중에서 가장 큰수를 말한다.\n",
        "\n",
        "# 약수\n",
        "# 3의 약수 1,3\n",
        "# 4의 약수 1,2,4\n",
        "# 5의 약수 1,5\n",
        "# 6의 약수 1,2,3,4\n",
        "# 8의 약수 1,2,4,8\n",
        "# 12의 약수 1,2,3,4,6,\n",
        "\n",
        "# 공약수 : 공통된 약수\n",
        "# 4,6의 공약수 1,2\n",
        "# 8,12의 공약수 1,2,4\n",
        "\n",
        "# 최대 공약수 : 공통된 약수들 중 제일 큰 숫자\n",
        "# 4,6의 공약수 2\n",
        "# 8,12의 공약수 4\n",
        "\n",
        "# 위와 같은 개념을 구하는 알고리즘\n",
        "\n",
        "# 유클리드 알고리즘 이란? 두 수의 나눗셈을 반복하여 최대 공약수를 구한다.\n",
        "# 12와 6의 최대 공약수\n",
        "# 12%6=0 #나머지가 없이 0이 되는 수에 사용된 수가 최대 공약수 이다.\n",
        "\n",
        "# 211%143=78\n",
        "#     143%78=65\n",
        "#         78%65=13\n",
        "#            65%13=0\n",
        "#            즉, 211과 143 의 최대 공약수는 13인 것이다.\n",
        "\n",
        "a = int(input(\"첫 번째 값을 입력하시오\"))\n",
        "b = int(input(\"두 번째 값을 입력하시오\"))\n",
        "\n",
        "def Euclidean_algorithm(t,l):\n",
        "  k = t%l\n",
        "  while k == 0:\n",
        "    if k == 0:\n",
        "      print(f\"최대공약수는 {k} 입니다.\")\n",
        "      break\n",
        "\n",
        "    elif k != 0:\n",
        "      t = l\n",
        "      l = k\n",
        "      k = t%l\n",
        "Euclidean_algorithm(a,b)\n",
        "\n",
        "# 나머지를 구하는 나눗셈의 산수 연산자 %를 사용한다.\n",
        "# 딱 나누어 떨어지지 않을 때에 나눗셈을 반복하는 처리를 하는 반복 구조로 표현한다.\n",
        "# 반복 구조에는 선 판정형과 후 판정형이 있다.\n",
        "# 선 판정형 구조는 반복 처리에 들어 가기 전에 조건식으로 판정을 실시한다.\n",
        "# 후 판정형 구조는 반복 처리 후에 조건식으로 판정을 실시한다."
      ],
      "metadata": {
        "colab": {
          "base_uri": "https://localhost:8080/"
        },
        "id": "wiMGYss3dtOq",
        "outputId": "f97c0614-e982-4631-f94f-f22037c4f76a"
      },
      "execution_count": 14,
      "outputs": [
        {
          "name": "stdout",
          "output_type": "stream",
          "text": [
            "첫 번째 값을 입력하시오211\n",
            "두 번째 값을 입력하시오143\n"
          ]
        }
      ]
    },
    {
      "cell_type": "code",
      "source": [
        "# 빅오 표기법\n",
        "# 알고리즘이 얼마나 빠른지를 표시하는 특별한 방법\n",
        "\n",
        "# 원소의 개수가 증가해도 이진탐색 시간을 얼만 을어나지 않는다.\n",
        "# 하지만 단순탐색의 시간은 어마어나하게 등가된다.\n",
        "# 원소의 갯수가 커질수록 이진탐색은 훨신 빨라지게 된다.\n",
        "\n",
        "# 탐색              단순탐색          이진탐색\n",
        "# 100개             100밀리초         7밀리초\n",
        "# 10000개           10초              14밀리초\n",
        "# 10000000000개     11일              32밀리초\n",
        "\n",
        "# 빅오 표기법은 알고리즘이 얼마나 빠른지만 말해준다.\n",
        "\n",
        "# 단순탐색은 원소를 하나하나 확인하기 때문에 n번 연산을 해야한다.\n",
        "# 빅오 표기법으로는 O(n) 이다. 빅오 표기법은 속도를 시간단위로 세지 않는다.\n",
        "# 빅오 표기법은 연산횟수를 비교하기 위한 개념이다.\n",
        "# 단순 탐색의 실행시간은 O(n)로 나타낸다.\n",
        "\n",
        "# O(log n) 이진탐색\n",
        "# O(n) 선형시간, 단순탐색\n",
        "# O(log * n)\n",
        "# O(n^2) 선형정렬, 느린정렬 알고리즘\n",
        "# O(n!) 외판원 문제, 정말 느린 알고리즘\n",
        "\n",
        "# 알고리즘의 속도는 시간으로 측정하지 않는다.\n",
        "# 알고리즘의 시간은 어떻게 증가하는가로 측정한다.\n",
        "# 알고리즘의 시간은 빅오표기법으로 나타난다."
      ],
      "metadata": {
        "id": "P8P7qmwmip7x"
      },
      "execution_count": 15,
      "outputs": []
    },
    {
      "cell_type": "code",
      "source": [
        "# import os             #운영체제접근\n",
        "# import sys            #시스템접근\n",
        "# import requests       #웹 접근\n",
        "\n",
        "# client_id = \"YOUR_CLIENT_ID\"            \n",
        "# client_secret = \"YOUR_CLIENT_SECRET\"\n",
        "# # url = \"https://openapi.naver.com/v1/vision/face\" # 얼굴감지\n",
        "# url = \"https://openapi.naver.com/v1/vision/celebrity\" # 유명인 얼굴인식\n",
        "\n",
        "# files = {'image': open('YOUR_FILE_NAME', 'rb')} #네이버로 보낼 파일이름\n",
        "\n",
        "# headers = {'X-Naver-Client-Id': client_id, 'X-Naver-Client-Secret': client_secret }\n",
        "# response = requests.post(url,  files=files, headers=headers)\n",
        "\n",
        "# rescode = response.status_code\n",
        "# if(rescode==200):\n",
        "#     print (response.text)\n",
        "# else:\n",
        "#     print(\"Error Code:\" + rescode)\n"
      ],
      "metadata": {
        "id": "DUGJ9VlWuZuz"
      },
      "execution_count": 18,
      "outputs": []
    },
    {
      "cell_type": "code",
      "source": [
        "# import json\n",
        "\n",
        "# parsed = json.loads(response.text)\n",
        "\n",
        "# type(parsed)\n",
        "\n",
        "# print(parsed)\n",
        "# print(json.dumps(parsed, indent= 4))\n",
        "# parsed.keys()\n",
        "# print(parsed['info'])   #정보\n",
        "# print(parsed['faces'])  #인식된 사람의 얼굴에 대한 정보가 뜸\n",
        "# parsed['faces'][4]\n",
        "\n",
        "# import matplotlib.pyplot as plt       # 사진 관련 기본 모듈\n",
        "# import matplotlib.image as mpimg      # 사진 읽어오는 모듈\n",
        "# import matplotlib.patches as patches  # 사진 수정 관련 모듈\n",
        "\n",
        "# img = mpimg.imread('image3.jpg')     # 사진 읽어오기\n",
        "# fig, ax = plt.subplots(figsize=(10,10))             # 사진을 표시할 액자틀과 사진틀 설정\n",
        "                         #사진의 크기를 조정\n",
        "# ax.imshow(img)                       # 사진틀에 사진 삽입\n",
        "\n",
        "\n",
        "# x,y,w,h = parsed[\"fasces\"][0][\"roi\"].values() # 인식한 얼굴의 roi 위치를 정보를 변수로 할당.\n",
        "# re_face = patches.Rectangle((x,y),w,h, facecolor=\"none\",edgecolor=\"r\") # 해당 위치 사각형을 표시\n",
        "                              #사각형구성, 면적 색 제거 , 테두리 색지정\n",
        "# ax.add_patche(re_face) #기존 사진에 사각형 정보를 올려 수정\n",
        "\n",
        "\n",
        "# 여러개의 인식 상자 만들기\n",
        "# for each in parsed[\"fasces\"]:\n",
        "   # x,y,w,h = each[\"roi\"].values()\n",
        "   # re_face = patches.Rectangle((x,y),w,h, facecolor=\"none\",edgecolor=\"r\")\n",
        "   # ax.add_patche(re_face)\n",
        "\n",
        "# # 여러 정보를 확인 후 입력하기\n",
        "# x,y,w,h = parsed[\"fasces\"][0][\"roi\"].values()\n",
        "# age,age_conf = parsed[\"fasces\"][0][\"age\"].values()          #나이\n",
        "# gender,gender_conf = parsed[\"fasces\"][0][\"gender\"].values() #성별\n",
        "\n",
        "# anno = gender+\",\"+age  #성별과 나이를 하나의 변수로 묶음\n",
        "# re_face = patches.Rectangle((x,y),w,h, facecolor=\"none\",edgecolor=\"r\")\n",
        "# plt.text(x,y,anno,color=\"blue\") #해당 사각형에 글자 인식\n",
        "# ax.add_patche(re_face)\n",
        "\n",
        "# 여러개의 인식 상자 만들기\n",
        "# for each in parsed[\"fasces\"]:\n",
        "   # x,y,w,h = each[\"roi\"].values()\n",
        "   # age,age_conf = each[\"age\"].values()\n",
        "   # gender,gender_conf = each[\"gender\"].values()\n",
        "   # re_face = patches.Rectangle((x,y),w,h, facecolor=\"none\",edgecolor=\"r\")\n",
        "   # anno = gender+\",\"+age\n",
        "   # re_face = patches.Rectangle((x,y),w,h, facecolor=\"none\",edgecolor=\"r\")\n",
        "   # plt.text(x,y,anno,color=\"blue\")\n",
        "   # ax.add_patche(re_face)"
      ],
      "metadata": {
        "id": "EHU4R67180T5"
      },
      "execution_count": 20,
      "outputs": []
    },
    {
      "cell_type": "code",
      "source": [
        ""
      ],
      "metadata": {
        "id": "xrMPyjN2AP0v"
      },
      "execution_count": null,
      "outputs": []
    }
  ]
}