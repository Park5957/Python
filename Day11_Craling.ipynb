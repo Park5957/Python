{
  "nbformat": 4,
  "nbformat_minor": 0,
  "metadata": {
    "colab": {
      "name": "Day11_Craling.ipynb",
      "provenance": [],
      "collapsed_sections": [],
      "authorship_tag": "ABX9TyN0wKMlvDdjMPNP28QSRu7I",
      "include_colab_link": true
    },
    "kernelspec": {
      "name": "python3",
      "display_name": "Python 3"
    },
    "language_info": {
      "name": "python"
    }
  },
  "cells": [
    {
      "cell_type": "markdown",
      "metadata": {
        "id": "view-in-github",
        "colab_type": "text"
      },
      "source": [
        "<a href=\"https://colab.research.google.com/github/Park5957/ai/blob/main/Day11_Craling.ipynb\" target=\"_parent\"><img src=\"https://colab.research.google.com/assets/colab-badge.svg\" alt=\"Open In Colab\"/></a>"
      ]
    },
    {
      "cell_type": "code",
      "execution_count": 3,
      "metadata": {
        "id": "r6Bmyve6qLGr"
      },
      "outputs": [],
      "source": [
        "# 벅스뮤직\n",
        "\n",
        "import requests # 웹 페이지 연결모듈"
      ]
    },
    {
      "cell_type": "code",
      "source": [
        "from bs4 import BeautifulSoup as bs #읽어온 웹페이지를 분석하기위해 정제\n",
        "              # (이 이름으로 재정리)"
      ],
      "metadata": {
        "id": "gWnf2_rTvwsU"
      },
      "execution_count": 16,
      "outputs": []
    },
    {
      "cell_type": "code",
      "source": [
        "import pandas #데이터 분석모듈"
      ],
      "metadata": {
        "id": "XMpfY2nDwNi1"
      },
      "execution_count": null,
      "outputs": []
    },
    {
      "cell_type": "code",
      "source": [
        "html=requests.get(\"https://music.bugs.co.kr/chart\") #해당 사이트 페이지 적용\n",
        "# print(html.text)                                  #해당 사이트 페이지 코드 출력"
      ],
      "metadata": {
        "id": "40QpLq_SwSjb"
      },
      "execution_count": null,
      "outputs": []
    },
    {
      "cell_type": "code",
      "source": [
        "soup = bs(html.text) # BeautifulSoup 을 통해 데이터를 분석하기 용이하게 정제한다.\n",
        "# print(soup)"
      ],
      "metadata": {
        "id": "Mya_YpdUySO3"
      },
      "execution_count": 18,
      "outputs": []
    },
    {
      "cell_type": "code",
      "source": [
        "len(soup.select(\"tr\")) # 사이트 확인 차트탕 tr그룹으로 묶여있음을 확인\n",
        "                       # tr의 갯수를 조회\n",
        "                       #top100을 확인하려 했으나 104개가 나옴"
      ],
      "metadata": {
        "colab": {
          "base_uri": "https://localhost:8080/"
        },
        "id": "doazjbECzEPc",
        "outputId": "f9563a80-2331-413d-c9eb-0f904684920d"
      },
      "execution_count": 20,
      "outputs": [
        {
          "output_type": "execute_result",
          "data": {
            "text/plain": [
              "104"
            ]
          },
          "metadata": {},
          "execution_count": 20
        }
      ]
    },
    {
      "cell_type": "code",
      "source": [
        "len(soup.select(\"tbody > tr\")) # tbody 안에 있는 tr만을 찾는 방법\n",
        "                               # top100을 확인하려 했으나 103개가 나옴"
      ],
      "metadata": {
        "colab": {
          "base_uri": "https://localhost:8080/"
        },
        "id": "UucvdBgk0Y9e",
        "outputId": "bd87819f-8b74-46a5-debb-9e382c26c59c"
      },
      "execution_count": 22,
      "outputs": [
        {
          "output_type": "execute_result",
          "data": {
            "text/plain": [
              "103"
            ]
          },
          "metadata": {},
          "execution_count": 22
        }
      ]
    },
    {
      "cell_type": "code",
      "source": [
        "# len(soup.select(\"table > tbody > tr\")) # table 안에 tbody 안에 있는 tr만을 찾는 방법\n",
        "#                                        # 하지만 결과가 같다 동일한 table 가 많다는 것이니 좀더 자세히 특정해야한다.\n",
        "\n",
        "len(soup.select(\"table.byChart > tbody > tr\"))\n",
        "                # 테이블.해당 \"클래스명\"(공백의 앞은 모두 삭제해도 괜찮다.#그게 더 정확할 수 있다.)\n",
        "                # top100 을 확인."
      ],
      "metadata": {
        "colab": {
          "base_uri": "https://localhost:8080/"
        },
        "id": "GfaczgR70k79",
        "outputId": "82a73f93-ceb0-4f53-b32e-988777d83217"
      },
      "execution_count": 25,
      "outputs": [
        {
          "output_type": "execute_result",
          "data": {
            "text/plain": [
              "100"
            ]
          },
          "metadata": {},
          "execution_count": 25
        }
      ]
    },
    {
      "cell_type": "code",
      "source": [
        "# 확정된 top100 의 경로 값을 리스트로 정렬\n",
        "songs = soup.select(\"table.byChart > tbody > tr\")\n",
        "\n",
        "songs[0] #리스트로 정렬된 노래 리스트의 정보를 확인"
      ],
      "metadata": {
        "colab": {
          "base_uri": "https://localhost:8080/"
        },
        "id": "BtuoE9y31i9r",
        "outputId": "1eee88aa-9ec6-4cfd-a58e-686576408986"
      },
      "execution_count": 31,
      "outputs": [
        {
          "output_type": "execute_result",
          "data": {
            "text/plain": [
              "<tr albumid=\"20450649\" artistid=\"80026437\" multiartist=\"N\" mvid=\"606198\" rowtype=\"track\" trackid=\"32466413\">\n",
              "<input name=\"_isStream\" type=\"hidden\" value=\"32466413\"/>\n",
              "<input name=\"_isDown\" type=\"hidden\" value=\"32466413\"/>\n",
              "<td class=\"check\"><input buyminquality=\"T\" disc_id=\"1\" name=\"check\" title=\"INVU\" type=\"checkbox\" value=\"32466413\"/></td>\n",
              "<td>\n",
              "<div class=\"ranking\">\n",
              "<strong>1</strong>\n",
              "<p class=\"change none\"><em>0</em><span>변동없음</span></p>\n",
              "</div>\n",
              "</td>\n",
              "<td>\n",
              "<a class=\"thumbnail\" href=\"https://music.bugs.co.kr/album/20450649?wl_ref=list_tr_07_chart\" onclick=\"\n",
              "\">\n",
              "<span class=\"mask\"></span>\n",
              "<img alt=\"INVU - The 3rd Album 대표이미지\" onerror=\"bugs.utils.imgError(this);\" src=\"https://image.bugsm.co.kr/album/images/50/204506/20450649.jpg?version=20220215002442.0\"/>\n",
              "</a>\n",
              "</td>\n",
              "<td>\n",
              "<a class=\"trackInfo\" href=\"https://music.bugs.co.kr/track/32466413?wl_ref=list_tr_08_chart\" onclick=\"\n",
              "\">곡정보</a>\n",
              "</td>\n",
              "<th scope=\"row\">\n",
              "<p adult_yn=\"N\" class=\"title\">\n",
              "<a adultcheckval=\"1\" aria-label=\"새창\" href=\"javascript:;\" onclick=\"bugs.wiselog.area('list_tr_09_chart');bugs.music.listen('32466413',true);\n",
              "\" title=\"INVU\">INVU</a>\n",
              "</p>\n",
              "</th>\n",
              "<td class=\"left\">\n",
              "<p class=\"artist\">\n",
              "<a href=\"https://music.bugs.co.kr/artist/80026437?wl_ref=list_tr_10_chart\" onclick=\"\n",
              "\" title=\"태연 (TAEYEON)\">태연 (TAEYEON)</a>\n",
              "</p>\n",
              "</td>\n",
              "<td class=\"left\">\n",
              "<a class=\"album\" href=\"https://music.bugs.co.kr/album/20450649?wl_ref=list_tr_11_chart\" onclick=\"\n",
              "\" title=\"INVU - The 3rd Album\">INVU - The 3rd Album</a>\n",
              "</td>\n",
              "<td>\n",
              "<a adultcheckval=\"1\" aria-label=\"새창\" class=\"btn play\" href=\"javascript:;\" onclick=\"bugs.wiselog.area('list_tr_12_chart');bugs.music.listen('32466413',true);\n",
              "\">듣기</a>\n",
              "</td>\n",
              "<td>\n",
              "<a adultcheckval=\"1\" aria-label=\"새창\" class=\"btn addPlaylist\" href=\"javascript:;\" onclick=\"bugs.wiselog.area('list_tr_13_chart');bugs.music.listen('32466413');\n",
              "\">재생목록에 추가</a>\n",
              "</td>\n",
              "<td>\n",
              "<a class=\"btn addAlbum\" href=\"javascript:;\" onclick=\"bugs.wiselog.area('list_tr_14_chart');bugs.music.addTrackToMyAlbum(this,'32466413');\n",
              "\" track_title=\"INVU\">내 앨범에 담기</a>\n",
              "</td>\n",
              "<td>\n",
              "<a adultcheckval=\"1\" aria-label=\"새창\" class=\"btn download flac\" href=\"javascript:;\" onclick=\"bugs.wiselog.area('list_tr_15_chart');bugs.layermenu.down(this,'32466413','true','true','44.1','false','', null );\n",
              "\"><em class=\"flac\">flac </em>다운로드</a>\n",
              "</td>\n",
              "<td>\n",
              "<a aria-label=\"새창\" class=\"btn viewMV\" href=\"javascript:;\" onclick=\"bugs.wiselog.area('list_tr_16_chart');\n",
              "bugs.layermenu.mv(this,32466413, 606198, 'Y', 'Y', 'Y', 'Y', 32466413, 'N','OVER_12', 'Y');\n",
              "\">영상 재생</a>\n",
              "</td>\n",
              "<td>\n",
              "<a artist_disp_nm=\"태연 (TAEYEON)\" artist_id=\"80026437\" class=\"btnActions\" href=\"javascript:;\" layer_type=\"CHART\" layerpositiontarget=\"td\" onclick=\"bugs.wiselog.area('list_tr_17_chart');\n",
              "bugs.layermenu.trackMoreAction(this,'32466413','0','20450649','bugs.music.listenRadioFromSeed(\\'32466413\\',\\'track\\');','N', 'Y', '_chart');\n",
              "\" track_title=\"INVU\">기타 기능</a>\n",
              "</td>\n",
              "</tr>"
            ]
          },
          "metadata": {},
          "execution_count": 31
        }
      ]
    },
    {
      "cell_type": "code",
      "source": [
        "# 가수\n",
        "\n",
        "# 위 정보의 1위 내용 중 일부이다. \n",
        "# <p class=\"artist\">\n",
        "# <a href=\"https://music.bugs.co.kr/artist/80026437?wl_ref=list_tr_10_chart\" onclick=\"\n",
        "# \" title=\"태연 (TAEYEON)\">태연 (TAEYEON)</a>\n",
        "\n",
        "\n",
        "# len(songs[0].select(\"a\")) # 1위 노래의 a라고 지정된 그룹의 갯수를 확인\n",
        "#                           # 11개임을 확인. 재특정 필요\n",
        "# len(songs[0].select(\"p > a\")) # p 내부의 a 로 재특정\n",
        "#                               # 2개임을 확인. 재특정 필요\n",
        "\n",
        "# len(songs[0].select(\"p.artist > a\")) #p에서도 해당 클래스를 확인 1개임을 확인.\n",
        "\n",
        "# singer = songs[0].select(\"p.artist > a\")[0].text\n",
        "#                                         # 이같은 내용 추가는 가수 이름만 뽑아내기 위함이다.\n",
        "# print(singer)"
      ],
      "metadata": {
        "id": "7B3wFkFT15Pv"
      },
      "execution_count": 46,
      "outputs": []
    },
    {
      "cell_type": "code",
      "source": [
        "# 노래\n",
        "\n",
        "# song = songs[0].select(\"a.album\")[0].text\n",
        "# print(song)\n",
        "\n",
        "# # 하지만 가수와 노래를 동시에 for문으로 돌리기 위해서는 같은 패턴의 변수지정이 좋다.\n",
        "# title = songs[0].select(\"p.title > a\")[0].text\n",
        "# print(title)\n",
        "\n",
        "# 타이틀 top 100\n",
        "# song_data = []\n",
        "# rank = 1\n",
        "# for rank in range(101) :\n",
        "#   singer = songs[rank-1].select(\"p.artist > a\")[0].text\n",
        "#   title = songs[rank-1].select(\"p.title > a\")[0].text\n",
        "#   rank=rank+1  \n",
        "#   song_data.append([rank,title,singer])\n",
        "# song_data\n",
        "\n",
        "# #다른방법\n",
        "song_data = []\n",
        "rank = 1\n",
        "\n",
        "songs = soup.select('table.byChart > tbody > tr')  # -> 최종 100 추출 완료\n",
        "\n",
        "for song in songs:\n",
        "  title = song.select('p.title > a')[0].text\n",
        "  singer = song.select('p.artist > a')[0].text\n",
        "  song_data.append([rank, title, singer])\n",
        "  rank += 1\n",
        "\n",
        "song_data"
      ],
      "metadata": {
        "colab": {
          "base_uri": "https://localhost:8080/"
        },
        "id": "Y3n_RHc58vPb",
        "outputId": "b2ba6bf1-eb1c-42d5-fe9a-6583a2981e20"
      },
      "execution_count": 69,
      "outputs": [
        {
          "output_type": "execute_result",
          "data": {
            "text/plain": [
              "[[1, 'INVU', '태연 (TAEYEON)'],\n",
              " [2, '그래서 그래 (Feat. 윤하)', '에픽하이 (EPIK HIGH)'],\n",
              " [3, '그런 밤 (Some Nights)', '태연 (TAEYEON)'],\n",
              " [4, 'Dilemma', 'Apink (에이핑크)'],\n",
              " [5, 'Set Myself On Fire', '태연 (TAEYEON)'],\n",
              " [6, '어른아이 (Toddler)', '태연 (TAEYEON)'],\n",
              " [7, '우연처럼,인연처럼,운명처럼', '김기태'],\n",
              " [8, 'Timeless', '태연 (TAEYEON)'],\n",
              " [9, 'Siren', '태연 (TAEYEON)'],\n",
              " [10, '품 (Heart)', '태연 (TAEYEON)'],\n",
              " [11, 'Cold As Hell', '태연 (TAEYEON)'],\n",
              " [12, 'No Love Again', '태연 (TAEYEON)'],\n",
              " [13, '잊을 수 있을까', '노을'],\n",
              " [14, 'You Better Not', '태연 (TAEYEON)'],\n",
              " [15, '언제나 사랑해', '케이시'],\n",
              " [16, '너만 예뻐', '스탠딩 에그(Standing Egg)'],\n",
              " [17, \"Stronger (What Doesn't Kill You)\", 'Kelly Clarkson(켈리 클락슨)'],\n",
              " [18, 'Ending Credits', '태연 (TAEYEON)'],\n",
              " [19, 'SMILEY (Feat. BIBI)', 'YENA (최예나)'],\n",
              " [20, 'Prequel', '에픽하이 (EPIK HIGH)'],\n",
              " [21, 'Stay Alive (Prod. SUGA of BTS)', '정국'],\n",
              " [22, '대낮에 한 이별', '선예'],\n",
              " [23, '아무렇지 않은 척', '빅마마(Big Mama)'],\n",
              " [24, 'ELEVEN', 'IVE (아이브)'],\n",
              " [25, 'Rich Kids Anthem (Feat. 이하이)', '에픽하이 (EPIK HIGH)'],\n",
              " [26, 'BRB', '에픽하이 (EPIK HIGH)'],\n",
              " [27, 'Step Back', 'GOT the beat'],\n",
              " [28, \"Can't Control Myself\", '태연 (TAEYEON)'],\n",
              " [29, '취중고백', '김민석 (멜로망스)'],\n",
              " [30, 'abcdefu', 'GAYLE'],\n",
              " [31, 'Super Rare (Feat. Wonstein, pH-1)', '에픽하이 (EPIK HIGH)'],\n",
              " [32, '슬픈 연극 (금혼령 X 에일리 (Ailee))', '에일리(Ailee)'],\n",
              " [33, '사랑은 늘 도망가', '임영웅'],\n",
              " [34, '우리가 헤어져야 했던 이유', '비비(BIBI)'],\n",
              " [35, '너 아니면 안돼', '먼데이 키즈(Monday Kiz)'],\n",
              " [36, '서랍', '10CM'],\n",
              " [37, '넌 나에게', '기프트(GIFT)'],\n",
              " [38, 'DM', '프로미스나인'],\n",
              " [39, 'Dreams Come True', 'aespa'],\n",
              " [40, 'BOP BOP!', 'VIVIZ (비비지)'],\n",
              " [41, '드라마', '아이유(IU)'],\n",
              " [42, 'Christmas Tree', 'V'],\n",
              " [43, 'Next Level', 'aespa'],\n",
              " [44, 'strawberry moon', '아이유(IU)'],\n",
              " [45, 'Counting Stars (Feat. Beenzino)', \"BE'O (비오)\"],\n",
              " [46, '너, 너 (N번째 연애 X 휘인 (Whee In))', '휘인(Whee In)'],\n",
              " [47, '신호등', '이무진'],\n",
              " [48, '눈이 오잖아(Feat.헤이즈)', '이무진'],\n",
              " [49, 'Champagne', '에픽하이 (EPIK HIGH)'],\n",
              " [50, '비 오는 날 듣기 좋은 노래 (Feat. Colde)', '에픽하이 (EPIK HIGH)'],\n",
              " [51, '다정히 내 이름을 부르면', '경서예지'],\n",
              " [52, '회전목마 (Feat. Zion.T, 원슈타인) (Prod. Slom)', 'sokodomo'],\n",
              " [53, '겨울잠', '아이유(IU)'],\n",
              " [54, '여름비', '샘김(Sam Kim)'],\n",
              " [55, 'STAY', 'The Kid LAROI'],\n",
              " [56, '라일락', '아이유(IU)'],\n",
              " [57, '안녕, 잘 가', '원필(DAY6)'],\n",
              " [58, '가족관계증명서 (Feat. 김필)', '에픽하이 (EPIK HIGH)'],\n",
              " [59, 'OHAYO MY NIGHT', '디핵(D-Hack)'],\n",
              " [60, '리무진 (Feat. MINO) (Prod. GRAY)', \"BE'O (비오)\"],\n",
              " [61, 'Light Switch', 'Charlie Puth(찰리 푸스)'],\n",
              " [62, 'Butter', '방탄소년단'],\n",
              " [63, \"I Hated Myself (Tablo's Word)\", '에픽하이 (EPIK HIGH)'],\n",
              " [64, 'Savage', 'aespa'],\n",
              " [65, '너무 아픈 사랑은 사랑이 아니었음을', '싱어게인2 33호 가수'],\n",
              " [66, 'Off My Face', 'Justin Bieber(저스틴 비버)'],\n",
              " [67, 'Permission to Dance', '방탄소년단'],\n",
              " [68, '사랑하는 척', '바이브'],\n",
              " [69, '문득', \"BE'O (비오)\"],\n",
              " [70, 'Blueming', '아이유(IU)'],\n",
              " [71, 'Dynamite', '방탄소년단'],\n",
              " [72, '만남은 쉽고 이별은 어려워 (Feat. Leellamarz) (Prod. TOIL)', '베이식(Basick)'],\n",
              " [73, 'WA DA DA', 'Kep1er (케플러)'],\n",
              " [74, 'Weekend', '태연 (TAEYEON)'],\n",
              " [75, 'Celebrity', '아이유(IU)'],\n",
              " [76, '낙하 (with 아이유)', 'AKMU(악뮤)'],\n",
              " [77, \"Good Night (Feat. BE'O)\", '쿠기 (Coogie)'],\n",
              " [78, 'My Universe', 'Coldplay(콜드플레이)'],\n",
              " [79, 'Face ID (Feat. GIRIBOY, Sik-K, JUSTHIS)', '에픽하이 (EPIK HIGH)'],\n",
              " [80, '흰눈', '먼데이 키즈(Monday Kiz)'],\n",
              " [81, '호랑수월가', '탑현'],\n",
              " [82, '너를 생각해', '주시크 (Joosiq)'],\n",
              " [83, '행운을 빌어 줘', '원필(DAY6)'],\n",
              " [84, 'HOLY MOLY', 'Apink (에이핑크)'],\n",
              " [85, '지우게', '원필(DAY6)'],\n",
              " [86, '너의 모든 순간', '성시경'],\n",
              " [87, 'Starlight', '태일 (TAEIL)'],\n",
              " [88, 'Bad Habits', 'Ed Sheeran(에드 시런)'],\n",
              " [89, 'Peaches (feat. Daniel Caesar, Giveon)', 'Justin Bieber(저스틴 비버)'],\n",
              " [90, '너는 내 세상이었어', '볼빨간사춘기'],\n",
              " [91, '모든 날, 모든 순간 (Every day, Every Moment)', '폴킴(Paul Kim)'],\n",
              " [92, '이별후회', '김나영'],\n",
              " [93, 'Queendom', 'Red Velvet (레드벨벳)'],\n",
              " [94, '바라만 본다', 'MSG워너비(M.O.M)'],\n",
              " [95, '에잇(Prod.&Feat. SUGA of BTS)', '아이유(IU)'],\n",
              " [96, '어떻게 이별까지 사랑하겠어, 널 사랑하는 거지', 'AKMU(악뮤)'],\n",
              " [97, '이등병의 DM', '임플란티드 키드 (Implanted Kid)'],\n",
              " [98, 'Tiny Riot', 'Sam Ryder'],\n",
              " [99, '언덕나무', '이승윤'],\n",
              " [100, '어른', 'Sondia']]"
            ]
          },
          "metadata": {},
          "execution_count": 69
        }
      ]
    },
    {
      "cell_type": "code",
      "source": [
        "import pandas as pd #만든 리스트를 엑셀형식으로 재구성\n",
        "\n",
        "df = pd.DataFrame(song_data, columns = ['순위','타이틀','가수'])\n",
        "print(df)"
      ],
      "metadata": {
        "colab": {
          "base_uri": "https://localhost:8080/"
        },
        "id": "rH0QF21IBrx7",
        "outputId": "bf8475cf-0399-4684-c5d7-f3eef5a679f8"
      },
      "execution_count": 64,
      "outputs": [
        {
          "output_type": "stream",
          "name": "stdout",
          "text": [
            "     순위                        타이틀                        가수\n",
            "0     1                       INVU              태연 (TAEYEON)\n",
            "1     2          그래서 그래 (Feat. 윤하)          에픽하이 (EPIK HIGH)\n",
            "2     3         그런 밤 (Some Nights)              태연 (TAEYEON)\n",
            "3     4                    Dilemma              Apink (에이핑크)\n",
            "4     5         Set Myself On Fire              태연 (TAEYEON)\n",
            "..  ...                        ...                       ...\n",
            "95   96  어떻게 이별까지 사랑하겠어, 널 사랑하는 거지                  AKMU(악뮤)\n",
            "96   97                    이등병의 DM  임플란티드 키드 (Implanted Kid)\n",
            "97   98                  Tiny Riot                 Sam Ryder\n",
            "98   99                       언덕나무                       이승윤\n",
            "99  100                         어른                    Sondia\n",
            "\n",
            "[100 rows x 3 columns]\n"
          ]
        }
      ]
    },
    {
      "cell_type": "code",
      "source": [
        "df.to_excel('bugs.xlsx', index=False)  #출력한 리스트를 엑셀로 저장"
      ],
      "metadata": {
        "id": "ZOAQdxW3BykQ"
      },
      "execution_count": 65,
      "outputs": []
    },
    {
      "cell_type": "code",
      "source": [
        "# 멜론 (코드는 jupyter 에서 처리)"
      ],
      "metadata": {
        "id": "XFfTCRPgvPwv"
      },
      "execution_count": 70,
      "outputs": []
    },
    {
      "cell_type": "code",
      "source": [
        "# 지니 (코드는 jupyter 에서 처리)"
      ],
      "metadata": {
        "id": "xrDXoBIyvQms"
      },
      "execution_count": 71,
      "outputs": []
    },
    {
      "cell_type": "code",
      "source": [
        "# 001 Ask for the user's first name and display the output message\n",
        "# (output) Hello [First Name]\n",
        "# (input)   First Name :\n",
        "a = input(\"First Name : \")\n",
        "print(f\"Hello {a} \")"
      ],
      "metadata": {
        "colab": {
          "base_uri": "https://localhost:8080/"
        },
        "id": "jdqkCnmtikCu",
        "outputId": "03fe5995-bc39-4b56-e8c2-89af31c2ec3c"
      },
      "execution_count": 78,
      "outputs": [
        {
          "output_type": "stream",
          "name": "stdout",
          "text": [
            "First Name : py\n",
            "Hello py \n"
          ]
        }
      ]
    },
    {
      "cell_type": "code",
      "source": [
        "# 002 Ask for the user's first name and then as for their surname and display the output message\n",
        "# (output) Hello [First Name] [Surname]\n",
        "# (input) 'Please enter your surname : '\n",
        "# (input) 'Please enter your firstname : '\n",
        "a = input(\"Please enter your surname : \")\n",
        "b = input(\"Please enter your firstName : \")\n",
        "\n",
        "print(f\"Hello {a} {b} \")"
      ],
      "metadata": {
        "colab": {
          "base_uri": "https://localhost:8080/"
        },
        "id": "iI9tXy_KkVps",
        "outputId": "da353b56-035c-43a8-a2ff-865b04a395b8"
      },
      "execution_count": 81,
      "outputs": [
        {
          "output_type": "stream",
          "name": "stdout",
          "text": [
            "First Name : py\n",
            "Surname : d3\n",
            "Hello pyd3 \n"
          ]
        }
      ]
    },
    {
      "cell_type": "code",
      "source": [
        "# 003 Ask the user to enter two numbers. Add them together and display the answer as \n",
        "#(output) The total is [answer]\n",
        "#(input) 'Please enter your first number : '\n",
        "#(input) 'Please enter your second number : '\n",
        "a = int(input(\"Please enter your first number : \"))\n",
        "b = int(input(\"Please enter your second number : \"))\n",
        "\n",
        "print(f\"The total is {a+b}\")"
      ],
      "metadata": {
        "colab": {
          "base_uri": "https://localhost:8080/"
        },
        "id": "pg6kEoiMlSOI",
        "outputId": "bc8a34c9-44f5-43f5-b66e-511449a2105d"
      },
      "execution_count": 84,
      "outputs": [
        {
          "output_type": "stream",
          "name": "stdout",
          "text": [
            "Please enter your first number : 1\n",
            "Please enter your second number : 2\n",
            "The total is 3\n"
          ]
        }
      ]
    },
    {
      "cell_type": "code",
      "source": [
        "# 004 Ask how many slices of pizza the user started with and ask how many slices they have eaten.\n",
        "# Work out how many slices they have left and display the answer in a user friendly format.\n",
        "\n",
        "# (input) 'Enter the number of slices of pizza you started with : '\n",
        "# (input) 'How many slices have you eaten? '\n",
        "# (output) 'The answer is [ answer ]' \n",
        "a = int(input(\"Enter the number of slices of pizza you started with : \"))\n",
        "b = int(input(\"How many slices have you eaten? : \"))\n",
        "\n",
        "print(f\"The answer is {a-b}\")"
      ],
      "metadata": {
        "colab": {
          "base_uri": "https://localhost:8080/"
        },
        "id": "Bm8FcfoTnCrI",
        "outputId": "f0a2c3f7-67ac-4850-99d7-18fe8b73ef15"
      },
      "execution_count": 86,
      "outputs": [
        {
          "output_type": "stream",
          "name": "stdout",
          "text": [
            "Enter the number of slices of pizza you started with : 6\n",
            "How many slices have you eaten? : 3\n",
            "The answer is 3\n"
          ]
        }
      ]
    },
    {
      "cell_type": "code",
      "source": [
        "#005 rite a program that will ask for a number of days and then will show\n",
        "# how many hours, minutes and seconds are in that number of days.\n",
        "# 일수를 입력 받아서 그 일수가 몇시간 몇분 몇초가 남았는지를 계산하시오\n",
        "\n",
        "days = int(input(\"enter the number of day : \"))\n",
        "print(f'\\tIn {days}, days there are...\\n\\t\\t{days*24} hours,\\n\\t\\t{days*24*60} minutes,\\n\\t\\t{days*24*60*60} seconds')"
      ],
      "metadata": {
        "colab": {
          "base_uri": "https://localhost:8080/"
        },
        "id": "JOWC2fEPomKj",
        "outputId": "2f895f83-de7c-4269-d929-b318d4c1ed27"
      },
      "execution_count": 102,
      "outputs": [
        {
          "output_type": "stream",
          "name": "stdout",
          "text": [
            "enter the number of day : 2\n",
            "\tIn 2, days there are...\n",
            "\t\t48 hours,\n",
            "\t\t2880 minutes,\n",
            "\t\t172800 seconds\n"
          ]
        }
      ]
    },
    {
      "cell_type": "code",
      "source": [
        "#006 Task the user to enter a number over 100 and then enter a number \n",
        "# under 10 and tell them how many times the smaller number goes into the larger\n",
        "# number in a user-friendly format.\n",
        "\n",
        "# (input) 'Enter the number over 100 : '\n",
        "# (input) 'Enter the number under 10 : '\n",
        "# (output) '[smaller] goes into [larger] answer [times]'\n",
        "\n",
        "over = int(input(\"Enter the number over 100 : \"))\n",
        "under = int(input(\"Enter the number under 10 : \"))\n",
        "\n",
        "print(f'{under} goes into {over} answer {over//under}times')\n",
        "print(f'{under} goes into {over} answer {int(over/under)}times')"
      ],
      "metadata": {
        "colab": {
          "base_uri": "https://localhost:8080/"
        },
        "id": "YIVXg6DxsnW8",
        "outputId": "0c9e0e7f-c5e0-41f6-9091-2bfede5bf87b"
      },
      "execution_count": 111,
      "outputs": [
        {
          "output_type": "stream",
          "name": "stdout",
          "text": [
            "Enter the number over 100 : 105\n",
            "Enter the number under 10 : 9\n",
            "9 goes into 105 answer 11times\n",
            "9 goes into 105 answer 11times\n"
          ]
        }
      ]
    },
    {
      "cell_type": "code",
      "source": [
        "#005 Ask for two numbers. If the first one is larger than the second, display the second number first and\n",
        "# then the first number, otherwise show the first number first and then the second.\n",
        "f = int(input(\"Enter first number : \"))\n",
        "s = int(input(\"Enter second number : \"))\n",
        "\n",
        "if f>s :\n",
        "  print(s,f)\n",
        "else :\n",
        "  print(f,s)"
      ],
      "metadata": {
        "colab": {
          "base_uri": "https://localhost:8080/"
        },
        "id": "OsWVwY-rwtIj",
        "outputId": "0f21e0f7-8807-4cc9-ce61-757d17e59f8e"
      },
      "execution_count": 114,
      "outputs": [
        {
          "output_type": "stream",
          "name": "stdout",
          "text": [
            "Enter first number : 3\n",
            "Enter second number : 2\n",
            "2 3\n"
          ]
        }
      ]
    },
    {
      "cell_type": "code",
      "source": [
        "#006 Ask the user to enter a number between 10 and 20 If they enter a number within this range,\n",
        "# display the message 'Thank you' otherwise display the message 'incorrect number'\n",
        "\n",
        "f = int(input(\"Enter number : \"))\n",
        "\n",
        "if 21>f>9:\n",
        "  print(\"Thank you\")\n",
        "else :\n",
        "  print(\"incorrect number\")"
      ],
      "metadata": {
        "colab": {
          "base_uri": "https://localhost:8080/"
        },
        "id": "S0xblLQ50qFx",
        "outputId": "ba39c55f-e3e8-488f-84b9-47998a7f03ac"
      },
      "execution_count": 127,
      "outputs": [
        {
          "output_type": "stream",
          "name": "stdout",
          "text": [
            "Enter number : 0\n",
            "incorrect number\n"
          ]
        }
      ]
    },
    {
      "cell_type": "code",
      "source": [
        "#007 Ask the user to enter their favorite color. If they enter 'red', 'RED' or 'Red'\n",
        "# display the message ' I like red too', otherwise display the message \n",
        "# 'I dont like [color], I prefer red'.\n",
        "\n",
        "f = input(\"Enter color : \")\n",
        "t = [\"RED\",\"Red\",\"red\"]\n",
        "\n",
        "if f in t :\n",
        "    print('I like red too')\n",
        "\n",
        "else :\n",
        "  print(\"I dont like {f},I prefer red\")"
      ],
      "metadata": {
        "colab": {
          "base_uri": "https://localhost:8080/"
        },
        "id": "dnXYLPnM2wHP",
        "outputId": "a99c8e33-8aa1-4b65-cb82-6cd854f96ee6"
      },
      "execution_count": 133,
      "outputs": [
        {
          "output_type": "stream",
          "name": "stdout",
          "text": [
            "Enter color : red\n",
            "I like red too\n"
          ]
        }
      ]
    },
    {
      "cell_type": "code",
      "source": [
        "#008 Ask the user if it is raining and convert their answer to lower case \n",
        "# so it doesnt matter what case they type it in. If they answer 'yes',\n",
        "# ask if it is windy. If they answer 'yes' to this second question,\n",
        "# display the answer 'It is too windy for an umbrella', otherwise\n",
        "# display the message 'Ta\n",
        "# (output) 'It is too windy for an umbrella'\n",
        "# (output) 'Take an umbrella'\n",
        "# (output) 'Enjoy your day'.\n",
        "\n",
        "f = input(\" is it raining? : \")\n",
        "f = f.lower()\n",
        "\n",
        "if  f == \"yes\":\n",
        "  w = input(\"Is it windy? : \")\n",
        "  w = w.lower()\n",
        "  if w == \"yes\":\n",
        "    print('It is too windy for an umbrella')\n",
        "  else :\n",
        "    print('Take an umbrella')\n",
        "    \n",
        "else :\n",
        "  print('Enjoy your day')"
      ],
      "metadata": {
        "colab": {
          "base_uri": "https://localhost:8080/"
        },
        "id": "JC-owBdj5vz9",
        "outputId": "86ae5669-5258-44ed-c2bf-df26247fd2a7"
      },
      "execution_count": 139,
      "outputs": [
        {
          "output_type": "stream",
          "name": "stdout",
          "text": [
            " is it raining? : YES\n",
            "yes\n",
            "Is it windy? : YES\n",
            "It is too windy for an umbrella\n"
          ]
        }
      ]
    },
    {
      "cell_type": "code",
      "source": [
        "#009 Ask the user's age. If they are 18 or over, display the message 'You can vote',\n",
        "# if they are aged 17, display the message 'You can learn to drive', \n",
        "# if they are 16, display the message 'You can by a lottery ticket', \n",
        "# if they are under 16, display the message 'You can go Trick or Treating'\n",
        "\n",
        "f = int(input(\" what is your age : \"))\n",
        "\n",
        "if f >= 18:\n",
        "  print(\"you can vote\")\n",
        "elif f == 17 :\n",
        "  print(\"you can learn to dive\")\n",
        "elif f == 16 :\n",
        "  print(\"You can by a lottery ticket\")\n",
        "else :\n",
        "  print(\"You can go Trick or Treating\")"
      ],
      "metadata": {
        "colab": {
          "base_uri": "https://localhost:8080/"
        },
        "id": "p7seRKOOCEtC",
        "outputId": "54736246-ead1-4014-e06d-fb21d7afab21"
      },
      "execution_count": 145,
      "outputs": [
        {
          "output_type": "stream",
          "name": "stdout",
          "text": [
            " what is your age : 18\n",
            "you can vote\n"
          ]
        }
      ]
    },
    {
      "cell_type": "code",
      "source": [
        "#010 Ask the user to enter their name and then display the length of their name !\n",
        "f = input(\" name : \")\n",
        "print(len(f))"
      ],
      "metadata": {
        "colab": {
          "base_uri": "https://localhost:8080/"
        },
        "id": "RMVOptqRDlYk",
        "outputId": "127bad7a-9f42-434e-bdad-28826f784fad"
      },
      "execution_count": 149,
      "outputs": [
        {
          "output_type": "stream",
          "name": "stdout",
          "text": [
            " name : asdd\n",
            "4\n"
          ]
        }
      ]
    },
    {
      "cell_type": "code",
      "source": [
        "#011 Ask the user to enter their first name and lastname in lower case.\n",
        "# Change the case to title case and join them together.\n",
        "# Display the finished result.\n",
        "# title case = 첫글자만 대문자\n",
        "\n",
        "f = input(\" enter your first name in lower case : \")\n",
        "s = input(\" enter your last name in lower case : \")\n",
        "\n",
        "f = f[0].upper()+f[1:]\n",
        "s = s[0].upper()+s[1:]\n",
        "\n",
        "# f = f.title()\n",
        "# s = s.title()\n",
        "# or\n",
        "# f = f.capitalize()\n",
        "# s = s.capitalize()\n",
        "\n",
        "# 설명\n",
        "# capitalize() : 문장의 첫 단어의 첫 글자만 대문자로 바꾸는 경우에 사용.\n",
        "# title() : 문장의 모든 단어의 첫 글자를 대문자로 바꾸는 경우에 사용.\n",
        "# 주의사항) title()은 문자열에서 알파벳 외의 문자(숫자, 특수기호, 띄어쓰기 등)들을 기준으로 첫 글자를 대문자로 바꾼다.\n",
        "\n",
        "name = f + \" \" + s\n",
        "print(name)"
      ],
      "metadata": {
        "colab": {
          "base_uri": "https://localhost:8080/"
        },
        "id": "LvjOgR0dFNPJ",
        "outputId": "c9517557-4688-407c-91e2-c381ec25fa69"
      },
      "execution_count": 166,
      "outputs": [
        {
          "output_type": "stream",
          "name": "stdout",
          "text": [
            " enter your first name in lower case : asd.\n",
            " enter your last name in lower case : xbxcvb\n",
            "Asd. Xbxcvb\n"
          ]
        }
      ]
    },
    {
      "cell_type": "code",
      "source": [
        "# Ask the user to enter their first name . If the length of their first name is under five characters,\n",
        "# ask them to enter their last name and join them together (without a space) and \n",
        "# display the name in upper case. If the length of the first name is five or more characters,\n",
        "# display their first name in lower case.\n",
        "\n",
        "f = input(\" enter your first name in lower case : \")\n",
        "\n",
        "if len(f)< 5 :\n",
        "  s = input(\" enter your last name in lower case : \")\n",
        "  fu = f+s\n",
        "  print(fu.upper())\n",
        "else :\n",
        "  print(f.lower())"
      ],
      "metadata": {
        "colab": {
          "base_uri": "https://localhost:8080/"
        },
        "id": "_mdnoZ2WNURi",
        "outputId": "dd5088b1-ebd1-41d3-bbbc-cbd0699513cd"
      },
      "execution_count": 174,
      "outputs": [
        {
          "output_type": "stream",
          "name": "stdout",
          "text": [
            " enter your first name in lower case : aus\n",
            " enter your last name in lower case : you\n",
            "AUSYOU\n"
          ]
        }
      ]
    },
    {
      "cell_type": "code",
      "source": [
        "# pig Latin takes the first character of a word,\n",
        "# moves it to the end of the word and adds on an 'ay'\n",
        "# if a word begins with a vowel you just add 'way'to the end\n",
        "\n",
        "# For example, pig becomes igpay, banana becomes ananabay, and aadvark becomes\n",
        "# aaddvarkway. Create a program that will ask the user to enter a word and \n",
        "# change it into Pig Latin.\n",
        "\n",
        "# 피그 라틴은 단어의 첫 글자가 자음이라면 단어의 맨 뒤로 이동하고 마지막에 'ay'를 추가한다.\n",
        "# 만약 단어가  모음으로 시작한다면 단어의 끝에 그냥 \"way\" 붙인다.\n",
        "\n",
        "# 자음 앞으로 뒤에 ay\n",
        "# 모음 뒤로 way\n",
        "\n",
        "t = input(\"string\")\n",
        "m = [\"a\",\"e\",\"i\",\"o\",\"u\"]\n",
        "for i in t :\n",
        "  if i in m :\n",
        "    t = t+\"way\"\n",
        "    break\n",
        "  else :\n",
        "    t = t[1:]+t[0]+\"ay\"\n",
        "    break\n",
        "\n",
        "print(t.lower())\n",
        "\n",
        "# for문 비 사용시\n",
        "# word = input('Please enter a word : ')\n",
        "# first = word[0]\n",
        "# length = len(word)\n",
        "# rest = word[1:length]\n",
        "\n",
        "# if first not in ['a','e','i','o','u']:  #모음 vowel\n",
        "#   newword = rest + first + 'ay'\n",
        "# else:\n",
        "#   newword = word + 'way'\n",
        "\n",
        "# print(newword.lower())"
      ],
      "metadata": {
        "colab": {
          "base_uri": "https://localhost:8080/"
        },
        "id": "CL7inPtJPK01",
        "outputId": "9fad3757-ca26-4837-ac0c-cb9ce1b3e007"
      },
      "execution_count": 178,
      "outputs": [
        {
          "output_type": "stream",
          "name": "stdout",
          "text": [
            "stringpig\n",
            "igpay\n"
          ]
        }
      ]
    }
  ]
}