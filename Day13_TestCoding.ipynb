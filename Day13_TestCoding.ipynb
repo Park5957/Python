{
  "nbformat": 4,
  "nbformat_minor": 0,
  "metadata": {
    "colab": {
      "name": "Day13_TestCoding",
      "provenance": [],
      "collapsed_sections": [],
      "authorship_tag": "ABX9TyP0KgHxU7wsU2eaIn6Zl8l1",
      "include_colab_link": true
    },
    "kernelspec": {
      "name": "python3",
      "display_name": "Python 3"
    },
    "language_info": {
      "name": "python"
    }
  },
  "cells": [
    {
      "cell_type": "markdown",
      "metadata": {
        "id": "view-in-github",
        "colab_type": "text"
      },
      "source": [
        "<a href=\"https://colab.research.google.com/github/Park5957/ai/blob/main/Day13_TestCoding.ipynb\" target=\"_parent\"><img src=\"https://colab.research.google.com/assets/colab-badge.svg\" alt=\"Open In Colab\"/></a>"
      ]
    },
    {
      "cell_type": "code",
      "execution_count": 8,
      "metadata": {
        "colab": {
          "base_uri": "https://localhost:8080/"
        },
        "id": "nryJ3U5i-HwI",
        "outputId": "bbe7c4c3-8613-40fe-8d1e-7ec3af8a0d63"
      },
      "outputs": [
        {
          "output_type": "stream",
          "name": "stdout",
          "text": [
            "number5\n",
            "5stop the program \n"
          ]
        }
      ],
      "source": [
        "# Ask the user to enter a number. keep asking until they enter a value over 5\n",
        "# and then display the message :the last number you entered was a \"[number]\"\n",
        "# and stop the program \n",
        "a = 0\n",
        "while a<5 :\n",
        "  a = int(input(\"number\"))\n",
        "print(f\"Last number is {a}. stop the program \")"
      ]
    },
    {
      "cell_type": "code",
      "source": [
        "# Ask the user to enter a number and then enter another number.\n",
        "# Add there two numbers together and then ask \n",
        "# if they want to add another number. If they enter 'y', ask them to enter \n",
        "# another numbers until they do not answer 'y'. Once the loop has stopped,\n",
        "\n",
        "a = int(input(\"number\"))\n",
        "c = \"Y\"\n",
        "while c == \"Y\" :\n",
        "  b = int(input(\"number\"))\n",
        "  a = a+b\n",
        "  c = input(\"Y?\")\n",
        "\n",
        "print(f\"total is  : {a}\")"
      ],
      "metadata": {
        "colab": {
          "base_uri": "https://localhost:8080/"
        },
        "id": "NQY85_nn3p2I",
        "outputId": "d6d4adc3-4731-472c-96b9-dd57876331ec"
      },
      "execution_count": 31,
      "outputs": [
        {
          "output_type": "stream",
          "name": "stdout",
          "text": [
            "number2\n",
            "number3\n",
            "Y?Y\n",
            "number2\n",
            "Y?3\n",
            "total is  : 7\n"
          ]
        }
      ]
    },
    {
      "cell_type": "code",
      "source": [
        "# Ask for the name of somebody the user wants to invite to a party.\n",
        "# After this, display the message '[name] has been invited' \n",
        "# and add 1 to the count. Then ask if they want to invite somebody else.\n",
        "# Keep repeating this until they no longer want to invite anyone else to the\n",
        "# party and then display how many people they have coming to the parth\n",
        "\n",
        "count = 0\n",
        "b = \"Y\"\n",
        "while b == \"Y\" :\n",
        "  a = input(\"invite name\")\n",
        "  print(f\"invite {a}\")\n",
        "  count +=1\n",
        "  b =input(\"more? (Y/N)\")\n",
        "\n",
        "print(f\"total invite {count}\")"
      ],
      "metadata": {
        "colab": {
          "base_uri": "https://localhost:8080/"
        },
        "id": "6SRsuBCE7ctt",
        "outputId": "a7efe5bd-0a8d-4fff-a74f-0c77fa13d6ac"
      },
      "execution_count": 35,
      "outputs": [
        {
          "output_type": "stream",
          "name": "stdout",
          "text": [
            "join nameasd\n",
            "join asd\n",
            "more? (Y/N)Y\n",
            "join nameasd\n",
            "join asd\n",
            "more? (Y/N)Y\n",
            "join nameasd\n",
            "join asd\n",
            "more? (Y/N)\n",
            "total join 3\n"
          ]
        }
      ]
    },
    {
      "cell_type": "code",
      "source": [
        "import random as ran\n",
        "compnum=ran.randrange(50)\n",
        "print(compnum)\n",
        "a = int(input(\"what is compnum number? : \"))\n",
        "count = 1\n",
        "while a != compnum :\n",
        "  if a > compnum :\n",
        "    a = int(input(\"up : \"))\n",
        "  elif a < compnum :\n",
        "    a = int(input(\"down : \"))\n",
        "  count += 1\n",
        "\n",
        "print(f\"{count} apptmpts\")\n"
      ],
      "metadata": {
        "colab": {
          "base_uri": "https://localhost:8080/"
        },
        "id": "7wPi2DuP-c5Q",
        "outputId": "afd75257-4548-4840-b1a8-51ba50c469e8"
      },
      "execution_count": 56,
      "outputs": [
        {
          "output_type": "stream",
          "name": "stdout",
          "text": [
            "18\n",
            "what is compnum number? : 18\n",
            "1 apptmpts\n"
          ]
        }
      ]
    },
    {
      "cell_type": "code",
      "source": [
        "# Using the song '10 green bottles', display the lines \n",
        "# '10 green bottles' 라는 노래를 이용하여\n",
        "\n",
        "# 'There are [num] green bottles hanging on the wall, \n",
        "# [num] green bottles hanging on the wall, \n",
        "# and if 1 green bottle should accidentally fall'\n",
        "# 라는 가사를 출력하고\n",
        "\n",
        "# Then ask the question 'how many green bottles will be hanging on the wall?'\n",
        "# 남은 병의 갯수는 몇개니 라고 질문한다. \n",
        "# If the user answers correctly, display the message\n",
        "# 질문에 맞는 답을 하면 \n",
        "# 'There will be [num] green bottles hanging on the wall'\n",
        "# 몇개 남은 결과를 출력하고\n",
        "# If they answer incorrectly, display the message \n",
        "# 틀린 답을 입력하면 \n",
        "# 'No, try again' until they get if right.\n",
        "# 다시 시도하셔요 라고 맞출때까지 반복한다. \n",
        "# When the number of green bottles gets down to 0,\n",
        "# 병의 개수가 0이되면 \n",
        "# display the message 'There are no more green bottles hanging on the wall'\n",
        "# 더이상 남은 병은 없습니다. 출력하고 종료한다. \n",
        "\n",
        "\n",
        "num = 10\n",
        "\n",
        "while num > 0 :\n",
        "  print('There are', num, 'green bottles hanging on the wall,')\n",
        "  print(num,' green bottles hanging on the wall,') \n",
        "  print('and if 1 green bottle should accidentally fall')\n",
        "  num -= 1\n",
        "  ans = int(input('How many green bottles will be hanging on the wall?'))\n",
        "  if ans == num:\n",
        "    print('There will be', num, ' green bottles hanging on the wall')\n",
        "  else: \n",
        "    while ans != num:\n",
        "      ans = int(input('No, try again :'))\n",
        "print('There are no more green bottles hanging on the wall')"
      ],
      "metadata": {
        "id": "WIWKUsclIBaL"
      },
      "execution_count": null,
      "outputs": []
    },
    {
      "cell_type": "code",
      "source": [
        "# Random : Python can generate random values\n",
        "\n",
        "# - Random numbers within a specified range. \n",
        "# - A random choice from a range of items that are input. \n",
        "\n",
        "# To use these two options, you will need to import the random module. \n",
        "# You do this by typing import random at the start of your program.\n",
        "\n",
        "import random\n",
        "\n",
        "num = random.random()\n",
        "print(num)\n",
        "num = int(random.random())\n",
        "print(num)\n",
        "num = int(random.random()*10)\n",
        "print(num)\n",
        "num = random.randint(0,9) ## 주의! 마지막 수는 포함됨\n",
        "print(num)\n",
        "num = random.randrange(0,100,5)\n",
        "print(num)\n",
        "color = random.choice([\"red\",\"BK\",\"BL\",\"GR\",\"WH\"])\n",
        "print(color)"
      ],
      "metadata": {
        "colab": {
          "base_uri": "https://localhost:8080/"
        },
        "id": "agG8ZXmXNJL3",
        "outputId": "3a186a85-b67f-44e8-8155-7825e2a4e296"
      },
      "execution_count": 75,
      "outputs": [
        {
          "output_type": "stream",
          "name": "stdout",
          "text": [
            "0.5972893631975087\n",
            "0\n",
            "7\n",
            "3\n",
            "20\n",
            "red\n"
          ]
        }
      ]
    },
    {
      "cell_type": "code",
      "source": [
        "# Randomly choose either heads or tails(\"h or t\")\n",
        "# Ask the user to make their choice\n",
        "# if their choice is the same as rhe randomly selected value,\n",
        "# display the message \"you Win\", otherwise display \"bad luck\".\n",
        "# at the end, tell the user if the  computer selected heads or tails\n",
        "import random\n",
        "u = input(\"choice h or t : \")\n",
        "r = random.choice([\"h\",\"t\"])\n",
        "if u == r :\n",
        "  print(\"You Win\")\n",
        "else :\n",
        "  print(\"bad luck\")\n",
        "print(f\"comper is {r}\")\n"
      ],
      "metadata": {
        "colab": {
          "base_uri": "https://localhost:8080/"
        },
        "id": "-KHQCRaqUyO3",
        "outputId": "5e6a36c9-a7d0-41ca-b769-1dd33541fdaf"
      },
      "execution_count": 80,
      "outputs": [
        {
          "output_type": "stream",
          "name": "stdout",
          "text": [
            "choice h or t : \n",
            "bad luck\n",
            "comper is t\n"
          ]
        }
      ]
    },
    {
      "cell_type": "code",
      "source": [
        "# makes a maths quiz that asks five questions\n",
        "# by randomly generaring two whole number to make the questions\n",
        "\n",
        "# ask the user to enter the answer\n",
        "# if they get it right add a point to their score\n",
        "# At the end of the quiz, tell them how many they got correct out of five\n",
        "import random\n",
        "count = 0\n",
        "for i in range(5) :\n",
        "  num = random.randint(1,9)\n",
        "  num2 = random.randint(1,9)\n",
        "  a = int(input(f\"{num}+{num2}=?\"))\n",
        "  if a == num+num2 :\n",
        "    count += 1\n",
        "  \n",
        "print(f\"You scored {count} out of 5\")"
      ],
      "metadata": {
        "colab": {
          "base_uri": "https://localhost:8080/"
        },
        "id": "n9BTkSbzXEMB",
        "outputId": "d6e339a9-3752-4bc1-8228-502e53837840"
      },
      "execution_count": 87,
      "outputs": [
        {
          "output_type": "stream",
          "name": "stdout",
          "text": [
            "5+2=?7\n",
            "6+7=?13\n",
            "2+5=?7\n",
            "1+7=?8\n",
            "3+7=?10\n",
            "You scored 5 out of 5\n"
          ]
        }
      ]
    },
    {
      "cell_type": "code",
      "source": [
        "# display five colors and ask the user to pick one.\n",
        "# if they ipck the same as the program has chosen,\n",
        "# say \"Well doen\", otherwise display a witty answer which involves\n",
        "# the correct colors... like ... \" i bet you are GREEN with envy\"\n",
        "# ask them to guess again : if they have still not got it rigth,\n",
        "# keep giving them the same clue and ask the user to enter a color\n",
        "# until they guess it correctly\n",
        "\n",
        "import random\n",
        "\n",
        "c = random.choice([\"Red\",\"Black\",\"Blue\",\"Green\",\"White\"])\n",
        "h_count = 0\n",
        "while True :\n",
        "  u = input(\"choice color : [Red,Black,Blue,Green,White]\")\n",
        "  if c == u :\n",
        "    print(f\"Well doen!! 정답은 {c} 가 맞습니다!\")\n",
        "    break\n",
        "  elif c != u :\n",
        "    h_count += 1\n",
        "    print(\"Wrong!\")\n",
        "    if h_count >= 3:\n",
        "      print(f\"설마 오타겠죠? 당신의 얼굴이 지금 {c}같아 졌어요.\")\n",
        "      \n",
        "    elif c == \"Red\" :\n",
        "      if  h_count == 1 :\n",
        "        print(\"Hint : 컴퓨터를 오래본 당신의 눈 같네요\")\n",
        "      elif  h_count == 2 :\n",
        "        print(\"거울을 안보시나 보네요. 술은 잘 드시나요? 마시다 보면 이 색처럼 됩니다.\")\n",
        "    \n",
        "    elif c == \"Black\" :\n",
        "      if  h_count == 1 :\n",
        "        print(\"Hint : 바닥 아래에는 뭐다?\")\n",
        "      elif  h_count == 2 :\n",
        "        print(\"지하겠죠. 뭘 생각했죠? 지하에 불꺼지면 무슨 색이다?\")\n",
        "    \n",
        "    elif c == \"Blue\" :\n",
        "      if  h_count == 1 :\n",
        "        print(\"Hint : 곧 여름입니다. 해수욕장이 생각나죠? 해수욕장이면 뭐다?\")\n",
        "      elif  h_count == 2 :\n",
        "        print(\"바다죠. 해수욕장에서 바다를 본 적 없나요? 바다의 색이 뭔지는 알죠?\")\n",
        "\n",
        "    elif c == \"Green\":\n",
        "       if  h_count == 1 : \n",
        "        print(\"Hint : 전남 보성 가봤나요? 풍경이 좋습니다. 보성이 유명한게 뭔지 알죠?\")\n",
        "       elif  h_count == 2 :\n",
        "        print(\"녹차라고 못들어 보셨나요? 잎파리가 무슨색 인지는 알죠?\")\n",
        "      \n",
        "    elif c == \"White\" :\n",
        "      if  h_count == 1 : \n",
        "       print(\"Hint : Winter is coming. 유명한 대사인데 겨울하면 역시?\")\n",
        "      elif  h_count == 2 :\n",
        "       print(\"겨울에는 당연하게도 눈이 내립니다. 눈 색이 뭔지는 알고 있죠?\")     \n",
        "\n",
        "\n",
        "\n"
      ],
      "metadata": {
        "colab": {
          "base_uri": "https://localhost:8080/"
        },
        "id": "ngZYe1cyZH4h",
        "outputId": "6df76b3a-06f6-46c4-a1ac-e0fa4a829c18"
      },
      "execution_count": 100,
      "outputs": [
        {
          "output_type": "stream",
          "name": "stdout",
          "text": [
            "choice color : [Red,Black,Blue,Green,White]d\n",
            "Wrong!\n",
            "Hint : Winter is coming. 유명한 대사인데 겨울하면 역시?\n",
            "choice color : [Red,Black,Blue,Green,White]d\n",
            "Wrong!\n",
            "겨울에는 당연하게도 눈이 내립니다. 눈 색이 뭔지는 알고 있죠?\n",
            "choice color : [Red,Black,Blue,Green,White]s\n",
            "Wrong!\n",
            "설마 오타겠죠? 당신의 얼굴이 지금 White같아 졌어요.\n",
            "choice color : [Red,Black,Blue,Green,White]White\n",
            "Well doen!! 정답은 White 가 맞습니다!\n"
          ]
        }
      ]
    }
  ]
}