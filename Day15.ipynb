{
  "nbformat": 4,
  "nbformat_minor": 0,
  "metadata": {
    "colab": {
      "name": "Day15.ipynb",
      "provenance": [],
      "collapsed_sections": [],
      "authorship_tag": "ABX9TyO6DCIAr2hhBtxhI8hsYGRZ",
      "include_colab_link": true
    },
    "kernelspec": {
      "name": "python3",
      "display_name": "Python 3"
    },
    "language_info": {
      "name": "python"
    }
  },
  "cells": [
    {
      "cell_type": "markdown",
      "metadata": {
        "id": "view-in-github",
        "colab_type": "text"
      },
      "source": [
        "<a href=\"https://colab.research.google.com/github/Park5957/ai/blob/main/Day15.ipynb\" target=\"_parent\"><img src=\"https://colab.research.google.com/assets/colab-badge.svg\" alt=\"Open In Colab\"/></a>"
      ]
    },
    {
      "cell_type": "code",
      "execution_count": 39,
      "metadata": {
        "id": "E6xO58uwcgxt"
      },
      "outputs": [],
      "source": [
        "# Tuple, List and Dict\n",
        "\n",
        "# There are several ways that collections of data canbe stored as a single item.\n",
        "# There of the simpler ones are:\n",
        "# 1. Tuple\n",
        "# 2. List\n",
        "# 3. Dict\n",
        "# (4). Set\n",
        "\n",
        "# Tuple : Once a tuple is defined you cannot change what is stored in it. (immutable)\n",
        "# ()\n",
        "# List : The contents of a list canbe changed while the program is running and lists\n",
        "#        are one of the most common ways to store a collection of data in Python.\n",
        "#        (mutable)\n",
        "# []\n",
        "# DIct : can also be changed while the program is running. mutable \n",
        "#         Each value is given an index or key you can define to help identify \n",
        "#         each piece of data\n",
        "# {}"
      ]
    },
    {
      "cell_type": "code",
      "source": [
        "names_list = ['John','Tim','Sam']\n",
        "del names_list[1]\n",
        "names_list\n",
        "\n",
        "names_list.append(input('Add a name : '))\n",
        "names_list\n",
        "\n",
        "names_list.sort()\n",
        "\n",
        "# Sorts [list] into alphabetical order and saves the list in the new order\n",
        "names_list = ['John', 'Sam', 'Austin']\n",
        "print(sorted(names_list))\n",
        "print(names_list)\n",
        "\n",
        "# Displays names_list in alphabetical order but does not change the order of the \n",
        "# original list.\n",
        "\n",
        "color = {1:'red',2:'blue',3:'green'}\n",
        "\n",
        "# Creates a dict called 'color' , where each item is assigned an index of your choosing\n",
        "\n",
        "print(color[2])"
      ],
      "metadata": {
        "colab": {
          "base_uri": "https://localhost:8080/"
        },
        "id": "7lSbVU8cjOfy",
        "outputId": "1a2409a4-e9f6-482f-d6d1-c98078c66960"
      },
      "execution_count": 41,
      "outputs": [
        {
          "output_type": "stream",
          "name": "stdout",
          "text": [
            "Add a name : b\n",
            "['Austin', 'John', 'Sam']\n",
            "['John', 'Sam', 'Austin']\n",
            "blue\n"
          ]
        }
      ]
    },
    {
      "cell_type": "code",
      "source": [
        "# Quiz 1\n",
        "\n",
        "# Create a tuple containing the names of five countries and display the whole tuple\n",
        "# Ask the user to enter on of the countries that have been shown to them and then \n",
        "# display the index number (position in the tuple), { NO CHINA }\n",
        "\n",
        "a = (\"Korea\",\"Japan\",\"France\",\"USA\",\"UK\")\n",
        "u = input(f\"{a} 국가중 하나를 입력하시오 : \")\n",
        "\n",
        "for i in list(a) :\n",
        "  \n",
        "  if i == u :\n",
        "    print(f\"\\n 당신입 입력한 국가인 {u}는 \\n\\n {a} 중 \\n\\n {a.index(u)}번 입니다.\")\n",
        "  "
      ],
      "metadata": {
        "colab": {
          "base_uri": "https://localhost:8080/"
        },
        "id": "gh0krJjVGA77",
        "outputId": "44e256fe-efc0-46f4-db25-f3626f858ba2"
      },
      "execution_count": 26,
      "outputs": [
        {
          "name": "stdout",
          "output_type": "stream",
          "text": [
            "('Korea', 'Japan', 'France', 'USA', 'UK') 국가중 하나를 입력하시오 : sd\n"
          ]
        }
      ]
    },
    {
      "cell_type": "code",
      "source": [
        "# Add to program above, to ask the user to enter a number and display \n",
        "# the country in that position.\n",
        "\n",
        "a = (\"Korea\",\"Japan\",\"France\",\"USA\",\"UK\")\n",
        "u = int(input(f\"{a} \\n 0~{len(a)}까지의 숫자중 하나를 입력 : \"))\n",
        "\n",
        "print(a[u])"
      ],
      "metadata": {
        "colab": {
          "base_uri": "https://localhost:8080/"
        },
        "id": "JOlamr2yJX_l",
        "outputId": "067458ca-5959-4f53-fcd9-b8ef2393cc12"
      },
      "execution_count": 37,
      "outputs": [
        {
          "output_type": "stream",
          "name": "stdout",
          "text": [
            "('Korea', 'Japan', 'France', 'USA', 'UK') \n",
            " 0~5까지의 숫자중 하나를 입력 : 3\n",
            "USA\n"
          ]
        }
      ]
    },
    {
      "cell_type": "code",
      "source": [
        "# Create a list of two sports. Ask the user what their favourite sport \n",
        "# is and add this to the end of the list. sort the list and display it\n",
        "a_sport = [\"football\",\"basketball\",\"asddd\",\"sk\"]\n",
        "\n",
        "\n",
        "u = input(\"가장 좋아하는 스포츠는?\")\n",
        "a_sport.append(u)\n",
        "\n",
        "# a_sport.sort() #영구적으로 리스트를 정렬시키는 방법이다.\n",
        "# print(a_sport) \n",
        "\n",
        "# or\n",
        "\n",
        "print(sorted(a_sport)) #이 형태는 출력때만 일시적으로 정렬하는 방법이다."
      ],
      "metadata": {
        "colab": {
          "base_uri": "https://localhost:8080/"
        },
        "id": "hdnMYId3K1Dc",
        "outputId": "74323866-a2df-4b5d-f643-3f9835b4bf66"
      },
      "execution_count": 56,
      "outputs": [
        {
          "output_type": "stream",
          "name": "stdout",
          "text": [
            "가장 좋아하는 스포츠는?dds\n",
            "['asddd', 'basketball', 'dds', 'football', 'sk']\n"
          ]
        }
      ]
    },
    {
      "cell_type": "code",
      "source": [
        "# Ask the user to enter four of their favourite foods and store them\n",
        "# in a dict so that they are indexed with number starting from 1.\n",
        "# Display the dict in full, showing the index number  and the item\n",
        "f = {}\n",
        "for i in range(1,5) :\n",
        "  n = input(f\"{i}st favourite food? : \")\n",
        "  f[i] = n\n",
        "  \n",
        "n = int(input(f\"{f} \\n you want del? choise index number: \"))\n",
        "del f[n]\n",
        "print(sorted(list(f.values())))"
      ],
      "metadata": {
        "colab": {
          "base_uri": "https://localhost:8080/"
        },
        "id": "G-xMPO6RMY1t",
        "outputId": "ae006569-e47f-411a-8f6b-fc27d24659a4"
      },
      "execution_count": 80,
      "outputs": [
        {
          "output_type": "stream",
          "name": "stdout",
          "text": [
            "1st favourite food? : asd\n",
            "2st favourite food? : vxc\n",
            "3st favourite food? : ewr\n",
            "4st favourite food? : das\n",
            "{1: 'asd', 2: 'vxc', 3: 'ewr', 4: 'das'} \n",
            " you want del? choise index number: 3\n",
            "['asd', 'das', 'vxc']\n"
          ]
        }
      ]
    }
  ]
}