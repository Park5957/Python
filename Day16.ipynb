{
  "nbformat": 4,
  "nbformat_minor": 0,
  "metadata": {
    "colab": {
      "name": "Day16.ipynb",
      "provenance": [],
      "collapsed_sections": [],
      "authorship_tag": "ABX9TyMSnFMP0fEegQjMU3dsua5q",
      "include_colab_link": true
    },
    "kernelspec": {
      "name": "python3",
      "display_name": "Python 3"
    },
    "language_info": {
      "name": "python"
    }
  },
  "cells": [
    {
      "cell_type": "markdown",
      "metadata": {
        "id": "view-in-github",
        "colab_type": "text"
      },
      "source": [
        "<a href=\"https://colab.research.google.com/github/Park5957/ai/blob/main/Day16.ipynb\" target=\"_parent\"><img src=\"https://colab.research.google.com/assets/colab-badge.svg\" alt=\"Open In Colab\"/></a>"
      ]
    },
    {
      "cell_type": "code",
      "execution_count": null,
      "metadata": {
        "colab": {
          "base_uri": "https://localhost:8080/"
        },
        "id": "fVTBnGjSEIqn",
        "outputId": "fd1028cd-f452-4038-a2f3-756fcdef3afe"
      },
      "outputs": [
        {
          "output_type": "stream",
          "name": "stdout",
          "text": [
            "['show1', 'show2', 'show3', 'show4'] \n",
            " 추가하고 싶은 show index(0:3) 번호를 입력하십시요 : 2\n",
            "추가하고 싶은 show 이름을 입력하십시요 : asd\n",
            "['show1', 'show2', 'asd', 'show3', 'show4']\n"
          ]
        }
      ],
      "source": [
        "# Create a list containing the titles of four TV programmes and display them on separate lilnes.\n",
        "# Ask the user to enter another show and a position they want it inserted into the list\n",
        "# Display the list again, showing all five TV programmes in their new positions.\n",
        "tv_p = [\"show1\",\"show2\",\"show3\",\"show4\"]\n",
        "a = int(input(f\"{tv_p} \\n 추가하고 싶은 show index(0:3) 번호를 입력하십시요 : \"))\n",
        "b = input(\"추가하고 싶은 show 이름을 입력하십시요 : \")\n",
        "tv_p.insert(a,b)\n",
        "print(tv_p)"
      ]
    },
    {
      "cell_type": "code",
      "source": [
        "# Create an empty list called 'nums' Ask the user to enter numbers.\n",
        "# After each number is entered, add it to the end of the nums list and display the list.\n",
        "# Once they have entered three numbers, ask them if they still want the last number they entered saved.\n",
        "# If they say 'no' remove the last item from the list. Display the of numbers\n",
        "\n",
        "nums = []\n",
        "for i in range(3) :\n",
        "  a = int(input(f\"{i+1}번째 추가될 숫자를 입력하시기 바랍니다. : \"))\n",
        "  \n",
        "  if i == 2 :\n",
        "    b = input(f\"{i+1}번째 번호를 추가할까요? Y/N\")\n",
        "    if b == \"Y\" :\n",
        "      nums.append(a)\n",
        "      break\n",
        "    else :\n",
        "      break\n",
        "  nums.append(a)\n",
        "print(nums)"
      ],
      "metadata": {
        "colab": {
          "base_uri": "https://localhost:8080/"
        },
        "id": "7aoptKXOIOFk",
        "outputId": "1c1c850a-1288-47e0-f3af-74a2759f28b5"
      },
      "execution_count": null,
      "outputs": [
        {
          "output_type": "stream",
          "name": "stdout",
          "text": [
            "1번째 추가될 숫자를 입력하시기 바랍니다. : 12\n",
            "2번째 추가될 숫자를 입력하시기 바랍니다. : 32\n",
            "3번째 추가될 숫자를 입력하시기 바랍니다. : 55\n",
            "3번째 번호를 추가할까요? Y/Nv\n",
            "[12, 32]\n"
          ]
        }
      ]
    },
    {
      "cell_type": "code",
      "source": [
        "# More String Manipulation 다양한 문자열 처리\n",
        "\n",
        "# Here we have a variable called name which is assigned the value 'Simon'\n",
        "\n",
        "name = 'Simon'\n",
        "\n",
        "# 'Simon' can be thought of as a sequence of individual characters and each character in that string\n",
        "# can be identified by its index.\n",
        "\n",
        "# Note how string s start indexing from 0 and not 1\n",
        "# If the string had a space in it, the space would also be counted as a character\n"
      ],
      "metadata": {
        "id": "JRA2LBaWKa2f"
      },
      "execution_count": null,
      "outputs": []
    },
    {
      "cell_type": "code",
      "source": [
        "msg = 'HELLo'\n",
        "if msg.isupper():   # islower()\n",
        "  print('Uppercase')\n",
        "else:\n",
        "  print('This is not in uppercase')"
      ],
      "metadata": {
        "colab": {
          "base_uri": "https://localhost:8080/"
        },
        "id": "MGCxt_J0RJ7l",
        "outputId": "0ee53a06-1e51-4821-b4ed-14f4a3121324"
      },
      "execution_count": null,
      "outputs": [
        {
          "output_type": "stream",
          "name": "stdout",
          "text": [
            "Uppercase\n"
          ]
        }
      ]
    },
    {
      "cell_type": "code",
      "source": [
        "msg = 'Hello'\n",
        "for letter in msg:\n",
        "  print(letter, end='')"
      ],
      "metadata": {
        "colab": {
          "base_uri": "https://localhost:8080/"
        },
        "id": "jJIs8sdDRKx4",
        "outputId": "d58b725c-a29d-4e34-b3a3-2a9049e240bc"
      },
      "execution_count": null,
      "outputs": [
        {
          "output_type": "stream",
          "name": "stdout",
          "text": [
            "Hello"
          ]
        }
      ]
    },
    {
      "cell_type": "code",
      "source": [
        "# Ask the user to type in a word in upper case. If they type in it lower case, ask them to try again.\n",
        "# Keep repeating this until they type in a message all in uppercase.\n",
        "\n",
        "while True :\n",
        "  a = input(\"대문자를 입력하시기 바랍니다. :\")\n",
        "  if a.isupper() :\n",
        "    break\n",
        "\n",
        "print(a)"
      ],
      "metadata": {
        "colab": {
          "base_uri": "https://localhost:8080/"
        },
        "id": "tl9aB4NnRRhe",
        "outputId": "86885ca6-aca6-453c-aec3-d9fe2de100f2"
      },
      "execution_count": null,
      "outputs": [
        {
          "output_type": "stream",
          "name": "stdout",
          "text": [
            "대문자를 입력하시기 바랍니다. :asd\n",
            "대문자를 입력하시기 바랍니다. :asd\n",
            "대문자를 입력하시기 바랍니다. :ASD\n",
            "ASD\n"
          ]
        }
      ]
    },
    {
      "cell_type": "code",
      "source": [
        "# Ask the user to enter a new password.\n",
        "# Ask them to enter it again. If the two passwords match,\n",
        "# display 'thank you'. If the letters are correct but in the wrong case,\n",
        "# display the message 'They must be in the same case', otherwise display the message 'Incorrect'\n",
        "\n",
        "a = input(\"비밀번호를 입력하시기 바랍니다 : \\n\")\n",
        "while True :\n",
        "  b = input(\"비밀번호를 다시 입력하시기 바랍니다 : \\n\")\n",
        "  \n",
        "  if a != b :\n",
        "    if a.upper() == b.upper() :\n",
        "      print(\"'They must be in the same case'\")     \n",
        "    else : \n",
        "      print(\"Incorrect\")\n",
        "       \n",
        "  elif a == b :\n",
        "    print(\"Thank you!\")\n",
        "    break\n",
        "\n",
        "\n",
        "# or 반복제외 간소화한 코드\n",
        "\n",
        "# pw = input('enter a new password : ')\n",
        "# rpw = input('enter it again : ')\n",
        "\n",
        "# if pw == rpw:\n",
        "#     print('thank you')\n",
        "# elif pw.upper() == rpw.upper():\n",
        "#     print('They must be in the same case')\n",
        "# else:\n",
        "#     print('Incoreect')"
      ],
      "metadata": {
        "colab": {
          "base_uri": "https://localhost:8080/"
        },
        "id": "1Z4jV-gLSMiM",
        "outputId": "0c917d6f-69cd-456b-b628-018a1abb1396"
      },
      "execution_count": null,
      "outputs": [
        {
          "output_type": "stream",
          "name": "stdout",
          "text": [
            "비밀번호를 입력하시기 바랍니다 : \n",
            "asd\n",
            "비밀번호를 다시 입력하시기 바랍니다 : \n",
            "ASd\n",
            "'They must be in the same case'\n",
            "비밀번호를 다시 입력하시기 바랍니다 : \n",
            "asd\n",
            "Thank you!\n"
          ]
        }
      ]
    }
  ]
}