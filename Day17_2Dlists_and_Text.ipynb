{
  "nbformat": 4,
  "nbformat_minor": 0,
  "metadata": {
    "colab": {
      "name": "Day17_2Dlists_and_Text.ipynb",
      "provenance": [],
      "collapsed_sections": [],
      "authorship_tag": "ABX9TyNaVkvO0+R88CmhHgdLo2+J",
      "include_colab_link": true
    },
    "kernelspec": {
      "name": "python3",
      "display_name": "Python 3"
    },
    "language_info": {
      "name": "python"
    }
  },
  "cells": [
    {
      "cell_type": "markdown",
      "metadata": {
        "id": "view-in-github",
        "colab_type": "text"
      },
      "source": [
        "<a href=\"https://colab.research.google.com/github/Park5957/ai/blob/main/Day17_2Dlists_and_Text.ipynb\" target=\"_parent\"><img src=\"https://colab.research.google.com/assets/colab-badge.svg\" alt=\"Open In Colab\"/></a>"
      ]
    },
    {
      "cell_type": "code",
      "execution_count": 13,
      "metadata": {
        "colab": {
          "base_uri": "https://localhost:8080/"
        },
        "id": "rAzHmtZ1N8q3",
        "outputId": "a17a2f7c-1e7a-467f-ec83-4d5b24840b4a"
      },
      "outputs": [
        {
          "output_type": "stream",
          "name": "stdout",
          "text": [
            "num? : 15\n",
            "[1, 1, 2, 3, 5, 8, 13]\n"
          ]
        }
      ],
      "source": [
        "n = int(input(\"num? : \"))         #정수 입력\n",
        "c = [1,1]                         #수열을 담을 빈 리스트    \n",
        "def pib(n):                       #함수기동\n",
        "    a = 0\n",
        "    for i in range(n):            #입력 정수 반복문 실행\n",
        "      if a <= n:                  #입력 정수 최대값 까지 실행\n",
        "        a = c[i] + c[i+1]         #입력 번호 왼쪽 1,2번 합계 계산\n",
        "        if a <= n:                #입력 정수 이하 까지만 a 입력\n",
        "          c.append(a)    \n",
        "pib(n)\n",
        "print(c)"
      ]
    },
    {
      "cell_type": "code",
      "source": [
        "# Fibonacci\n",
        "\n",
        "# 1\n",
        "\n",
        "def fib(n): # n 번째의 피보나치 수열 값을 찾는 함수\n",
        "  a, b = 1,1 \n",
        "  if n == 1 or n == 2: # 1번째 와 2번째의 값은 1\n",
        "    return 1\n",
        "  for i in range(1, n) :  # 1번째 부터 n번째 까지\n",
        "    a,b = b, a+b\n",
        "    print(a, b)  # 1  2   ,    2  3   , 3, 5\n",
        "  return a\n",
        "\n",
        "fib(4)\n",
        "# 앞쪽에 등장하는 값이 피보나치 수열의 값"
      ],
      "metadata": {
        "colab": {
          "base_uri": "https://localhost:8080/"
        },
        "id": "q7Bq613qN-pc",
        "outputId": "81904e9c-aa99-4d7d-a732-d07b11644ded"
      },
      "execution_count": 32,
      "outputs": [
        {
          "output_type": "stream",
          "name": "stdout",
          "text": [
            "1 2\n",
            "2 3\n",
            "3 5\n"
          ]
        },
        {
          "output_type": "execute_result",
          "data": {
            "text/plain": [
              "3"
            ]
          },
          "metadata": {},
          "execution_count": 32
        }
      ]
    },
    {
      "cell_type": "code",
      "source": [
        "# 2 재귀 Recursive\n",
        "\n",
        "def fib(n): # n 번째의 피보나치 수열 값을 찾는 함수\n",
        "  if n == 1 or n == 2: # 1번째 와 2번째의 값은 1\n",
        "    return 1\n",
        "  else:\n",
        "    return fib(n-1) + fib(n-2)\n",
        "\n",
        "fib(5)"
      ],
      "metadata": {
        "colab": {
          "base_uri": "https://localhost:8080/"
        },
        "id": "pf3WbQ1QPEdH",
        "outputId": "5c12964b-2e87-4a59-dbd7-346c49721774"
      },
      "execution_count": 14,
      "outputs": [
        {
          "output_type": "execute_result",
          "data": {
            "text/plain": [
              "5"
            ]
          },
          "metadata": {},
          "execution_count": 14
        }
      ]
    },
    {
      "cell_type": "code",
      "source": [
        "n = int(input(\"num? : \"))         \n",
        "c = [1,1]                         \n",
        "def fib(n):                 \n",
        "    a = 0\n",
        "    for i in range(n):            \n",
        "      if len(c) >= n:\n",
        "        break\n",
        "      else :                  \n",
        "        a = c[i] + c[i+1]         \n",
        "        c.append(a)\n",
        "fib(n)\n",
        "print(c)"
      ],
      "metadata": {
        "colab": {
          "base_uri": "https://localhost:8080/"
        },
        "id": "J3CdWNlsTK3d",
        "outputId": "797fd773-049f-4ca3-adbd-cbeff0de6502"
      },
      "execution_count": 23,
      "outputs": [
        {
          "output_type": "stream",
          "name": "stdout",
          "text": [
            "num? : 10\n",
            "[1, 1, 2, 3, 5, 8, 13, 21, 34, 55]\n"
          ]
        }
      ]
    },
    {
      "cell_type": "code",
      "source": [
        "n = int(input(\"num? : \"))        \n",
        "def fib(n) : # n 번째의 피보나치 수열 값을 찾는 함수 \n",
        "  fib_list = []\n",
        "  a, b = 1, 1\n",
        "  for i in range(1, n+1) : # 1번째부터 n번째 까지\n",
        "    fib_list.append(a)\n",
        "    a, b = b, a + b\n",
        "  print(fib_list)\n",
        "fib(n)"
      ],
      "metadata": {
        "colab": {
          "base_uri": "https://localhost:8080/"
        },
        "id": "FkXrU8IRXVnt",
        "outputId": "77547597-46cf-4835-81b6-f35e373bf7e8"
      },
      "execution_count": 38,
      "outputs": [
        {
          "output_type": "stream",
          "name": "stdout",
          "text": [
            "num? : 1\n",
            "[1]\n"
          ]
        }
      ]
    },
    {
      "cell_type": "code",
      "source": [
        "# 2D lists\n",
        "#               math    korean \n",
        "# austin        90        80\n",
        "# rick          80        85\n",
        "# andy          100       70\n",
        "\n",
        "grade = [[90,80],[80,85],[100,70]]\n",
        "#index      0       1        2\n",
        "#inindex  0   1   0   1    0   1\n",
        "\n",
        "print(grade[2][0])\n",
        "# 다른 방법으로는\n",
        "# pandas's dataframe 이 존재"
      ],
      "metadata": {
        "colab": {
          "base_uri": "https://localhost:8080/"
        },
        "id": "HVLfvFf9X4TV",
        "outputId": "3ebedd64-0d66-4bec-fee3-61e5291d238f"
      },
      "execution_count": 39,
      "outputs": [
        {
          "output_type": "stream",
          "name": "stdout",
          "text": [
            "100\n"
          ]
        }
      ]
    },
    {
      "cell_type": "code",
      "source": [
        "# Ask the user to enter the name, age and shoe size for four people.\n",
        "# Ask for the name of one of the people in the list and\n",
        "# display their age and shoe size.\n",
        "\n",
        "li = []\n",
        "for i in range(4) :\n",
        "  for j in range(1) :\n",
        "    n = input(\"이름?\")\n",
        "    li.append([n])\n",
        "    a = input(\"나이?\")\n",
        "    li[i].append(a)\n",
        "    s = input(\"신발사이즈?\")\n",
        "    li[i].append(s)\n",
        "    \n",
        "who = input(f\"{li}\\n 누구를 찾으시나요?\")\n",
        "\n",
        "for i in range(4) :\n",
        "  for j in range(1):\n",
        "    if li[i][j] == who:\n",
        "      print(f\"{li[i]}\")\n",
        "      break   "
      ],
      "metadata": {
        "colab": {
          "base_uri": "https://localhost:8080/"
        },
        "id": "6rcXtZPNa8JR",
        "outputId": "719e681c-dd48-4676-fd1d-1664312bbe0f"
      },
      "execution_count": 61,
      "outputs": [
        {
          "output_type": "stream",
          "name": "stdout",
          "text": [
            "이름?asd\n",
            "나이?123\n",
            "신발사이즈?456\n",
            "이름?zxc\n",
            "나이?132\n",
            "신발사이즈?456\n",
            "이름?qwe\n",
            "나이?123\n",
            "신발사이즈?456\n",
            "이름?bnm\n",
            "나이?123\n",
            "신발사이즈?456\n",
            "[['asd', '123', '456'], ['zxc', '132', '456'], ['qwe', '123', '456'], ['bnm', '123', '456']]\n",
            " 누구를 찾으시나요?zxc\n",
            "['zxc', '132', '456']\n"
          ]
        }
      ]
    },
    {
      "cell_type": "code",
      "source": [
        "# 위 문제 딕셔너리 형태\n",
        "dict = {}\n",
        "\n",
        "for i in range(0,4):\n",
        "  name = input('Enter name : ')\n",
        "  age = input('Enter age : ')\n",
        "  shoe = input('Enter shoe : ')\n",
        "  dict[name]={'Age':age,'Shoe':shoe}\n",
        "\n",
        "who = input('Enter a name : ')\n",
        "print(dict[who])"
      ],
      "metadata": {
        "id": "Rm3Ka49jd85M"
      },
      "execution_count": null,
      "outputs": []
    },
    {
      "cell_type": "code",
      "source": [
        "# After gathering the four names, ages and shoe sizes, \n",
        "# ask the user to enter the name of the person they want to remove from the dict.\n",
        "# Delete this row from the data and display the other rows on separate lines.\n",
        "\n",
        "li = []\n",
        "for i in range(4) :\n",
        "  for j in range(1) :\n",
        "    n = input(\"이름?\")\n",
        "    li.append([n])\n",
        "    a = input(\"나이?\")\n",
        "    li[i].append(a)\n",
        "    s = input(\"신발사이즈?\")\n",
        "    li[i].append(s)\n",
        "    \n",
        "who = input(f\"{li}\\n 누구를 삭제할까요??\")\n",
        "\n",
        "for i in range(4) :\n",
        "  for j in range(1):\n",
        "    try:\n",
        "      if li[i][j] == who:\n",
        "        del li[i]\n",
        "        break\n",
        "      \n",
        "    except IndexError :\n",
        "      pass\n",
        "\n",
        "print(li)"
      ],
      "metadata": {
        "colab": {
          "base_uri": "https://localhost:8080/"
        },
        "id": "g0a4VTq6eA0E",
        "outputId": "dd9f18c3-8cd8-403b-9432-a10b4592c9ea"
      },
      "execution_count": 62,
      "outputs": [
        {
          "output_type": "stream",
          "name": "stdout",
          "text": [
            "이름?zxc\n",
            "나이?123\n",
            "신발사이즈?456\n",
            "이름?asd\n",
            "나이?123\n",
            "신발사이즈?456\n",
            "이름?qwe\n",
            "나이?13\n",
            "신발사이즈?465\n",
            "이름?bnm\n",
            "나이?123\n",
            "신발사이즈?456\n",
            "[['zxc', '123', '456'], ['asd', '123', '456'], ['qwe', '13', '465'], ['bnm', '123', '456']]\n",
            " 누구를 삭제할까요??asd\n",
            "[['zxc', '123', '456'], ['qwe', '13', '465'], ['bnm', '123', '456']]\n"
          ]
        }
      ]
    },
    {
      "cell_type": "code",
      "source": [
        "# 위 문제 딕셔너리 형태\n",
        "dict = {}\n",
        "\n",
        "for i in range(0,2):\n",
        "  name = input('Enter name : ')\n",
        "  age = input('Enter age : ')\n",
        "  shoe = input('Enter shoe : ')\n",
        "  dict[name]={'Age':age,'Shoe':shoe}\n",
        "\n",
        "getrid = input('Who do you want to remove from the dict?')\n",
        "del dict[getrid]\n",
        "\n",
        "for each in dict:\n",
        "  print(each, dict[each]['Age'], dict[each]['Shoe'])"
      ],
      "metadata": {
        "id": "H8ipsviGgkIi"
      },
      "execution_count": null,
      "outputs": []
    },
    {
      "cell_type": "code",
      "source": [
        "# Reading and Writing to a File\n",
        "\n",
        "# It is all very well being able to define a list, make changes and add new data,\n",
        "# but if the next time the program is run it returns to the original data and your\n",
        "# changes are lost then it is not a lot of use. Therefore, It is sometimes necessary \n",
        "# to save the data outside of the program and this way the data can be stored,\n",
        "# along with any changes that are made.\n",
        "\n",
        "# 데이터를 외부 저장장치에 저장하는 방법\n",
        "\n",
        "#파일의 생성과 저장\n",
        "file = open(\"Countries.txt\",\"w\") # w 의 의미는 파일을 열러서 기록하라는 뜻\n",
        "file.write(\"italy\\n\")\n",
        "file.write(\"German\\n\")\n",
        "file.write(\"Spain\\n\")\n",
        "file.close()"
      ],
      "metadata": {
        "id": "WA2Pmk5xgn3T"
      },
      "execution_count": 66,
      "outputs": []
    },
    {
      "cell_type": "code",
      "source": [
        "# 읽기\n",
        "file = open(\"Countries.txt\",\"r\") # r 의 의미는 읽어라\n",
        "print(file.read()) #내용출력"
      ],
      "metadata": {
        "colab": {
          "base_uri": "https://localhost:8080/"
        },
        "id": "_UfCv7nxhdzv",
        "outputId": "7e05a894-8409-4542-b744-830b65cfee2c"
      },
      "execution_count": 68,
      "outputs": [
        {
          "output_type": "stream",
          "name": "stdout",
          "text": [
            "italy\n",
            "German\n",
            "Spain\n",
            "\n"
          ]
        }
      ]
    },
    {
      "cell_type": "code",
      "source": [
        "#수정\n",
        "file = open(\"Countries.txt\",\"a\") # a 의 의미는 수정\n",
        "file.write(\"France\\n\")\n",
        "file.close()"
      ],
      "metadata": {
        "id": "pkA7qnTjh98_"
      },
      "execution_count": 70,
      "outputs": []
    },
    {
      "cell_type": "code",
      "source": [
        "# Display the following menu to the user:\n",
        "#      1) Create a new file\n",
        "#      2) Display the file\n",
        "#      3) Add a new item to the file\n",
        "#      Make a selection 1,2 or 3 :\n",
        "\n",
        "# Ask the user to enter 1,2 or 3. If they select anything other than 1,2 or 3 it should\n",
        "# display a suitable error message.\n",
        "\n",
        "# If the select 1, ask the user to enter a school subject and save it to a new file called\n",
        "# 'Subject.txt'. It should overwrite any existing file with a new file.\n",
        "\n",
        "# If they select 2, display the contents of the 'Subject.txt' file\n",
        "\n",
        "# if they select 3, ask the user to enter a new subject and sav e it to the file \n",
        "#and then display the entire contents of the file.\n",
        "\n",
        "# Run the program several times to test the options.\n",
        "\n",
        "##############################################################\n",
        "# Fantastic work, saving data to external files is an important programming skill. #\n",
        "##############################################################\n",
        "\n",
        "# Delete file\n",
        "# import os\n",
        "# os.remove('filename.txt')\n",
        "\n",
        "# 예제)\n",
        "# file = open('Subject.txt','w')\n",
        "# file.close()\n",
        "\n",
        "\n",
        "# ask = int(input('1) Create a new file\\n2)Display the file\\n3)Add a new item to the file'))\n",
        "\n",
        "\n",
        "# if ask > 3:\n",
        "#   print('error')\n",
        "\n",
        "# elif ask == 1:\n",
        "#   sub = input('학교 과목 입력하시오 >>')\n",
        "#   file = open('Subject.txt','a')\n",
        "#   file.write(sub)\n",
        "#   file.close()\n",
        "# elif ask == 2:  \n",
        "#   file = open('Subject.txt','r')\n",
        "#   print(file.read())\n",
        "# elif ask == 3:\n",
        "#   sub = input('학교 과목 입력하시오 >>')\n",
        "#   file = open('Subject.txt','a')\n",
        "#   file.write(sub)\n",
        "#   file.close()\n",
        "#   file = open('Subject.txt','r')\n",
        "#   print(file.read())\n"
      ],
      "metadata": {
        "id": "3NCy1ANyif68"
      },
      "execution_count": null,
      "outputs": []
    }
  ]
}