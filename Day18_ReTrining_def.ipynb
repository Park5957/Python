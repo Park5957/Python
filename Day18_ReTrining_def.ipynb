{
  "nbformat": 4,
  "nbformat_minor": 0,
  "metadata": {
    "colab": {
      "name": "Day18_ReTrining_def.ipynb",
      "provenance": [],
      "collapsed_sections": [],
      "authorship_tag": "ABX9TyMTj5St4MkDqZWOPiuybgW1",
      "include_colab_link": true
    },
    "kernelspec": {
      "name": "python3",
      "display_name": "Python 3"
    },
    "language_info": {
      "name": "python"
    }
  },
  "cells": [
    {
      "cell_type": "markdown",
      "metadata": {
        "id": "view-in-github",
        "colab_type": "text"
      },
      "source": [
        "<a href=\"https://colab.research.google.com/github/Park5957/ai/blob/main/Day18_ReTrining_def.ipynb\" target=\"_parent\"><img src=\"https://colab.research.google.com/assets/colab-badge.svg\" alt=\"Open In Colab\"/></a>"
      ]
    },
    {
      "cell_type": "code",
      "execution_count": 1,
      "metadata": {
        "id": "I9t37leZ45PC",
        "colab": {
          "base_uri": "https://localhost:8080/"
        },
        "outputId": "ddb049b3-bb16-45f4-a508-bc28e54a99d4"
      },
      "outputs": [
        {
          "output_type": "stream",
          "name": "stdout",
          "text": [
            "Enter your name : asd\n",
            "Hello asd\n"
          ]
        }
      ],
      "source": [
        "# Function ( subprograms )\n",
        "\n",
        "# Blocks of code which perform specific tasks and can be called upon at any time \n",
        "# in the program to run that code.\n",
        "\n",
        "# Advantages\n",
        "# - it can be used and reused at diffenent times during the program.\n",
        "# - it makes the program simpler to understand as the code is grouped together into chunks.\n",
        "\n",
        "def get_name():#실행4\n",
        "  user_name = input('Enter your name : ')#실행5\n",
        "  return user_name#실행6\n",
        "\n",
        "def print_Msg(user_name): #실행9\n",
        "  print(\"Hello\",user_name) #실행10\n",
        "\n",
        "def main():#실행2\n",
        "  user_name = get_name()#실행3 #실행7\n",
        "  print_Msg(user_name)#실행8\n",
        "\n",
        "main() #실행"
      ]
    },
    {
      "cell_type": "code",
      "source": [
        "def get_data():#4\n",
        "  user_name = input('Enter your name : ')#5\n",
        "  user_age = int(input('Enter your age : '))#6\n",
        "  data_tuple = (user_name,user_age)#7\n",
        "  return data_tuple#8\n",
        "\n",
        "def message(user_name,user_age) :#11\n",
        "  if user_age <= 10:#12\n",
        "    print(\"Hi\",user_name)\n",
        "  else :#13\n",
        "    print(\"Hello\",user_name)#14\n",
        "\n",
        "def main():#2\n",
        "  user_name, user_age = get_data()#3#9\n",
        "  message(user_name,user_age)#10#15\n",
        "\n",
        "main()#1\n",
        "\n",
        "# 4 5 6 7 8 11 10 12 13 2 3 9 10 1"
      ],
      "metadata": {
        "colab": {
          "base_uri": "https://localhost:8080/"
        },
        "id": "kLBOtJHabkW6",
        "outputId": "2c3ec012-32be-405c-bb1f-bd7f0f2ed58a"
      },
      "execution_count": 2,
      "outputs": [
        {
          "output_type": "stream",
          "name": "stdout",
          "text": [
            "Enter your name : asd\n",
            "Enter your age : 20\n",
            "Hello asd\n"
          ]
        }
      ]
    },
    {
      "cell_type": "code",
      "source": [
        "# Quiz\n",
        "\n",
        "# Define a subprogram that will ask the user to enter a number and save it as the variable \n",
        "# 'num' . Define another subprogram that will use 'num' and count from 1 to that number.\n",
        "\n",
        "# 예제)\n",
        "# def sub():\n",
        "#   num = int(input('Enter a number : '))\n",
        "#   sub2(num)\n",
        "# def sub2(num):\n",
        "#   cnt=0\n",
        "#   for i in range(1,num+1):\n",
        "#     cnt+=1\n",
        "#   sub3(cnt)\n",
        "# def sub3(cnt):\n",
        "#   print(cnt)\n",
        "# sub()"
      ],
      "metadata": {
        "colab": {
          "base_uri": "https://localhost:8080/"
        },
        "id": "5XsRPlUMiURA",
        "outputId": "f4a482d9-1bab-4546-a17f-03cfe7f2037e"
      },
      "execution_count": 21,
      "outputs": [
        {
          "output_type": "stream",
          "name": "stdout",
          "text": [
            "Enter a number : 5\n",
            "5\n"
          ]
        }
      ]
    },
    {
      "cell_type": "code",
      "source": [
        "# Define a subprogram  that will ask the user to  pick a low and a high  number, \n",
        "# and then  generate a random  number between those  two values and store it in  \n",
        "# a variable called  “comp_num”.  Define another  subprogram that will  give the instruction \n",
        "# “I am  thinking of a number…”  and then ask the user to  guess the number \n",
        "# they  are thinking of.  Define a third  subprogram that will  check to see \n",
        "# if the  comp_num is the same  as the user’s guess. If it  is, \n",
        "# it should display the  message “Correct, you  win”, \n",
        "# otherwise it should  keep looping, telling the  user if they are too low or  too high \n",
        "# and asking them  to guess again until they  guess correctly. \n",
        "\n",
        "import random\n",
        "\n",
        "def number() :\n",
        "  numlw = int(input(\"Enter the lower number : \"))\n",
        "  numto = int(input(\"Enter the top number : \"))\n",
        "  lw,to = numlw,numto\n",
        "  return ran(lw,to)\n",
        "\n",
        "def ran(lw,to) :\n",
        "  print(f\"I am  thinking of a between {lw} and {to} number…\")\n",
        "  comp_num = random.randrange(lw,to)\n",
        "  return comp(comp_num)\n",
        "\n",
        "def comp(comp_num) :\n",
        "  num2 = int(input(\"Ok! Guess the number :\"))\n",
        "  \n",
        "  while comp_num != num2 :\n",
        "    if comp_num == num2:\n",
        "      print(\"Correct, you  win\")\n",
        "    elif comp_num > num2:\n",
        "      num2 = int(input(\"low! 다시 정답을 입력하세요 :\"))\n",
        "    elif comp_num < num2:\n",
        "      num2 = int(input(\"high!! 다시 정답을 입력하세요 :\"))\n",
        "  \n",
        "number()\n"
      ],
      "metadata": {
        "colab": {
          "base_uri": "https://localhost:8080/"
        },
        "id": "j4Nj3ejYlFuo",
        "outputId": "8e1d33cc-0986-4b2b-d8b6-e6401225ffd5"
      },
      "execution_count": 32,
      "outputs": [
        {
          "name": "stdout",
          "output_type": "stream",
          "text": [
            "Enter the lower number : 10\n",
            "Enter the top number : 11\n",
            "I am  thinking of a between 10 and 11 number…\n",
            "Ok! Guess the number :10\n"
          ]
        }
      ]
    },
    {
      "cell_type": "code",
      "source": [
        "# 다른 방법 예제\n",
        "\n",
        "import random\n",
        "\n",
        "def pick_num():\n",
        "  low = int(input('Enter the bottom of the range : '))\n",
        "  high = int(input('Enter the top of the range : '))\n",
        "  comp_num = random.randint(low, high)\n",
        "  return comp_num\n",
        "\n",
        "def first_guess():\n",
        "  print('I am thinking of a number...')\n",
        "  guess = int(input('WHat am I thinking of : '))\n",
        "  return guess\n",
        "\n",
        "def check_answer(comp_num, guess):\n",
        "  try_again = True\n",
        "  while try_again == True:\n",
        "    if comp_num == guess:\n",
        "      print('Correct, you win')\n",
        "      try_again = False\n",
        "    elif comp_num > guess:\n",
        "      guess = int(input('too low, try again'))\n",
        "    else:\n",
        "      guess = int(input('too high, try again'))\n",
        "def main():\n",
        "  comp_num = pick_num()\n",
        "  guess = first_guess()\n",
        "  check_answer(comp_num, guess)\n",
        "main()"
      ],
      "metadata": {
        "colab": {
          "base_uri": "https://localhost:8080/"
        },
        "id": "VmfAxcOCszss",
        "outputId": "1e3c92f9-9614-4356-8f1c-11f08a319045"
      },
      "execution_count": 30,
      "outputs": [
        {
          "output_type": "stream",
          "name": "stdout",
          "text": [
            "Enter the bottom of the range : 10\n",
            "Enter the top of the range : 12\n",
            "I am thinking of a number...\n",
            "WHat am I thinking of : 11\n",
            "Correct, you win\n"
          ]
        }
      ]
    }
  ]
}