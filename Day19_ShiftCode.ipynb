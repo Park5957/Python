{
  "nbformat": 4,
  "nbformat_minor": 0,
  "metadata": {
    "colab": {
      "name": "Day19_ShiftCode.ipynb",
      "provenance": [],
      "collapsed_sections": [],
      "authorship_tag": "ABX9TyNCHBLXz1FTD6yKi1FWZ1j/",
      "include_colab_link": true
    },
    "kernelspec": {
      "name": "python3",
      "display_name": "Python 3"
    },
    "language_info": {
      "name": "python"
    }
  },
  "cells": [
    {
      "cell_type": "markdown",
      "metadata": {
        "id": "view-in-github",
        "colab_type": "text"
      },
      "source": [
        "<a href=\"https://colab.research.google.com/github/Park5957/ai/blob/main/Day19_ShiftCode.ipynb\" target=\"_parent\"><img src=\"https://colab.research.google.com/assets/colab-badge.svg\" alt=\"Open In Colab\"/></a>"
      ]
    },
    {
      "cell_type": "code",
      "execution_count": 4,
      "metadata": {
        "colab": {
          "base_uri": "https://localhost:8080/"
        },
        "id": "rHF3IziWLpMh",
        "outputId": "96acfaec-2f4b-44b3-9f4c-00d15a1aa58b"
      },
      "outputs": [
        {
          "output_type": "stream",
          "name": "stdout",
          "text": [
            "1. Low number program \n",
            " 2. High number program \n",
            " Enter the number :1\n",
            "5 + 19\n",
            " 몇 일까요? : 24\n",
            "correct!\n"
          ]
        }
      ],
      "source": [
        "# 여러개의 def 의 연속 사용으로 연결하기 연결하기\n",
        "\n",
        "# Display the following menu to the user:  \n",
        "\n",
        "# \t1) Addition\n",
        "# \t2) Subtraction\n",
        "# \tEnter 1 or 2 : \n",
        "\n",
        "\n",
        "# If they enter a 1, it should run a subprogram that will  generate two random numbers \n",
        "# between 5 and 20, and  ask the user to add them together. \n",
        "# Work out the correct  answer and return both the user’s answer and the  correct answer.  \n",
        "# If they entered 2 as their selection on the menu, it  should run a subprogram that \n",
        "# will generate one number  between 25 and 50 and another number between 1 and  25 \n",
        "# and ask them to work out num1 minus num2. This  way they will not have to worry about \n",
        "# negative answers.  Return both the user’s answer and the correct answer.  \n",
        "# Create another subprogram that will check if the user’s  answer matches the actual answer. \n",
        "# If it does, display  “Correct”, otherwise display a message that will say  \n",
        "# “Incorrect, the answer is” and display the real answer.  \n",
        "# If they do not select a relevant option on the first menu you should display a suitable message.\n",
        "\n",
        "import random as rd\n",
        "def a() :\n",
        "  num = int(input(\"1. Low number program \\n 2. High number program \\n Enter the number :\"))\n",
        "  if num == 1 :\n",
        "    return lowp()\n",
        "  elif num == 2 :\n",
        "    return higp()\n",
        "  else :\n",
        "    print(\"Error.\")\n",
        "    return a()\n",
        "\n",
        "def lowp():\n",
        "  lo1 = rd.randrange(5,20)\n",
        "  lo2 = rd.randrange(5,20)\n",
        "  lo3 = lo1 + lo2\n",
        "  print(f\"{lo1} + {lo2}\")\n",
        "  return lowp2(lo3)\n",
        "def lowp2(lo3):\n",
        "  num2 = int(input(\" 몇 일까요? : \"))\n",
        "  if num2 == lo3 :\n",
        "    print(\"correct!\")\n",
        "  else :\n",
        "    print(f\"Incorrect, the answer is {lo3}\")\n",
        "\n",
        "def higp():\n",
        "  hg1 = rd.randrange(25,50)\n",
        "  hg2 = rd.randrange(1,25)\n",
        "  hg3 = hg1+hg2\n",
        "  print(f\"{hg1} + {hg2}\")\n",
        "  return higp2(hg3)\n",
        "def higp2(hg3):\n",
        "  num2 = int(input(\" 몇 일까요? : \" ))\n",
        "  if num2 == hg3 :\n",
        "    print(\"correct!\")\n",
        "  else :\n",
        "    print(f\"Incorrect, the answer is {hg3}\")\n",
        "a()"
      ]
    },
    {
      "cell_type": "code",
      "source": [
        "# 다른 방법 예시\n",
        "import random\n",
        "\n",
        "def addition():\n",
        "  num1 = random.randint(5,20)\n",
        "  num2 = random.randint(5,20)\n",
        "  print(f'{num1} + {num2} = ' )\n",
        "  user_answer = int(input('Your answer : '))\n",
        "  actual_answer = num1 + num2\n",
        "  answers = (user_answer, actual_answer)\n",
        "  return answers\n",
        "\n",
        "def subtraction():\n",
        "  num1 = random.randint(25,50)\n",
        "  num2 = random.randint(1,25)\n",
        "  print(f'{num1} - {num2} = ' )\n",
        "  user_answer = int(input('Your answer : '))\n",
        "  actual_answer = num1 - num2\n",
        "  answers = (user_answer, actual_answer)\n",
        "  return answers\n",
        "\n",
        "def check_answer(user_answer, actual_answer):\n",
        "  if user_answer == actual_answer:\n",
        "    print('Correct')\n",
        "  else:\n",
        "    print('Incorrect, the answer is', actual_answer)\n",
        "\n",
        "def main():\n",
        "  print('1) Addition')\n",
        "  print('2) Subtraction')\n",
        "  selection = int(input('Enter 1 or 2 : '))\n",
        "  if selection == 1:\n",
        "    user_answer, actual_answer = addition()\n",
        "    check_answer(user_answer, actual_answer)\n",
        "  elif selection == 2:\n",
        "    user_answer, actual_answer = subtraction()\n",
        "    check_answer(user_answer, actual_answer)\n",
        "  else:\n",
        "    print('Incorrect selection')\n",
        "\n",
        "main()  "
      ],
      "metadata": {
        "colab": {
          "base_uri": "https://localhost:8080/"
        },
        "id": "T9_YamUETn_y",
        "outputId": "30f602ff-e59c-49b1-a790-7c99450cbae5"
      },
      "execution_count": 5,
      "outputs": [
        {
          "output_type": "stream",
          "name": "stdout",
          "text": [
            "1) Addition\n",
            "2) Subtraction\n",
            "Enter 1 or 2 : 2\n",
            "25 - 20 = \n",
            "Your answer : 5\n",
            "Correct\n"
          ]
        }
      ]
    },
    {
      "cell_type": "code",
      "source": [
        "# Create a program that will allow the user to easily manage a list of names. \n",
        "# You should  display a menu that will allow them to add a name to the list, \n",
        "# change a name in the  list, delete a name from the list or view all the names in the list. \n",
        "# There should also be a  menu option to allow the user to end the program. \n",
        "# If they select an option that is not  relevant, then it should display a suitable message. \n",
        "# After they have made a selection  to either add a name, change a name, \n",
        "# delete a name or view all the names, they  should see the menu again \n",
        "# without having to restart the program. The program  should be made \n",
        "# as easy to use as possible. \n",
        "# Condition : 5 or more subprograms \n",
        "\n",
        "# 유저가 이름의 목록을 쉽게 관리 할수 있는 프로그램을 만든다. \n",
        "# 유저가 \n",
        "          # 목록에 이름을 추가할 수 있는 메뉴와 \n",
        "          # 목록의 이름을 수정하는 메뉴,\n",
        "          # 목록에서 이름을 삭제하는 메뉴, \n",
        "          # 목록의 모든 이름을 표시하는 메뉴를 화면에 표시한다. \n",
        "          # 프로그램을 종료하는 메뉴도 있어야 한다. \n",
        "          \n",
        "# 사용자가 메뉴 외에 다른 것을 선택하면\n",
        "# 적절한 메세지를 표시하자. 유저가 선택한 메뉴의 작업이 끝나면 다시 메뉴가 표시되도록 한다. \n",
        "# 가능한한 쉽게 프로그램을 만들자. \n",
        "\n",
        "name_L = []\n",
        "def pname():\n",
        "  p = input(\"추가할 이름을 적어주세요 : \")\n",
        "  return p\n",
        "\n",
        "def rname():\n",
        "  r = input(\"변경할 이름을 지정해 주시기 바랍니다. : \")\n",
        "  return r\n",
        "\n",
        "def dname():\n",
        "  d = int(input((f\"{name_L}\\n삭제할 이름의 index 번호를 지정해 주시기 바랍니다.\")))\n",
        "  return d\n",
        "\n",
        "def main() :\n",
        "\n",
        "  menu = int(input(\"Menu \\n \\n\\t1.이름추가 \\n\\t2.이름변경 \\n\\t3.이름삭제 \\n\\t4.이름보기\\n\\t5.종료\"))\n",
        "  if menu == 1 :\n",
        "    n = pname()\n",
        "    name_L.append(n)\n",
        "    print(name_L)\n",
        "  elif menu == 2 :\n",
        "    rn = int(input((f\"{name_L}\\n변경할 이름의 index 번호를 지정해 주시기 바랍니다.\")))\n",
        "    name_L[rn] = rname()\n",
        "    print(name_L)\n",
        "  elif menu == 3 :\n",
        "    del name_L[dname()]\n",
        "  elif menu == 4 :\n",
        "    print(name_L)\n",
        "  elif menu == 5 :\n",
        "    return name_L\n",
        "  else :\n",
        "    print(\"Error\")\n",
        "  return main()\n",
        "\n",
        "main()"
      ],
      "metadata": {
        "colab": {
          "base_uri": "https://localhost:8080/"
        },
        "id": "4OeR6yOLUDsk",
        "outputId": "e43cacc3-4d8c-491d-c69e-9916f537e9b4"
      },
      "execution_count": 12,
      "outputs": [
        {
          "name": "stdout",
          "output_type": "stream",
          "text": [
            "Menu \n",
            " \n",
            "\t1.이름추가 \n",
            "\t2.이름변경 \n",
            "\t3.이름삭제 \n",
            "\t4.이름보기\n",
            "\t5.종료5\n"
          ]
        },
        {
          "output_type": "execute_result",
          "data": {
            "text/plain": [
              "[]"
            ]
          },
          "metadata": {},
          "execution_count": 12
        }
      ]
    },
    {
      "cell_type": "code",
      "source": [
        "#다른 예시\n",
        "def add_name():\n",
        "  name = input('Enter a new name : ')\n",
        "  names.append(name)\n",
        "  return names\n",
        "\n",
        "def change_name():\n",
        "  num = 0\n",
        "  for x in names:\n",
        "    print(num, x)\n",
        "    num += 1\n",
        "  select_num = int(input('Enter the number of the name you want to change : '))\n",
        "  name = input('Enter new name : ')\n",
        "  names[select_num] = name\n",
        "  return names\n",
        "\n",
        "def delete_name():\n",
        "  num = 0\n",
        "  for x in names:\n",
        "    print(num, x)\n",
        "    num += 1\n",
        "  select_num = int(input('Enter the number of the name you want to delete : '))\n",
        "  del names[select_num]\n",
        "  return names\n",
        "\n",
        "def view_names():\n",
        "  num = 0\n",
        "  for x in names:\n",
        "    print(num, x)\n",
        "    num += 1\n",
        "\n",
        "def main():\n",
        "  again = 'y'\n",
        "  while again == 'y':\n",
        "    print('1) Add a name : ')\n",
        "    print('2) Change a name : ')\n",
        "    print('3) Delete a name')\n",
        "    print('4) View names')\n",
        "    print('5) Quit')\n",
        "    selection = int(input('What do you want to do ? : '))\n",
        "    if selection == 1:\n",
        "      names = add_name()\n",
        "    elif selection == 2:\n",
        "      names = change_name()\n",
        "    elif selection == 3:\n",
        "      names = delete_name()\n",
        "    elif selection == 4:\n",
        "      names = view_names()\n",
        "    elif selection == 5:\n",
        "      again = 'n'\n",
        "    else:\n",
        "      print('Incorrect option')\n",
        "\n",
        "names = []\n",
        "main()  "
      ],
      "metadata": {
        "id": "UnTiw3qpdYJS"
      },
      "execution_count": null,
      "outputs": []
    },
    {
      "cell_type": "code",
      "source": [
        "# Tkinter는 Tcl/Tk에 대한 파이썬 Wrapper로서 Tcl/Tk를 파이썬에 사용할 수 있도록 한 Lightweight GUI 모듈이다.\n",
        "# Tcl은 Tool Command Language의 약자로서 일종의 프로그래밍 언어이며,\n",
        "# Tk는 크로스 플랫폼에 사용되는 일종의 GUI 툴킷이다.\n",
        "# Tkinter는 타 GUI 프레임워크나 툴킷에 비해 지원되는 위젯들이 부족하고 UI도 그렇게 예쁘지 않다는 단점이 있지만,\n",
        "# Python 설치시 기본적으로 내장되어 있는 파이썬 표준 라이브러리이기 때문에 쉽고 간단한 GUI 프로그램을 만들 때 활용될 수 있다.\n",
        "\n",
        "# 로컬에서 실행해야 한다. 아래의 코드는 vscode 에서 실행을 진행했다.\n",
        "# from tkinter import *\n",
        "\n",
        "# def Call():\n",
        "#   msg = Label(window, text = \"You pressed the button \")\n",
        "#   msg.place(x = 30, y =50)\n",
        "#   button[\"bg\"] = \"blue\"\n",
        "#   button[\"fg\"] = \"white\"\n",
        "\n",
        "# window = Tk()\n",
        "# window.geometry(\"600x480\") # window size\n",
        "# button = Button(text=\"Press me\", command = Call)\n",
        "# button.place(x = 30, y = 20, width=120, height=25)\n",
        "# window.mainloop()\n",
        "\n"
      ],
      "metadata": {
        "id": "KuN4WxIuewUZ"
      },
      "execution_count": null,
      "outputs": []
    },
    {
      "cell_type": "code",
      "source": [
        "# C:\\ProgramData\\Anaconda3\\Library\\bin\n",
        "# designer\n",
        "# 해당 파일을 이용하면 좀 더 손쉽게 화면을 만들 수 있다."
      ],
      "metadata": {
        "id": "Hybczc3eiHSD"
      },
      "execution_count": 15,
      "outputs": []
    },
    {
      "cell_type": "code",
      "source": [
        "# - input and display data\n",
        "# - lists\n",
        "# - splitting and joining strings\n",
        "# - if statements\n",
        "# - loops (while and for)\n",
        "# - subprograms\n",
        "\n",
        "# Shift Code\n",
        "\n",
        "# A shift code is where a message can be easily encoded and is one of the simplest codes to use.\n",
        "#  메시지를 쉽게 인코딩할 수 있는 곳이며 사용하기 가장 간단한 코드 중 하나이다\n",
        "# Each letter is moved forwards through the alphabet \n",
        "# a set number of letters to be represented by a new letter.\n",
        "# For instance, 'abc' becomes 'bcd' when the code is shifted by one.\n",
        "# 예를들면 abc -> bcd 와 같이 하나를 앞으로 보내는 것.\n",
        "\n",
        "# 1) Make a code \n",
        "# 2) Decode a message \n",
        "# 3) Quit\n",
        "\n",
        "# Enter your selection :\n",
        "\n",
        "# Problems you will have to overcome...\n",
        "# 1) Decide if you want to allow both upper and lower case letters or \n",
        "#    if you want to convert all the data into one case -> lowercase\n",
        "# 2) Decide if you are allowing punctuation. \n",
        "\n",
        "\n",
        "\n",
        "def get_data() :\n",
        "  word = input(\"Enter your message : \")\n",
        "  word = word.lower()\n",
        "  num = int(input(\"Enter a number (1-26) : \"))\n",
        "  if num > 26 or num == 0 : #이 문구는 현재 코드의 개념적 이유로 넣음것이다.\n",
        "    while num > 26 or num == 0 :\n",
        "      num = int(input(\"Enter a number (1-26) : \"))\n",
        "  data = (word, num)\n",
        "  return data \n",
        "\n",
        "def make_code(word, num):  # abc  ,  2\n",
        "  new_word = '' # 위 ger_data에서 지정된 값을 암호화 구성하기 위한 과정\n",
        "  for x in word:\n",
        "    y = alphabet.index(x) #해당 리스트의 값을 인덱스 번호로 반환\n",
        "    y = y + num\n",
        "    if y > 26:\n",
        "      y = y -27\n",
        "    char = alphabet[y]\n",
        "    new_word = new_word + char\n",
        "  print(new_word)\n",
        "  print()\n",
        "\n",
        "def decode(word, num):\n",
        "  new_word = ''\n",
        "  for x in word:\n",
        "    y = alphabet.index(x)\n",
        "    y = y - num\n",
        "    if y < 0:\n",
        "      y = y + 27\n",
        "    char = alphabet[y]\n",
        "    new_word = new_word + char\n",
        "  print(new_word)\n",
        "  print()  \n",
        "\n",
        "def main():\n",
        "  again = True\n",
        "  while again == True:\n",
        "    print('1) Make a code : ')\n",
        "    print('2) Decode a message : ')\n",
        "    print('3) quit')\n",
        "    selection = int(input('Enter your selection : '))\n",
        "    if selection == 1:\n",
        "      (word, num) = get_data()\n",
        "      make_code(word, num)\n",
        "    elif selection == 2:\n",
        "      (word, num) = get_data()\n",
        "      decode(word, num)\n",
        "    elif selection == 3:\n",
        "      again = False\n",
        "    else:\n",
        "      print('Incorrect selection')\n",
        "\n",
        "alphabet = ['a','b','c','d','e','f','g','h','i','j','k','l','m','n','o','p','q','r','s','t','u','v','w','x','y','z',' ']\n",
        "main()"
      ],
      "metadata": {
        "colab": {
          "base_uri": "https://localhost:8080/"
        },
        "id": "ZrbvVmzaoLGM",
        "outputId": "6c9a4063-2881-4b8d-abef-e418dfc6a58f"
      },
      "execution_count": 41,
      "outputs": [
        {
          "name": "stdout",
          "output_type": "stream",
          "text": [
            "1) Make a code : \n",
            "2) Decode a message : \n",
            "3) quit\n",
            "Enter your selection : 1\n",
            "Enter your message : asd\n",
            "Enter a number (1-26) : 1\n",
            "bte\n",
            "\n",
            "1) Make a code : \n",
            "2) Decode a message : \n",
            "3) quit\n",
            "Enter your selection : 3\n"
          ]
        }
      ]
    },
    {
      "cell_type": "code",
      "source": [
        "# 아스키코드 반환 \n",
        "ord(\"b\")\n",
        "\n",
        "# 숫자에 맞는 아스키 코드 반환\n",
        "chr(98)\n"
      ],
      "metadata": {
        "colab": {
          "base_uri": "https://localhost:8080/",
          "height": 35
        },
        "id": "BkgtPDyAEQgs",
        "outputId": "e743a502-3297-4474-b599-1d8d76ade85f"
      },
      "execution_count": 26,
      "outputs": [
        {
          "output_type": "execute_result",
          "data": {
            "application/vnd.google.colaboratory.intrinsic+json": {
              "type": "string"
            },
            "text/plain": [
              "'b'"
            ]
          },
          "metadata": {},
          "execution_count": 26
        }
      ]
    }
  ]
}