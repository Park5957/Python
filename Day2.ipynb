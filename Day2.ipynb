{
  "nbformat": 4,
  "nbformat_minor": 0,
  "metadata": {
    "colab": {
      "name": "Day2.ipynb",
      "provenance": [],
      "collapsed_sections": [],
      "authorship_tag": "ABX9TyPEm8OXlMGzDR9q71EA3Dpz",
      "include_colab_link": true
    },
    "kernelspec": {
      "name": "python3",
      "display_name": "Python 3"
    },
    "language_info": {
      "name": "python"
    }
  },
  "cells": [
    {
      "cell_type": "markdown",
      "metadata": {
        "id": "view-in-github",
        "colab_type": "text"
      },
      "source": [
        "<a href=\"https://colab.research.google.com/github/Park5957/ai/blob/main/Day2.ipynb\" target=\"_parent\"><img src=\"https://colab.research.google.com/assets/colab-badge.svg\" alt=\"Open In Colab\"/></a>"
      ]
    },
    {
      "cell_type": "code",
      "execution_count": null,
      "metadata": {
        "colab": {
          "base_uri": "https://localhost:8080/"
        },
        "id": "BCSRQnGzp-WC",
        "outputId": "14ab91ba-9603-4374-8486-9b15b7d18da0"
      },
      "outputs": [
        {
          "output_type": "stream",
          "name": "stdout",
          "text": [
            "Hello World \n",
            "100\n"
          ]
        }
      ],
      "source": [
        "##############\n",
        "#Review\n",
        "##############\n",
        "#Comment 주석 - 코드에 대한 설명, 컴퓨터는 읽지 않고 사람만 읽는 내용.\n",
        "#               일부 코드를 감추고 싶을 때도 사용함.\n",
        "#               본인이 기록한 내용을 나중에 확인할 때 또는 다른 팀원이 작성한 내용을 파악하기 용이하게 만든다.\n",
        "\n",
        "# 온전한 주석은 #으로 표기한다 ('ctel + /')\n",
        "\n",
        "# doc string (주석의 용도로도 쓰임)\n",
        "'''\n",
        "작성일 : 2022-01-26\n",
        "담당자 : 박현용\n",
        "비고 : \n",
        "'''\n",
        "\"\"\"\n",
        "작성일 : 2022-01-26\n",
        "담당자 : 박현용\n",
        "비고 : \n",
        "\"\"\"\n",
        "#코드의 윗쪽 또는 오른쪽에 주석을 붙인다.\n",
        "print('Hello World ') #코드의 우측 또는 코드의 윗줄에 적는다\n",
        "\n",
        "#변수 Varoable\n",
        "#어떤 값을 저장하는 저장소\n",
        "a = 100\n",
        "print(a)\n",
        "\n",
        "stumathsum = 350\n",
        "stu_mathsum = 350 # 스네이크 케이스 snake_case\n",
        "StuMathSum = 350  # 캐멀 케이스 Came|Case"
      ]
    },
    {
      "cell_type": "code",
      "source": [
        "# 1a = 100 숫자가 먼저 올 수 없다.\n",
        "a1 = 100\n",
        "_a = 100 #_ 이외의 특수문자로는 변수를 만들 수 없다."
      ],
      "metadata": {
        "id": "yMyXOqiQy3bA"
      },
      "execution_count": null,
      "outputs": []
    },
    {
      "cell_type": "code",
      "source": [
        "홍길동 = 55\n",
        "#한글 변수명은 사용이 가능하지만 쓰지 말자."
      ],
      "metadata": {
        "id": "4YJPs7XJzMtL"
      },
      "execution_count": null,
      "outputs": []
    },
    {
      "cell_type": "code",
      "source": [
        "# 인덱싱(슬라이싱)\n",
        "s = 'world'\n",
        "print(s[2]) #파이썬은 인덱스 시작이 0이다.\n",
        "print(s[-1])#-1은 마지막 인덱스를 가리킨다.\n",
        "print(s[4])\n",
        "ss='900101-2547389'\n",
        "print(ss[7]) #하나만 추출할 때는 indexing\n",
        "addr = '서울시 강남구 역삼동 1번지'\n",
        "print(addr[4:7]) # 이상 : 미만 #여러개를 추출할 때는 slicing"
      ],
      "metadata": {
        "colab": {
          "base_uri": "https://localhost:8080/"
        },
        "id": "Ixs25lQuzUjr",
        "outputId": "8e574616-8dd2-4fb6-b0d3-a0036e56e8d7"
      },
      "execution_count": null,
      "outputs": [
        {
          "output_type": "stream",
          "name": "stdout",
          "text": [
            "r\n",
            "d\n",
            "d\n",
            "2\n",
            "강남구\n"
          ]
        }
      ]
    },
    {
      "cell_type": "code",
      "source": [
        "#prtin\n",
        "print('좋은 아침입니다')"
      ],
      "metadata": {
        "colab": {
          "base_uri": "https://localhost:8080/"
        },
        "id": "cKVwFLHH1cFP",
        "outputId": "2981dbaf-d025-4273-d6db-999c85c2bb70"
      },
      "execution_count": null,
      "outputs": [
        {
          "output_type": "stream",
          "name": "stdout",
          "text": [
            "좋은 아침입니다\n"
          ]
        }
      ]
    },
    {
      "cell_type": "code",
      "source": [
        "when = '아침'\n",
        "\n",
        "print('좋은',when,'입니다')\n",
        "print('좋은 %s 입니다.' % when)\n",
        "print('좋은 {} 입니다'.format(when))\n",
        "print(f'좋은 {when} 입니다.') # 이 코드가 가장 직관적인 코드"
      ],
      "metadata": {
        "colab": {
          "base_uri": "https://localhost:8080/"
        },
        "id": "E0OZrNI81i1k",
        "outputId": "ae6fd18a-5e7a-492a-ecf9-7e21a6d4eefb"
      },
      "execution_count": null,
      "outputs": [
        {
          "output_type": "stream",
          "name": "stdout",
          "text": [
            "좋은 아침 입니다\n",
            "좋은 아침 입니다.\n",
            "좋은 아침 입니다\n",
            "좋은 아침 입니다.\n"
          ]
        }
      ]
    },
    {
      "cell_type": "code",
      "source": [
        "##############\n",
        "# 리스트List[] 튜플Tuple() 딕셔너리Dlct{} 셋set\n",
        "##############\n",
        "# 자료형/ 여러개의 값을 한번에 저장하는 자료형이 필요하다.\n",
        "# 리스트 List\n",
        "# 지금까지 사용한 숫자 1, 문자1 등 개별적, 독립적인 자료가 아닌\n",
        "# 여러개를 모아서 사용할 수 있게 해준다.\n",
        "# 리스트에 넣는 자료를 요소 element 라고 한다.\n",
        "# 리스트는 []로 구성한다.\n",
        "list = [1,2,3,4,5]\n",
        "print(list)\n",
        "#리스트는 다양한 자료형의 데이터를 한번에 담을 수 있다.\n",
        "list=[1,2,3,'대한','민국',True,False] #문자와 숫자를 동시에 사용하는 것은 에러의 확률이 높기에 권장하는 방법은 아니다.\n",
        "print(list)\n",
        "score = [80,90,70,60]\n",
        "print(score[0])   #리스트는 인덱싱indexing과 슬라이싱slicing이 가능하다.\n",
        "                  #파이썬은 0부터 시작한다.\n",
        "print(score[0:2]) #슬라이싱은 0부터 2미만\n",
        "\n",
        "#리스트는 수정/삭제 가 가능하다. (mutable) #튜플은 수정/삭제 가 불가능하다.(immitable)\n",
        "score[0] = 100\n",
        "print(score)\n",
        "score[-1] = 100 # -1은 뒤에서 첫번째 라는 뜻\n",
        "print(score)\n",
        "# score[4] indexerror 이와같은 실수는 많이 접하게 될 에러이다.\n",
        "\n",
        "#리스트는 연산이 가능하다.\n",
        "list_a = [1,2,3]\n",
        "list_b = [4,5,6]\n",
        "print ('list_a =',list_a)\n",
        "print ('list_b =',list_b)\n",
        "print (list_a + list_b) #이와같은 형태는 리스트간 병합을 의미한다.\n",
        "print (list_a * 3) # 이와같은 형태는 해당 리스트를 곱셈으로 반복시킨다\n",
        "print (len(list_a)) #리스트에 존재하는 값의 갯수를 확인하는 방법"
      ],
      "metadata": {
        "colab": {
          "base_uri": "https://localhost:8080/"
        },
        "id": "HE_ZXuq07yrd",
        "outputId": "ad358bd2-2c05-471a-d268-157c1f3aaa78"
      },
      "execution_count": null,
      "outputs": [
        {
          "output_type": "stream",
          "name": "stdout",
          "text": [
            "[1, 2, 3, 4, 5]\n",
            "[1, 2, 3, '대한', '민국', True, False]\n",
            "80\n",
            "[80, 90]\n",
            "[100, 90, 70, 60]\n",
            "[100, 90, 70, 100]\n",
            "list_a = [1, 2, 3]\n",
            "list_b = [4, 5, 6]\n",
            "[1, 2, 3, 4, 5, 6]\n",
            "[1, 2, 3, 1, 2, 3, 1, 2, 3]\n",
            "3\n",
            "2\n",
            "[1, 2, 3]\n"
          ]
        }
      ]
    },
    {
      "cell_type": "code",
      "source": [
        "# 리스트에 많이 사용되는 함수들\n",
        "# append() (굉장히 많이 사용됨) 리스트레 요소를 추가할 때 사용(끝에만 추가됨)\n",
        "\n",
        "print(score)\n",
        "score.append(60) #해당값을 리스트에 추가하는 방법\n",
        "print(score)\n",
        "score.append(70)\n",
        "print(score)"
      ],
      "metadata": {
        "colab": {
          "base_uri": "https://localhost:8080/"
        },
        "id": "BZ2qvrE8Fc8A",
        "outputId": "8038fef6-5649-46b9-ca05-1356b15c5836"
      },
      "execution_count": null,
      "outputs": [
        {
          "output_type": "stream",
          "name": "stdout",
          "text": [
            "[100, 90, 70, 100, 60, 60, 70]\n",
            "[100, 90, 70, 100, 60, 60, 70, 60]\n",
            "[100, 90, 70, 100, 60, 60, 70, 60, 70]\n"
          ]
        }
      ]
    },
    {
      "cell_type": "code",
      "source": [
        "# insert() 리스트에 요소를 추가할 때 사용, 특정 위치를 지정하여 추가\n",
        "list = []\n",
        "list.insert(0,10) # ( 위치지정 : 변경 할 내용)\n",
        "print(list)\n",
        "list.insert(-1,50)\n",
        "print(list)"
      ],
      "metadata": {
        "colab": {
          "base_uri": "https://localhost:8080/"
        },
        "id": "QpgH2fI6JQh2",
        "outputId": "be7dda09-8304-48af-b970-a38d1ffe1e8a"
      },
      "execution_count": null,
      "outputs": [
        {
          "output_type": "stream",
          "name": "stdout",
          "text": [
            "[10]\n",
            "[50, 10]\n"
          ]
        }
      ]
    },
    {
      "cell_type": "code",
      "source": [
        "list_a = [1,2,3]\n",
        "list_a.extend([4,5,6]) #한 번에 여러개의 값을 넣을 때 쓰는 방식\n",
        "print(list_a) #파괴적 처리"
      ],
      "metadata": {
        "colab": {
          "base_uri": "https://localhost:8080/"
        },
        "id": "0_BVOLB1KOqp",
        "outputId": "64d63cc3-25ec-4c41-83fd-2929fd981539"
      },
      "execution_count": null,
      "outputs": [
        {
          "output_type": "stream",
          "name": "stdout",
          "text": [
            "[1, 2, 3, 4, 5, 6]\n"
          ]
        }
      ]
    },
    {
      "cell_type": "code",
      "source": [
        "list_a = [1,2,3]\n",
        "list_b = [4,5,6]\n",
        "print(list_a + list_b) #비 파괴적 처리\n",
        "#이러한 방식은 결과를 보기만 할 뿐 list_a 자체가 변경 된 것은 아니다.(비 파괴적 처리)\n",
        "#하지만 extend() 를 사용하면 list_a 에 직접적으로 영향을 주게된다.(파괴적처리)\n",
        "\n",
        "#원래 자료를 사용할 때는 비 파괴적으로 사용하는 것이 바람직 하다.\n",
        "#가능하면 원본 데이터를 그대로 유지하고 사용하는 것이 선택지가 더 넓다."
      ],
      "metadata": {
        "colab": {
          "base_uri": "https://localhost:8080/"
        },
        "id": "sP1eHidQKps_",
        "outputId": "9282885b-5a34-4605-f8ae-5215906ade25"
      },
      "execution_count": null,
      "outputs": [
        {
          "output_type": "stream",
          "name": "stdout",
          "text": [
            "[1, 2, 3, 4, 5, 6]\n"
          ]
        }
      ]
    },
    {
      "cell_type": "code",
      "source": [
        "#del() 리스트에서 데이터 삭제\n",
        "list_a = [0,1,2,3,4,5]\n",
        "del list_a[1] # index 값으로 위치값을 삭제\n",
        "print(list_a)\n",
        "del list_a[1:3] # 순번상 1 이상 3 미만 삭제명령\n",
        "print(list_a)\n",
        "\n",
        "# list_a.clear() 리스트 요소를 전부 한번에 삭제"
      ],
      "metadata": {
        "colab": {
          "base_uri": "https://localhost:8080/"
        },
        "id": "RA0c0Bv7MYK2",
        "outputId": "cd8869e7-4b6a-4b30-c1a0-3428c3ac1c94"
      },
      "execution_count": null,
      "outputs": [
        {
          "output_type": "stream",
          "name": "stdout",
          "text": [
            "[0, 2, 3, 4, 5]\n",
            "[0, 4, 5]\n"
          ]
        }
      ]
    },
    {
      "cell_type": "code",
      "source": [
        "# pop() 리스트에서 맨 오른쪽을 삭제 ** 매 실행 때 마다 값이 삭제됨\n",
        "list_a.pop()\n",
        "print(list_a)"
      ],
      "metadata": {
        "colab": {
          "base_uri": "https://localhost:8080/"
        },
        "id": "itjCrTxGM_ve",
        "outputId": "145e809c-2e06-4a95-f365-72ed87f4f3aa"
      },
      "execution_count": null,
      "outputs": [
        {
          "output_type": "stream",
          "name": "stdout",
          "text": [
            "[0]\n"
          ]
        }
      ]
    },
    {
      "cell_type": "code",
      "source": [
        "# remove 값으로 삭제 \n",
        "list_c = [1,2,1,2] # remove 는 요소의 값을 찾아 삭제한다.\n",
        "                   # 동일한 값이 여러개 있을 때는 하나씩 순차적으로 삭제한다.\n",
        "                   # 리스트에서 중복된 여러개의 값을 제거하려면 반복문을 사용한다.\n",
        "list_c.remove(2)\n",
        "print(list_c )"
      ],
      "metadata": {
        "colab": {
          "base_uri": "https://localhost:8080/"
        },
        "id": "M2zVAa7IOV-9",
        "outputId": "7effb77f-fd72-4692-e029-84931f529d29"
      },
      "execution_count": null,
      "outputs": [
        {
          "output_type": "stream",
          "name": "stdout",
          "text": [
            "[1, 1, 2]\n"
          ]
        }
      ]
    },
    {
      "cell_type": "code",
      "source": [
        "list = [1,2,3,4,5]\n",
        "print(list[0]) #indexing 은 비 파괴적으로 동작한다.\n",
        "print(list)\n",
        "\n",
        "print(list.pop()) #pop 은 파괴적으로 동작한다. 프린트를 사용함으로 파괴되는 값이 표시됨\n",
        "print(list)"
      ],
      "metadata": {
        "colab": {
          "base_uri": "https://localhost:8080/"
        },
        "id": "Dpf6p8PkPnDD",
        "outputId": "f9ad9bc2-077b-4cba-a449-fc6a9f07df6a"
      },
      "execution_count": null,
      "outputs": [
        {
          "output_type": "stream",
          "name": "stdout",
          "text": [
            "1\n",
            "[1, 2, 3, 4, 5]\n",
            "5\n",
            "[1, 2, 3, 4]\n"
          ]
        }
      ]
    },
    {
      "cell_type": "code",
      "source": [
        "# in / not in 리스트에 존재하는 요소인지를 확인\n",
        "list = [222,434,65,123,547,876]\n",
        "print(222 in list) # 존재를 하는지 확인함. 존재함으로 True 가 뜸\n",
        "list = [222,434,65,123,547,876]\n",
        "print(221 in list)\n",
        "print(221 not in list)# 부존재를 확인함. 존재하지 않음으로 True 가 뜸"
      ],
      "metadata": {
        "colab": {
          "base_uri": "https://localhost:8080/"
        },
        "id": "sQoqq0e_QWED",
        "outputId": "b7e2af54-db81-462b-b40d-86891ab69562"
      },
      "execution_count": null,
      "outputs": [
        {
          "output_type": "stream",
          "name": "stdout",
          "text": [
            "True\n",
            "False\n",
            "True\n"
          ]
        }
      ]
    },
    {
      "cell_type": "code",
      "source": [
        "# 딕셔너리 Dict (java 의 map, JS 의 json 과 유사한 자료구조)\n",
        "# 리스트가 인덱스를 기반으로 값을 저장한다면 딕셔너리는 키 값을 기반으로 값을 저장한다.\n",
        "\n",
        "#{} 를 사용하여 데이터들을 저장한다.\n",
        "#삽입/삭제 가 가능하다. mutable\n",
        "#순서가 없음으로 인덱싱과 슬라이싱이 불가능하다.\n",
        "\n",
        "dict = {\n",
        "     \"name\" : \"엔드 게임\",\n",
        "     \"no\" : 1,\n",
        "     \"type\" : \"히어로 무비\",\n",
        "     \"ptice\" : 10000\n",
        "}\n",
        "print(dict)\n",
        "print(dict['name']) # 키 값으로 출력하는 방법"
      ],
      "metadata": {
        "colab": {
          "base_uri": "https://localhost:8080/"
        },
        "id": "T-Q6OllQRlm0",
        "outputId": "84b942f1-3d89-4007-98a0-ebf8b63a5659"
      },
      "execution_count": null,
      "outputs": [
        {
          "output_type": "stream",
          "name": "stdout",
          "text": [
            "{'name': '엔드 게임', 'no': 1, 'type': '히어로 무비', 'ptice': 10000}\n",
            "엔드 게임\n"
          ]
        }
      ]
    },
    {
      "cell_type": "code",
      "source": [
        "dict = {\n",
        "     \"감독\" : [\"안소니\",\"루소\"], #리스트를 넣을 수 있다.\n",
        "     \"배우\" : [\"타노스\",\"토르\",\"헐크\"],\n",
        "}\n",
        "print(dict[\"감독\"])"
      ],
      "metadata": {
        "colab": {
          "base_uri": "https://localhost:8080/"
        },
        "id": "DwJ1zAT6j-fa",
        "outputId": "99456632-0196-4f5c-d428-7fca62c8a1e0"
      },
      "execution_count": null,
      "outputs": [
        {
          "output_type": "stream",
          "name": "stdout",
          "text": [
            "['안소니', '루소']\n"
          ]
        }
      ]
    },
    {
      "cell_type": "code",
      "source": [
        "dict = {#복합으로 사용도 가능하다.\n",
        "    'name' : '건조 망고',\n",
        "    'type' : '절임 과일',\n",
        "    'ingredient' : ['망고','설탕','색소'],\n",
        "    'origin' : '필리핀'\n",
        "}\n",
        "print('name :', dict['name'])\n",
        "print('type :', dict['type'])\n",
        "print('ingredient :', dict['ingredient'])\n",
        "print('origin :', dict['origin'])\n",
        "print('-----------------------------------')\n",
        "dict['name'] = '망고'\n",
        "print(dict['name'])\n",
        "print(dict['ingredient'][2]) # 딕셔너리 내부 리스트에서 특정하여 출력하는 방법 dict[이름]][번호]\n",
        "dict['price'] = 5000 # 딕셔너리에 추가하는 방법\n",
        "print(dict)\n",
        "dict['price'] = 4000 # 수정하는 방법은 중복 처리로 매꿀 수 있다.\n",
        "print(dict)\n",
        "del dict['price'] # 삭제하는 방법\n",
        "print(dict)"
      ],
      "metadata": {
        "colab": {
          "base_uri": "https://localhost:8080/"
        },
        "id": "EZPlp38ll-3j",
        "outputId": "dcbddac6-a102-49d3-896a-a1c4f3e88ffa"
      },
      "execution_count": null,
      "outputs": [
        {
          "output_type": "stream",
          "name": "stdout",
          "text": [
            "name : 건조 망고\n",
            "type : 절임 과일\n",
            "ingredient : ['망고', '설탕', '색소']\n",
            "origin : 필리핀\n",
            "-----------------------------------\n",
            "망고\n",
            "색소\n",
            "{'name': '망고', 'type': '절임 과일', 'ingredient': ['망고', '설탕', '색소'], 'origin': '필리핀', 'price': 5000}\n",
            "{'name': '망고', 'type': '절임 과일', 'ingredient': ['망고', '설탕', '색소'], 'origin': '필리핀', 'price': 4000}\n",
            "{'name': '망고', 'type': '절임 과일', 'ingredient': ['망고', '설탕', '색소'], 'origin': '필리핀'}\n"
          ]
        }
      ]
    },
    {
      "cell_type": "code",
      "source": [
        "# dict에 값을 추가하는 방법\n",
        "dict = {}\n",
        "dict['name'] ='새이름'\n",
        "dict['height'] = 185\n",
        "dict['welght'] = 75\n",
        "print(dict)\n",
        "del dict['welght']\n",
        "print(dict)"
      ],
      "metadata": {
        "colab": {
          "base_uri": "https://localhost:8080/"
        },
        "id": "9PrRprv0ofXZ",
        "outputId": "a0b97452-311f-4263-ce3b-16e1cbfaf544"
      },
      "execution_count": null,
      "outputs": [
        {
          "output_type": "stream",
          "name": "stdout",
          "text": [
            "{'name': '새이름', 'height': 185, 'welght': 75}\n",
            "{'name': '새이름', 'height': 185}\n"
          ]
        }
      ]
    },
    {
      "cell_type": "code",
      "source": [
        "# dict 에서 자주 등장하는 에러(예외)\n",
        "# keyError 리스트에서 없는 인덱스에 접근하여고 하면 indexError 가 발생되는 것처럼\n",
        "#          딕에서도 존재하지 않는 키 값을 사용하면 예외 또는 에러를 발생시킨다.\n",
        "\n",
        "# dict = {\n",
        "#     'name' : '건조 망고',\n",
        "#     'type' : '절임 과일',\n",
        "#     'ingredient' : ['망고','설탕','색소'],\n",
        "#     'origin' : '필리핀'\n",
        "# }\n",
        "# dict['감독']\n",
        "# 이와 같은 형태로 실행을 했을 시 keyError 가 발생을 한다."
      ],
      "metadata": {
        "id": "8jbjbDNIpA-_"
      },
      "execution_count": null,
      "outputs": []
    },
    {
      "cell_type": "code",
      "source": [
        "# 입력을 받아 dict에서 내용을 삭제하는 방법\n",
        "dict = {\n",
        "    'name' : '건조 망고',\n",
        "    'type' : '절임 과일',\n",
        "    'ingredient' : ['망고','설탕','색소'],\n",
        "    'origin' : '필리핀'\n",
        "}\n",
        "\n",
        "key = input('>삭제를 원하는 데이터의 키값을 입력하세요 : ')\n",
        "\n",
        "if key in dict :\n",
        "  del dict[key]\n",
        "else:\n",
        "  print('존재하지 않은 키에 접근 하고 있습니다.')\n",
        "\n",
        "print(dict)"
      ],
      "metadata": {
        "colab": {
          "base_uri": "https://localhost:8080/"
        },
        "id": "jxyACQAeqKkP",
        "outputId": "0b7bea69-ad7b-4b02-bff2-2fe29b2fe908"
      },
      "execution_count": null,
      "outputs": [
        {
          "output_type": "stream",
          "name": "stdout",
          "text": [
            ">삭제를 원하는 데이터의 키값을 입력하세요 : ㅇㅇ\n",
            "존재하지 않은 키에 접근 하고 있습니다.\n",
            "{'name': '건조 망고', 'type': '절임 과일', 'ingredient': ['망고', '설탕', '색소'], 'origin': '필리핀'}\n"
          ]
        }
      ]
    },
    {
      "cell_type": "code",
      "source": [
        "# #중복에 관하여\n",
        "dict = {\n",
        "    'name' : '건조 망고',\n",
        "    'type' : '절임 과일',\n",
        "    'ingredient' : ['망고','설탕','색소'],\n",
        "    'origin' : '필리핀',\n",
        "    'name' : '말린 망고'\n",
        "}\n",
        "print(dict)\n",
        "# 이와 같은 형태는 중복이 발생함 으로 마지막 중복인 name 만이 성립된다"
      ],
      "metadata": {
        "colab": {
          "base_uri": "https://localhost:8080/"
        },
        "id": "wdGOnzwMtQCx",
        "outputId": "d15c0a28-79ce-4e7c-a462-dc4da87e6e6c"
      },
      "execution_count": null,
      "outputs": [
        {
          "output_type": "stream",
          "name": "stdout",
          "text": [
            "{'name': '말린 망고', 'type': '절임 과일', 'ingredient': ['망고', '설탕', '색소'], 'origin': '필리핀'}\n"
          ]
        }
      ]
    },
    {
      "cell_type": "code",
      "source": [
        "# 튜플 tuple\n",
        "# () 를 사용하여 작성한다.\n",
        "# 리스트와 거의 대부분 유사하나, 튜플른 삽입, 수정 등이 불가능 하다. immutable\n",
        "# 튜플은 1개의 원소로 작성할 때는 , 를 삽입한다. (1,) 하지만 두개 일 때부터는 정상적으로 표기한다.(1,2)\n",
        "# 튜플은 괄호를 생략 할 수 있다. ** 위 , 가 사용되어야 하는 이유이다.\n",
        "\n",
        "t = (1,2)\n",
        "print(t)\n",
        "print(type(t))\n",
        "t2 = 3, 4\n",
        "print(t2)\n",
        "print(type(t2))\n",
        "\n",
        "t3 = (5) #(5) == 5 이기 때문에 int가 된다.\n",
        "print(t3)\n",
        "print(type(t3))\n",
        "\n",
        "t4 = 5, #괄호의 생략이 가능하다.\n",
        "print(t4)\n",
        "print(type(t4))"
      ],
      "metadata": {
        "colab": {
          "base_uri": "https://localhost:8080/"
        },
        "id": "YUI3_PXAwwj1",
        "outputId": "c66d8900-6bf6-42d0-d789-ed1f5e1961f1"
      },
      "execution_count": null,
      "outputs": [
        {
          "output_type": "stream",
          "name": "stdout",
          "text": [
            "(1, 2)\n",
            "<class 'tuple'>\n",
            "(3, 4)\n",
            "<class 'tuple'>\n",
            "5\n",
            "<class 'int'>\n",
            "(5,)\n",
            "<class 'tuple'>\n"
          ]
        }
      ]
    },
    {
      "cell_type": "code",
      "source": [
        "t = (1,2,3,4,5)\n",
        "#t[0] = 8 튜플른 수정이 불가능하다. immitable\n",
        "# del t[0] 튜플은 삭제가 불가능하다 immitable"
      ],
      "metadata": {
        "id": "c1OSBYZJy_5y"
      },
      "execution_count": null,
      "outputs": []
    },
    {
      "cell_type": "code",
      "source": [
        "t = (1,2,3,4,5)\n",
        "print(t[0])\n",
        "print(t[1]) #튜플은 indexing 이 가능하다.\n",
        "print(t[2:])#튜플은 slicing 이 가능하다."
      ],
      "metadata": {
        "colab": {
          "base_uri": "https://localhost:8080/"
        },
        "id": "I4OKAmQozM2L",
        "outputId": "6eb547af-f8c1-4a59-c9c4-36ceadc7f4a9"
      },
      "execution_count": null,
      "outputs": [
        {
          "output_type": "stream",
          "name": "stdout",
          "text": [
            "1\n",
            "2\n",
            "(3, 4, 5)\n"
          ]
        }
      ]
    },
    {
      "cell_type": "code",
      "source": [
        "t = (1,2,3,4,5)\n",
        "t2 = (6,7,8,9)\n",
        "print(t+t2) # 튜플은 수정이 아닌 비 파괴적 출력은 가능하다.\n",
        "print(t)\n",
        "print(t2)\n",
        "print(t*3)"
      ],
      "metadata": {
        "colab": {
          "base_uri": "https://localhost:8080/"
        },
        "id": "RGoK4A4Szt2x",
        "outputId": "a8d86b8d-b7a3-4bad-a6ec-5a8295c47e08"
      },
      "execution_count": null,
      "outputs": [
        {
          "output_type": "stream",
          "name": "stdout",
          "text": [
            "(1, 2, 3, 4, 5, 6, 7, 8, 9)\n",
            "(1, 2, 3, 4, 5)\n",
            "(6, 7, 8, 9)\n",
            "(1, 2, 3, 4, 5, 1, 2, 3, 4, 5, 1, 2, 3, 4, 5)\n"
          ]
        }
      ]
    },
    {
      "cell_type": "code",
      "source": [
        "from typing import MutableMapping\n",
        "# Set 집합\n",
        "# {} 를 사용하여 작성한다\n",
        "# 중복을 허용하지 않는다.\n",
        "# 순서가 없다. unordered 리스트나 튜플은 순사가 있기 때문에 ordered 인덱싱과 슬라이싱을 통해\n",
        "# 값을 꺼낼 수 있지만 dict 와 set 은 순서가 없어 불가능하다.\n",
        "# 중복을 허용하지 않는다는 특성을 활용하여 중복제거 필터용으로 많이 사용된다.\n",
        "# set 자료형에 저장된 값을 써내려면 리스트나 튜플로 변환하여 사용한다.\n",
        "# Mutable 수정/삭제가 가능하다\n",
        "\n",
        "set = {1,1,2,2,2,3,4} # 중복은 모두 자동으로 쳐내진다\n",
        "print(set)\n",
        "# print(set[0]) #이와같은 형태로 셋에 내부에 있는 숫자를 빼낼 수 없다.\n"
      ],
      "metadata": {
        "colab": {
          "base_uri": "https://localhost:8080/"
        },
        "id": "ufyM18JQ0jOR",
        "outputId": "2b9a5d7d-af16-4c00-e7b2-d3a9e4272ba7"
      },
      "execution_count": null,
      "outputs": [
        {
          "output_type": "stream",
          "name": "stdout",
          "text": [
            "{1, 2, 3, 4}\n"
          ]
        }
      ]
    },
    {
      "cell_type": "code",
      "source": [
        "# set를 만드는 다른 방법\n",
        "s1 = set([1,2,2,3,3])\n",
        "print(s1)\n",
        "print('s1의 타입 : ',type(s1))\n",
        "li = list(s1) # 리스트로 형 변환을 통해서 부분 출력을 가능케 바꿀 수 있다.\n",
        "print(type(li))\n",
        "print(li)\n",
        "print('리스트로 변환 0번째 출력값 :', li[0])"
      ],
      "metadata": {
        "colab": {
          "base_uri": "https://localhost:8080/"
        },
        "id": "x5tZ04Xb2orE",
        "outputId": "6552c89c-4793-44b4-e31d-24722fadbf40"
      },
      "execution_count": null,
      "outputs": [
        {
          "output_type": "stream",
          "name": "stdout",
          "text": [
            "{1, 2, 3}\n",
            "s1의 타입 :  <class 'set'>\n",
            "<class 'list'>\n",
            "[1, 2, 3]\n",
            "리스트로 변환 0번째 출력값 : 1\n"
          ]
        }
      ]
    },
    {
      "cell_type": "code",
      "source": [
        "#집합계산\n",
        "set1 ={1,2,3}\n",
        "set2 ={2,3,4}\n",
        "print(type(set1))\n",
        "print(type(set2))\n",
        "# 양쪽 집합 모두 포함되는 원소 -> 교집합\n",
        "print(set1 & set2) \n",
        "print(set1.intersection(set2))\n",
        "\n",
        "# 양쪽 집합의 모든 원소 -> 합집합 이지만 여전히 중복은 걸러짐\n",
        "print(set1 | set2)\n",
        "print(set1.union(set2)) \n",
        "\n",
        "#두개 집합의 차 -> 차집합\n",
        "print(set1 - set2)\n",
        "print(set1.difference(set2))"
      ],
      "metadata": {
        "colab": {
          "base_uri": "https://localhost:8080/"
        },
        "id": "r1xCmxXz3Ioa",
        "outputId": "03b68752-a1f5-4b1b-8957-8e1d5dabce67"
      },
      "execution_count": null,
      "outputs": [
        {
          "output_type": "stream",
          "name": "stdout",
          "text": [
            "<class 'set'>\n",
            "<class 'set'>\n",
            "{2, 3}\n",
            "{2, 3}\n",
            "{1, 2, 3, 4}\n",
            "{1, 2, 3, 4}\n",
            "{1}\n",
            "{1}\n"
          ]
        }
      ]
    },
    {
      "cell_type": "code",
      "source": [
        "# set의 수정과 삭제\n",
        "set1 = {1,2,3}\n",
        "print(set1)\n",
        "\n",
        "# 하나만 추가하는 방법\n",
        "set1.add(4)\n",
        "print(set1)\n",
        "\n",
        "# 여러개를 동시에 추가하는 방법\n",
        "set1.update([5,6,7,8])\n",
        "print(set1)\n",
        "\n",
        "# 삭제하는 방법 (단, set는 순서가 없기 때문에 해당하는 값을 지정해서 삭제해야한다.)\n",
        "set1.remove(4)\n",
        "print(set1)"
      ],
      "metadata": {
        "colab": {
          "base_uri": "https://localhost:8080/"
        },
        "id": "VUqxgA-s6oM3",
        "outputId": "0981d15e-7686-443a-a689-6a6190d643e6"
      },
      "execution_count": null,
      "outputs": [
        {
          "output_type": "stream",
          "name": "stdout",
          "text": [
            "{1, 2, 3}\n",
            "{1, 2, 3, 4}\n",
            "{1, 2, 3, 4, 5, 6, 7, 8}\n",
            "{1, 2, 3, 5, 6, 7, 8}\n"
          ]
        }
      ]
    },
    {
      "cell_type": "code",
      "source": [
        "# Q1. 예시) 학번을 입력하세요 >> 31025 // 출력 3학년 10반 25번\n",
        "sn = input('학번을 입력하시오')\n",
        "print(f'{sn[0]}학년{sn[1:3]}반 {sn[3:]}번')\n"
      ],
      "metadata": {
        "colab": {
          "base_uri": "https://localhost:8080/"
        },
        "id": "NkXY2wNN_hAW",
        "outputId": "a062b80f-eb49-428e-a2b8-53edbd467ba2"
      },
      "execution_count": null,
      "outputs": [
        {
          "output_type": "stream",
          "name": "stdout",
          "text": [
            "학번을 입력하시오31025\n",
            "3학년10반 25번\n"
          ]
        }
      ]
    },
    {
      "cell_type": "code",
      "source": [
        "# Q2 입력) 차량번호를 입력하세요 >> 서울2가1234\n",
        "        #  차량번호를 입력하세요 >> 288가1233\n",
        "#  출력) 서울2가 1234의 차량번호 끝자리 4자리는 1234입니다.     \n",
        "car_num = input('차량번호를 입력하시기 바랍니다.')\n",
        "print(f'{car_num} 의 끝자리 번호는 {car_num[-4:]}')\n"
      ],
      "metadata": {
        "colab": {
          "base_uri": "https://localhost:8080/"
        },
        "id": "Vy92ruhSCDRg",
        "outputId": "9c585021-5d9d-48d8-e3b4-6e604a308e24"
      },
      "execution_count": null,
      "outputs": [
        {
          "output_type": "stream",
          "name": "stdout",
          "text": [
            "차량번호를 입력하시기 바랍니다.555ㄴ6ㅇ54\n",
            "555ㄴ6ㅇ54 의 끝자리 번호는 6ㅇ54\n"
          ]
        }
      ]
    },
    {
      "cell_type": "code",
      "source": [
        "# Q3 홀수 갯수의 문자열을 입력받아 가운데 글자를 추출하는 프로그램을 구현하시오\n",
        "tt = input('글자를 홀수로 입력하시오')\n",
        "print(len(tt))\n",
        "tt2 = int(len(tt)/2)\n",
        "# tt2 = int(int(len(tt)//2)) # 몫만 추출\n",
        "# tt2 = int(int(len(tt)%2))  # 나머지만 추출(홀수 짝구 배수)\n",
        "print('문자열의 가운데 숫자는',tt[tt2])\n"
      ],
      "metadata": {
        "colab": {
          "base_uri": "https://localhost:8080/"
        },
        "id": "_sL2KvOKDkVh",
        "outputId": "80460687-cb0c-4722-cd0a-887eb1978b59"
      },
      "execution_count": null,
      "outputs": [
        {
          "output_type": "stream",
          "name": "stdout",
          "text": [
            "글자를 홀수로 입력하시오ㅁㄴㅇㅀ\n",
            "4\n",
            "문자열의 가운데 숫자는 ㅇ\n"
          ]
        }
      ]
    },
    {
      "cell_type": "code",
      "source": [
        "# [1,2,3,4,5,6,7,8,9] 의 3번째 '요소'부터 7번째 요소만 추출한 결과에서 2번째 요소를 출력하는 프로그램을 구현하세요\n",
        "a = [1,2,3,4,5,6,7,8,9]\n",
        "print(a[2:7][1]) #출력된 부분에서 출력을 하는 방법"
      ],
      "metadata": {
        "colab": {
          "base_uri": "https://localhost:8080/"
        },
        "id": "93fPvnhBHuo0",
        "outputId": "a370dab4-07b4-4881-c1cd-a37a9961b482"
      },
      "execution_count": null,
      "outputs": [
        {
          "output_type": "stream",
          "name": "stdout",
          "text": [
            "4\n"
          ]
        }
      ]
    },
    {
      "cell_type": "code",
      "source": [
        "##############\n",
        "# if\n",
        "##############\n",
        "# 특정 조건을 만족하는지 여부에 따라 실행되는 코드가 달라저야 할 때 사용된다\n",
        "# 날씨가 맑으면 소풍을 가고 아니면 공부를 한다.\n",
        "\n",
        "# if 조건식 : \n",
        "#   만족할 때 실행 코드\n",
        "# else : \n",
        "#   만족하지 못할 때 실행 코드\n",
        "\n",
        "# if 맑으면:\n",
        "#   소풍을 간다\n",
        "# else :\n",
        "#   공부를 한다.\n",
        "\n",
        "if True:\n",
        "  print('만족')\n",
        "else :\n",
        "  print('불만족')"
      ],
      "metadata": {
        "colab": {
          "base_uri": "https://localhost:8080/"
        },
        "id": "xdzpP9PAMfpa",
        "outputId": "98aadb6e-404b-44f1-ae15-98861464b7c1"
      },
      "execution_count": null,
      "outputs": [
        {
          "output_type": "stream",
          "name": "stdout",
          "text": [
            "만족\n"
          ]
        }
      ]
    },
    {
      "cell_type": "code",
      "source": [
        "age = int(input('나이를 입력하세요 : '))\n",
        "\n",
        "if age >= 18 :\n",
        " print('당신은 성인입니다.')\n",
        "else : \n",
        " print('당신은 성인이 아닙니다.')"
      ],
      "metadata": {
        "colab": {
          "base_uri": "https://localhost:8080/"
        },
        "id": "pVaDHaTQPKNs",
        "outputId": "0989818a-d407-437e-f6b7-4add3328c96d"
      },
      "execution_count": null,
      "outputs": [
        {
          "output_type": "stream",
          "name": "stdout",
          "text": [
            "나이를 입력하세요 : 19\n",
            "당신은 성인입니다.\n"
          ]
        }
      ]
    },
    {
      "cell_type": "code",
      "source": [
        "# if 문 이 후에 추가는  elif 을 사용하며, else 로 끝을 낸다\n",
        "age = int(input('나이를 입력하세요 : '))\n",
        "\n",
        "if age < 10 :\n",
        " print('당신은 유아 입니다.')\n",
        "elif age < 20 : \n",
        " print('당신은 10대 입니다.')\n",
        "elif age < 30 : \n",
        " print('당신은 20대 입니다.')\n",
        "elif age < 40 : \n",
        " print('당신은 30대 입니다.')\n",
        "elif age < 50 : \n",
        " print('당신은 40대 입니다.')\n",
        "elif age < 60 : \n",
        " print('당신은 50대 입니다.')\n",
        "elif age < 70 : \n",
        " print('당신은 60대 입니다.')\n",
        "else : \n",
        " print('당신은 노인 입니다..')"
      ],
      "metadata": {
        "colab": {
          "base_uri": "https://localhost:8080/"
        },
        "id": "ITfW1ryfPstM",
        "outputId": "866a9075-4f31-4489-a65c-98d38dde57f2"
      },
      "execution_count": null,
      "outputs": [
        {
          "output_type": "stream",
          "name": "stdout",
          "text": [
            "나이를 입력하세요 : 40\n",
            "당신은 40대 입니다.\n"
          ]
        }
      ]
    },
    {
      "cell_type": "code",
      "source": [
        "# # Q. 입력) 당신의 점수를 입력하세요 : 95\n",
        "# # 출력) 당신의 점수는 ?? 점 이고, 학점은 A 학점 입니다.\n",
        "# # )))) 수정해야함\n",
        "num = int(input('당신의 점수를 입력하세요 : '))\n",
        "\n",
        "if -1 < num > 100 :\n",
        " print('잘못입력했습니다.')\n",
        " num2 = '오류'\n",
        "elif num >=90 : \n",
        " num2 = 'A'\n",
        "elif num >=89 : \n",
        " num2 = 'B'\n",
        "elif num >=79 : \n",
        " num2 = 'C'\n",
        "elif num >=67 : \n",
        " num2 = 'D'\n",
        "else : \n",
        " num2 = 'F'\n",
        " \n",
        "print(f'당신의 점수는{num2}입니다.')"
      ],
      "metadata": {
        "colab": {
          "base_uri": "https://localhost:8080/"
        },
        "id": "qIIuw7n6RHnX",
        "outputId": "d3c4bd0b-6b6f-4e2b-95f9-26a05453828a"
      },
      "execution_count": null,
      "outputs": [
        {
          "output_type": "stream",
          "name": "stdout",
          "text": [
            "당신의 점수를 입력하세요 : 88\n",
            "당신의 점수는C입니다.\n"
          ]
        }
      ]
    },
    {
      "cell_type": "code",
      "source": [
        "# # 임의의 정부를 입력 받아서 그 수가 3의 배수인지를 확인하는 프로그램을 작성하시오\n",
        "# #  (입력) 정수를 입력하세요 : 14\n",
        "# #  (출력) 14는 3의 배수가 아닙니다.\n",
        "# #  (입력) 정수를 입력하세요 : 15\n",
        "# #  (출력) 15는 3의 배수입니다.\n",
        "# tt2 = int(int(len(tt)//2)) # 몫만 추출\n",
        "# tt2 = int(int(len(tt)%2))  # 나머지만 추출(홀수 짝구 배수)\n",
        "\n",
        "r = int(input(\"정수입력 : \"))\n",
        "\n",
        "if r%2 == 0 :\n",
        "  a = \"아닙니다.\"\n",
        "else :\n",
        "  a = \"맞습니다.\"\n",
        "\n",
        "print(f'{r}은 3의 배수가 {a}')"
      ],
      "metadata": {
        "colab": {
          "base_uri": "https://localhost:8080/"
        },
        "id": "Z568RLiUGqf-",
        "outputId": "927b55ec-4029-4815-b701-68a33211b6e0"
      },
      "execution_count": null,
      "outputs": [
        {
          "output_type": "stream",
          "name": "stdout",
          "text": [
            "정수입력 : 15\n",
            "15은 3의 배수가 맞습니다.\n"
          ]
        }
      ]
    },
    {
      "cell_type": "code",
      "source": [
        "# 정수 3개를 입력 받아서 그 중에서 가장 큰수를 찾아 츌력하는 프로그램\n",
        "# 정수1입력>3\n",
        "# 정수2입력>1\n",
        "# 정수3입력>2\n",
        "# 가장 큰 수는 3입니다.\n",
        "n1 = int(input('정수 3개를 입력하시기 바랍니다.'))\n",
        "n2 = int(input(''))\n",
        "n3 = int(input(''))\n",
        "\n",
        "if n1> n2 & n1 > n3 :\n",
        "  best = n1\n",
        "elif n1 < n2 & n1 < n3 :\n",
        "  best = n2\n",
        "else :\n",
        "  best = n3\n",
        "\n",
        "print(best)"
      ],
      "metadata": {
        "colab": {
          "base_uri": "https://localhost:8080/"
        },
        "id": "LScxx1NQU8AC",
        "outputId": "93254f75-d071-424f-e7a3-789890193533"
      },
      "execution_count": null,
      "outputs": [
        {
          "output_type": "stream",
          "name": "stdout",
          "text": [
            "정수 3개를 입력하시기 바랍니다.1\n",
            "2\n",
            "3\n",
            "3\n"
          ]
        }
      ]
    },
    {
      "cell_type": "code",
      "source": [
        "#dict 의 기능 메모 예시)\n",
        "# fromkeys // b의 값을 각각의 key 값에 모두 각각 넣는다.\n",
        "a = (\"apple\", \"pear\", \"peach\")\n",
        "b = (300, 250, 400)\n",
        "t = dict.fromkeys(a,b)\n",
        "print(t)"
      ],
      "metadata": {
        "id": "tPwDSH4ENjFP",
        "colab": {
          "base_uri": "https://localhost:8080/"
        },
        "outputId": "6eb89881-c58f-45ee-d6c1-783877d1b913"
      },
      "execution_count": 12,
      "outputs": [
        {
          "output_type": "stream",
          "name": "stdout",
          "text": [
            "{'apple': (300, 250, 400), 'pear': (300, 250, 400), 'peach': (300, 250, 400)}\n"
          ]
        }
      ]
    },
    {
      "cell_type": "code",
      "source": [
        "# zip\n",
        "# b의 값을 key 와 순서대로 values 값으로 넣는다.\n",
        "a = (\"apple\", \"pear\", \"peach\")\n",
        "b = (300, 250, 400)\n",
        "t = dict(zip(a,b))\n",
        "print(t)"
      ],
      "metadata": {
        "colab": {
          "base_uri": "https://localhost:8080/"
        },
        "id": "zLB2o3oETBfd",
        "outputId": "85951333-7d46-42d7-e91f-b914e6912314"
      },
      "execution_count": 10,
      "outputs": [
        {
          "output_type": "stream",
          "name": "stdout",
          "text": [
            "{'apple': 300, 'pear': 250, 'peach': 400}\n"
          ]
        }
      ]
    }
  ]
}