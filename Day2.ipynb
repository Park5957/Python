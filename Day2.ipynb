{
  "nbformat": 4,
  "nbformat_minor": 0,
  "metadata": {
    "colab": {
      "name": "Day2.ipynb",
      "provenance": [],
      "collapsed_sections": [],
      "authorship_tag": "ABX9TyOELMaTpun+TbLbV3RW0IqH",
      "include_colab_link": true
    },
    "kernelspec": {
      "name": "python3",
      "display_name": "Python 3"
    },
    "language_info": {
      "name": "python"
    }
  },
  "cells": [
    {
      "cell_type": "markdown",
      "metadata": {
        "id": "view-in-github",
        "colab_type": "text"
      },
      "source": [
        "<a href=\"https://colab.research.google.com/github/Park5957/ai/blob/main/Day2.ipynb\" target=\"_parent\"><img src=\"https://colab.research.google.com/assets/colab-badge.svg\" alt=\"Open In Colab\"/></a>"
      ]
    },
    {
      "cell_type": "code",
      "execution_count": 1,
      "metadata": {
        "colab": {
          "base_uri": "https://localhost:8080/"
        },
        "id": "BCSRQnGzp-WC",
        "outputId": "14ab91ba-9603-4374-8486-9b15b7d18da0"
      },
      "outputs": [
        {
          "output_type": "stream",
          "name": "stdout",
          "text": [
            "Hello World \n",
            "100\n"
          ]
        }
      ],
      "source": [
        "##############\n",
        "#Review\n",
        "##############\n",
        "#Comment 주석 - 코드에 대한 설명, 컴퓨터는 읽지 않고 사람만 읽는 내용.\n",
        "#               일부 코드를 감추고 싶을 때도 사용함.\n",
        "#               본인이 기록한 내용을 나중에 확인할 때 또는 다른 팀원이 작성한 내용을 파악하기 용이하게 만든다.\n",
        "\n",
        "# 온전한 주석은 #으로 표기한다 ('ctel + /')\n",
        "\n",
        "# doc string (주석의 용도로도 쓰임)\n",
        "'''\n",
        "작성일 : 2022-01-26\n",
        "담당자 : 박현용\n",
        "비고 : \n",
        "'''\n",
        "\"\"\"\n",
        "작성일 : 2022-01-26\n",
        "담당자 : 박현용\n",
        "비고 : \n",
        "\"\"\"\n",
        "#코드의 윗쪽 또는 오른쪽에 주석을 붙인다.\n",
        "print('Hello World ') #코드의 우측 또는 코드의 윗줄에 적는다\n",
        "\n",
        "#변수 Varoable\n",
        "#어떤 값을 저장하는 저장소\n",
        "a = 100\n",
        "print(a)\n",
        "\n",
        "stumathsum = 350\n",
        "stu_mathsum = 350 # 스네이크 케이스 snake_case\n",
        "StuMathSum = 350  # 캐멀 케이스 Came|Case"
      ]
    },
    {
      "cell_type": "code",
      "source": [
        "# 1a = 100 숫자가 먼저 올 수 없다.\n",
        "a1 = 100\n",
        "_a = 100 #_ 이외의 특수문자로는 변수를 만들 수 없다."
      ],
      "metadata": {
        "id": "yMyXOqiQy3bA"
      },
      "execution_count": 2,
      "outputs": []
    },
    {
      "cell_type": "code",
      "source": [
        "홍길동 = 55\n",
        "#한글 변수명은 사용이 가능하지만 쓰지 말자."
      ],
      "metadata": {
        "id": "4YJPs7XJzMtL"
      },
      "execution_count": 3,
      "outputs": []
    },
    {
      "cell_type": "code",
      "source": [
        "# 인덱싱(슬라이싱)\n",
        "s = 'world'\n",
        "print(s[2]) #파이썬은 인덱스 시작이 0이다.\n",
        "print(s[-1])#-1은 마지막 인덱스를 가리킨다.\n",
        "print(s[4])\n",
        "ss='900101-2547389'\n",
        "print(ss[7]) #하나만 추출할 때는 indexing\n",
        "addr = '서울시 강남구 역삼동 1번지'\n",
        "print(addr[4:7]) # 이상 : 미만 #여러개를 추출할 때는 slicing"
      ],
      "metadata": {
        "colab": {
          "base_uri": "https://localhost:8080/"
        },
        "id": "Ixs25lQuzUjr",
        "outputId": "8e574616-8dd2-4fb6-b0d3-a0036e56e8d7"
      },
      "execution_count": 4,
      "outputs": [
        {
          "output_type": "stream",
          "name": "stdout",
          "text": [
            "r\n",
            "d\n",
            "d\n",
            "2\n",
            "강남구\n"
          ]
        }
      ]
    },
    {
      "cell_type": "code",
      "source": [
        "#prtin\n",
        "print('좋은 아침입니다')"
      ],
      "metadata": {
        "colab": {
          "base_uri": "https://localhost:8080/"
        },
        "id": "cKVwFLHH1cFP",
        "outputId": "2981dbaf-d025-4273-d6db-999c85c2bb70"
      },
      "execution_count": 5,
      "outputs": [
        {
          "output_type": "stream",
          "name": "stdout",
          "text": [
            "좋은 아침입니다\n"
          ]
        }
      ]
    },
    {
      "cell_type": "code",
      "source": [
        "when = '아침'\n",
        "\n",
        "print('좋은',when,'입니다')\n",
        "print('좋은 %s 입니다.' % when)\n",
        "print('좋은 {} 입니다'.format(when))\n",
        "print(f'좋은 {when} 입니다.') # 이 코드가 가장 직관적인 코드"
      ],
      "metadata": {
        "colab": {
          "base_uri": "https://localhost:8080/"
        },
        "id": "E0OZrNI81i1k",
        "outputId": "ae6fd18a-5e7a-492a-ecf9-7e21a6d4eefb"
      },
      "execution_count": 6,
      "outputs": [
        {
          "output_type": "stream",
          "name": "stdout",
          "text": [
            "좋은 아침 입니다\n",
            "좋은 아침 입니다.\n",
            "좋은 아침 입니다\n",
            "좋은 아침 입니다.\n"
          ]
        }
      ]
    },
    {
      "cell_type": "code",
      "source": [
        "##############\n",
        "# 리스트List[] 튜플Tuple() 딕셔너리Dlct{} 셋set\n",
        "##############\n",
        "# 자료형/ 여러개의 값을 한번에 저장하는 자료형이 필요하다.\n",
        "# 리스트 List\n",
        "# 지금까지 사용한 숫자 1, 문자1 등 개별적, 독립적인 자료가 아닌\n",
        "# 여러개를 모아서 사용할 수 있게 해준다.\n",
        "# 리스트에 넣는 자료를 요소 element 라고 한다.\n",
        "# 리스트는 []로 구성한다.\n",
        "list = [1,2,3,4,5]\n",
        "print(list)\n",
        "#리스트는 다양한 자료형의 데이터를 한번에 담을 수 있다.\n",
        "list=[1,2,3,'대한','민국',True,False] #문자와 숫자를 동시에 사용하는 것은 에러의 확률이 높기에 권장하는 방법은 아니다.\n",
        "print(list)\n",
        "score = [80,90,70,60]\n",
        "print(score[0])   #리스트는 인덱싱indexing과 슬라이싱slicing이 가능하다.\n",
        "                  #파이썬은 0부터 시작한다.\n",
        "print(score[0:2]) #슬라이싱은 0부터 2미만\n",
        "\n",
        "#리스트는 수정/삭제 가 가능하다. (mutable) #튜플은 수정/삭제 가 불가능하다.(immitable)\n",
        "score[0] = 100\n",
        "print(score)\n",
        "score[-1] = 100 # -1은 뒤에서 첫번째 라는 뜻\n",
        "print(score)\n",
        "# score[4] indexerror 이와같은 실수는 많이 접하게 될 에러이다.\n",
        "\n",
        "#리스트는 연산이 가능하다.\n",
        "list_a = [1,2,3]\n",
        "list_b = [4,5,6]\n",
        "print ('list_a =',list_a)\n",
        "print ('list_b =',list_b)\n",
        "print (list_a + list_b) #이와같은 형태는 리스트간 병합을 의미한다.\n",
        "print (list_a * 3) # 이와같은 형태는 해당 리스트를 곱셈으로 반복시킨다\n",
        "print (len(list_a)) #리스트에 존재하는 값의 갯수를 확인하는 방법"
      ],
      "metadata": {
        "colab": {
          "base_uri": "https://localhost:8080/"
        },
        "id": "HE_ZXuq07yrd",
        "outputId": "ad358bd2-2c05-471a-d268-157c1f3aaa78"
      },
      "execution_count": 11,
      "outputs": [
        {
          "output_type": "stream",
          "name": "stdout",
          "text": [
            "[1, 2, 3, 4, 5]\n",
            "[1, 2, 3, '대한', '민국', True, False]\n",
            "80\n",
            "[80, 90]\n",
            "[100, 90, 70, 60]\n",
            "[100, 90, 70, 100]\n",
            "list_a = [1, 2, 3]\n",
            "list_b = [4, 5, 6]\n",
            "[1, 2, 3, 4, 5, 6]\n",
            "[1, 2, 3, 1, 2, 3, 1, 2, 3]\n",
            "3\n",
            "2\n",
            "[1, 2, 3]\n"
          ]
        }
      ]
    },
    {
      "cell_type": "code",
      "source": [
        "# 리스트에 많이 사용되는 함수들\n",
        "# append() (굉장히 많이 사용됨) 리스트레 요소를 추가할 때 사용(끝에만 추가됨)\n",
        "\n",
        "print(score)\n",
        "score.append(60) #해당값을 리스트에 추가하는 방법\n",
        "print(score)\n",
        "score.append(70)\n",
        "print(score)"
      ],
      "metadata": {
        "colab": {
          "base_uri": "https://localhost:8080/"
        },
        "id": "BZ2qvrE8Fc8A",
        "outputId": "8038fef6-5649-46b9-ca05-1356b15c5836"
      },
      "execution_count": 15,
      "outputs": [
        {
          "output_type": "stream",
          "name": "stdout",
          "text": [
            "[100, 90, 70, 100, 60, 60, 70]\n",
            "[100, 90, 70, 100, 60, 60, 70, 60]\n",
            "[100, 90, 70, 100, 60, 60, 70, 60, 70]\n"
          ]
        }
      ]
    },
    {
      "cell_type": "code",
      "source": [
        "# insert() 리스트에 요소를 추가할 때 사용, 특정 위치를 지정하여 추가\n",
        "list = []\n",
        "list.insert(0,10) # ( 위치지정 : 변경 할 내용)\n",
        "print(list)\n",
        "list.insert(-1,50)\n",
        "print(list)"
      ],
      "metadata": {
        "colab": {
          "base_uri": "https://localhost:8080/"
        },
        "id": "QpgH2fI6JQh2",
        "outputId": "be7dda09-8304-48af-b970-a38d1ffe1e8a"
      },
      "execution_count": 22,
      "outputs": [
        {
          "output_type": "stream",
          "name": "stdout",
          "text": [
            "[10]\n",
            "[50, 10]\n"
          ]
        }
      ]
    },
    {
      "cell_type": "code",
      "source": [
        "list_a = [1,2,3]\n",
        "list_a.extend([4,5,6]) #한 번에 여러개의 값을 넣을 때 쓰는 방식\n",
        "print(list_a) #파괴적 처리"
      ],
      "metadata": {
        "colab": {
          "base_uri": "https://localhost:8080/"
        },
        "id": "0_BVOLB1KOqp",
        "outputId": "64d63cc3-25ec-4c41-83fd-2929fd981539"
      },
      "execution_count": 27,
      "outputs": [
        {
          "output_type": "stream",
          "name": "stdout",
          "text": [
            "[1, 2, 3, 4, 5, 6]\n"
          ]
        }
      ]
    },
    {
      "cell_type": "code",
      "source": [
        "list_a = [1,2,3]\n",
        "list_b = [4,5,6]\n",
        "print(list_a + list_b) #비 파괴적 처리\n",
        "#이러한 방식은 결과를 보기만 할 뿐 list_a 자체가 변경 된 것은 아니다.(비 파괴적 처리)\n",
        "#하지만 extend() 를 사용하면 list_a 에 직접적으로 영향을 주게된다.(파괴적처리)\n",
        "\n",
        "#원래 자료를 사용할 때는 비 파괴적으로 사용하는 것이 바람직 하다.\n",
        "#가능하면 원본 데이터를 그대로 유지하고 사용하는 것이 선택지가 더 넓다."
      ],
      "metadata": {
        "colab": {
          "base_uri": "https://localhost:8080/"
        },
        "id": "sP1eHidQKps_",
        "outputId": "9282885b-5a34-4605-f8ae-5215906ade25"
      },
      "execution_count": 29,
      "outputs": [
        {
          "output_type": "stream",
          "name": "stdout",
          "text": [
            "[1, 2, 3, 4, 5, 6]\n"
          ]
        }
      ]
    },
    {
      "cell_type": "code",
      "source": [
        "#del() 리스트에서 데이터 삭제\n",
        "list_a = [0,1,2,3,4,5]\n",
        "del list_a[1] # index 값으로 위치값을 삭제\n",
        "print(list_a)\n",
        "del list_a[1:3] # 순번상 1 이상 3 미만 삭제명령\n",
        "print(list_a)\n",
        "\n",
        "# list_a.clear() 리스트 요소를 전부 한번에 삭제"
      ],
      "metadata": {
        "colab": {
          "base_uri": "https://localhost:8080/"
        },
        "id": "RA0c0Bv7MYK2",
        "outputId": "cd8869e7-4b6a-4b30-c1a0-3428c3ac1c94"
      },
      "execution_count": 44,
      "outputs": [
        {
          "output_type": "stream",
          "name": "stdout",
          "text": [
            "[0, 2, 3, 4, 5]\n",
            "[0, 4, 5]\n"
          ]
        }
      ]
    },
    {
      "cell_type": "code",
      "source": [
        "# pop() 리스트에서 맨 오른쪽을 삭제 ** 매 실행 때 마다 값이 삭제됨\n",
        "list_a.pop()\n",
        "print(list_a)"
      ],
      "metadata": {
        "colab": {
          "base_uri": "https://localhost:8080/"
        },
        "id": "itjCrTxGM_ve",
        "outputId": "145e809c-2e06-4a95-f365-72ed87f4f3aa"
      },
      "execution_count": 46,
      "outputs": [
        {
          "output_type": "stream",
          "name": "stdout",
          "text": [
            "[0]\n"
          ]
        }
      ]
    },
    {
      "cell_type": "code",
      "source": [
        "# remove 값으로 삭제 \n",
        "list_c = [1,2,1,2] # remove 는 요소의 값을 찾아 삭제한다.\n",
        "                   # 동일한 값이 여러개 있을 때는 하나씩 순차적으로 삭제한다.\n",
        "                   # 리스트에서 중복된 여러개의 값을 제거하려면 반복문을 사용한다.\n",
        "list_c.remove(2)\n",
        "print(list_c )"
      ],
      "metadata": {
        "colab": {
          "base_uri": "https://localhost:8080/"
        },
        "id": "M2zVAa7IOV-9",
        "outputId": "7effb77f-fd72-4692-e029-84931f529d29"
      },
      "execution_count": 48,
      "outputs": [
        {
          "output_type": "stream",
          "name": "stdout",
          "text": [
            "[1, 1, 2]\n"
          ]
        }
      ]
    },
    {
      "cell_type": "code",
      "source": [
        "list = [1,2,3,4,5]\n",
        "print(list[0]) #indexing 은 비 파괴적으로 동작한다.\n",
        "print(list)\n",
        "\n",
        "print(list.pop()) #pop 은 파괴적으로 동작한다. 프린트를 사용함으로 파괴되는 값이 표시됨\n",
        "print(list)"
      ],
      "metadata": {
        "colab": {
          "base_uri": "https://localhost:8080/"
        },
        "id": "Dpf6p8PkPnDD",
        "outputId": "f9ad9bc2-077b-4cba-a449-fc6a9f07df6a"
      },
      "execution_count": 53,
      "outputs": [
        {
          "output_type": "stream",
          "name": "stdout",
          "text": [
            "1\n",
            "[1, 2, 3, 4, 5]\n",
            "5\n",
            "[1, 2, 3, 4]\n"
          ]
        }
      ]
    },
    {
      "cell_type": "code",
      "source": [
        "# in / not in 리스트에 존재하는 요소인지를 확인\n",
        "list = [222,434,65,123,547,876]\n",
        "print(222 in list) # 존재를 하는지 확인함. 존재함으로 True 가 뜸\n",
        "list = [222,434,65,123,547,876]\n",
        "print(221 in list)\n",
        "print(221 not in list)# 부존재를 확인함. 존재하지 않음으로 True 가 뜸"
      ],
      "metadata": {
        "colab": {
          "base_uri": "https://localhost:8080/"
        },
        "id": "sQoqq0e_QWED",
        "outputId": "b7e2af54-db81-462b-b40d-86891ab69562"
      },
      "execution_count": 56,
      "outputs": [
        {
          "output_type": "stream",
          "name": "stdout",
          "text": [
            "True\n",
            "False\n",
            "True\n"
          ]
        }
      ]
    },
    {
      "cell_type": "code",
      "source": [
        "# 딕셔너리\n"
      ],
      "metadata": {
        "id": "T-Q6OllQRlm0"
      },
      "execution_count": null,
      "outputs": []
    }
  ]
}