{
  "nbformat": 4,
  "nbformat_minor": 0,
  "metadata": {
    "colab": {
      "name": "Day3.ipynb",
      "provenance": [],
      "collapsed_sections": [],
      "authorship_tag": "ABX9TyNrfA9FOGg4odgTTYmRJExs",
      "include_colab_link": true
    },
    "kernelspec": {
      "name": "python3",
      "display_name": "Python 3"
    },
    "language_info": {
      "name": "python"
    }
  },
  "cells": [
    {
      "cell_type": "markdown",
      "metadata": {
        "id": "view-in-github",
        "colab_type": "text"
      },
      "source": [
        "<a href=\"https://colab.research.google.com/github/Park5957/ai/blob/main/Day3.ipynb\" target=\"_parent\"><img src=\"https://colab.research.google.com/assets/colab-badge.svg\" alt=\"Open In Colab\"/></a>"
      ]
    },
    {
      "cell_type": "code",
      "execution_count": null,
      "metadata": {
        "id": "OshYKhefuAlx",
        "colab": {
          "base_uri": "https://localhost:8080/"
        },
        "outputId": "e3bcd628-1cc0-456c-a917-99a05288204a"
      },
      "outputs": [
        {
          "output_type": "stream",
          "name": "stdout",
          "text": [
            "1\n",
            "['하나', '둘']\n",
            "[9, 2, 3, 4, 5]\n",
            "[9, 2, 3, 4, 5, 9, 2, 3, 4, 5, 9, 2, 3, 4, 5]\n",
            "[2, 3, '하나', '둘', True, False, 8]\n"
          ]
        }
      ],
      "source": [
        "################\n",
        "# Review\n",
        "################\n",
        "# Collection : 많은 데이터(elements) 를 저장하고 관리한다.\n",
        "\n",
        "# 리스트 list         튜플 tuple          딕셔너리 dict           셋 set\n",
        "\n",
        "# []                  ()                  {}                      {}\n",
        "# mutable             immutable           mutable                 mutable\n",
        "# indexing/slicing    indexing/slicing    nope                    nope\n",
        "#                     (1,)                {key:value}             중복데이터 미허용\n",
        "#                                         JAVA의 MAP, JS의JSON \n",
        "#List\n",
        "list1 = [1,2,3,4,5]\n",
        "list2 = [2,3,'하나','둘',True,False]\n",
        "\n",
        "print(list1[0])   #indexing\n",
        "print(list2[2:4]) #slicing [이상:미만]\n",
        "\n",
        "list1[0] = 9 #0번째 값을 9로 수정하라\n",
        "print(list1)\n",
        "print(list1*3) # 3번 반복하라\n",
        "\n",
        "list2.append(8) #마지막에 값을 넣는다.\n",
        "print(list2)\n",
        "\n",
        "list1.insert(0,10) #특정 위치에 입력"
      ]
    },
    {
      "cell_type": "code",
      "source": [
        "# 변수는 해당 값들이 들어가 있는 위치를 가르키고 있는 이정표와 같은 것이다.\n",
        "# JAVA와 다르게 상단에 위치해 있지만 동일한 취급으로 삭제처리도 함께 진행됨.\n",
        "list3 = list1\n",
        "print(list1)\n",
        "print(list3)\n",
        "print(id(list1))\n",
        "print(id(list3))\n",
        "\n",
        "del list3[0]\n",
        "print(list1)\n",
        "print(list3)\n",
        "\n",
        "# 아래와 같은 방법을 사용시 별도의 ID로 변수리스트를 생성할 수 있다.\n",
        "list4 = list1.copy() \n",
        "print(list1)\n",
        "print(list4)\n",
        "print(id(list1))\n",
        "print(id(list4))\n",
        "\n",
        "del list4[0]\n",
        "print(list1)\n",
        "print(list4)"
      ],
      "metadata": {
        "colab": {
          "base_uri": "https://localhost:8080/"
        },
        "id": "01-wgr4J6-gw",
        "outputId": "e84cef74-28ec-4dd4-bda5-ae882f1fb7ea"
      },
      "execution_count": null,
      "outputs": [
        {
          "output_type": "stream",
          "name": "stdout",
          "text": [
            "[1, 2, 3, 4, 5]\n",
            "[1, 2, 3, 4, 5]\n",
            "140545846771296\n",
            "140545846771296\n",
            "[2, 3, 4, 5]\n",
            "[2, 3, 4, 5]\n",
            "[2, 3, 4, 5]\n",
            "[2, 3, 4, 5]\n",
            "140545846771296\n",
            "140545776681040\n",
            "[2, 3, 4, 5]\n",
            "[3, 4, 5]\n"
          ]
        }
      ]
    },
    {
      "cell_type": "code",
      "source": [
        "# 개인 test)) 위와 다르게 같은 수라도 별도로 지정한다면 다른 ID 에 지정된 값으로 확인 가능\n",
        "list1 = [1,2,3,4,5]\n",
        "list2 = [1,2,3,4,5]\n",
        "del list2[0]\n",
        "print(list1)\n",
        "print(list2)"
      ],
      "metadata": {
        "colab": {
          "base_uri": "https://localhost:8080/"
        },
        "id": "8EQPsYcm86H0",
        "outputId": "abdde08d-b86d-4fbf-ed7a-dd84d6e424a4"
      },
      "execution_count": null,
      "outputs": [
        {
          "output_type": "stream",
          "name": "stdout",
          "text": [
            "[1, 2, 3, 4, 5]\n",
            "[2, 3, 4, 5]\n"
          ]
        }
      ]
    },
    {
      "cell_type": "code",
      "source": [
        "# Tuple\n",
        "t1 = ('대한','민국')\n",
        "print(type(t1))\n",
        "\n",
        "t2 = (1,)\n",
        "print(type(t2))"
      ],
      "metadata": {
        "colab": {
          "base_uri": "https://localhost:8080/"
        },
        "id": "nSH7ohDO9MCE",
        "outputId": "6d6d4722-c353-4989-d68d-b6525e03b956"
      },
      "execution_count": null,
      "outputs": [
        {
          "output_type": "stream",
          "name": "stdout",
          "text": [
            "<class 'tuple'>\n",
            "<class 'tuple'>\n"
          ]
        }
      ]
    },
    {
      "cell_type": "code",
      "source": [
        "# t1[0] = '만세' # tuple은 수정이 불가능하다.\n",
        "print(t1[0]) # indexing 은 가능하다. 이것은 수정이 아니기 때문\n",
        "#t1,pop() # 삭제도 불가능 하다."
      ],
      "metadata": {
        "colab": {
          "base_uri": "https://localhost:8080/"
        },
        "id": "Mh5xNATs94eJ",
        "outputId": "e54564a7-b68e-4128-9004-31b1c88d1398"
      },
      "execution_count": null,
      "outputs": [
        {
          "output_type": "stream",
          "name": "stdout",
          "text": [
            "대한\n"
          ]
        }
      ]
    },
    {
      "cell_type": "code",
      "source": [
        "# Dict\n",
        "dict = {\n",
        "    'key' : 'value'\n",
        "}\n",
        "print(dict)\n",
        "print(dict['key'])\n",
        "\n",
        "dict['newkey'] = 'ai'\n",
        "print(dict)\n",
        "\n",
        "del dict['key']\n",
        "print(dict)"
      ],
      "metadata": {
        "colab": {
          "base_uri": "https://localhost:8080/"
        },
        "id": "MCfHDVnc-bWa",
        "outputId": "0c54edc6-164c-4bff-d9e0-08ff08a7c02a"
      },
      "execution_count": null,
      "outputs": [
        {
          "output_type": "stream",
          "name": "stdout",
          "text": [
            "{'key': 'value'}\n",
            "value\n",
            "{'key': 'value', 'newkey': 'ai'}\n",
            "{'newkey': 'ai'}\n"
          ]
        }
      ]
    },
    {
      "cell_type": "code",
      "source": [
        "# set\n",
        "\n",
        "set = {1,1,2,2,2,3}\n",
        "print(set)\n",
        "# print(set[0]) 자릿값이 없기 때문에 indexing 을 사용할 수 없다"
      ],
      "metadata": {
        "colab": {
          "base_uri": "https://localhost:8080/"
        },
        "id": "zt-IA-tf_tyc",
        "outputId": "e8b79eeb-f160-497c-93a2-760176c7b1dc"
      },
      "execution_count": null,
      "outputs": [
        {
          "output_type": "stream",
          "name": "stdout",
          "text": [
            "{1, 2, 3}\n"
          ]
        }
      ]
    },
    {
      "cell_type": "code",
      "source": [
        "################\n",
        "# if 조건문\n",
        "################\n",
        "# if 조건식(True or False) :\n",
        "# True 일 경우 실행\n",
        "# else:\n",
        "#   False일 경우 실행\n",
        "\n",
        "if True :\n",
        "  print('True')\n",
        "else : #생략이 가능함.\n",
        "  print('False')\n",
        "\n",
        "if False :\n",
        "  print('1st')\n",
        "elif False:\n",
        "  print('2st')\n",
        "elif False:\n",
        "  print('3st')\n",
        "else :\n",
        "  print('etc')\n",
        "\n",
        "score = 80\n",
        "#아래와 같은 형태로 만들 수 는 있지만 (else 안에 if문) 다만 가독성이 떨어지기 때문에 권장하는 방법은 아니다.\n",
        "if score >= 100: \n",
        "  print('상')\n",
        "else:\n",
        "  if score >= 50:\n",
        "    print('중')\n",
        "  else:\n",
        "    print('하')\n",
        "\n",
        "# 위와 같은 결과를 도출 하더라도 아래와 같은 형태가 가독성이 높은 것을 확인 할 수 있다.\n",
        "if score >= 100: \n",
        "  print('상')\n",
        "elif score >= 50:\n",
        "  print('중')\n",
        "else:\n",
        "  print('하')"
      ],
      "metadata": {
        "colab": {
          "base_uri": "https://localhost:8080/"
        },
        "id": "Eb_bYgl4D5IK",
        "outputId": "941dd0da-af67-482e-8ee2-e623edccb41d"
      },
      "execution_count": null,
      "outputs": [
        {
          "output_type": "stream",
          "name": "stdout",
          "text": [
            "True\n",
            "etc\n",
            "중\n",
            "중\n"
          ]
        }
      ]
    },
    {
      "cell_type": "code",
      "source": [
        "# Q\n",
        "# 0~3 -\n",
        "# 4~6 0\n",
        "# 7~9 +\n",
        "num = (input(\"당신의 점수는 몇 점 입니까? : \"))\n",
        "num3 = int(num[1])\n",
        "\n",
        "if int(num)>=90:\n",
        "  num2 = 'A'\n",
        "elif int(num)>=80 :\n",
        "  num2 = 'B'\n",
        "elif int(num)>=70 :\n",
        "  num2 = 'C'\n",
        "elif int(num)>=60 :\n",
        "  num2 = 'D'\n",
        "else :\n",
        "  num2 = 'F'\n",
        "\n",
        "if int(num3) >= 7:\n",
        "  num3 = '+'\n",
        "elif int(num3) >= 4 :\n",
        "  num3 = '0'\n",
        "else :\n",
        "  num3 = '-'\n",
        "\n",
        "print(f\"당신의 점수는 {num}이고 학점은 {num2}{num3} 입니다.\")"
      ],
      "metadata": {
        "colab": {
          "base_uri": "https://localhost:8080/"
        },
        "id": "VjMgBDZUJS4B",
        "outputId": "4072e97b-a260-4834-a652-c6cdaec1ff89"
      },
      "execution_count": null,
      "outputs": [
        {
          "output_type": "stream",
          "name": "stdout",
          "text": [
            "당신의 점수는 몇 점 입니까? : 95\n",
            "당신의 점수는 95이고 학점은 A0 입니다.\n"
          ]
        }
      ]
    },
    {
      "cell_type": "code",
      "source": [
        "# 정답예시\n",
        "score = int(input(\"점수를 입력하세요 >>>\"))\n",
        "\n",
        "if score >= 90:\n",
        "  gr = \"A\"\n",
        "elif score >= 80:\n",
        "  gr = \"B\"\n",
        "elif score >= 70:\n",
        "  gr = \"C\"\n",
        "elif score >= 60:\n",
        "  gr = \"D\"\n",
        "else:\n",
        "  gr = \"F\"\n",
        "\n",
        "\n",
        "if int(score%10) >= 7:\n",
        "  de = '+'\n",
        "elif int(score%10) >= 4:\n",
        "  de = 'O'\n",
        "else:\n",
        "  de = '-'\n",
        "\n",
        "print(f'당신의 점수는 {score}이며 학점은 {gr}{de}입니다. ')\n"
      ],
      "metadata": {
        "colab": {
          "base_uri": "https://localhost:8080/"
        },
        "id": "WUXwzdLAST3Z",
        "outputId": "a651bdab-9fc6-4d40-ff7e-97d86c2f2536"
      },
      "execution_count": null,
      "outputs": [
        {
          "output_type": "stream",
          "name": "stdout",
          "text": [
            "점수를 입력하세요 >>>95\n",
            "당신의 점수는 95이며 학점은 AO입니다. \n"
          ]
        }
      ]
    },
    {
      "cell_type": "code",
      "source": [
        "################\n",
        "# While\n",
        "################\n",
        "# 반복문은 작업 수행을 한 번이 아니라 계속해서 수행해야 할 때 사용한다.\n",
        "# while 반복 작업을 명 번 수행할 지 '확실하지 않을' 때 주로 사용한다.\n",
        "# 예) 운동장을 해자 질때까지 반복해서 돌자\n",
        "\n",
        "#while 조건식 :\n",
        "# 실행구문\n",
        "# 예시)\n",
        "# while True:\n",
        "#   print(\"운동장 돌기\")\n"
      ],
      "metadata": {
        "id": "L_jGeFcqR3_u"
      },
      "execution_count": null,
      "outputs": []
    },
    {
      "cell_type": "code",
      "source": [
        "n = 1\n",
        "while n <= 10 :\n",
        "  print(n)\n",
        "  n = n+1  # 위 조건문 만족을 위해 계속해서 1씩 증가를 시킴으로 조건문상 종료지점을 완성시키는 것임\n",
        "# 이하 while 다음 진행 될 코드 내용\n",
        "print('-----------------------------')\n",
        "print(n) #여기서 11이 나오는 이유는 while 마지막에 +1을 한번 더 하기 때문이다."
      ],
      "metadata": {
        "colab": {
          "base_uri": "https://localhost:8080/"
        },
        "id": "CZrjBQ24TNVr",
        "outputId": "bc6a0302-e17f-4868-d0a8-2932920a92b2"
      },
      "execution_count": null,
      "outputs": [
        {
          "output_type": "stream",
          "name": "stdout",
          "text": [
            "1\n",
            "2\n",
            "3\n",
            "4\n",
            "5\n",
            "6\n",
            "7\n",
            "8\n",
            "9\n",
            "10\n",
            "-----------------------------\n",
            "11\n"
          ]
        }
      ]
    },
    {
      "cell_type": "code",
      "source": [
        "n = 1\n",
        "while n <= 10 :\n",
        "  print(n)\n",
        "  n = n+1 # n+=1은 같은 표현이다.\n",
        "print('-----------------------------')\n",
        "print(n)"
      ],
      "metadata": {
        "colab": {
          "base_uri": "https://localhost:8080/"
        },
        "id": "n1cDCxDHT5ed",
        "outputId": "11b929b2-1ab7-4937-f448-68ba4bfe086a"
      },
      "execution_count": null,
      "outputs": [
        {
          "output_type": "stream",
          "name": "stdout",
          "text": [
            "1\n",
            "2\n",
            "3\n",
            "4\n",
            "5\n",
            "6\n",
            "7\n",
            "8\n",
            "9\n",
            "10\n",
            "-----------------------------\n",
            "11\n"
          ]
        }
      ]
    },
    {
      "cell_type": "code",
      "source": [
        "# 10부터 1까지 거꾸로 출력\n",
        "n = 10\n",
        "while n >= 1 :\n",
        "  print(n)\n",
        "  n -= 2"
      ],
      "metadata": {
        "colab": {
          "base_uri": "https://localhost:8080/"
        },
        "id": "hA4k9TvpUXks",
        "outputId": "8d398219-d5b4-4b3d-ce41-732936163123"
      },
      "execution_count": null,
      "outputs": [
        {
          "output_type": "stream",
          "name": "stdout",
          "text": [
            "10\n",
            "8\n",
            "6\n",
            "4\n",
            "2\n",
            "0\n"
          ]
        }
      ]
    },
    {
      "cell_type": "code",
      "source": [
        "# Q 입력받아 모두 리스트에 보과\n",
        "#  단, 0입력시 종료\n",
        "#   최종적으로는 입력된 리스트 줄력(단, 0은 리스트에 저장하지 않음)\n",
        "d2 = [] # 하단의 반복문을 돌리기 위해 초기 변수를 임의 설정\n",
        "d =1 # 하단의 반복문을 돌리기 위해 초기 변수를 임의 설정\n",
        "while d != 0 :\n",
        "  d = int(input('번호입력'))\n",
        "  d2.append(d) # 이후에 if문을 사용해서 0을 제거 할 수 있다.\n",
        "  \n",
        "del d2[-1] # 다른 삭제 방법 d2.pop(), d2[0]\n",
        "print(d2)\n"
      ],
      "metadata": {
        "id": "l-_0LEB8UdJC",
        "colab": {
          "base_uri": "https://localhost:8080/"
        },
        "outputId": "95c130a5-13f0-4540-dd86-765b5a18799d"
      },
      "execution_count": null,
      "outputs": [
        {
          "output_type": "stream",
          "name": "stdout",
          "text": [
            "번호입력0\n",
            "[]\n"
          ]
        }
      ]
    },
    {
      "cell_type": "code",
      "source": [
        "# while 중첩\n",
        "# while 내부에 또 다른 while 을 사용하는 것을 중첩이라고 한다.\n",
        "# 평균적으로 for 중첩에 비하면 사용하지 않는 편이다.\n",
        "# Q 3 일 동안 1~3교시 수업을 한다. \n",
        "# 출력) 1일차 1교시 입니다.\n",
        "# 1일차 2교시 입니다.\n",
        "# 1일차 3교시 입니다. ..... 반복\n",
        "\n",
        "# a = [1,2,3]\n",
        "# b = 0\n",
        "# i = 0\n",
        "# while i < 3 :\n",
        "#     b+=1\n",
        "#     print(a[i],'일차',b,'교시입니다.')\n",
        "#     while b == 3 :\n",
        "#       i+=1\n",
        "#       b-=3\n",
        "\n",
        "\n",
        "# 다른방법)\n",
        "\n",
        "day = 1\n",
        "while day <= 3:\n",
        "  hour = 1\n",
        "  while hour <=3:\n",
        "    print(f'{day}일차{hour}교시입니다.')\n",
        "    hour+=1\n",
        "  day+=1 #위 while 를 돈 이후에 실행되는 표시"
      ],
      "metadata": {
        "colab": {
          "base_uri": "https://localhost:8080/"
        },
        "id": "DRFDFSJ_YrEl",
        "outputId": "ff2d010b-9e71-4bf9-91d6-966f3c46d313"
      },
      "execution_count": null,
      "outputs": [
        {
          "output_type": "stream",
          "name": "stdout",
          "text": [
            "1일차1교시입니다.\n",
            "1일차2교시입니다.\n",
            "1일차3교시입니다.\n",
            "2일차1교시입니다.\n",
            "2일차2교시입니다.\n",
            "2일차3교시입니다.\n",
            "3일차1교시입니다.\n",
            "3일차2교시입니다.\n",
            "3일차3교시입니다.\n"
          ]
        }
      ]
    },
    {
      "cell_type": "code",
      "source": [
        "# Q.구구단을 2간 부터 9단까지 출력하세요\n",
        "dan=2\n",
        "while dan<=9 :\n",
        "  n=1\n",
        "  while n<=9:\n",
        "    print(f'{dan}X{n}={dan*n}')\n",
        "    n +=1\n",
        "  dan += 1"
      ],
      "metadata": {
        "colab": {
          "base_uri": "https://localhost:8080/"
        },
        "id": "Fnfk3yBDaza4",
        "outputId": "4ada2c6a-f155-4469-80d0-f73b1622b48a"
      },
      "execution_count": null,
      "outputs": [
        {
          "output_type": "stream",
          "name": "stdout",
          "text": [
            "2X1=2\n",
            "2X2=4\n",
            "2X3=6\n",
            "2X4=8\n",
            "2X5=10\n",
            "2X6=12\n",
            "2X7=14\n",
            "2X8=16\n",
            "2X9=18\n",
            "3X1=3\n",
            "3X2=6\n",
            "3X3=9\n",
            "3X4=12\n",
            "3X5=15\n",
            "3X6=18\n",
            "3X7=21\n",
            "3X8=24\n",
            "3X9=27\n",
            "4X1=4\n",
            "4X2=8\n",
            "4X3=12\n",
            "4X4=16\n",
            "4X5=20\n",
            "4X6=24\n",
            "4X7=28\n",
            "4X8=32\n",
            "4X9=36\n",
            "5X1=5\n",
            "5X2=10\n",
            "5X3=15\n",
            "5X4=20\n",
            "5X5=25\n",
            "5X6=30\n",
            "5X7=35\n",
            "5X8=40\n",
            "5X9=45\n",
            "6X1=6\n",
            "6X2=12\n",
            "6X3=18\n",
            "6X4=24\n",
            "6X5=30\n",
            "6X6=36\n",
            "6X7=42\n",
            "6X8=48\n",
            "6X9=54\n",
            "7X1=7\n",
            "7X2=14\n",
            "7X3=21\n",
            "7X4=28\n",
            "7X5=35\n",
            "7X6=42\n",
            "7X7=49\n",
            "7X8=56\n",
            "7X9=63\n",
            "8X1=8\n",
            "8X2=16\n",
            "8X3=24\n",
            "8X4=32\n",
            "8X5=40\n",
            "8X6=48\n",
            "8X7=56\n",
            "8X8=64\n",
            "8X9=72\n",
            "9X1=9\n",
            "9X2=18\n",
            "9X3=27\n",
            "9X4=36\n",
            "9X5=45\n",
            "9X6=54\n",
            "9X7=63\n",
            "9X8=72\n",
            "9X9=81\n"
          ]
        }
      ]
    },
    {
      "cell_type": "code",
      "source": [
        "# Q.q 정수를 입력 받아서 그 횟수 만큼 'Hello'를 출력하는 프로그램을 작성하세요\n",
        "# 0 이하의 값이 입력되면 '잘못된 입력 입니다 '라고 출력하세요\n",
        "\n",
        "# pr = int(input(\"정수를 입력하세요\"))\n",
        "# a = 0\n",
        "# if pr <= 0 :\n",
        "#     print(\"잘못된 입력입니다.\")\n",
        "# else :\n",
        "#   while a < pr:\n",
        "#     a +=1\n",
        "#     print(f\"{a}번째 Hello 입니다.\")\n",
        "\n",
        "\n",
        "# 다른 방법)\n",
        "no = int(input(\"정수를 입력하세요\"))\n",
        "n=1\n",
        "\n",
        "if no >  0:\n",
        "  while no > 0 :\n",
        "    print(f'{n}번째 Hello')\n",
        "    n += 1\n",
        "    no -= 1\n",
        "else :\n",
        "      print('잘못된 입력입니다.')\n",
        "  \n"
      ],
      "metadata": {
        "colab": {
          "base_uri": "https://localhost:8080/"
        },
        "id": "KDXgawaXwOMB",
        "outputId": "71e5124d-8198-4933-932d-701e88433670"
      },
      "execution_count": null,
      "outputs": [
        {
          "output_type": "stream",
          "name": "stdout",
          "text": [
            "정수를 입력하세요3\n",
            "1번째 Hello\n",
            "2번째 Hello\n",
            "3번째 Hello\n"
          ]
        }
      ]
    },
    {
      "cell_type": "code",
      "source": [
        "# Q 1부터 100 사이의 모든 정부중에서 7의 배수만 출력하세요\n",
        "a = 7\n",
        "while a <= 100 : \n",
        "  print(a)\n",
        "  a +=7"
      ],
      "metadata": {
        "colab": {
          "base_uri": "https://localhost:8080/"
        },
        "id": "TzCtjal4y1Ra",
        "outputId": "9871209f-f7cb-4a3b-d390-aaa3f8ac8a3f"
      },
      "execution_count": null,
      "outputs": [
        {
          "output_type": "stream",
          "name": "stdout",
          "text": [
            "7\n",
            "14\n",
            "21\n",
            "28\n",
            "35\n",
            "42\n",
            "49\n",
            "56\n",
            "63\n",
            "70\n",
            "77\n",
            "84\n",
            "91\n",
            "98\n"
          ]
        }
      ]
    },
    {
      "cell_type": "code",
      "source": [
        "# Q 커피 1잔을 300원에 판매하는 자판기가 있다.\n",
        "# 자판기에 돈을 넣었을 때 자판기에서 뽑을 수 있는 커피가 몇 잔이고\n",
        "# 잔돈이 얼마인지\n",
        "# 출력예시 ) 커피 1잔 잔도 1100원 \n",
        "\n",
        "# mmn = int(input(\"얼마를 넣을까요? : \"))\n",
        "# cf = 300\n",
        "# count = 1\n",
        "\n",
        "# while mmn < cf :\n",
        "#   print(f'커피 {count}잔 잔돈 {mm}원')\n",
        "#   count += 1\n",
        "#   mmn -=600\n",
        "\n",
        "\n",
        "a = int(input(\"얼마를 넣을까요? : \"))\n",
        "cof = 300\n",
        "count = 1\n",
        "\n",
        "while cof <= a :\n",
        "  print(f'커피 {count}잔 잔돈 {a}원')\n",
        "  count += 1\n",
        "  a -=300"
      ],
      "metadata": {
        "colab": {
          "base_uri": "https://localhost:8080/"
        },
        "id": "-zzXMn39yKhG",
        "outputId": "1b54ab25-6a85-4a77-afeb-6155c107a57c"
      },
      "execution_count": null,
      "outputs": [
        {
          "output_type": "stream",
          "name": "stdout",
          "text": [
            "얼마를 넣을까요? : 3000\n",
            "커피 1잔 잔돈 3000원\n",
            "커피 2잔 잔돈 2700원\n",
            "커피 3잔 잔돈 2400원\n",
            "커피 4잔 잔돈 2100원\n",
            "커피 5잔 잔돈 1800원\n",
            "커피 6잔 잔돈 1500원\n",
            "커피 7잔 잔돈 1200원\n",
            "커피 8잔 잔돈 900원\n",
            "커피 9잔 잔돈 600원\n",
            "커피 10잔 잔돈 300원\n"
          ]
        }
      ]
    },
    {
      "cell_type": "code",
      "source": [
        "#Q\n",
        "# 0~9 입력 정수 5개까지 입력 받고 중복값 무시\n",
        "# 0~-9 사이 정수를 입력하세요\n",
        "\n",
        "num = set([]) # 빈 set을 셋팅하기위한 방법\n",
        "\n",
        "while len(num) <= 4:   # 반복문 돌리기 위해서 처음 변수값 기준을 필수로 지정할\n",
        "  no = int(input(\"0~-9 사이 정수를 입력하세요\"))\n",
        "  num.add(no) #셋에 값을 넣는 방법\n",
        "\n",
        "print(num)"
      ],
      "metadata": {
        "colab": {
          "base_uri": "https://localhost:8080/"
        },
        "id": "ZQ6kOm2T9BZj",
        "outputId": "c0594d5b-c711-4ece-8a02-2afab8052349"
      },
      "execution_count": null,
      "outputs": [
        {
          "output_type": "stream",
          "name": "stdout",
          "text": [
            "0~-9 사이 정수를 입력하세요1\n",
            "0~-9 사이 정수를 입력하세요2\n",
            "0~-9 사이 정수를 입력하세요3\n",
            "0~-9 사이 정수를 입력하세요4\n",
            "0~-9 사이 정수를 입력하세요5\n",
            "{1, 2, 3, 4, 5}\n"
          ]
        }
      ]
    },
    {
      "cell_type": "code",
      "source": [
        "# Q 1부터 100 사이의 정수를 모두 한줄에 10개씩 출력하시오\n",
        "# 10개씩 적용 후 줄을 바꿈으로 처리 하는 것\n",
        "a=1\n",
        "while a <=100 :\n",
        "  b = list([])\n",
        "  while len(b) <= 9 :\n",
        "    b.append(a)\n",
        "    a +=1\n",
        "    \n",
        "  print(b)\n",
        "# 위 처리 방식은 리스트로 작성된 것임으로 문제와 다름"
      ],
      "metadata": {
        "colab": {
          "base_uri": "https://localhost:8080/"
        },
        "id": "43V000PSC8yC",
        "outputId": "f593b54d-e0aa-4ba5-c83d-cfb63efaa38e"
      },
      "execution_count": null,
      "outputs": [
        {
          "output_type": "stream",
          "name": "stdout",
          "text": [
            "[1, 2, 3, 4, 5, 6, 7, 8, 9, 10]\n",
            "[11, 12, 13, 14, 15, 16, 17, 18, 19, 20]\n",
            "[21, 22, 23, 24, 25, 26, 27, 28, 29, 30]\n",
            "[31, 32, 33, 34, 35, 36, 37, 38, 39, 40]\n",
            "[41, 42, 43, 44, 45, 46, 47, 48, 49, 50]\n",
            "[51, 52, 53, 54, 55, 56, 57, 58, 59, 60]\n",
            "[61, 62, 63, 64, 65, 66, 67, 68, 69, 70]\n",
            "[71, 72, 73, 74, 75, 76, 77, 78, 79, 80]\n",
            "[81, 82, 83, 84, 85, 86, 87, 88, 89, 90]\n",
            "[91, 92, 93, 94, 95, 96, 97, 98, 99, 100]\n"
          ]
        }
      ]
    },
    {
      "cell_type": "code",
      "source": [
        "# 다른방법)\n",
        "n = 1\n",
        "while n <= 100:\n",
        "  if n%10 != 0 : # 이러한 형식을 사용한다면 10의 배수임을 할 수 있다.\n",
        "    print(n, end='\\t')\n",
        "  else:\n",
        "    print(n)\n",
        "  n += 1"
      ],
      "metadata": {
        "colab": {
          "base_uri": "https://localhost:8080/"
        },
        "id": "4pS1A3mmKchY",
        "outputId": "216f6ddd-68f9-452b-e50e-afcf4b7ad31d"
      },
      "execution_count": null,
      "outputs": [
        {
          "output_type": "stream",
          "name": "stdout",
          "text": [
            "1\t2\t3\t4\t5\t6\t7\t8\t9\t10\n",
            "11\t12\t13\t14\t15\t16\t17\t18\t19\t20\n",
            "21\t22\t23\t24\t25\t26\t27\t28\t29\t30\n",
            "31\t32\t33\t34\t35\t36\t37\t38\t39\t40\n",
            "41\t42\t43\t44\t45\t46\t47\t48\t49\t50\n",
            "51\t52\t53\t54\t55\t56\t57\t58\t59\t60\n",
            "61\t62\t63\t64\t65\t66\t67\t68\t69\t70\n",
            "71\t72\t73\t74\t75\t76\t77\t78\t79\t80\n",
            "81\t82\t83\t84\t85\t86\t87\t88\t89\t90\n",
            "91\t92\t93\t94\t95\t96\t97\t98\t99\t100\n"
          ]
        }
      ]
    },
    {
      "cell_type": "code",
      "source": [
        "# 또 다른 방법 while 를 두번 쓰는법\n",
        "n=1\n",
        "while n <= 100:\n",
        "  t=0\n",
        "  while t < 10:\n",
        "    print(n, end='\\t')\n",
        "    t +=1\n",
        "    n +=1\n",
        "  print(\"\") # 줄바꿈"
      ],
      "metadata": {
        "colab": {
          "base_uri": "https://localhost:8080/"
        },
        "id": "zR5ozH-4KiOO",
        "outputId": "9627ba81-2665-4e89-b99a-f83ed7e8b93f"
      },
      "execution_count": null,
      "outputs": [
        {
          "output_type": "stream",
          "name": "stdout",
          "text": [
            "1\t2\t3\t4\t5\t6\t7\t8\t9\t10\t\n",
            "11\t12\t13\t14\t15\t16\t17\t18\t19\t20\t\n",
            "21\t22\t23\t24\t25\t26\t27\t28\t29\t30\t\n",
            "31\t32\t33\t34\t35\t36\t37\t38\t39\t40\t\n",
            "41\t42\t43\t44\t45\t46\t47\t48\t49\t50\t\n",
            "51\t52\t53\t54\t55\t56\t57\t58\t59\t60\t\n",
            "61\t62\t63\t64\t65\t66\t67\t68\t69\t70\t\n",
            "71\t72\t73\t74\t75\t76\t77\t78\t79\t80\t\n",
            "81\t82\t83\t84\t85\t86\t87\t88\t89\t90\t\n",
            "91\t92\t93\t94\t95\t96\t97\t98\t99\t100\t\n"
          ]
        }
      ]
    },
    {
      "cell_type": "code",
      "source": [
        "################\n",
        "# for\n",
        "################\n",
        "# 몇 번 반복 시킬지 그 횟수가 명확할 때 주로 사용한다.\n",
        "\n",
        "# for 변수 in 반복 값 :\n",
        "#   반복실행문\n",
        "\n",
        "for i in [1,2,3]:\n",
        "  print(i)\n",
        "print(\"----------\")\n",
        "for i in \"Hello\":\n",
        "  print(i)\n",
        "print(\"----------\")\n",
        "for i in (1,2,3):\n",
        "  print(i)\n",
        "print(\"----------\")\n",
        "# range\n",
        "for i in range(1,6,2): # range(값) 해당 값 미만 까지 표기하는 것\n",
        "                   # range(시작(생략가능),끝,스탭(생략가능?횟수마다생략))\n",
        "  print(i)\n",
        "\n",
        "#set, dict 는 순서와 상관업이는 사용가능"
      ],
      "metadata": {
        "colab": {
          "base_uri": "https://localhost:8080/"
        },
        "id": "mOSfaCddLldX",
        "outputId": "f11aba8a-e752-410d-96bb-f181780227e8"
      },
      "execution_count": null,
      "outputs": [
        {
          "output_type": "stream",
          "name": "stdout",
          "text": [
            "1\n",
            "2\n",
            "3\n",
            "----------\n",
            "H\n",
            "e\n",
            "l\n",
            "l\n",
            "o\n",
            "----------\n",
            "1\n",
            "2\n",
            "3\n",
            "----------\n",
            "1\n",
            "3\n",
            "5\n"
          ]
        }
      ]
    },
    {
      "cell_type": "code",
      "source": [
        "# Q.비밀번호(str)를 입력 받아서 \n",
        "# 숫자와 문자가 모두 반드시 하나 이상 포함된 경우만 \"사용 가능한 비번 입니다.\"\n",
        "# 이 외 \"불가능한 비번입니다.\"\n",
        "# 지원함수\n",
        "# 변수명.isalpha() - 알파벳으로만 구성이면 True\n",
        "# 변수명.isnumeric() - 숫자면 True\n",
        "pw = input(\"비밀번호를 입력하시기 바랍니다.\")\n",
        "ch_count =0\n",
        "num_count =0\n",
        "for ch in pw:\n",
        "  # print(ch) 한글자씩 나왔음을 알 수 있음\n",
        "  if ch.isalpha():\n",
        "    # print('알파벳 입니다.') 확인용  \n",
        "    ch_count +=1\n",
        "  elif ch.isnumeric():\n",
        "    # print('숫자입니다. 입니다.') 확인용\n",
        "    num_count +=1\n",
        "\n",
        "if ch_count > 0 and num_count > 0 : # 자바에서 사용 하는 && 은 파이썬에서 and 로 사용함\n",
        "  print(\"사용 가능한 비번 입니다.\")\n",
        "else :\n",
        "  print(\"사용 불가능한 비번 입니다.\")\n"
      ],
      "metadata": {
        "colab": {
          "base_uri": "https://localhost:8080/"
        },
        "id": "jJOlWpXzMZeY",
        "outputId": "8080df1b-e749-441b-af55-df02581bede1"
      },
      "execution_count": null,
      "outputs": [
        {
          "output_type": "stream",
          "name": "stdout",
          "text": [
            "비밀번호를 입력하시기 바랍니다.123ㅁㄴ\n",
            "사용 가능한 비번 입니다.\n"
          ]
        }
      ]
    },
    {
      "cell_type": "code",
      "source": [
        "#range([start], stop, [step]) []과 내용물은 생략 가능\n",
        "# 1.숫자들은 컬렉션으로 만든다.\n",
        "# 2.start 를 생략하면 0부터 시작한다.\n",
        "# 3.stop 은 생략할 수 없다.\n",
        "# 4.stop 을 생략하면 1씩 증가한다.\n",
        "print(range(5))"
      ],
      "metadata": {
        "colab": {
          "base_uri": "https://localhost:8080/"
        },
        "id": "vstHTOo9WJKV",
        "outputId": "9109aabf-4149-4566-a6a5-c2c8ed1833ba"
      },
      "execution_count": null,
      "outputs": [
        {
          "output_type": "stream",
          "name": "stdout",
          "text": [
            "range(0, 5)\n"
          ]
        }
      ]
    },
    {
      "cell_type": "code",
      "source": [
        "# Q .range와 for 문을 사용해서 구구단 출력\n",
        "# 출력할 구구단을 입력하세요 : 5\n",
        "\n",
        "g = int(input(\"구구단을 입력하세요 : \"))\n",
        "\n",
        "for i in range(1,10):\n",
        "  print(f'{g}X{i} ={g*i}')"
      ],
      "metadata": {
        "colab": {
          "base_uri": "https://localhost:8080/"
        },
        "id": "m4lJofV2W1Cw",
        "outputId": "760ae46e-313d-4169-e6f9-7911becfc6ce"
      },
      "execution_count": null,
      "outputs": [
        {
          "output_type": "stream",
          "name": "stdout",
          "text": [
            "구구단을 입력하세요 : 3\n",
            "3X1 =3\n",
            "3X2 =6\n",
            "3X3 =9\n",
            "3X4 =12\n",
            "3X5 =15\n",
            "3X6 =18\n",
            "3X7 =21\n",
            "3X8 =24\n",
            "3X9 =27\n"
          ]
        }
      ]
    },
    {
      "cell_type": "code",
      "source": [
        "# set, dict 도 for 문으로 사용은 가능하나 순서는 보장하지 않는다.\n",
        "\n",
        "for i in {'가위','바위','보'}:\n",
        "  print(i)"
      ],
      "metadata": {
        "colab": {
          "base_uri": "https://localhost:8080/"
        },
        "id": "4ZicOluMX-xb",
        "outputId": "4b3463e6-c853-4f98-aa63-e8035d17d83a"
      },
      "execution_count": null,
      "outputs": [
        {
          "output_type": "stream",
          "name": "stdout",
          "text": [
            "보\n",
            "가위\n",
            "바위\n"
          ]
        }
      ]
    },
    {
      "cell_type": "code",
      "source": [
        "# 무작위 출력이기에 권장하지 않는 방법\n",
        "preson ={\n",
        "    'name' : '에밀리',\n",
        "    'age' : '20'\n",
        "}\n",
        "\n",
        "for i in preson:\n",
        "  print(i)\n",
        "for i in preson: # key값에 key 값을 출력하는 경우\n",
        "  print(preson[i])"
      ],
      "metadata": {
        "colab": {
          "base_uri": "https://localhost:8080/"
        },
        "id": "7xDBAb1FYc0h",
        "outputId": "38c020cc-e395-45c9-b41b-9652634189b8"
      },
      "execution_count": null,
      "outputs": [
        {
          "output_type": "stream",
          "name": "stdout",
          "text": [
            "name\n",
            "age\n",
            "에밀리\n",
            "20\n"
          ]
        }
      ]
    },
    {
      "cell_type": "code",
      "source": [
        "#사용자로부터 양의 정수를 하나 입력 받아서 1부터 입력 받은 정부 까지의\n",
        "#모든 정수의 합계를 구하는 프로그램\n",
        "\n",
        "num = int(input(\"정수를 입력하시기 바랍니다. : \"))\n",
        "num2 = 0\n",
        "for i in range(1,num+1) :\n",
        "  # print(i) 확인용\n",
        "  num2 = num + i\n",
        "\n",
        "print(f'1부터 {num}사이의 모든 정부의 합계는 {num2}')"
      ],
      "metadata": {
        "colab": {
          "base_uri": "https://localhost:8080/"
        },
        "id": "ATmidfuhZSZ0",
        "outputId": "15fbba00-c4e8-436d-9e00-efa089352130"
      },
      "execution_count": null,
      "outputs": [
        {
          "output_type": "stream",
          "name": "stdout",
          "text": [
            "정수를 입력하시기 바랍니다. : 5\n",
            "1부터 5사이의 모든 정부의 합계는 10\n"
          ]
        }
      ]
    },
    {
      "cell_type": "code",
      "source": [
        "#Q사용자로부터 임의의 정수를 하나 입력 받아서 그 숫자 만큼의\n",
        "# \"과일 이름\" 입력 받아서 \"dasket\" 리스트에 저장하는 프로그램을 작성된\n",
        "\n",
        "# 몇 개의 과일을 보관할까요? 3\n",
        "# 1번째 과일을 입력하세요 사과\n",
        "# 2번째 과일을 입력하세요 바나나\n",
        "# 3번째 과일을 입력하세요 체리\n",
        "\n",
        "# 입력 받은 과일들은 [사과, 바나나, 체리] 입니다.\n",
        "\n",
        "to = int(input(\"몇 개의 과일을 보관할까요?\"))\n",
        "ju1 = input(\"1 번째 과일을 입력하세요\")\n",
        "ju2 = input(\"2 번째 과일을 입력하세요\")\n",
        "ju3 = input(\"3 번째 과일을 입력하세요\")\n",
        "\n",
        "dasket = []*to\n",
        "dasket.append(ju1)\n",
        "dasket.append(ju2)\n",
        "dasket.append(ju3)\n",
        "\n",
        "print(f'입력 받은 과일들은 {dasket} 입니다.')"
      ],
      "metadata": {
        "colab": {
          "base_uri": "https://localhost:8080/"
        },
        "id": "_oL_1xjZau5E",
        "outputId": "c62a5ac0-1a92-4beb-ba8a-b6c8f5c24831"
      },
      "execution_count": null,
      "outputs": [
        {
          "output_type": "stream",
          "name": "stdout",
          "text": [
            "몇 개의 과일을 보관할까요?3\n",
            "1 번째 과일을 입력하세요사과\n",
            "2 번째 과일을 입력하세요바나나\n",
            "3 번째 과일을 입력하세요체리\n",
            "['사과', '바나나', '체리']\n"
          ]
        }
      ]
    },
    {
      "cell_type": "code",
      "source": [
        "# 다른방식)\n",
        "no = int(input(\"몇 개의 과일을 보관할까요?\"))\n",
        "dasket = []\n",
        "for i in range(1,no+1):\n",
        "  fruit = input(f'{i}번 째 과일을 입력하세요')\n",
        "  dasket.append(fruit)\n",
        "\n",
        "print(f'입력 받은 과일들은 {dasket} 입니다.')"
      ],
      "metadata": {
        "colab": {
          "base_uri": "https://localhost:8080/"
        },
        "id": "FdsWDf2jcHvF",
        "outputId": "b5e1158c-9f5a-4515-c4f2-90103c372446"
      },
      "execution_count": null,
      "outputs": [
        {
          "output_type": "stream",
          "name": "stdout",
          "text": [
            "몇 개의 과일을 보관할까요?3\n",
            "1번 째 과일을 입력하세요사과\n",
            "2번 째 과일을 입력하세요바나나\n",
            "3번 째 과일을 입력하세요체리\n",
            "입력 받은 과일들은 ['사과', '바나나', '체리'] 입니다.\n"
          ]
        }
      ]
    },
    {
      "cell_type": "code",
      "source": [
        "# 참고 메모\n",
        "#   if i.isupper(): 이와 같은 표기로 대문자만 해당하는 변수에서 걸러낼 수있다.\n",
        "# upper 의 활용법\n",
        "# 리스트 = ['dog', 'cat', 'parrot']\n",
        "#  for i in 리스트:\n",
        "#    print(i[0:].upper())\n",
        "\n",
        "# split 의 기능\n",
        "# split으로 지정한 값을 기준으로 코드를 분할한다.\n",
        "# list 에서 사용 안됨으로 주의. 아래의 for 문을 이용하여 str 일때 split을 사용하여 처리한것임\n",
        "# re = ['hello.py', 'ex01.py', 'intro.hwp']\n",
        "# for i in re:\n",
        "#   a = i.split(\".\")\n",
        "#   print(a[0]) "
      ],
      "metadata": {
        "id": "l5kZ5C0ZRe0j"
      },
      "execution_count": null,
      "outputs": []
    },
    {
      "cell_type": "code",
      "source": [
        "# Q.1부터 99사이 모든 정수를 대상으로\n",
        "#369 게임의 결과를 출력하는 프로그램을 작성하세요.\n",
        "#(3,6,9 중복시 짝짝, 3이 포함되면 짝 3의 배수포함 모두 짝)\n",
        "\n",
        "a = str(0)\n",
        "b = str([3,6,9])\n",
        "for i in range(1,100):\n",
        "   a=str(i)   \n",
        "   if i%33 == 0 :     \n",
        "     a = \"짝짝\"\n",
        "   if i>10 and a[0] in b and a[-1] in b :\n",
        "     a = \"짝짝\"\n",
        "   elif a[-1] in b or a[0] in b :\n",
        "     a = \"짝\"\n",
        "   print(a, end='\\t')\n",
        "   if i%10 == 0 :\n",
        "     print(\"\")"
      ],
      "metadata": {
        "id": "zhPmDHtAfS0V",
        "colab": {
          "base_uri": "https://localhost:8080/"
        },
        "outputId": "69f00f37-0c27-4892-beeb-df8b47157fd5"
      },
      "execution_count": 8,
      "outputs": [
        {
          "output_type": "stream",
          "name": "stdout",
          "text": [
            "1\t2\t짝\t4\t5\t짝\t7\t8\t짝\t10\t\n",
            "11\t12\t짝\t14\t15\t짝\t17\t18\t짝\t20\t\n",
            "21\t22\t짝\t24\t25\t짝\t27\t28\t짝\t짝\t\n",
            "짝\t짝\t짝짝\t짝\t짝\t짝짝\t짝\t짝\t짝짝\t40\t\n",
            "41\t42\t짝\t44\t45\t짝\t47\t48\t짝\t50\t\n",
            "51\t52\t짝\t54\t55\t짝\t57\t58\t짝\t짝\t\n",
            "짝\t짝\t짝짝\t짝\t짝\t짝짝\t짝\t짝\t짝짝\t70\t\n",
            "71\t72\t짝\t74\t75\t짝\t77\t78\t짝\t80\t\n",
            "81\t82\t짝\t84\t85\t짝\t87\t88\t짝\t짝\t\n",
            "짝\t짝\t짝짝\t짝\t짝\t짝짝\t짝\t짝\t짝짝\t"
          ]
        }
      ]
    }
  ]
}