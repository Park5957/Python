{
  "nbformat": 4,
  "nbformat_minor": 0,
  "metadata": {
    "colab": {
      "name": "Day4.ipynb",
      "provenance": [],
      "collapsed_sections": [],
      "authorship_tag": "ABX9TyNuMguq8UJbBi4JN3z6Tf8s",
      "include_colab_link": true
    },
    "kernelspec": {
      "name": "python3",
      "display_name": "Python 3"
    },
    "language_info": {
      "name": "python"
    }
  },
  "cells": [
    {
      "cell_type": "markdown",
      "metadata": {
        "id": "view-in-github",
        "colab_type": "text"
      },
      "source": [
        "<a href=\"https://colab.research.google.com/github/Park5957/ai/blob/main/Day4.ipynb\" target=\"_parent\"><img src=\"https://colab.research.google.com/assets/colab-badge.svg\" alt=\"Open In Colab\"/></a>"
      ]
    },
    {
      "cell_type": "code",
      "execution_count": null,
      "metadata": {
        "colab": {
          "base_uri": "https://localhost:8080/"
        },
        "id": "mdZvTsgahzBz",
        "outputId": "78229aca-e70c-460e-8491-e65ffedb28c5"
      },
      "outputs": [
        {
          "output_type": "stream",
          "name": "stdout",
          "text": [
            "hello worls\n",
            "\n",
            "1 2 3 4 5\n",
            "------------------------------\n"
          ]
        }
      ],
      "source": [
        "# 재복습\n",
        "print(\"hello worls\")\n",
        "print() # 빈 줄을 늘리는 방법\n",
        "print(1,2,3,4,5)\n",
        "print('-'*30)\n",
        "# print('-'+30) 덧셈은 오류가 발생을 할 수 있음."
      ]
    },
    {
      "cell_type": "code",
      "source": [
        "# 문자열에서 인덱싱(문자 하나를 선택)\n",
        "# 슬라이싱 (문자 여러개를 선택)\n",
        "# 파이썬은 0에서 시작한다는 사실을 주의\n",
        "print(\"안녕하세요\"[0]) \n",
        "print(\"안녕하세요\"[1])\n",
        "print(\"안녕하세요\"[2])\n",
        "print(\"안녕하세요\"[3])\n",
        "print(\"안녕하세요\"[4])"
      ],
      "metadata": {
        "colab": {
          "base_uri": "https://localhost:8080/"
        },
        "id": "hwDRu6AJh2Wp",
        "outputId": "5d72abc4-a670-47b1-ea8f-3ebfd3693f15"
      },
      "execution_count": null,
      "outputs": [
        {
          "output_type": "stream",
          "name": "stdout",
          "text": [
            "안\n",
            "녕\n",
            "하\n",
            "세\n",
            "요\n"
          ]
        }
      ]
    },
    {
      "cell_type": "code",
      "source": [
        "# 역순으로 진행하는 것도 가능하다\n",
        "print(\"안녕하세요\"[-1]) \n",
        "print(\"안녕하세요\"[-2])\n",
        "print(\"안녕하세요\"[-3])\n",
        "print(\"안녕하세요\"[-4])\n",
        "print(\"안녕하세요\"[-5])"
      ],
      "metadata": {
        "colab": {
          "base_uri": "https://localhost:8080/"
        },
        "id": "tz0K-wZ3idCW",
        "outputId": "10337592-3712-404c-a5c5-b9bb1c137407"
      },
      "execution_count": null,
      "outputs": [
        {
          "output_type": "stream",
          "name": "stdout",
          "text": [
            "요\n",
            "세\n",
            "하\n",
            "녕\n",
            "안\n"
          ]
        }
      ]
    },
    {
      "cell_type": "code",
      "source": [
        "# 문자열에서 슬라이싱(문자열에서 여러 글자 선택)\n",
        "# [이상(생략가능):미만(생략가능)]\n",
        "print(\"안녕하세요\"[1:4])\n",
        "print(\"안녕하세요\"[1:])\n",
        "print(\"안녕하세요\"[:3])\n",
        "print(\"안녕하세요\"[:])\n",
        "# 자주발생하는 Error\n",
        "# print(\"안녕하세요\"[9]) 와 같이 뮨자열 값에서 벗어난 값을 인덱싱 하는 것\n",
        "# len에서 벗어난 값 또는 순번을 0이 아닌 1부터 계산하는 Erorr"
      ],
      "metadata": {
        "colab": {
          "base_uri": "https://localhost:8080/"
        },
        "id": "IWZDEx7ji4vB",
        "outputId": "cee66c59-cbb1-478c-905d-a31d5ae5536b"
      },
      "execution_count": null,
      "outputs": [
        {
          "output_type": "stream",
          "name": "stdout",
          "text": [
            "녕하세\n",
            "녕하세요\n",
            "안녕하\n",
            "안녕하세요\n"
          ]
        }
      ]
    },
    {
      "cell_type": "code",
      "source": [
        "# 문자열의 길이 구하기\n",
        "print(len(\"안녕하세요\"))"
      ],
      "metadata": {
        "id": "wO9_myrzjMfv",
        "colab": {
          "base_uri": "https://localhost:8080/"
        },
        "outputId": "cf6d5fac-4d18-45b6-da3a-ad2009062061"
      },
      "execution_count": 21,
      "outputs": [
        {
          "output_type": "stream",
          "name": "stdout",
          "text": [
            "5\n"
          ]
        }
      ]
    },
    {
      "cell_type": "code",
      "source": [
        "#조건문\n",
        "#bool and  if\n",
        "print(True)"
      ],
      "metadata": {
        "colab": {
          "base_uri": "https://localhost:8080/"
        },
        "id": "3mnAb_JC-5Gy",
        "outputId": "723de209-8229-475d-f396-f29d94484ad4"
      },
      "execution_count": 22,
      "outputs": [
        {
          "output_type": "stream",
          "name": "stdout",
          "text": [
            "True\n"
          ]
        }
      ]
    },
    {
      "cell_type": "code",
      "source": [
        "# 같은가? 아닌가? 를 확인하는 기호\n",
        "print( 10 == 100)\n",
        "print( 10 != 100)\n",
        "# 크기를 비교하는 기호\n",
        "print(10<100)\n",
        "print(10>100)\n",
        "print(10<=100)\n",
        "print(10>=100)"
      ],
      "metadata": {
        "colab": {
          "base_uri": "https://localhost:8080/"
        },
        "id": "S1JBIagC_5Hb",
        "outputId": "d1123ab2-56df-48ac-8513-88c8bb93ef89"
      },
      "execution_count": 29,
      "outputs": [
        {
          "output_type": "stream",
          "name": "stdout",
          "text": [
            "False\n",
            "True\n",
            "True\n",
            "False\n",
            "True\n",
            "False\n"
          ]
        }
      ]
    },
    {
      "cell_type": "code",
      "source": [
        "print(\"가방\" == \"가방\")\n",
        "print(\"가방\" == \"백\")\n",
        "print(\"가방\" != \"백\")\n",
        "# 한글의 크기 비교의 기준은 사전적 순서이다. 가나다순\n",
        "print(\"가방\" > \"백\")\n",
        "print(\"가방\" < \"백\")"
      ],
      "metadata": {
        "colab": {
          "base_uri": "https://localhost:8080/"
        },
        "id": "jv3TAaaNAJqt",
        "outputId": "aaf30b27-07a7-4edf-de58-861b2fb18caa"
      },
      "execution_count": 34,
      "outputs": [
        {
          "output_type": "stream",
          "name": "stdout",
          "text": [
            "True\n",
            "False\n",
            "True\n",
            "False\n",
            "True\n"
          ]
        }
      ]
    },
    {
      "cell_type": "code",
      "source": [
        "# if 조건문\n",
        "# 조건에 따라 특정 코드를 실행하거나 특정 코드를 실행하지 않기 위해 사용\n",
        "# 코드의 실행 흐름을 변경시키는 것을 조건 분기 라고 부른다.\n",
        "# 아래와 같은 코드는 별개의 if의 설명을 위한 예시 이기에 정상적인 구조로 볼 수 없다.\n",
        "num = int(input(\"정수를 입력하시기 바랍니다. : \"))\n",
        "\n",
        "if num > 0:\n",
        "  print(\"양수입니다.\")\n",
        "if num < 0:\n",
        "  print(\"음수입니다.\")\n",
        "if num == 0:\n",
        "  print(\" 0 입니다.\")"
      ],
      "metadata": {
        "colab": {
          "base_uri": "https://localhost:8080/"
        },
        "id": "IAd_OHy0IYM_",
        "outputId": "95a87799-9b3b-4ccc-87ee-d4eab4d25330"
      },
      "execution_count": 40,
      "outputs": [
        {
          "output_type": "stream",
          "name": "stdout",
          "text": [
            "정수를 입력하시기 바랍니다. : 0\n",
            " 0 입니다.\n"
          ]
        }
      ]
    },
    {
      "cell_type": "code",
      "source": [
        "# 날짜/시간과 관련된 기능을 가져온다(생략은 가능하다.)\n",
        "import datetime\n",
        "#현재의 날짜와 시간을 구하는 함수\n",
        "now = datetime.datetime.now()\n",
        "print(now)\n",
        "print(now.year,\"년\")\n",
        "print(now.month,\"월\")\n",
        "print(now.day)\n",
        "print(now.hour)\n",
        "print(now.minute)\n",
        "print(now.second)"
      ],
      "metadata": {
        "colab": {
          "base_uri": "https://localhost:8080/"
        },
        "id": "3QdFyyGCKBPN",
        "outputId": "d3ca12bd-eb4f-49b5-c28d-8b8103d3f124"
      },
      "execution_count": 58,
      "outputs": [
        {
          "output_type": "stream",
          "name": "stdout",
          "text": [
            "2022-01-28 05:37:22.243368\n",
            "2022 년\n",
            "1 월\n",
            "28\n",
            "5\n",
            "37\n",
            "22\n"
          ]
        }
      ]
    },
    {
      "cell_type": "code",
      "source": [
        "# Q 현재 시간은 14시로 오후입니다.\n",
        "import datetime\n",
        "now = datetime.datetime.now()\n",
        "\n",
        "if now.hour >= 12 :\n",
        "  a = '오후'\n",
        "else :\n",
        "  a = '오전'\n",
        "\n",
        "print(f\"현재 시각은 {now.hour}시{now.minute}분 {a} 입니다.\")"
      ],
      "metadata": {
        "colab": {
          "base_uri": "https://localhost:8080/"
        },
        "id": "Y1eClJgHKiMk",
        "outputId": "1d653f7a-5cd4-40ee-da41-c10c3443d02d"
      },
      "execution_count": 60,
      "outputs": [
        {
          "output_type": "stream",
          "name": "stdout",
          "text": [
            "현재 시각은 5시40분 오전 입니다.\n"
          ]
        }
      ]
    },
    {
      "cell_type": "code",
      "source": [
        "# Q 이번 달은 1월로 겨울입니다. 12, 1, 2 / 3, 4, 5 / 6, 7, 8 / 9 ,10, 11 / == 겨울/ 봄/ 여름/ 가을/\n",
        "# if만 사용하시오\n",
        "import datetime\n",
        "now = datetime.datetime.now()\n",
        "\n",
        "if 2 <= now.month == 12 :\n",
        "  a = '겨울'\n",
        "if 5 <= now.month >= 3 :\n",
        "  a = '봄'\n",
        "if 8 <= now.month >= 6 :\n",
        "  a = '여름'\n",
        "if 11 <= now.month >= 9 :\n",
        "  a = '가을'\n",
        "print(f\"이번 달은 {now.month}월로 {a}입니다.\")"
      ],
      "metadata": {
        "colab": {
          "base_uri": "https://localhost:8080/"
        },
        "id": "IuihWR_xLrpQ",
        "outputId": "bbab7e2f-e35b-450a-d48f-8882be9f9c84"
      },
      "execution_count": 65,
      "outputs": [
        {
          "output_type": "stream",
          "name": "stdout",
          "text": [
            "이번 달은 1월로 겨울입니다.\n"
          ]
        }
      ]
    },
    {
      "cell_type": "code",
      "source": [
        "# %연산자를 사용하지 않고\n",
        "# 정수를 입력 받아 그 수가 짝수 인지 홀 수 인지를 알려주는 프로그램을 작성하세요\n",
        "# if만 쓰시오\n",
        "\n",
        "# in은 if에서 사용시 해당 문자열에 존재하는지 확인하는 용도이다.\n",
        "\n",
        "a = input(\"정수를 입력하세요\")\n",
        "\n",
        "if a[-1] in \"02468\" :\n",
        "  print(f\" 짝수입니다.\")\n",
        "if a[-1] in \"13579\":\n",
        "  print(f\" 홀수입니다.\")"
      ],
      "metadata": {
        "colab": {
          "base_uri": "https://localhost:8080/"
        },
        "id": "jyjnzoi3TpSY",
        "outputId": "e4e5c03c-9ad8-4fce-c241-f42fb840d323"
      },
      "execution_count": 77,
      "outputs": [
        {
          "output_type": "stream",
          "name": "stdout",
          "text": [
            "정수를 입력하세요123\n",
            " 홀수입니다.\n"
          ]
        }
      ]
    },
    {
      "cell_type": "code",
      "source": [
        "# pass 의 용도는 해당되는 명령을 지나치기 위함이라 할 수 있다.\n",
        "number = int(input(\"정수 입력\"))\n",
        "if number > 0:\n",
        "  pass\n",
        "else:\n",
        "  pass\n",
        "\n",
        "# 사용 결과의 예시\n",
        "for i in [1, 2, 3, 4, 5, 6]:\n",
        "  if i == 4:\n",
        "    pass\n",
        "    print(\"This pass block will be printed before 4\")\n",
        "  print(\"The number is \", i)\n",
        "print(\"The end\")\n"
      ],
      "metadata": {
        "colab": {
          "base_uri": "https://localhost:8080/"
        },
        "id": "8Rm7UKFfUbSN",
        "outputId": "7bbe8d64-650d-4ad5-c54c-d1d2003cbfda"
      },
      "execution_count": 90,
      "outputs": [
        {
          "output_type": "stream",
          "name": "stdout",
          "text": [
            "정수 입력123\n",
            "The number is  1\n",
            "The number is  2\n",
            "The number is  3\n",
            "This pass block will be printed before 4\n",
            "The number is  4\n",
            "The number is  5\n",
            "The number is  6\n",
            "The end\n"
          ]
        }
      ]
    },
    {
      "cell_type": "code",
      "source": [
        "# 리스트와 반복문\n",
        "# 리스트는 여러개의 데이터를 저장하여 사용한다.\n",
        "li = [1,2,3,4,5]\n",
        "\n",
        "for i in li:\n",
        "  if i>=3 : # 3 이상 일 떄만 출력하라\n",
        "    print(i)\n"
      ],
      "metadata": {
        "colab": {
          "base_uri": "https://localhost:8080/"
        },
        "id": "xSNAPGtZXEbQ",
        "outputId": "50f38ead-a89f-4e1c-e354-df561597aa09"
      },
      "execution_count": 87,
      "outputs": [
        {
          "output_type": "stream",
          "name": "stdout",
          "text": [
            "3\n",
            "4\n",
            "5\n"
          ]
        }
      ]
    },
    {
      "cell_type": "code",
      "source": [
        "# dict 와 반복문\n",
        "\n",
        "dict = {\n",
        "    1:\"홍길동\",\n",
        "    2:\"이몽룡\",\n",
        "    3: \"test3\",\n",
        "    4: \"test4\",\n",
        "    5: \"test5\"\n",
        "\n",
        "}\n",
        "print(dict[1])\n",
        "\n",
        "for i in dict:\n",
        "  print(i,dict[i]) #이와같은 형태로 i 를 지정하면 dict 의 keys와 values 를 전부 표시할 수 있다.\n",
        "  # print(i,dict) # 이와같은 형대로 진행을 하면 dict의 값이 5개 임으로 5번을 출력하게 된다."
      ],
      "metadata": {
        "colab": {
          "base_uri": "https://localhost:8080/"
        },
        "id": "10_jF5zpYXxG",
        "outputId": "cd475eb1-31c8-4241-bebf-83103937e581"
      },
      "execution_count": 105,
      "outputs": [
        {
          "output_type": "stream",
          "name": "stdout",
          "text": [
            "홍길동\n",
            "1 홍길동\n",
            "2 이몽룡\n",
            "3 test3\n",
            "4 test4\n",
            "5 test5\n"
          ]
        }
      ]
    },
    {
      "cell_type": "code",
      "source": [
        "# for 반복횟수를 정확하게 알 고 있을 때 주로 사용\n",
        "# while 반복횟수를 정확하게 알 수 없을 때 주로 사용\n",
        "# print(list(range(0,5)))\n",
        "# print(list(range(0,5,2))) # (이상, 미만, 연속누락구간)\n",
        "\n",
        "#  while 1, for 1\n",
        "\n",
        "print(\"-\"*10,\"while\",\"-\"*10)\n",
        "\n",
        "a = 0\n",
        "while a <= 2 :\n",
        "  print(f\"{a}번째 반복\")\n",
        "  a +=1\n",
        "\n",
        "print(\"-\"*11,\"for\",\"-\"*11)\n",
        "\n",
        "for i in range(3) :\n",
        "  print(f\"{i}번째 반복\")\n",
        "\n",
        "#같은 결과에 따른 다른 방식으로 차이를 구별 할 수 있다.\n",
        "print(\"-\"*11,\"-for\",\"-\"*11)\n",
        "for i in range(0,-3,-1) :#음수로 (음수일 경우 시작점과 누락점을 생략 할 수 없다.)\n",
        "  print(f\"{i}번째 반복\")\n",
        "print(\"-\"*11,\"-for\",\"-\"*11)\n",
        "for i in range(-3,0) :#음수의 역순으로 출력하는 방법\n",
        "  print(f\"{i}번째 반복\")"
      ],
      "metadata": {
        "colab": {
          "base_uri": "https://localhost:8080/"
        },
        "id": "eG03C5GeZPIF",
        "outputId": "2c1da73f-f426-404e-d27e-2b53755dcba0"
      },
      "execution_count": 147,
      "outputs": [
        {
          "output_type": "stream",
          "name": "stdout",
          "text": [
            "---------- while ----------\n",
            "0번째 반복\n",
            "1번째 반복\n",
            "2번째 반복\n",
            "----------- for -----------\n",
            "0번째 반복\n",
            "1번째 반복\n",
            "2번째 반복\n",
            "----------- -for -----------\n",
            "0번째 반복\n",
            "-1번째 반복\n",
            "-2번째 반복\n",
            "----------- -for -----------\n",
            "-3번째 반복\n",
            "-2번째 반복\n",
            "-1번째 반복\n"
          ]
        }
      ]
    },
    {
      "cell_type": "code",
      "source": [
        "# break / continue\n",
        "# break 반복문의 종료\n",
        "\n",
        "# i = 0\n",
        "# while True :\n",
        "#   print(f\"{i}번째 반복 입니다.\")\n",
        "#   i+=1\n",
        "#   inp = input(\"종료할까요?(y):\")\n",
        "#   if inp in [\"y\",\"Y\"]:      # 이와 같은 형태로 반복을 진행하면서 매번 선택지를 줄 수 있다.\n",
        "#     print(\"반복을 종료합니다.\")\n",
        "#     break\n",
        "\n",
        "# 활용 test\n",
        "i = 0\n",
        "print(\"반복을 시작합니다.\")\n",
        "while True :\n",
        "  inp = input(\"종료할까요?(y or n):\")\n",
        "  if inp in [\"y\",\"Y\"]:      # 이와 같은 형태로 반복을 진행하면서 매번 선택지를 줄 수 있다.\n",
        "    print(\"반복을 종료합니다.\")\n",
        "    break\n",
        "  elif inp in [\"n\",\"N\"] :\n",
        "    print(f\"{i}번째 반복 입니다.\")\n",
        "    i+=1\n",
        "  else :\n",
        "    print(\"잘못 입력했습니다.\")\n",
        "    i+=0   \n",
        "    "
      ],
      "metadata": {
        "colab": {
          "base_uri": "https://localhost:8080/"
        },
        "id": "PF4Qekg1Z0fs",
        "outputId": "79753acf-d9f4-4079-d666-3d01ae64f257"
      },
      "execution_count": 202,
      "outputs": [
        {
          "output_type": "stream",
          "name": "stdout",
          "text": [
            "반복을 시작합니다.\n",
            "종료할까요?(y or n):y\n",
            "반복을 종료합니다.\n"
          ]
        }
      ]
    },
    {
      "cell_type": "code",
      "source": [
        "# continue 현재 반복을 중지하고 다름 반복으로 넘어 갈 때 사용\n",
        "\n",
        "for num in range(1,11):\n",
        "  if num % 2 == 0:\n",
        "    continue    # 설명) 2의 나머지가 0일 때 continue를 실행함으로 해당 번호를 제외 시킨다는 의미\n",
        "  print(num)    #       결론적으로 출력되는 것은 2의 배수를 제외한 나머지에서 10 이하의 수 뿐이다."
      ],
      "metadata": {
        "colab": {
          "base_uri": "https://localhost:8080/"
        },
        "id": "cfIGFGQoZ1GD",
        "outputId": "abf2e3ff-842c-4333-cd37-5c2fe9227290"
      },
      "execution_count": 157,
      "outputs": [
        {
          "output_type": "stream",
          "name": "stdout",
          "text": [
            "1\n",
            "3\n",
            "5\n",
            "7\n",
            "9\n"
          ]
        }
      ]
    },
    {
      "cell_type": "code",
      "source": [
        "# enumerate()\n",
        "student = [\"진구\",\"철수\",\"미애\",\"형구\",\"진수\"]\n",
        "# 출력)\n",
        "# 0번 진구\n",
        "# 1번 철수\n",
        "# .\n",
        "# .\n",
        "# 4번 진수\n",
        "print(\"-\"*11,\"nomal\",\"-\"*11)\n",
        "n=0\n",
        "for name in student :\n",
        "  print(f\"{n}번,{name}\")\n",
        "  n +=1\n",
        "\n",
        "print(\"-\"*9,\"enumerate\",\"-\"*9)\n",
        "n=0\n",
        "for n, name in enumerate(student):  # enumerate 의 기능은 기본적으로 (순번,값) 으로 분해 출력을 하기에\n",
        "  print(f\"{n}번,{name}\")            # 이와 같은 for 문으로 형성이 가능하다. "
      ],
      "metadata": {
        "colab": {
          "base_uri": "https://localhost:8080/"
        },
        "id": "FR1IR2ZoilNl",
        "outputId": "d4ad0d3c-839c-40dd-b888-5c4638e9bc21"
      },
      "execution_count": 171,
      "outputs": [
        {
          "output_type": "stream",
          "name": "stdout",
          "text": [
            "----------- nomal -----------\n",
            "0번,진구\n",
            "1번,철수\n",
            "2번,미애\n",
            "3번,형구\n",
            "4번,진수\n",
            "--------- enumerate ---------\n",
            "0번,진구\n",
            "1번,철수\n",
            "2번,미애\n",
            "3번,형구\n",
            "4번,진수\n"
          ]
        }
      ]
    },
    {
      "cell_type": "code",
      "source": [
        "# items() 딕겨너리는 items() 함수를 사용하여 key와 vaiue 값을 한번 추출 할 수 있다.\n",
        "\n",
        "dict = {\n",
        "    \"홍길동\" : \"185\",\n",
        "    \"이몽룡\" : \"189\",\n",
        "    \"성춘향\" : \"168\",\n",
        "}\n",
        "a=0\n",
        "for k, v in dict.items() :        # dict 에서는 items 를 사용하여\n",
        "  print(f\"{k}의 키는 {v}입니다.\") # enumerate와 동일한 효과로 사용가능하다."
      ],
      "metadata": {
        "colab": {
          "base_uri": "https://localhost:8080/"
        },
        "id": "_6GkUHDnlIy4",
        "outputId": "44c002f1-cab7-42c2-d362-33fa2cdf2f64"
      },
      "execution_count": 183,
      "outputs": [
        {
          "output_type": "stream",
          "name": "stdout",
          "text": [
            "홍길동의 키는 185입니다.\n",
            "이몽룡의 키는 189입니다.\n",
            "성춘향의 키는 168입니다.\n"
          ]
        }
      ]
    },
    {
      "cell_type": "code",
      "source": [
        "# 리스트 내포 list comprehensions(파이썬에만 있는 기능)\n",
        "array = []\n",
        "for i in range(0,20,2):\n",
        "  array.append(i)\n",
        "  \n",
        "print(array)"
      ],
      "metadata": {
        "colab": {
          "base_uri": "https://localhost:8080/"
        },
        "id": "zdlZfjIxnC50",
        "outputId": "b4ed4979-2cc3-4699-f813-1548de439b5f"
      },
      "execution_count": 188,
      "outputs": [
        {
          "output_type": "stream",
          "name": "stdout",
          "text": [
            "[0, 2, 4, 6, 8, 10, 12, 14, 16, 18]\n"
          ]
        }
      ]
    },
    {
      "cell_type": "code",
      "source": [
        "# for 를 리스트 안에 넣어서 간단하게 반복문으로 리스트 형성이 가능하다.\n",
        "array = [i for i in range(0,20,2)]\n",
        "print(array)"
      ],
      "metadata": {
        "colab": {
          "base_uri": "https://localhost:8080/"
        },
        "id": "yy3dEqimn45y",
        "outputId": "fe7135e7-c340-4df7-b1ef-196abfe582eb"
      },
      "execution_count": 197,
      "outputs": [
        {
          "output_type": "stream",
          "name": "stdout",
          "text": [
            "[0, 2, 4, 6, 8, 10, 12, 14, 16, 18]\n"
          ]
        }
      ]
    },
    {
      "cell_type": "code",
      "source": [
        "arr = [\"사과\",\"바나나\",\"체리\"]\n",
        "output = [i for i in arr if i !='사과'] #if 의 의미는 사과를 제외시키는 것이다.\n",
        "print(output)\n",
        "# 위 형태의 문제는 output(가제) 의 내용물이 길어지면 가독성이 떨어진다."
      ],
      "metadata": {
        "colab": {
          "base_uri": "https://localhost:8080/"
        },
        "id": "MhU-VW3lopQ8",
        "outputId": "2f9c76e0-a4a2-45c9-c3b9-0423150145fc"
      },
      "execution_count": 201,
      "outputs": [
        {
          "output_type": "stream",
          "name": "stdout",
          "text": [
            "['바나나', '체리']\n"
          ]
        }
      ]
    }
  ]
}