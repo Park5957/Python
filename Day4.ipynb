{
  "nbformat": 4,
  "nbformat_minor": 0,
  "metadata": {
    "colab": {
      "name": "Day4.ipynb",
      "provenance": [],
      "collapsed_sections": [],
      "authorship_tag": "ABX9TyM9E3NWMjazzK72LqAn7MHi",
      "include_colab_link": true
    },
    "kernelspec": {
      "name": "python3",
      "display_name": "Python 3"
    },
    "language_info": {
      "name": "python"
    }
  },
  "cells": [
    {
      "cell_type": "markdown",
      "metadata": {
        "id": "view-in-github",
        "colab_type": "text"
      },
      "source": [
        "<a href=\"https://colab.research.google.com/github/Park5957/ai/blob/main/Day4.ipynb\" target=\"_parent\"><img src=\"https://colab.research.google.com/assets/colab-badge.svg\" alt=\"Open In Colab\"/></a>"
      ]
    },
    {
      "cell_type": "code",
      "execution_count": 5,
      "metadata": {
        "colab": {
          "base_uri": "https://localhost:8080/"
        },
        "id": "mdZvTsgahzBz",
        "outputId": "78229aca-e70c-460e-8491-e65ffedb28c5"
      },
      "outputs": [
        {
          "output_type": "stream",
          "name": "stdout",
          "text": [
            "hello worls\n",
            "\n",
            "1 2 3 4 5\n",
            "------------------------------\n"
          ]
        }
      ],
      "source": [
        "# 재복습\n",
        "print(\"hello worls\")\n",
        "print() # 빈 줄을 늘리는 방법\n",
        "print(1,2,3,4,5)\n",
        "print('-'*30)\n",
        "# print('-'+30) 덧셈은 오류가 발생을 할 수 있음."
      ]
    },
    {
      "cell_type": "code",
      "source": [
        "# 문자열에서 인덱싱(문자 하나를 선택)\n",
        "# 슬라이싱 (문자 여러개를 선택)\n",
        "# 파이썬은 0에서 시작한다는 사실을 주의\n",
        "print(\"안녕하세요\"[0]) \n",
        "print(\"안녕하세요\"[1])\n",
        "print(\"안녕하세요\"[2])\n",
        "print(\"안녕하세요\"[3])\n",
        "print(\"안녕하세요\"[4])"
      ],
      "metadata": {
        "colab": {
          "base_uri": "https://localhost:8080/"
        },
        "id": "hwDRu6AJh2Wp",
        "outputId": "5d72abc4-a670-47b1-ea8f-3ebfd3693f15"
      },
      "execution_count": 12,
      "outputs": [
        {
          "output_type": "stream",
          "name": "stdout",
          "text": [
            "안\n",
            "녕\n",
            "하\n",
            "세\n",
            "요\n"
          ]
        }
      ]
    },
    {
      "cell_type": "code",
      "source": [
        "# 역순으로 진행하는 것도 가능하다\n",
        "print(\"안녕하세요\"[-1]) \n",
        "print(\"안녕하세요\"[-2])\n",
        "print(\"안녕하세요\"[-3])\n",
        "print(\"안녕하세요\"[-4])\n",
        "print(\"안녕하세요\"[-5])"
      ],
      "metadata": {
        "colab": {
          "base_uri": "https://localhost:8080/"
        },
        "id": "tz0K-wZ3idCW",
        "outputId": "10337592-3712-404c-a5c5-b9bb1c137407"
      },
      "execution_count": 15,
      "outputs": [
        {
          "output_type": "stream",
          "name": "stdout",
          "text": [
            "요\n",
            "세\n",
            "하\n",
            "녕\n",
            "안\n"
          ]
        }
      ]
    },
    {
      "cell_type": "code",
      "source": [
        "# 문자열에서 슬라이싱(문자열에서 여러 글자 선택)\n",
        "# [이상(생략가능):미만(생략가능)]\n",
        "print(\"안녕하세요\"[1:4])\n",
        "print(\"안녕하세요\"[1:])\n",
        "print(\"안녕하세요\"[:3])\n",
        "print(\"안녕하세요\"[:])\n",
        "# 자주발생하는 Error\n",
        "# print(\"안녕하세요\"[9]) 와 같이 뮨자열 값에서 벗어난 값을 인덱싱 하는 것\n",
        "# len에서 벗어난 값 또는 순번을 0이 아닌 1부터 계산하는 Erorr"
      ],
      "metadata": {
        "colab": {
          "base_uri": "https://localhost:8080/"
        },
        "id": "IWZDEx7ji4vB",
        "outputId": "cee66c59-cbb1-478c-905d-a31d5ae5536b"
      },
      "execution_count": 20,
      "outputs": [
        {
          "output_type": "stream",
          "name": "stdout",
          "text": [
            "녕하세\n",
            "녕하세요\n",
            "안녕하\n",
            "안녕하세요\n"
          ]
        }
      ]
    },
    {
      "cell_type": "code",
      "source": [
        ""
      ],
      "metadata": {
        "id": "wO9_myrzjMfv"
      },
      "execution_count": null,
      "outputs": []
    }
  ]
}