{
  "nbformat": 4,
  "nbformat_minor": 0,
  "metadata": {
    "colab": {
      "name": "TriningCode_Factorial.ipynb",
      "provenance": [],
      "collapsed_sections": [],
      "authorship_tag": "ABX9TyNEhd6rZkGNQ4dqso9C2eXr",
      "include_colab_link": true
    },
    "kernelspec": {
      "name": "python3",
      "display_name": "Python 3"
    },
    "language_info": {
      "name": "python"
    }
  },
  "cells": [
    {
      "cell_type": "markdown",
      "metadata": {
        "id": "view-in-github",
        "colab_type": "text"
      },
      "source": [
        "<a href=\"https://colab.research.google.com/github/Park5957/ai/blob/main/TriningCode_Factorial.ipynb\" target=\"_parent\"><img src=\"https://colab.research.google.com/assets/colab-badge.svg\" alt=\"Open In Colab\"/></a>"
      ]
    },
    {
      "cell_type": "code",
      "execution_count": null,
      "metadata": {
        "id": "u6egK3DPAEYR"
      },
      "outputs": [],
      "source": [
        "# 재귀함수 factorial 진행 개념 재정리\n",
        "def facto(n) :\n",
        "  print(n)\n",
        "  if n == 0:\n",
        "    return 1\n",
        "  else :\n",
        "    return n*facto(n-1)\n",
        "  \n",
        "\n",
        "print(\"3!:\", facto(3))\n",
        "print(\"3!:\", facto(5))\n",
        "print(\"3!:\", facto(7))\n",
        "\n",
        "# 3을 기준으로\n",
        "#  3 * 2(리턴됨) = 6\n",
        "#  6 * 1(리턴됨 ) = 6\n",
        "#  6 * 0(리턴됨) = 6\n",
        "#  if == 0 에 도착\n",
        "#  6 * 1 = 6 종료\n",
        "# 결론 3! = 6"
      ]
    }
  ]
}