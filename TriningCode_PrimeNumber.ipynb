{
  "nbformat": 4,
  "nbformat_minor": 0,
  "metadata": {
    "colab": {
      "name": "TriningCode_PrimeNumber.ipynb",
      "provenance": [],
      "collapsed_sections": [],
      "authorship_tag": "ABX9TyPqzWH75aeGLE2m/ZxtX8Q4",
      "include_colab_link": true
    },
    "kernelspec": {
      "name": "python3",
      "display_name": "Python 3"
    },
    "language_info": {
      "name": "python"
    }
  },
  "cells": [
    {
      "cell_type": "markdown",
      "metadata": {
        "id": "view-in-github",
        "colab_type": "text"
      },
      "source": [
        "<a href=\"https://colab.research.google.com/github/Park5957/ai/blob/main/TriningCode_PrimeNumber.ipynb\" target=\"_parent\"><img src=\"https://colab.research.google.com/assets/colab-badge.svg\" alt=\"Open In Colab\"/></a>"
      ]
    },
    {
      "cell_type": "code",
      "execution_count": null,
      "metadata": {
        "id": "i66IsO0VUki9"
      },
      "outputs": [],
      "source": [
        "# 주제 : prime number (소수)\n",
        "# 소수를 측정하는 함수 만들기 teat\n",
        "\n",
        "num = int(input(\"정수를 입력하시오 : \"))\n",
        "\n",
        "def pr(n) :\n",
        "  caunt = 0\n",
        "  b = []\n",
        "  for i in range(1,n+1) :    \n",
        "    for j in range(1,i+1) :\n",
        "      k = i%j    \n",
        "      if k == 0 :\n",
        "        caunt += 1\n",
        "    if caunt > 2 :\n",
        "      print(f\"{i} 은 소수가 아닙니다.\")\n",
        "    elif caunt <= 2 :\n",
        "      print(f\"{i} 은 소수입니다.\")\n",
        "      b.append(i)\n",
        "    caunt = 0\n",
        "  print(f\"소수는 {b} 입니다.\")   \n",
        "pr(num)"
      ]
    }
  ]
}