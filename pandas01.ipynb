{
  "nbformat": 4,
  "nbformat_minor": 0,
  "metadata": {
    "colab": {
      "name": "pandas01.ipynb",
      "provenance": [],
      "collapsed_sections": [],
      "authorship_tag": "ABX9TyM1FjCLQWzOwMp2C7uZrr4d",
      "include_colab_link": true
    },
    "kernelspec": {
      "name": "python3",
      "display_name": "Python 3"
    },
    "language_info": {
      "name": "python"
    }
  },
  "cells": [
    {
      "cell_type": "markdown",
      "metadata": {
        "id": "view-in-github",
        "colab_type": "text"
      },
      "source": [
        "<a href=\"https://colab.research.google.com/github/Park5957/ai/blob/main/pandas01.ipynb\" target=\"_parent\"><img src=\"https://colab.research.google.com/assets/colab-badge.svg\" alt=\"Open In Colab\"/></a>"
      ]
    },
    {
      "cell_type": "code",
      "execution_count": 1,
      "metadata": {
        "id": "TKiFMcKLu7Ze"
      },
      "outputs": [],
      "source": [
        "# pandas - 판다스는 데이터 프레임과 시리즈 라는 자료형과 데이터 분석을 위한 다양한\n",
        "#          기능을 제공한다.\n",
        "\n",
        "# 데이더 분석의 시작은 데이터 불러오기"
      ]
    },
    {
      "cell_type": "code",
      "source": [
        "import pandas as pd #판다스 가지고 오기"
      ],
      "metadata": {
        "id": "2ye0Tt8TvZeB"
      },
      "execution_count": 2,
      "outputs": []
    },
    {
      "cell_type": "code",
      "source": [
        "df = pd.read_csv('gapminder.tsv', sep='\\t')\n",
        "\n",
        "# 판다스로 읽어온 파일은 기본적으로 data frame 으로 가져온다. "
      ],
      "metadata": {
        "id": "85-msp2Rvd9z"
      },
      "execution_count": 3,
      "outputs": []
    },
    {
      "cell_type": "code",
      "source": [
        "df.head()"
      ],
      "metadata": {
        "colab": {
          "base_uri": "https://localhost:8080/",
          "height": 206
        },
        "id": "0Ee6ZjWHwf34",
        "outputId": "ad739b49-1b5e-49a0-afdc-dd704be5080f"
      },
      "execution_count": 4,
      "outputs": [
        {
          "output_type": "execute_result",
          "data": {
            "text/plain": [
              "       country continent  year  lifeExp       pop   gdpPercap\n",
              "0  Afghanistan      Asia  1952   28.801   8425333  779.445314\n",
              "1  Afghanistan      Asia  1957   30.332   9240934  820.853030\n",
              "2  Afghanistan      Asia  1962   31.997  10267083  853.100710\n",
              "3  Afghanistan      Asia  1967   34.020  11537966  836.197138\n",
              "4  Afghanistan      Asia  1972   36.088  13079460  739.981106"
            ],
            "text/html": [
              "\n",
              "  <div id=\"df-6fd33d22-989a-4225-a294-8f9f4762d3a0\">\n",
              "    <div class=\"colab-df-container\">\n",
              "      <div>\n",
              "<style scoped>\n",
              "    .dataframe tbody tr th:only-of-type {\n",
              "        vertical-align: middle;\n",
              "    }\n",
              "\n",
              "    .dataframe tbody tr th {\n",
              "        vertical-align: top;\n",
              "    }\n",
              "\n",
              "    .dataframe thead th {\n",
              "        text-align: right;\n",
              "    }\n",
              "</style>\n",
              "<table border=\"1\" class=\"dataframe\">\n",
              "  <thead>\n",
              "    <tr style=\"text-align: right;\">\n",
              "      <th></th>\n",
              "      <th>country</th>\n",
              "      <th>continent</th>\n",
              "      <th>year</th>\n",
              "      <th>lifeExp</th>\n",
              "      <th>pop</th>\n",
              "      <th>gdpPercap</th>\n",
              "    </tr>\n",
              "  </thead>\n",
              "  <tbody>\n",
              "    <tr>\n",
              "      <th>0</th>\n",
              "      <td>Afghanistan</td>\n",
              "      <td>Asia</td>\n",
              "      <td>1952</td>\n",
              "      <td>28.801</td>\n",
              "      <td>8425333</td>\n",
              "      <td>779.445314</td>\n",
              "    </tr>\n",
              "    <tr>\n",
              "      <th>1</th>\n",
              "      <td>Afghanistan</td>\n",
              "      <td>Asia</td>\n",
              "      <td>1957</td>\n",
              "      <td>30.332</td>\n",
              "      <td>9240934</td>\n",
              "      <td>820.853030</td>\n",
              "    </tr>\n",
              "    <tr>\n",
              "      <th>2</th>\n",
              "      <td>Afghanistan</td>\n",
              "      <td>Asia</td>\n",
              "      <td>1962</td>\n",
              "      <td>31.997</td>\n",
              "      <td>10267083</td>\n",
              "      <td>853.100710</td>\n",
              "    </tr>\n",
              "    <tr>\n",
              "      <th>3</th>\n",
              "      <td>Afghanistan</td>\n",
              "      <td>Asia</td>\n",
              "      <td>1967</td>\n",
              "      <td>34.020</td>\n",
              "      <td>11537966</td>\n",
              "      <td>836.197138</td>\n",
              "    </tr>\n",
              "    <tr>\n",
              "      <th>4</th>\n",
              "      <td>Afghanistan</td>\n",
              "      <td>Asia</td>\n",
              "      <td>1972</td>\n",
              "      <td>36.088</td>\n",
              "      <td>13079460</td>\n",
              "      <td>739.981106</td>\n",
              "    </tr>\n",
              "  </tbody>\n",
              "</table>\n",
              "</div>\n",
              "      <button class=\"colab-df-convert\" onclick=\"convertToInteractive('df-6fd33d22-989a-4225-a294-8f9f4762d3a0')\"\n",
              "              title=\"Convert this dataframe to an interactive table.\"\n",
              "              style=\"display:none;\">\n",
              "        \n",
              "  <svg xmlns=\"http://www.w3.org/2000/svg\" height=\"24px\"viewBox=\"0 0 24 24\"\n",
              "       width=\"24px\">\n",
              "    <path d=\"M0 0h24v24H0V0z\" fill=\"none\"/>\n",
              "    <path d=\"M18.56 5.44l.94 2.06.94-2.06 2.06-.94-2.06-.94-.94-2.06-.94 2.06-2.06.94zm-11 1L8.5 8.5l.94-2.06 2.06-.94-2.06-.94L8.5 2.5l-.94 2.06-2.06.94zm10 10l.94 2.06.94-2.06 2.06-.94-2.06-.94-.94-2.06-.94 2.06-2.06.94z\"/><path d=\"M17.41 7.96l-1.37-1.37c-.4-.4-.92-.59-1.43-.59-.52 0-1.04.2-1.43.59L10.3 9.45l-7.72 7.72c-.78.78-.78 2.05 0 2.83L4 21.41c.39.39.9.59 1.41.59.51 0 1.02-.2 1.41-.59l7.78-7.78 2.81-2.81c.8-.78.8-2.07 0-2.86zM5.41 20L4 18.59l7.72-7.72 1.47 1.35L5.41 20z\"/>\n",
              "  </svg>\n",
              "      </button>\n",
              "      \n",
              "  <style>\n",
              "    .colab-df-container {\n",
              "      display:flex;\n",
              "      flex-wrap:wrap;\n",
              "      gap: 12px;\n",
              "    }\n",
              "\n",
              "    .colab-df-convert {\n",
              "      background-color: #E8F0FE;\n",
              "      border: none;\n",
              "      border-radius: 50%;\n",
              "      cursor: pointer;\n",
              "      display: none;\n",
              "      fill: #1967D2;\n",
              "      height: 32px;\n",
              "      padding: 0 0 0 0;\n",
              "      width: 32px;\n",
              "    }\n",
              "\n",
              "    .colab-df-convert:hover {\n",
              "      background-color: #E2EBFA;\n",
              "      box-shadow: 0px 1px 2px rgba(60, 64, 67, 0.3), 0px 1px 3px 1px rgba(60, 64, 67, 0.15);\n",
              "      fill: #174EA6;\n",
              "    }\n",
              "\n",
              "    [theme=dark] .colab-df-convert {\n",
              "      background-color: #3B4455;\n",
              "      fill: #D2E3FC;\n",
              "    }\n",
              "\n",
              "    [theme=dark] .colab-df-convert:hover {\n",
              "      background-color: #434B5C;\n",
              "      box-shadow: 0px 1px 3px 1px rgba(0, 0, 0, 0.15);\n",
              "      filter: drop-shadow(0px 1px 2px rgba(0, 0, 0, 0.3));\n",
              "      fill: #FFFFFF;\n",
              "    }\n",
              "  </style>\n",
              "\n",
              "      <script>\n",
              "        const buttonEl =\n",
              "          document.querySelector('#df-6fd33d22-989a-4225-a294-8f9f4762d3a0 button.colab-df-convert');\n",
              "        buttonEl.style.display =\n",
              "          google.colab.kernel.accessAllowed ? 'block' : 'none';\n",
              "\n",
              "        async function convertToInteractive(key) {\n",
              "          const element = document.querySelector('#df-6fd33d22-989a-4225-a294-8f9f4762d3a0');\n",
              "          const dataTable =\n",
              "            await google.colab.kernel.invokeFunction('convertToInteractive',\n",
              "                                                     [key], {});\n",
              "          if (!dataTable) return;\n",
              "\n",
              "          const docLinkHtml = 'Like what you see? Visit the ' +\n",
              "            '<a target=\"_blank\" href=https://colab.research.google.com/notebooks/data_table.ipynb>data table notebook</a>'\n",
              "            + ' to learn more about interactive tables.';\n",
              "          element.innerHTML = '';\n",
              "          dataTable['output_type'] = 'display_data';\n",
              "          await google.colab.output.renderOutput(dataTable, element);\n",
              "          const docLink = document.createElement('div');\n",
              "          docLink.innerHTML = docLinkHtml;\n",
              "          element.appendChild(docLink);\n",
              "        }\n",
              "      </script>\n",
              "    </div>\n",
              "  </div>\n",
              "  "
            ]
          },
          "metadata": {},
          "execution_count": 4
        }
      ]
    },
    {
      "cell_type": "code",
      "source": [
        "df.tail() #끝에서 5개만 보기"
      ],
      "metadata": {
        "colab": {
          "base_uri": "https://localhost:8080/",
          "height": 206
        },
        "id": "HWmKBUQWw4i-",
        "outputId": "95da465a-7c1e-4b88-ec36-62012e7e927f"
      },
      "execution_count": 5,
      "outputs": [
        {
          "output_type": "execute_result",
          "data": {
            "text/plain": [
              "       country continent  year  lifeExp       pop   gdpPercap\n",
              "1699  Zimbabwe    Africa  1987   62.351   9216418  706.157306\n",
              "1700  Zimbabwe    Africa  1992   60.377  10704340  693.420786\n",
              "1701  Zimbabwe    Africa  1997   46.809  11404948  792.449960\n",
              "1702  Zimbabwe    Africa  2002   39.989  11926563  672.038623\n",
              "1703  Zimbabwe    Africa  2007   43.487  12311143  469.709298"
            ],
            "text/html": [
              "\n",
              "  <div id=\"df-6aa78ba1-a4f3-4da6-ba2b-0bc7fec7a2c2\">\n",
              "    <div class=\"colab-df-container\">\n",
              "      <div>\n",
              "<style scoped>\n",
              "    .dataframe tbody tr th:only-of-type {\n",
              "        vertical-align: middle;\n",
              "    }\n",
              "\n",
              "    .dataframe tbody tr th {\n",
              "        vertical-align: top;\n",
              "    }\n",
              "\n",
              "    .dataframe thead th {\n",
              "        text-align: right;\n",
              "    }\n",
              "</style>\n",
              "<table border=\"1\" class=\"dataframe\">\n",
              "  <thead>\n",
              "    <tr style=\"text-align: right;\">\n",
              "      <th></th>\n",
              "      <th>country</th>\n",
              "      <th>continent</th>\n",
              "      <th>year</th>\n",
              "      <th>lifeExp</th>\n",
              "      <th>pop</th>\n",
              "      <th>gdpPercap</th>\n",
              "    </tr>\n",
              "  </thead>\n",
              "  <tbody>\n",
              "    <tr>\n",
              "      <th>1699</th>\n",
              "      <td>Zimbabwe</td>\n",
              "      <td>Africa</td>\n",
              "      <td>1987</td>\n",
              "      <td>62.351</td>\n",
              "      <td>9216418</td>\n",
              "      <td>706.157306</td>\n",
              "    </tr>\n",
              "    <tr>\n",
              "      <th>1700</th>\n",
              "      <td>Zimbabwe</td>\n",
              "      <td>Africa</td>\n",
              "      <td>1992</td>\n",
              "      <td>60.377</td>\n",
              "      <td>10704340</td>\n",
              "      <td>693.420786</td>\n",
              "    </tr>\n",
              "    <tr>\n",
              "      <th>1701</th>\n",
              "      <td>Zimbabwe</td>\n",
              "      <td>Africa</td>\n",
              "      <td>1997</td>\n",
              "      <td>46.809</td>\n",
              "      <td>11404948</td>\n",
              "      <td>792.449960</td>\n",
              "    </tr>\n",
              "    <tr>\n",
              "      <th>1702</th>\n",
              "      <td>Zimbabwe</td>\n",
              "      <td>Africa</td>\n",
              "      <td>2002</td>\n",
              "      <td>39.989</td>\n",
              "      <td>11926563</td>\n",
              "      <td>672.038623</td>\n",
              "    </tr>\n",
              "    <tr>\n",
              "      <th>1703</th>\n",
              "      <td>Zimbabwe</td>\n",
              "      <td>Africa</td>\n",
              "      <td>2007</td>\n",
              "      <td>43.487</td>\n",
              "      <td>12311143</td>\n",
              "      <td>469.709298</td>\n",
              "    </tr>\n",
              "  </tbody>\n",
              "</table>\n",
              "</div>\n",
              "      <button class=\"colab-df-convert\" onclick=\"convertToInteractive('df-6aa78ba1-a4f3-4da6-ba2b-0bc7fec7a2c2')\"\n",
              "              title=\"Convert this dataframe to an interactive table.\"\n",
              "              style=\"display:none;\">\n",
              "        \n",
              "  <svg xmlns=\"http://www.w3.org/2000/svg\" height=\"24px\"viewBox=\"0 0 24 24\"\n",
              "       width=\"24px\">\n",
              "    <path d=\"M0 0h24v24H0V0z\" fill=\"none\"/>\n",
              "    <path d=\"M18.56 5.44l.94 2.06.94-2.06 2.06-.94-2.06-.94-.94-2.06-.94 2.06-2.06.94zm-11 1L8.5 8.5l.94-2.06 2.06-.94-2.06-.94L8.5 2.5l-.94 2.06-2.06.94zm10 10l.94 2.06.94-2.06 2.06-.94-2.06-.94-.94-2.06-.94 2.06-2.06.94z\"/><path d=\"M17.41 7.96l-1.37-1.37c-.4-.4-.92-.59-1.43-.59-.52 0-1.04.2-1.43.59L10.3 9.45l-7.72 7.72c-.78.78-.78 2.05 0 2.83L4 21.41c.39.39.9.59 1.41.59.51 0 1.02-.2 1.41-.59l7.78-7.78 2.81-2.81c.8-.78.8-2.07 0-2.86zM5.41 20L4 18.59l7.72-7.72 1.47 1.35L5.41 20z\"/>\n",
              "  </svg>\n",
              "      </button>\n",
              "      \n",
              "  <style>\n",
              "    .colab-df-container {\n",
              "      display:flex;\n",
              "      flex-wrap:wrap;\n",
              "      gap: 12px;\n",
              "    }\n",
              "\n",
              "    .colab-df-convert {\n",
              "      background-color: #E8F0FE;\n",
              "      border: none;\n",
              "      border-radius: 50%;\n",
              "      cursor: pointer;\n",
              "      display: none;\n",
              "      fill: #1967D2;\n",
              "      height: 32px;\n",
              "      padding: 0 0 0 0;\n",
              "      width: 32px;\n",
              "    }\n",
              "\n",
              "    .colab-df-convert:hover {\n",
              "      background-color: #E2EBFA;\n",
              "      box-shadow: 0px 1px 2px rgba(60, 64, 67, 0.3), 0px 1px 3px 1px rgba(60, 64, 67, 0.15);\n",
              "      fill: #174EA6;\n",
              "    }\n",
              "\n",
              "    [theme=dark] .colab-df-convert {\n",
              "      background-color: #3B4455;\n",
              "      fill: #D2E3FC;\n",
              "    }\n",
              "\n",
              "    [theme=dark] .colab-df-convert:hover {\n",
              "      background-color: #434B5C;\n",
              "      box-shadow: 0px 1px 3px 1px rgba(0, 0, 0, 0.15);\n",
              "      filter: drop-shadow(0px 1px 2px rgba(0, 0, 0, 0.3));\n",
              "      fill: #FFFFFF;\n",
              "    }\n",
              "  </style>\n",
              "\n",
              "      <script>\n",
              "        const buttonEl =\n",
              "          document.querySelector('#df-6aa78ba1-a4f3-4da6-ba2b-0bc7fec7a2c2 button.colab-df-convert');\n",
              "        buttonEl.style.display =\n",
              "          google.colab.kernel.accessAllowed ? 'block' : 'none';\n",
              "\n",
              "        async function convertToInteractive(key) {\n",
              "          const element = document.querySelector('#df-6aa78ba1-a4f3-4da6-ba2b-0bc7fec7a2c2');\n",
              "          const dataTable =\n",
              "            await google.colab.kernel.invokeFunction('convertToInteractive',\n",
              "                                                     [key], {});\n",
              "          if (!dataTable) return;\n",
              "\n",
              "          const docLinkHtml = 'Like what you see? Visit the ' +\n",
              "            '<a target=\"_blank\" href=https://colab.research.google.com/notebooks/data_table.ipynb>data table notebook</a>'\n",
              "            + ' to learn more about interactive tables.';\n",
              "          element.innerHTML = '';\n",
              "          dataTable['output_type'] = 'display_data';\n",
              "          await google.colab.output.renderOutput(dataTable, element);\n",
              "          const docLink = document.createElement('div');\n",
              "          docLink.innerHTML = docLinkHtml;\n",
              "          element.appendChild(docLink);\n",
              "        }\n",
              "      </script>\n",
              "    </div>\n",
              "  </div>\n",
              "  "
            ]
          },
          "metadata": {},
          "execution_count": 5
        }
      ]
    },
    {
      "cell_type": "code",
      "source": [
        "type(df) #자료형확인"
      ],
      "metadata": {
        "colab": {
          "base_uri": "https://localhost:8080/"
        },
        "id": "3WeYTfQ9w9pe",
        "outputId": "9026ffa3-08d2-40bb-995d-5fbed656ffd9"
      },
      "execution_count": 6,
      "outputs": [
        {
          "output_type": "execute_result",
          "data": {
            "text/plain": [
              "pandas.core.frame.DataFrame"
            ]
          },
          "metadata": {},
          "execution_count": 6
        }
      ]
    },
    {
      "cell_type": "code",
      "source": [
        "df.shape #데이터 구조보기"
      ],
      "metadata": {
        "colab": {
          "base_uri": "https://localhost:8080/"
        },
        "id": "QaW6-XvQxEYo",
        "outputId": "379dfd6a-22cd-4e80-d073-f15cc56a2d79"
      },
      "execution_count": 7,
      "outputs": [
        {
          "output_type": "execute_result",
          "data": {
            "text/plain": [
              "(1704, 6)"
            ]
          },
          "metadata": {},
          "execution_count": 7
        }
      ]
    },
    {
      "cell_type": "code",
      "source": [
        "df.columns # 열 즉 피처값 확인"
      ],
      "metadata": {
        "colab": {
          "base_uri": "https://localhost:8080/"
        },
        "id": "4FBSrERlxIV3",
        "outputId": "4aa4ed8a-fcdd-4d0f-c000-026ce6bd3b88"
      },
      "execution_count": 8,
      "outputs": [
        {
          "output_type": "execute_result",
          "data": {
            "text/plain": [
              "Index(['country', 'continent', 'year', 'lifeExp', 'pop', 'gdpPercap'], dtype='object')"
            ]
          },
          "metadata": {},
          "execution_count": 8
        }
      ]
    },
    {
      "cell_type": "code",
      "source": [
        "df.info"
      ],
      "metadata": {
        "colab": {
          "base_uri": "https://localhost:8080/"
        },
        "id": "OBOsF8PdxUwC",
        "outputId": "90aa3668-b0a3-4200-86ff-650300db1015"
      },
      "execution_count": 9,
      "outputs": [
        {
          "output_type": "execute_result",
          "data": {
            "text/plain": [
              "<bound method DataFrame.info of           country continent  year  lifeExp       pop   gdpPercap\n",
              "0     Afghanistan      Asia  1952   28.801   8425333  779.445314\n",
              "1     Afghanistan      Asia  1957   30.332   9240934  820.853030\n",
              "2     Afghanistan      Asia  1962   31.997  10267083  853.100710\n",
              "3     Afghanistan      Asia  1967   34.020  11537966  836.197138\n",
              "4     Afghanistan      Asia  1972   36.088  13079460  739.981106\n",
              "...           ...       ...   ...      ...       ...         ...\n",
              "1699     Zimbabwe    Africa  1987   62.351   9216418  706.157306\n",
              "1700     Zimbabwe    Africa  1992   60.377  10704340  693.420786\n",
              "1701     Zimbabwe    Africa  1997   46.809  11404948  792.449960\n",
              "1702     Zimbabwe    Africa  2002   39.989  11926563  672.038623\n",
              "1703     Zimbabwe    Africa  2007   43.487  12311143  469.709298\n",
              "\n",
              "[1704 rows x 6 columns]>"
            ]
          },
          "metadata": {},
          "execution_count": 9
        }
      ]
    },
    {
      "cell_type": "code",
      "source": [
        "# 판다스와 파이썬 자료형 비교\n",
        "\n",
        "# 파이썬          판다스\n",
        "# String          object\n",
        "# int             int64\n",
        "# float           float64\n",
        "# datetime        datetime64"
      ],
      "metadata": {
        "id": "cj80qGqGxdju"
      },
      "execution_count": 10,
      "outputs": []
    },
    {
      "cell_type": "code",
      "source": [
        "# 열단위 추출\n",
        "\n",
        "\n",
        "country_series = df[\"country\"] #country에 대한 열값 추출\n",
        "\n",
        "# 1개의 열만 추출하면 시리즈를 얻게된다.\n",
        "# 2개 이상의 열을 추출하게 된다면 데이터프레임으로 얻게된다.\n",
        "\n",
        "type(country_series) #1개열만 추출함으로 Series 라는 타입으로 표기가 된다."
      ],
      "metadata": {
        "colab": {
          "base_uri": "https://localhost:8080/"
        },
        "id": "locEwJ-xyTak",
        "outputId": "e1da0a67-5eb6-43d0-9c63-43bd3fa1802e"
      },
      "execution_count": 11,
      "outputs": [
        {
          "output_type": "execute_result",
          "data": {
            "text/plain": [
              "pandas.core.series.Series"
            ]
          },
          "metadata": {},
          "execution_count": 11
        }
      ]
    },
    {
      "cell_type": "code",
      "source": [
        "subset = df[[\"country\",\"continent\",\"year\"]]  #대괄호 두개 사용주의\n",
        "print(subset)\n",
        "print(type(subset))"
      ],
      "metadata": {
        "colab": {
          "base_uri": "https://localhost:8080/"
        },
        "id": "-rcsJkkDy-bf",
        "outputId": "ae903d55-e64f-4eb3-9848-6f85122d0208"
      },
      "execution_count": 12,
      "outputs": [
        {
          "output_type": "stream",
          "name": "stdout",
          "text": [
            "          country continent  year\n",
            "0     Afghanistan      Asia  1952\n",
            "1     Afghanistan      Asia  1957\n",
            "2     Afghanistan      Asia  1962\n",
            "3     Afghanistan      Asia  1967\n",
            "4     Afghanistan      Asia  1972\n",
            "...           ...       ...   ...\n",
            "1699     Zimbabwe    Africa  1987\n",
            "1700     Zimbabwe    Africa  1992\n",
            "1701     Zimbabwe    Africa  1997\n",
            "1702     Zimbabwe    Africa  2002\n",
            "1703     Zimbabwe    Africa  2007\n",
            "\n",
            "[1704 rows x 3 columns]\n",
            "<class 'pandas.core.frame.DataFrame'>\n"
          ]
        }
      ]
    },
    {
      "cell_type": "code",
      "source": [
        "# 행단위 추출\n",
        "#loc\n",
        "#iloc"
      ],
      "metadata": {
        "id": "GFqMP_ULzqVH"
      },
      "execution_count": 13,
      "outputs": []
    },
    {
      "cell_type": "code",
      "source": [
        "# loc\n",
        "print(df.loc[0])\n",
        "# 인덱스의 첫 번째 값을 출력한다.\n",
        "# 이는 df.head() 의 정보와 비교해 본다면 알 수 있다.\n",
        "print(\"############################\\n아래는 100번 째 인덱스의 값#\\n############################\")\n",
        "print(df.loc[100])\n",
        "\n",
        "#만일 인덱스에 벗어난 값을 지정하면 에러가 난다."
      ],
      "metadata": {
        "colab": {
          "base_uri": "https://localhost:8080/"
        },
        "id": "5gyyEq3szvbZ",
        "outputId": "621cc8ea-91e9-4973-9065-1ebaa17f9585"
      },
      "execution_count": 14,
      "outputs": [
        {
          "output_type": "stream",
          "name": "stdout",
          "text": [
            "country      Afghanistan\n",
            "continent           Asia\n",
            "year                1952\n",
            "lifeExp           28.801\n",
            "pop              8425333\n",
            "gdpPercap     779.445314\n",
            "Name: 0, dtype: object\n",
            "############################\n",
            "아래는 100번 째 인덱스의 값#\n",
            "############################\n",
            "country      Bangladesh\n",
            "continent          Asia\n",
            "year               1972\n",
            "lifeExp          45.252\n",
            "pop            70759295\n",
            "gdpPercap    630.233627\n",
            "Name: 100, dtype: object\n"
          ]
        }
      ]
    },
    {
      "cell_type": "code",
      "source": [
        "# 행의 갯수확인하는 방법\n",
        "# 1. len(df)\n",
        "# 2. df.shape[0]\n",
        "# 3. len(df.index)\n",
        "\n",
        "# 여러개의 행에 해당하는 정보를 출력하는 방법\n",
        "print(df.loc[[0,999]])"
      ],
      "metadata": {
        "colab": {
          "base_uri": "https://localhost:8080/"
        },
        "id": "pyfwbEdj1A-W",
        "outputId": "91d0b8f8-ea31-47d8-9948-f4894d966b4e"
      },
      "execution_count": 15,
      "outputs": [
        {
          "output_type": "stream",
          "name": "stdout",
          "text": [
            "         country continent  year  lifeExp      pop    gdpPercap\n",
            "0    Afghanistan      Asia  1952   28.801  8425333   779.445314\n",
            "999     Mongolia      Asia  1967   51.253  1149500  1226.041130\n"
          ]
        }
      ]
    },
    {
      "cell_type": "code",
      "source": [
        "# iloc \n",
        "# loc는 데이터 프레임의 인덱스 번호를 사용하려 추출\n",
        "# iloc 는 데이터 순서를 의미하는 행번호를 사용한다.\n",
        "\n",
        "print(df.iloc[0])\n",
        "# 현재 확인하려는 데이터의 정보의 순번이 0번으로 지정되어있기 때문에\n",
        "# 같은 결과가 나온다.\n",
        "# 기억하자. iloc는 순번상 지정된 번호로 조회\n",
        "# loc는 인덱스 번호로 조회 한다는 것을"
      ],
      "metadata": {
        "colab": {
          "base_uri": "https://localhost:8080/"
        },
        "id": "lzlHHU_e282t",
        "outputId": "36236da5-cb00-477f-d6b2-98666603db55"
      },
      "execution_count": 16,
      "outputs": [
        {
          "output_type": "stream",
          "name": "stdout",
          "text": [
            "country      Afghanistan\n",
            "continent           Asia\n",
            "year                1952\n",
            "lifeExp           28.801\n",
            "pop              8425333\n",
            "gdpPercap     779.445314\n",
            "Name: 0, dtype: object\n"
          ]
        }
      ]
    },
    {
      "cell_type": "code",
      "source": [
        "# 여러개의 값을 확인 하는 방법도 loc와 동일하다.\n",
        "print(df.iloc[[0,999]])"
      ],
      "metadata": {
        "colab": {
          "base_uri": "https://localhost:8080/"
        },
        "id": "Zp7CEPnV3xtf",
        "outputId": "87b93375-bf19-4887-a0d5-4076c676daa0"
      },
      "execution_count": 17,
      "outputs": [
        {
          "output_type": "stream",
          "name": "stdout",
          "text": [
            "         country continent  year  lifeExp      pop    gdpPercap\n",
            "0    Afghanistan      Asia  1952   28.801  8425333   779.445314\n",
            "999     Mongolia      Asia  1967   51.253  1149500  1226.041130\n"
          ]
        }
      ]
    },
    {
      "cell_type": "code",
      "source": [
        "# 슬라이싱\n",
        "\n",
        "df.loc[:,[\"year\",\"pop\"]]\n",
        "# 행 전체와 열은 2개 \"year\",\"pop\" 만을 출력했다."
      ],
      "metadata": {
        "colab": {
          "base_uri": "https://localhost:8080/",
          "height": 424
        },
        "id": "mdsYl-nG35rq",
        "outputId": "134ba3cd-59be-4367-8ef6-1f707a6aa46e"
      },
      "execution_count": 18,
      "outputs": [
        {
          "output_type": "execute_result",
          "data": {
            "text/plain": [
              "      year       pop\n",
              "0     1952   8425333\n",
              "1     1957   9240934\n",
              "2     1962  10267083\n",
              "3     1967  11537966\n",
              "4     1972  13079460\n",
              "...    ...       ...\n",
              "1699  1987   9216418\n",
              "1700  1992  10704340\n",
              "1701  1997  11404948\n",
              "1702  2002  11926563\n",
              "1703  2007  12311143\n",
              "\n",
              "[1704 rows x 2 columns]"
            ],
            "text/html": [
              "\n",
              "  <div id=\"df-5f93340f-a53a-4485-a41f-9bfe8150934e\">\n",
              "    <div class=\"colab-df-container\">\n",
              "      <div>\n",
              "<style scoped>\n",
              "    .dataframe tbody tr th:only-of-type {\n",
              "        vertical-align: middle;\n",
              "    }\n",
              "\n",
              "    .dataframe tbody tr th {\n",
              "        vertical-align: top;\n",
              "    }\n",
              "\n",
              "    .dataframe thead th {\n",
              "        text-align: right;\n",
              "    }\n",
              "</style>\n",
              "<table border=\"1\" class=\"dataframe\">\n",
              "  <thead>\n",
              "    <tr style=\"text-align: right;\">\n",
              "      <th></th>\n",
              "      <th>year</th>\n",
              "      <th>pop</th>\n",
              "    </tr>\n",
              "  </thead>\n",
              "  <tbody>\n",
              "    <tr>\n",
              "      <th>0</th>\n",
              "      <td>1952</td>\n",
              "      <td>8425333</td>\n",
              "    </tr>\n",
              "    <tr>\n",
              "      <th>1</th>\n",
              "      <td>1957</td>\n",
              "      <td>9240934</td>\n",
              "    </tr>\n",
              "    <tr>\n",
              "      <th>2</th>\n",
              "      <td>1962</td>\n",
              "      <td>10267083</td>\n",
              "    </tr>\n",
              "    <tr>\n",
              "      <th>3</th>\n",
              "      <td>1967</td>\n",
              "      <td>11537966</td>\n",
              "    </tr>\n",
              "    <tr>\n",
              "      <th>4</th>\n",
              "      <td>1972</td>\n",
              "      <td>13079460</td>\n",
              "    </tr>\n",
              "    <tr>\n",
              "      <th>...</th>\n",
              "      <td>...</td>\n",
              "      <td>...</td>\n",
              "    </tr>\n",
              "    <tr>\n",
              "      <th>1699</th>\n",
              "      <td>1987</td>\n",
              "      <td>9216418</td>\n",
              "    </tr>\n",
              "    <tr>\n",
              "      <th>1700</th>\n",
              "      <td>1992</td>\n",
              "      <td>10704340</td>\n",
              "    </tr>\n",
              "    <tr>\n",
              "      <th>1701</th>\n",
              "      <td>1997</td>\n",
              "      <td>11404948</td>\n",
              "    </tr>\n",
              "    <tr>\n",
              "      <th>1702</th>\n",
              "      <td>2002</td>\n",
              "      <td>11926563</td>\n",
              "    </tr>\n",
              "    <tr>\n",
              "      <th>1703</th>\n",
              "      <td>2007</td>\n",
              "      <td>12311143</td>\n",
              "    </tr>\n",
              "  </tbody>\n",
              "</table>\n",
              "<p>1704 rows × 2 columns</p>\n",
              "</div>\n",
              "      <button class=\"colab-df-convert\" onclick=\"convertToInteractive('df-5f93340f-a53a-4485-a41f-9bfe8150934e')\"\n",
              "              title=\"Convert this dataframe to an interactive table.\"\n",
              "              style=\"display:none;\">\n",
              "        \n",
              "  <svg xmlns=\"http://www.w3.org/2000/svg\" height=\"24px\"viewBox=\"0 0 24 24\"\n",
              "       width=\"24px\">\n",
              "    <path d=\"M0 0h24v24H0V0z\" fill=\"none\"/>\n",
              "    <path d=\"M18.56 5.44l.94 2.06.94-2.06 2.06-.94-2.06-.94-.94-2.06-.94 2.06-2.06.94zm-11 1L8.5 8.5l.94-2.06 2.06-.94-2.06-.94L8.5 2.5l-.94 2.06-2.06.94zm10 10l.94 2.06.94-2.06 2.06-.94-2.06-.94-.94-2.06-.94 2.06-2.06.94z\"/><path d=\"M17.41 7.96l-1.37-1.37c-.4-.4-.92-.59-1.43-.59-.52 0-1.04.2-1.43.59L10.3 9.45l-7.72 7.72c-.78.78-.78 2.05 0 2.83L4 21.41c.39.39.9.59 1.41.59.51 0 1.02-.2 1.41-.59l7.78-7.78 2.81-2.81c.8-.78.8-2.07 0-2.86zM5.41 20L4 18.59l7.72-7.72 1.47 1.35L5.41 20z\"/>\n",
              "  </svg>\n",
              "      </button>\n",
              "      \n",
              "  <style>\n",
              "    .colab-df-container {\n",
              "      display:flex;\n",
              "      flex-wrap:wrap;\n",
              "      gap: 12px;\n",
              "    }\n",
              "\n",
              "    .colab-df-convert {\n",
              "      background-color: #E8F0FE;\n",
              "      border: none;\n",
              "      border-radius: 50%;\n",
              "      cursor: pointer;\n",
              "      display: none;\n",
              "      fill: #1967D2;\n",
              "      height: 32px;\n",
              "      padding: 0 0 0 0;\n",
              "      width: 32px;\n",
              "    }\n",
              "\n",
              "    .colab-df-convert:hover {\n",
              "      background-color: #E2EBFA;\n",
              "      box-shadow: 0px 1px 2px rgba(60, 64, 67, 0.3), 0px 1px 3px 1px rgba(60, 64, 67, 0.15);\n",
              "      fill: #174EA6;\n",
              "    }\n",
              "\n",
              "    [theme=dark] .colab-df-convert {\n",
              "      background-color: #3B4455;\n",
              "      fill: #D2E3FC;\n",
              "    }\n",
              "\n",
              "    [theme=dark] .colab-df-convert:hover {\n",
              "      background-color: #434B5C;\n",
              "      box-shadow: 0px 1px 3px 1px rgba(0, 0, 0, 0.15);\n",
              "      filter: drop-shadow(0px 1px 2px rgba(0, 0, 0, 0.3));\n",
              "      fill: #FFFFFF;\n",
              "    }\n",
              "  </style>\n",
              "\n",
              "      <script>\n",
              "        const buttonEl =\n",
              "          document.querySelector('#df-5f93340f-a53a-4485-a41f-9bfe8150934e button.colab-df-convert');\n",
              "        buttonEl.style.display =\n",
              "          google.colab.kernel.accessAllowed ? 'block' : 'none';\n",
              "\n",
              "        async function convertToInteractive(key) {\n",
              "          const element = document.querySelector('#df-5f93340f-a53a-4485-a41f-9bfe8150934e');\n",
              "          const dataTable =\n",
              "            await google.colab.kernel.invokeFunction('convertToInteractive',\n",
              "                                                     [key], {});\n",
              "          if (!dataTable) return;\n",
              "\n",
              "          const docLinkHtml = 'Like what you see? Visit the ' +\n",
              "            '<a target=\"_blank\" href=https://colab.research.google.com/notebooks/data_table.ipynb>data table notebook</a>'\n",
              "            + ' to learn more about interactive tables.';\n",
              "          element.innerHTML = '';\n",
              "          dataTable['output_type'] = 'display_data';\n",
              "          await google.colab.output.renderOutput(dataTable, element);\n",
              "          const docLink = document.createElement('div');\n",
              "          docLink.innerHTML = docLinkHtml;\n",
              "          element.appendChild(docLink);\n",
              "        }\n",
              "      </script>\n",
              "    </div>\n",
              "  </div>\n",
              "  "
            ]
          },
          "metadata": {},
          "execution_count": 18
        }
      ]
    },
    {
      "cell_type": "code",
      "source": [
        "#행 전체와 열에서 2번재 4번째 -1(맨마지막) 정보가 출력했다.\n",
        "print(df.iloc[:,[2,4,-1]])"
      ],
      "metadata": {
        "colab": {
          "base_uri": "https://localhost:8080/"
        },
        "id": "anMX4ts54JIy",
        "outputId": "ff2792b4-239d-4037-b280-07b7d50ddcdf"
      },
      "execution_count": 19,
      "outputs": [
        {
          "output_type": "stream",
          "name": "stdout",
          "text": [
            "      year       pop   gdpPercap\n",
            "0     1952   8425333  779.445314\n",
            "1     1957   9240934  820.853030\n",
            "2     1962  10267083  853.100710\n",
            "3     1967  11537966  836.197138\n",
            "4     1972  13079460  739.981106\n",
            "...    ...       ...         ...\n",
            "1699  1987   9216418  706.157306\n",
            "1700  1992  10704340  693.420786\n",
            "1701  1997  11404948  792.449960\n",
            "1702  2002  11926563  672.038623\n",
            "1703  2007  12311143  469.709298\n",
            "\n",
            "[1704 rows x 3 columns]\n"
          ]
        }
      ]
    },
    {
      "cell_type": "code",
      "source": [
        "# range 를 사용하여 여러개의 행을 출력\n",
        "print(df.iloc[:,range(0,5)])\n",
        "# 또는 print(df.iloc[:,list(range(0,5))])"
      ],
      "metadata": {
        "colab": {
          "base_uri": "https://localhost:8080/"
        },
        "id": "QfnQfgzT4rLE",
        "outputId": "fb9a341d-362d-4b9f-bc6a-2f224914ae3b"
      },
      "execution_count": 20,
      "outputs": [
        {
          "output_type": "stream",
          "name": "stdout",
          "text": [
            "          country continent  year  lifeExp       pop\n",
            "0     Afghanistan      Asia  1952   28.801   8425333\n",
            "1     Afghanistan      Asia  1957   30.332   9240934\n",
            "2     Afghanistan      Asia  1962   31.997  10267083\n",
            "3     Afghanistan      Asia  1967   34.020  11537966\n",
            "4     Afghanistan      Asia  1972   36.088  13079460\n",
            "...           ...       ...   ...      ...       ...\n",
            "1699     Zimbabwe    Africa  1987   62.351   9216418\n",
            "1700     Zimbabwe    Africa  1992   60.377  10704340\n",
            "1701     Zimbabwe    Africa  1997   46.809  11404948\n",
            "1702     Zimbabwe    Africa  2002   39.989  11926563\n",
            "1703     Zimbabwe    Africa  2007   43.487  12311143\n",
            "\n",
            "[1704 rows x 5 columns]\n"
          ]
        }
      ]
    },
    {
      "cell_type": "code",
      "source": [
        "# range 로 데이터 추출 : 지정한 구간에서 정수의 리스트를 반환한다.\n",
        "# 그러나.. 좀더 정확하게 지정한 범위의 정수리스트를 반환하는 것이 \n",
        "# 아니라 제너레이터를 반환하는 것이다.\n",
        "# iboc 속성은 제네레이터로 데이터를 추출할수 없다.\n",
        "# 하지만 제네레이터는 간단하게 리스트로 변환도 가능하다.\n",
        "\n",
        "small_range = list(range(5))\n",
        "print(small_range)\n",
        "print(type(small_range))"
      ],
      "metadata": {
        "id": "HiWaFNV16C-c",
        "colab": {
          "base_uri": "https://localhost:8080/"
        },
        "outputId": "49c4ad6c-517a-44cb-f9d0-5dbc40884cfa"
      },
      "execution_count": 21,
      "outputs": [
        {
          "output_type": "stream",
          "name": "stdout",
          "text": [
            "[0, 1, 2, 3, 4]\n",
            "<class 'list'>\n"
          ]
        }
      ]
    },
    {
      "cell_type": "code",
      "source": [
        "subset = df.iloc[:,small_range]\n",
        "print(subset.head())"
      ],
      "metadata": {
        "colab": {
          "base_uri": "https://localhost:8080/"
        },
        "id": "hZNqCa9Z7F4a",
        "outputId": "2a665260-17c6-4013-f78e-58b7ec0bce99"
      },
      "execution_count": 22,
      "outputs": [
        {
          "output_type": "stream",
          "name": "stdout",
          "text": [
            "       country continent  year  lifeExp       pop\n",
            "0  Afghanistan      Asia  1952   28.801   8425333\n",
            "1  Afghanistan      Asia  1957   30.332   9240934\n",
            "2  Afghanistan      Asia  1962   31.997  10267083\n",
            "3  Afghanistan      Asia  1967   34.020  11537966\n",
            "4  Afghanistan      Asia  1972   36.088  13079460\n"
          ]
        }
      ]
    },
    {
      "cell_type": "code",
      "source": [
        "small_range = list(range(0,6,2)) #2개씩 건너뛴 열에 해당하는 종류를 특정\n",
        "\n",
        "subset = df.iloc[:,small_range]\n",
        "print(subset.head())"
      ],
      "metadata": {
        "colab": {
          "base_uri": "https://localhost:8080/"
        },
        "id": "7zSRnZ8s7U00",
        "outputId": "54997be3-367e-4601-8b0b-51895e8b38ac"
      },
      "execution_count": 23,
      "outputs": [
        {
          "output_type": "stream",
          "name": "stdout",
          "text": [
            "       country  year       pop\n",
            "0  Afghanistan  1952   8425333\n",
            "1  Afghanistan  1957   9240934\n",
            "2  Afghanistan  1962  10267083\n",
            "3  Afghanistan  1967  11537966\n",
            "4  Afghanistan  1972  13079460\n"
          ]
        }
      ]
    },
    {
      "cell_type": "code",
      "source": [
        "subset = df.iloc[:,:3]\n",
        "print(subset.head())"
      ],
      "metadata": {
        "colab": {
          "base_uri": "https://localhost:8080/"
        },
        "id": "YlGjsOcV7oR9",
        "outputId": "2ddfefc3-9dfd-40a7-c74a-08046c905336"
      },
      "execution_count": 26,
      "outputs": [
        {
          "output_type": "stream",
          "name": "stdout",
          "text": [
            "       country continent  year\n",
            "0  Afghanistan      Asia  1952\n",
            "1  Afghanistan      Asia  1957\n",
            "2  Afghanistan      Asia  1962\n",
            "3  Afghanistan      Asia  1967\n",
            "4  Afghanistan      Asia  1972\n"
          ]
        }
      ]
    },
    {
      "cell_type": "code",
      "source": [
        "subset = df.iloc[[0,99,999],[0,3,5]]\n",
        "print(subset.head())"
      ],
      "metadata": {
        "colab": {
          "base_uri": "https://localhost:8080/"
        },
        "id": "fi9HDPwC8KNF",
        "outputId": "1c489b24-ec3a-40ea-c308-222d0b5ea8cb"
      },
      "execution_count": 29,
      "outputs": [
        {
          "output_type": "stream",
          "name": "stdout",
          "text": [
            "         country  lifeExp    gdpPercap\n",
            "0    Afghanistan   28.801   779.445314\n",
            "99    Bangladesh   43.453   721.186086\n",
            "999     Mongolia   51.253  1226.041130\n"
          ]
        }
      ]
    },
    {
      "cell_type": "code",
      "source": [
        "# subset = df.iloc[[0,99,999],[\"country\",\"lifeExp\",\"gdpPercap\"]]\n",
        "# 인덱스 에러가 난다.\n",
        "# print(subset.head())\n",
        "\n",
        "#lioc속성의 열 지정값으로 정수 리스트를 전달하는게 편해보이지만\n",
        "# 이렇게 코드를 삭성하면 나중에 어떤 데이터를 추출하려고 했던 것인지 파악이\n",
        "# 어려울 수 있다.\n",
        "# 그래서 보통 loc 속성을 사용하여 열 지정값으로 열 이름을 전달하게 된다.\n",
        "\n",
        "subset = df.loc[[0,99,999],[\"country\",\"lifeExp\",\"gdpPercap\"]]\n",
        "print(subset.head())"
      ],
      "metadata": {
        "colab": {
          "base_uri": "https://localhost:8080/"
        },
        "id": "ck3j4dzT8lvm",
        "outputId": "ff5ce19e-b07e-4eff-d263-684761751766"
      },
      "execution_count": 33,
      "outputs": [
        {
          "output_type": "stream",
          "name": "stdout",
          "text": [
            "         country  lifeExp    gdpPercap\n",
            "0    Afghanistan   28.801   779.445314\n",
            "99    Bangladesh   43.453   721.186086\n",
            "999     Mongolia   51.253  1226.041130\n"
          ]
        }
      ]
    },
    {
      "cell_type": "code",
      "source": [
        "# 기초 통계 계산\n",
        "\n",
        "print(df)"
      ],
      "metadata": {
        "colab": {
          "base_uri": "https://localhost:8080/"
        },
        "id": "yM6QTFPR919n",
        "outputId": "f9b62a32-04dd-4c87-ba64-2e10ae5f97cf"
      },
      "execution_count": 35,
      "outputs": [
        {
          "output_type": "stream",
          "name": "stdout",
          "text": [
            "          country continent  year  lifeExp       pop   gdpPercap\n",
            "0     Afghanistan      Asia  1952   28.801   8425333  779.445314\n",
            "1     Afghanistan      Asia  1957   30.332   9240934  820.853030\n",
            "2     Afghanistan      Asia  1962   31.997  10267083  853.100710\n",
            "3     Afghanistan      Asia  1967   34.020  11537966  836.197138\n",
            "4     Afghanistan      Asia  1972   36.088  13079460  739.981106\n",
            "...           ...       ...   ...      ...       ...         ...\n",
            "1699     Zimbabwe    Africa  1987   62.351   9216418  706.157306\n",
            "1700     Zimbabwe    Africa  1992   60.377  10704340  693.420786\n",
            "1701     Zimbabwe    Africa  1997   46.809  11404948  792.449960\n",
            "1702     Zimbabwe    Africa  2002   39.989  11926563  672.038623\n",
            "1703     Zimbabwe    Africa  2007   43.487  12311143  469.709298\n",
            "\n",
            "[1704 rows x 6 columns]\n"
          ]
        }
      ]
    },
    {
      "cell_type": "code",
      "source": [
        "# lifeExp 열을 연도별로 그룹화 하고 평균을 계산\n",
        "\n",
        "# epdlxjfmf \"year\" 로 그룹화\n",
        "# lifeExp열의 평균을 계산\n",
        "\n",
        "group_df = df.groupby(\"year\")\n",
        "print(type(group_df))\n",
        "print(group_df)\n",
        "\n",
        "group_year_lifeExp = group_df[\"lifeExp\"]\n",
        "print(group_year_lifeExp) #연도별로 그룹화한 lifeExp"
      ],
      "metadata": {
        "colab": {
          "base_uri": "https://localhost:8080/"
        },
        "id": "33fxbipe-Rwq",
        "outputId": "dffc5c75-af61-467f-fadf-c63842f92409"
      },
      "execution_count": 40,
      "outputs": [
        {
          "output_type": "stream",
          "name": "stdout",
          "text": [
            "<class 'pandas.core.groupby.generic.DataFrameGroupBy'>\n",
            "<pandas.core.groupby.generic.DataFrameGroupBy object at 0x7f9d637a57d0>\n",
            "<pandas.core.groupby.generic.SeriesGroupBy object at 0x7f9d63742a90>\n"
          ]
        }
      ]
    },
    {
      "cell_type": "code",
      "source": [
        "group_year_lifeExp.mean() #연도별 수명 평균치"
      ],
      "metadata": {
        "colab": {
          "base_uri": "https://localhost:8080/"
        },
        "id": "o7Djg0HNAJ7O",
        "outputId": "09c7e7d8-0010-400e-c90a-3e8501206304"
      },
      "execution_count": 41,
      "outputs": [
        {
          "output_type": "execute_result",
          "data": {
            "text/plain": [
              "year\n",
              "1952    49.057620\n",
              "1957    51.507401\n",
              "1962    53.609249\n",
              "1967    55.678290\n",
              "1972    57.647386\n",
              "1977    59.570157\n",
              "1982    61.533197\n",
              "1987    63.212613\n",
              "1992    64.160338\n",
              "1997    65.014676\n",
              "2002    65.694923\n",
              "2007    67.007423\n",
              "Name: lifeExp, dtype: float64"
            ]
          },
          "metadata": {},
          "execution_count": 41
        }
      ]
    },
    {
      "cell_type": "code",
      "source": [
        "df.groupby([\"year\",\"continent\"])[[\"lifeExp\",\"gdpPercap\"]].mean()"
      ],
      "metadata": {
        "colab": {
          "base_uri": "https://localhost:8080/",
          "height": 1000
        },
        "id": "HWTSNqP7Agvi",
        "outputId": "a7aeb6b0-8b77-4391-b81f-2bb93e04021e"
      },
      "execution_count": 44,
      "outputs": [
        {
          "output_type": "execute_result",
          "data": {
            "text/plain": [
              "                  lifeExp     gdpPercap\n",
              "year continent                         \n",
              "1952 Africa     39.135500   1252.572466\n",
              "     Americas   53.279840   4079.062552\n",
              "     Asia       46.314394   5195.484004\n",
              "     Europe     64.408500   5661.057435\n",
              "     Oceania    69.255000  10298.085650\n",
              "1957 Africa     41.266346   1385.236062\n",
              "     Americas   55.960280   4616.043733\n",
              "     Asia       49.318544   5787.732940\n",
              "     Europe     66.703067   6963.012816\n",
              "     Oceania    70.295000  11598.522455\n",
              "1962 Africa     43.319442   1598.078825\n",
              "     Americas   58.398760   4901.541870\n",
              "     Asia       51.563223   5729.369625\n",
              "     Europe     68.539233   8365.486814\n",
              "     Oceania    71.085000  12696.452430\n",
              "1967 Africa     45.334538   2050.363801\n",
              "     Americas   60.410920   5668.253496\n",
              "     Asia       54.663640   5971.173374\n",
              "     Europe     69.737600  10143.823757\n",
              "     Oceania    71.310000  14495.021790\n",
              "1972 Africa     47.450942   2339.615674\n",
              "     Americas   62.394920   6491.334139\n",
              "     Asia       57.319269   8187.468699\n",
              "     Europe     70.775033  12479.575246\n",
              "     Oceania    71.910000  16417.333380\n",
              "1977 Africa     49.580423   2585.938508\n",
              "     Americas   64.391560   7352.007126\n",
              "     Asia       59.610556   7791.314020\n",
              "     Europe     71.937767  14283.979110\n",
              "     Oceania    72.855000  17283.957605\n",
              "1982 Africa     51.592865   2481.592960\n",
              "     Americas   66.228840   7506.737088\n",
              "     Asia       62.617939   7434.135157\n",
              "     Europe     72.806400  15617.896551\n",
              "     Oceania    74.290000  18554.709840\n",
              "1987 Africa     53.344788   2282.668991\n",
              "     Americas   68.090720   7793.400261\n",
              "     Asia       64.851182   7608.226508\n",
              "     Europe     73.642167  17214.310727\n",
              "     Oceania    75.320000  20448.040160\n",
              "1992 Africa     53.629577   2281.810333\n",
              "     Americas   69.568360   8044.934406\n",
              "     Asia       66.537212   8639.690248\n",
              "     Europe     74.440100  17061.568084\n",
              "     Oceania    76.945000  20894.045885\n",
              "1997 Africa     53.598269   2378.759555\n",
              "     Americas   71.150480   8889.300863\n",
              "     Asia       68.020515   9834.093295\n",
              "     Europe     75.505167  19076.781802\n",
              "     Oceania    78.190000  24024.175170\n",
              "2002 Africa     53.325231   2599.385159\n",
              "     Americas   72.422040   9287.677107\n",
              "     Asia       69.233879  10174.090397\n",
              "     Europe     76.700600  21711.732422\n",
              "     Oceania    79.740000  26938.778040\n",
              "2007 Africa     54.806038   3089.032605\n",
              "     Americas   73.608120  11003.031625\n",
              "     Asia       70.728485  12473.026870\n",
              "     Europe     77.648600  25054.481636\n",
              "     Oceania    80.719500  29810.188275"
            ],
            "text/html": [
              "\n",
              "  <div id=\"df-a99a9556-819e-41af-8a40-f4a5cec0c684\">\n",
              "    <div class=\"colab-df-container\">\n",
              "      <div>\n",
              "<style scoped>\n",
              "    .dataframe tbody tr th:only-of-type {\n",
              "        vertical-align: middle;\n",
              "    }\n",
              "\n",
              "    .dataframe tbody tr th {\n",
              "        vertical-align: top;\n",
              "    }\n",
              "\n",
              "    .dataframe thead th {\n",
              "        text-align: right;\n",
              "    }\n",
              "</style>\n",
              "<table border=\"1\" class=\"dataframe\">\n",
              "  <thead>\n",
              "    <tr style=\"text-align: right;\">\n",
              "      <th></th>\n",
              "      <th></th>\n",
              "      <th>lifeExp</th>\n",
              "      <th>gdpPercap</th>\n",
              "    </tr>\n",
              "    <tr>\n",
              "      <th>year</th>\n",
              "      <th>continent</th>\n",
              "      <th></th>\n",
              "      <th></th>\n",
              "    </tr>\n",
              "  </thead>\n",
              "  <tbody>\n",
              "    <tr>\n",
              "      <th rowspan=\"5\" valign=\"top\">1952</th>\n",
              "      <th>Africa</th>\n",
              "      <td>39.135500</td>\n",
              "      <td>1252.572466</td>\n",
              "    </tr>\n",
              "    <tr>\n",
              "      <th>Americas</th>\n",
              "      <td>53.279840</td>\n",
              "      <td>4079.062552</td>\n",
              "    </tr>\n",
              "    <tr>\n",
              "      <th>Asia</th>\n",
              "      <td>46.314394</td>\n",
              "      <td>5195.484004</td>\n",
              "    </tr>\n",
              "    <tr>\n",
              "      <th>Europe</th>\n",
              "      <td>64.408500</td>\n",
              "      <td>5661.057435</td>\n",
              "    </tr>\n",
              "    <tr>\n",
              "      <th>Oceania</th>\n",
              "      <td>69.255000</td>\n",
              "      <td>10298.085650</td>\n",
              "    </tr>\n",
              "    <tr>\n",
              "      <th rowspan=\"5\" valign=\"top\">1957</th>\n",
              "      <th>Africa</th>\n",
              "      <td>41.266346</td>\n",
              "      <td>1385.236062</td>\n",
              "    </tr>\n",
              "    <tr>\n",
              "      <th>Americas</th>\n",
              "      <td>55.960280</td>\n",
              "      <td>4616.043733</td>\n",
              "    </tr>\n",
              "    <tr>\n",
              "      <th>Asia</th>\n",
              "      <td>49.318544</td>\n",
              "      <td>5787.732940</td>\n",
              "    </tr>\n",
              "    <tr>\n",
              "      <th>Europe</th>\n",
              "      <td>66.703067</td>\n",
              "      <td>6963.012816</td>\n",
              "    </tr>\n",
              "    <tr>\n",
              "      <th>Oceania</th>\n",
              "      <td>70.295000</td>\n",
              "      <td>11598.522455</td>\n",
              "    </tr>\n",
              "    <tr>\n",
              "      <th rowspan=\"5\" valign=\"top\">1962</th>\n",
              "      <th>Africa</th>\n",
              "      <td>43.319442</td>\n",
              "      <td>1598.078825</td>\n",
              "    </tr>\n",
              "    <tr>\n",
              "      <th>Americas</th>\n",
              "      <td>58.398760</td>\n",
              "      <td>4901.541870</td>\n",
              "    </tr>\n",
              "    <tr>\n",
              "      <th>Asia</th>\n",
              "      <td>51.563223</td>\n",
              "      <td>5729.369625</td>\n",
              "    </tr>\n",
              "    <tr>\n",
              "      <th>Europe</th>\n",
              "      <td>68.539233</td>\n",
              "      <td>8365.486814</td>\n",
              "    </tr>\n",
              "    <tr>\n",
              "      <th>Oceania</th>\n",
              "      <td>71.085000</td>\n",
              "      <td>12696.452430</td>\n",
              "    </tr>\n",
              "    <tr>\n",
              "      <th rowspan=\"5\" valign=\"top\">1967</th>\n",
              "      <th>Africa</th>\n",
              "      <td>45.334538</td>\n",
              "      <td>2050.363801</td>\n",
              "    </tr>\n",
              "    <tr>\n",
              "      <th>Americas</th>\n",
              "      <td>60.410920</td>\n",
              "      <td>5668.253496</td>\n",
              "    </tr>\n",
              "    <tr>\n",
              "      <th>Asia</th>\n",
              "      <td>54.663640</td>\n",
              "      <td>5971.173374</td>\n",
              "    </tr>\n",
              "    <tr>\n",
              "      <th>Europe</th>\n",
              "      <td>69.737600</td>\n",
              "      <td>10143.823757</td>\n",
              "    </tr>\n",
              "    <tr>\n",
              "      <th>Oceania</th>\n",
              "      <td>71.310000</td>\n",
              "      <td>14495.021790</td>\n",
              "    </tr>\n",
              "    <tr>\n",
              "      <th rowspan=\"5\" valign=\"top\">1972</th>\n",
              "      <th>Africa</th>\n",
              "      <td>47.450942</td>\n",
              "      <td>2339.615674</td>\n",
              "    </tr>\n",
              "    <tr>\n",
              "      <th>Americas</th>\n",
              "      <td>62.394920</td>\n",
              "      <td>6491.334139</td>\n",
              "    </tr>\n",
              "    <tr>\n",
              "      <th>Asia</th>\n",
              "      <td>57.319269</td>\n",
              "      <td>8187.468699</td>\n",
              "    </tr>\n",
              "    <tr>\n",
              "      <th>Europe</th>\n",
              "      <td>70.775033</td>\n",
              "      <td>12479.575246</td>\n",
              "    </tr>\n",
              "    <tr>\n",
              "      <th>Oceania</th>\n",
              "      <td>71.910000</td>\n",
              "      <td>16417.333380</td>\n",
              "    </tr>\n",
              "    <tr>\n",
              "      <th rowspan=\"5\" valign=\"top\">1977</th>\n",
              "      <th>Africa</th>\n",
              "      <td>49.580423</td>\n",
              "      <td>2585.938508</td>\n",
              "    </tr>\n",
              "    <tr>\n",
              "      <th>Americas</th>\n",
              "      <td>64.391560</td>\n",
              "      <td>7352.007126</td>\n",
              "    </tr>\n",
              "    <tr>\n",
              "      <th>Asia</th>\n",
              "      <td>59.610556</td>\n",
              "      <td>7791.314020</td>\n",
              "    </tr>\n",
              "    <tr>\n",
              "      <th>Europe</th>\n",
              "      <td>71.937767</td>\n",
              "      <td>14283.979110</td>\n",
              "    </tr>\n",
              "    <tr>\n",
              "      <th>Oceania</th>\n",
              "      <td>72.855000</td>\n",
              "      <td>17283.957605</td>\n",
              "    </tr>\n",
              "    <tr>\n",
              "      <th rowspan=\"5\" valign=\"top\">1982</th>\n",
              "      <th>Africa</th>\n",
              "      <td>51.592865</td>\n",
              "      <td>2481.592960</td>\n",
              "    </tr>\n",
              "    <tr>\n",
              "      <th>Americas</th>\n",
              "      <td>66.228840</td>\n",
              "      <td>7506.737088</td>\n",
              "    </tr>\n",
              "    <tr>\n",
              "      <th>Asia</th>\n",
              "      <td>62.617939</td>\n",
              "      <td>7434.135157</td>\n",
              "    </tr>\n",
              "    <tr>\n",
              "      <th>Europe</th>\n",
              "      <td>72.806400</td>\n",
              "      <td>15617.896551</td>\n",
              "    </tr>\n",
              "    <tr>\n",
              "      <th>Oceania</th>\n",
              "      <td>74.290000</td>\n",
              "      <td>18554.709840</td>\n",
              "    </tr>\n",
              "    <tr>\n",
              "      <th rowspan=\"5\" valign=\"top\">1987</th>\n",
              "      <th>Africa</th>\n",
              "      <td>53.344788</td>\n",
              "      <td>2282.668991</td>\n",
              "    </tr>\n",
              "    <tr>\n",
              "      <th>Americas</th>\n",
              "      <td>68.090720</td>\n",
              "      <td>7793.400261</td>\n",
              "    </tr>\n",
              "    <tr>\n",
              "      <th>Asia</th>\n",
              "      <td>64.851182</td>\n",
              "      <td>7608.226508</td>\n",
              "    </tr>\n",
              "    <tr>\n",
              "      <th>Europe</th>\n",
              "      <td>73.642167</td>\n",
              "      <td>17214.310727</td>\n",
              "    </tr>\n",
              "    <tr>\n",
              "      <th>Oceania</th>\n",
              "      <td>75.320000</td>\n",
              "      <td>20448.040160</td>\n",
              "    </tr>\n",
              "    <tr>\n",
              "      <th rowspan=\"5\" valign=\"top\">1992</th>\n",
              "      <th>Africa</th>\n",
              "      <td>53.629577</td>\n",
              "      <td>2281.810333</td>\n",
              "    </tr>\n",
              "    <tr>\n",
              "      <th>Americas</th>\n",
              "      <td>69.568360</td>\n",
              "      <td>8044.934406</td>\n",
              "    </tr>\n",
              "    <tr>\n",
              "      <th>Asia</th>\n",
              "      <td>66.537212</td>\n",
              "      <td>8639.690248</td>\n",
              "    </tr>\n",
              "    <tr>\n",
              "      <th>Europe</th>\n",
              "      <td>74.440100</td>\n",
              "      <td>17061.568084</td>\n",
              "    </tr>\n",
              "    <tr>\n",
              "      <th>Oceania</th>\n",
              "      <td>76.945000</td>\n",
              "      <td>20894.045885</td>\n",
              "    </tr>\n",
              "    <tr>\n",
              "      <th rowspan=\"5\" valign=\"top\">1997</th>\n",
              "      <th>Africa</th>\n",
              "      <td>53.598269</td>\n",
              "      <td>2378.759555</td>\n",
              "    </tr>\n",
              "    <tr>\n",
              "      <th>Americas</th>\n",
              "      <td>71.150480</td>\n",
              "      <td>8889.300863</td>\n",
              "    </tr>\n",
              "    <tr>\n",
              "      <th>Asia</th>\n",
              "      <td>68.020515</td>\n",
              "      <td>9834.093295</td>\n",
              "    </tr>\n",
              "    <tr>\n",
              "      <th>Europe</th>\n",
              "      <td>75.505167</td>\n",
              "      <td>19076.781802</td>\n",
              "    </tr>\n",
              "    <tr>\n",
              "      <th>Oceania</th>\n",
              "      <td>78.190000</td>\n",
              "      <td>24024.175170</td>\n",
              "    </tr>\n",
              "    <tr>\n",
              "      <th rowspan=\"5\" valign=\"top\">2002</th>\n",
              "      <th>Africa</th>\n",
              "      <td>53.325231</td>\n",
              "      <td>2599.385159</td>\n",
              "    </tr>\n",
              "    <tr>\n",
              "      <th>Americas</th>\n",
              "      <td>72.422040</td>\n",
              "      <td>9287.677107</td>\n",
              "    </tr>\n",
              "    <tr>\n",
              "      <th>Asia</th>\n",
              "      <td>69.233879</td>\n",
              "      <td>10174.090397</td>\n",
              "    </tr>\n",
              "    <tr>\n",
              "      <th>Europe</th>\n",
              "      <td>76.700600</td>\n",
              "      <td>21711.732422</td>\n",
              "    </tr>\n",
              "    <tr>\n",
              "      <th>Oceania</th>\n",
              "      <td>79.740000</td>\n",
              "      <td>26938.778040</td>\n",
              "    </tr>\n",
              "    <tr>\n",
              "      <th rowspan=\"5\" valign=\"top\">2007</th>\n",
              "      <th>Africa</th>\n",
              "      <td>54.806038</td>\n",
              "      <td>3089.032605</td>\n",
              "    </tr>\n",
              "    <tr>\n",
              "      <th>Americas</th>\n",
              "      <td>73.608120</td>\n",
              "      <td>11003.031625</td>\n",
              "    </tr>\n",
              "    <tr>\n",
              "      <th>Asia</th>\n",
              "      <td>70.728485</td>\n",
              "      <td>12473.026870</td>\n",
              "    </tr>\n",
              "    <tr>\n",
              "      <th>Europe</th>\n",
              "      <td>77.648600</td>\n",
              "      <td>25054.481636</td>\n",
              "    </tr>\n",
              "    <tr>\n",
              "      <th>Oceania</th>\n",
              "      <td>80.719500</td>\n",
              "      <td>29810.188275</td>\n",
              "    </tr>\n",
              "  </tbody>\n",
              "</table>\n",
              "</div>\n",
              "      <button class=\"colab-df-convert\" onclick=\"convertToInteractive('df-a99a9556-819e-41af-8a40-f4a5cec0c684')\"\n",
              "              title=\"Convert this dataframe to an interactive table.\"\n",
              "              style=\"display:none;\">\n",
              "        \n",
              "  <svg xmlns=\"http://www.w3.org/2000/svg\" height=\"24px\"viewBox=\"0 0 24 24\"\n",
              "       width=\"24px\">\n",
              "    <path d=\"M0 0h24v24H0V0z\" fill=\"none\"/>\n",
              "    <path d=\"M18.56 5.44l.94 2.06.94-2.06 2.06-.94-2.06-.94-.94-2.06-.94 2.06-2.06.94zm-11 1L8.5 8.5l.94-2.06 2.06-.94-2.06-.94L8.5 2.5l-.94 2.06-2.06.94zm10 10l.94 2.06.94-2.06 2.06-.94-2.06-.94-.94-2.06-.94 2.06-2.06.94z\"/><path d=\"M17.41 7.96l-1.37-1.37c-.4-.4-.92-.59-1.43-.59-.52 0-1.04.2-1.43.59L10.3 9.45l-7.72 7.72c-.78.78-.78 2.05 0 2.83L4 21.41c.39.39.9.59 1.41.59.51 0 1.02-.2 1.41-.59l7.78-7.78 2.81-2.81c.8-.78.8-2.07 0-2.86zM5.41 20L4 18.59l7.72-7.72 1.47 1.35L5.41 20z\"/>\n",
              "  </svg>\n",
              "      </button>\n",
              "      \n",
              "  <style>\n",
              "    .colab-df-container {\n",
              "      display:flex;\n",
              "      flex-wrap:wrap;\n",
              "      gap: 12px;\n",
              "    }\n",
              "\n",
              "    .colab-df-convert {\n",
              "      background-color: #E8F0FE;\n",
              "      border: none;\n",
              "      border-radius: 50%;\n",
              "      cursor: pointer;\n",
              "      display: none;\n",
              "      fill: #1967D2;\n",
              "      height: 32px;\n",
              "      padding: 0 0 0 0;\n",
              "      width: 32px;\n",
              "    }\n",
              "\n",
              "    .colab-df-convert:hover {\n",
              "      background-color: #E2EBFA;\n",
              "      box-shadow: 0px 1px 2px rgba(60, 64, 67, 0.3), 0px 1px 3px 1px rgba(60, 64, 67, 0.15);\n",
              "      fill: #174EA6;\n",
              "    }\n",
              "\n",
              "    [theme=dark] .colab-df-convert {\n",
              "      background-color: #3B4455;\n",
              "      fill: #D2E3FC;\n",
              "    }\n",
              "\n",
              "    [theme=dark] .colab-df-convert:hover {\n",
              "      background-color: #434B5C;\n",
              "      box-shadow: 0px 1px 3px 1px rgba(0, 0, 0, 0.15);\n",
              "      filter: drop-shadow(0px 1px 2px rgba(0, 0, 0, 0.3));\n",
              "      fill: #FFFFFF;\n",
              "    }\n",
              "  </style>\n",
              "\n",
              "      <script>\n",
              "        const buttonEl =\n",
              "          document.querySelector('#df-a99a9556-819e-41af-8a40-f4a5cec0c684 button.colab-df-convert');\n",
              "        buttonEl.style.display =\n",
              "          google.colab.kernel.accessAllowed ? 'block' : 'none';\n",
              "\n",
              "        async function convertToInteractive(key) {\n",
              "          const element = document.querySelector('#df-a99a9556-819e-41af-8a40-f4a5cec0c684');\n",
              "          const dataTable =\n",
              "            await google.colab.kernel.invokeFunction('convertToInteractive',\n",
              "                                                     [key], {});\n",
              "          if (!dataTable) return;\n",
              "\n",
              "          const docLinkHtml = 'Like what you see? Visit the ' +\n",
              "            '<a target=\"_blank\" href=https://colab.research.google.com/notebooks/data_table.ipynb>data table notebook</a>'\n",
              "            + ' to learn more about interactive tables.';\n",
              "          element.innerHTML = '';\n",
              "          dataTable['output_type'] = 'display_data';\n",
              "          await google.colab.output.renderOutput(dataTable, element);\n",
              "          const docLink = document.createElement('div');\n",
              "          docLink.innerHTML = docLinkHtml;\n",
              "          element.appendChild(docLink);\n",
              "        }\n",
              "      </script>\n",
              "    </div>\n",
              "  </div>\n",
              "  "
            ]
          },
          "metadata": {},
          "execution_count": 44
        }
      ]
    },
    {
      "cell_type": "code",
      "source": [
        "df.groupby(\"continent\")[\"country\"].nunique() #대륙별 국가 갯수확인"
      ],
      "metadata": {
        "colab": {
          "base_uri": "https://localhost:8080/"
        },
        "id": "_AtWa35RA6VF",
        "outputId": "9b3bcbb6-ae6f-49af-adbf-849ba4ce6cf5"
      },
      "execution_count": 46,
      "outputs": [
        {
          "output_type": "execute_result",
          "data": {
            "text/plain": [
              "continent\n",
              "Africa      52\n",
              "Americas    25\n",
              "Asia        33\n",
              "Europe      30\n",
              "Oceania      2\n",
              "Name: country, dtype: int64"
            ]
          },
          "metadata": {},
          "execution_count": 46
        }
      ]
    },
    {
      "cell_type": "code",
      "source": [
        "# 데이터를 시각화하면 데이터를 이해하거나 추이를 파악하거나 어떤 통찰력을 얻는데\n",
        "# 아주 많은 도움이 된다.\n",
        "\n",
        "import matplotlib.pyplot as plt\n",
        "\n",
        "group_year_lifeExp.mean().plot() #plot의 형태로 그래프 그리기"
      ],
      "metadata": {
        "colab": {
          "base_uri": "https://localhost:8080/",
          "height": 297
        },
        "id": "ZaHqOF0hCOY0",
        "outputId": "3f9710de-b1bd-4525-d644-efafcae7531e"
      },
      "execution_count": 48,
      "outputs": [
        {
          "output_type": "execute_result",
          "data": {
            "text/plain": [
              "<matplotlib.axes._subplots.AxesSubplot at 0x7f9d6366cad0>"
            ]
          },
          "metadata": {},
          "execution_count": 48
        },
        {
          "output_type": "display_data",
          "data": {
            "text/plain": [
              "<Figure size 432x288 with 1 Axes>"
            ],
            "image/png": "[encoded data removed]"
          },
          "metadata": {
            "needs_background": "light"
          }
        }
      ]
    },
    {
      "cell_type": "code",
      "source": [
        "# 판다스의 데이터 프레임과 시리즈"
      ],
      "metadata": {
        "id": "EQ1YjoWFCrhC"
      },
      "execution_count": null,
      "outputs": []
    }
  ]
}