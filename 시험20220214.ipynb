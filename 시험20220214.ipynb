{
  "nbformat": 4,
  "nbformat_minor": 0,
  "metadata": {
    "colab": {
      "name": "시험20220214.ipynb",
      "provenance": [],
      "collapsed_sections": [],
      "authorship_tag": "ABX9TyPIUMjQGy+UZ8fK1jFeH6tQ",
      "include_colab_link": true
    },
    "kernelspec": {
      "name": "python3",
      "display_name": "Python 3"
    },
    "language_info": {
      "name": "python"
    }
  },
  "cells": [
    {
      "cell_type": "markdown",
      "metadata": {
        "id": "view-in-github",
        "colab_type": "text"
      },
      "source": [
        "<a href=\"https://colab.research.google.com/github/Park5957/ai/blob/main/%EC%8B%9C%ED%97%9820220214.ipynb\" target=\"_parent\"><img src=\"https://colab.research.google.com/assets/colab-badge.svg\" alt=\"Open In Colab\"/></a>"
      ]
    },
    {
      "cell_type": "code",
      "execution_count": null,
      "metadata": {
        "colab": {
          "base_uri": "https://localhost:8080/"
        },
        "id": "ymGv9qcNiXrO",
        "outputId": "d2126141-3c0d-4a59-edde-7ef521dbdcc4"
      },
      "outputs": [
        {
          "output_type": "stream",
          "name": "stdout",
          "text": [
            "Case1\n",
            "enter_string:HeLLo\n",
            "lowercase : 2\n",
            "uppercase : 3\n",
            "oLLeH\n",
            " \n",
            "Case2\n",
            "enter_string:SanFouNdry\n",
            "lowercase : 7\n",
            "uppercase : 3\n",
            "yrdNuoFnaS\n",
            " \n"
          ]
        }
      ],
      "source": [
        "# case1\n",
        "# enter string : HeLLo\n",
        "# the number of lowercase characters is : 2\n",
        "# the number of uppercase characters is : 3\n",
        "\n",
        "# case2\n",
        "# enter string : SanFouNdry\n",
        "# the number of lowercase characters is : 7\n",
        "# the number of uppercase characters is : 3\n",
        "\n",
        "print(\"Case1\")                 #케이스출력메세지\n",
        "a = input(\"enter_string:\")     #입력받을 str \n",
        "\n",
        "def enter_string(et) :         #적용받은 값으로 함수시작\n",
        "  lowercase = 0                #소문자 갯수 카운팅변수\n",
        "  uppercase = 0                #대문자 갯수 카운팅변수\n",
        "  for i in et:                 #입력받은 값 판별 반복문\n",
        "    if  123 > ord(i) > 96 :    #아스키코드 넘버로 소문자 판별\n",
        "      lowercase = lowercase+1  #소문자 카운팅\n",
        "    elif 91> ord(i) > 64 :     #아스키코드 넘버로 대문자 판별\n",
        "      uppercase = uppercase+1  #대문자 카운팅\n",
        "  print(f\"lowercase : {lowercase}\")  #소문자 갯수 출력\n",
        "  print(f\"uppercase : {uppercase}\")  #대문자 갯수 출력\n",
        "enter_string(a)                #입력 받은 값 함수 적용\n",
        "print(a[::-1])                 #거꾸로출력\n",
        "print(\" \")                     #줄 바꾸기\n",
        "\n",
        "print(\"Case2\")                 #케이스출력메세지\n",
        "b = input(\"enter_string:\")     #입력받을 str \n",
        "swap = \"\"\n",
        "def enter_string(et) :          #적용받은 값으로 함수시작\n",
        "  lowercase2 = 0                #소문자 갯수 카운팅변수\n",
        "  uppercase2 = 0                #대문자 갯수 카운팅변수\n",
        "  for i in et:                  #입력받은 값 판별 반복문\n",
        "    if  123 > ord(i) > 96 :     #아스키코드 넘버로 소문자 판별\n",
        "      lowercase2 = lowercase2+1 #소문자 카운팅\n",
        "    elif 91> ord(i) > 64 :      #아스키코드 넘버로 대문자 판별\n",
        "      uppercase2 = uppercase2+1 #대문자 카운팅\n",
        "  print(f\"lowercase : {lowercase2}\")  #소문자 갯수 출력\n",
        "  print(f\"uppercase : {uppercase2}\")  #대문자 갯수 출력 \n",
        "enter_string(b)                 #입력 받은 값 함수 적용\n",
        "print(b[::-1])                  #거꾸로출력"
      ]
    }
  ]
}